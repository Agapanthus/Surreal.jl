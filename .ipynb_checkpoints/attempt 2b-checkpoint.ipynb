{
 "cells": [
  {
   "cell_type": "code",
   "execution_count": null,
   "id": "8e029ff2",
   "metadata": {},
   "outputs": [],
   "source": [
    "using Pkg\n",
    "Pkg.activate(\"./\")\n",
    "include(\"./src2/include.jl\")\n",
    "include(\"./src2/test.jl\")"
   ]
  },
  {
   "cell_type": "code",
   "execution_count": 206,
   "id": "cab58ec2",
   "metadata": {
    "scrolled": true
   },
   "outputs": [
    {
     "data": {
      "text/plain": [
       "(((ω|∅)|∅)|∅)"
      ]
     },
     "execution_count": 206,
     "metadata": {},
     "output_type": "execute_result"
    }
   ],
   "source": [
    "include(\"./src2/include.jl\")\n",
    "\n",
    "#Surreal(add_s(X_s(omega), X_s(Surreal(2))), nil)\n",
    "\n",
    "omega + 3\n",
    "#@time omega + 3"
   ]
  },
  {
   "cell_type": "code",
   "execution_count": null,
   "id": "14d9644c",
   "metadata": {},
   "outputs": [],
   "source": [
    "omega - 1"
   ]
  },
  {
   "cell_type": "code",
   "execution_count": 50,
   "id": "d884dfa1",
   "metadata": {},
   "outputs": [
    {
     "data": {
      "text/plain": [
       "(∅|-n+(∅|0)∩-ω)"
      ]
     },
     "execution_count": 50,
     "metadata": {},
     "output_type": "execute_result"
    }
   ],
   "source": [
    "include(\"./src2/include.jl\")\n",
    "\n",
    "(-omega) - 1"
   ]
  },
  {
   "cell_type": "code",
   "execution_count": 44,
   "id": "e98cc8d3",
   "metadata": {
    "scrolled": true
   },
   "outputs": [
    {
     "name": "stdout",
     "output_type": "stream",
     "text": [
      "omega + omega + 1 = (n+ω+(0|∅)∪(n+ω|∅)|∅)\n",
      "omega + 1 + omega = (ω+ω∪n+(ω|∅)|∅)\n"
     ]
    },
    {
     "ename": "LoadError",
     "evalue": "UndefVarError: `TODO` not defined",
     "output_type": "error",
     "traceback": [
      "UndefVarError: `TODO` not defined",
      "",
      "Stacktrace:",
      "  [1] macro expansion",
      "    @ ~/code/Surreal.jl/src2/SurrealExpression/limits.jl:46 [inlined]",
      "  [2] macro expansion",
      "    @ ~/.julia/packages/Match/XemzX/src/matchmacro.jl:408 [inlined]",
      "  [3] hasUpperLimit(e::SymbolicUtils.BasicSymbolic{SurrealExpression})",
      "    @ Main ~/code/Surreal.jl/src2/SurrealExpression/limits.jl:30",
      "  [4] macro expansion",
      "    @ ~/.julia/packages/Match/XemzX/src/matchmacro.jl:408 [inlined]",
      "  [5] macro expansion",
      "    @ ~/code/Surreal.jl/src2/SurrealExpression/limits.jl:52 [inlined]",
      "  [6] macro expansion",
      "    @ ~/.julia/packages/Match/XemzX/src/matchmacro.jl:410 [inlined]",
      "  [7] macro expansion",
      "    @ ~/code/Surreal.jl/src2/SurrealExpression/limits.jl:51 [inlined]",
      "  [8] macro expansion",
      "    @ ~/.julia/packages/Match/XemzX/src/matchmacro.jl:410 [inlined]",
      "  [9] macro expansion",
      "    @ ~/code/Surreal.jl/src2/SurrealExpression/limits.jl:50 [inlined]",
      " [10] macro expansion",
      "    @ ~/.julia/packages/Match/XemzX/src/matchmacro.jl:410 [inlined]",
      " [11] macro expansion",
      "    @ ~/code/Surreal.jl/src2/SurrealExpression/limits.jl:49 [inlined]",
      " [12] macro expansion",
      "    @ ~/.julia/packages/Match/XemzX/src/matchmacro.jl:410 [inlined]",
      " [13] macro expansion",
      "    @ ~/code/Surreal.jl/src2/SurrealExpression/limits.jl:48 [inlined]",
      " [14] macro expansion",
      "    @ ~/.julia/packages/Match/XemzX/src/matchmacro.jl:410 [inlined]",
      " [15] hasUpperLimit(e::SymbolicUtils.BasicSymbolic{SurrealExpression})",
      "    @ Main ~/code/Surreal.jl/src2/SurrealExpression/limits.jl:30",
      " [16] hasUpperLimit",
      "    @ ~/code/Surreal.jl/src2/surreal_counted.jl:43 [inlined]",
      " [17] <(x::CountedSurrealSet, y::Surreal)",
      "    @ Main ~/code/Surreal.jl/src2/surreal_counted.jl:12",
      " [18] <=(x::Surreal, y::Surreal)",
      "    @ Main ~/code/Surreal.jl/src2/surreal.jl:16",
      " [19] <(x::Surreal, y::Surreal)",
      "    @ Main ~/code/Surreal.jl/src2/surreal.jl:18",
      " [20] isNegative",
      "    @ ~/code/Surreal.jl/src2/surreal.jl:107 [inlined]",
      " [21] <(x::CountedSurrealSet, y::Surreal)",
      "    @ Main ~/code/Surreal.jl/src2/surreal_counted.jl:13",
      " [22] <=(x::Surreal, y::Surreal)",
      "    @ Main ~/code/Surreal.jl/src2/surreal.jl:16",
      " [23] equiv(x::Surreal, y::Surreal)",
      "    @ Main ~/code/Surreal.jl/src2/surreal.jl:23",
      " [24] top-level scope",
      "    @ In[44]:3"
     ]
    }
   ],
   "source": [
    "@show omega + omega + 1\n",
    "@show omega + 1 + omega\n",
    "equiv(omega + Surreal(1) + omega, omega + omega + Surreal(1))"
   ]
  },
  {
   "cell_type": "code",
   "execution_count": 116,
   "id": "4ecfbf37",
   "metadata": {
    "scrolled": true
   },
   "outputs": [
    {
     "ename": "LoadError",
     "evalue": "UndefVarError: `TODO` not defined",
     "output_type": "error",
     "traceback": [
      "UndefVarError: `TODO` not defined",
      "",
      "Stacktrace:",
      " [1] <",
      "   @ ~/code/Surreal.jl/src2/surreal_abstract.jl:15 [inlined]",
      " [2] Surreal",
      "   @ ~/code/Surreal.jl/src2/surreal.jl:9 [inlined]",
      " [3] Surreal(L::CountedSurrealSet, R::SingularSurrealSet)",
      "   @ Main ~/code/Surreal.jl/src2/surreal.jl:6",
      " [4] +(x::Surreal, y::Surreal)",
      "   @ Main ~/code/Surreal.jl/src2/surreal.jl:48",
      " [5] top-level scope",
      "   @ In[116]:1"
     ]
    }
   ],
   "source": [
    "omega + Surreal(1//2)"
   ]
  },
  {
   "cell_type": "code",
   "execution_count": null,
   "id": "8492a3bf",
   "metadata": {},
   "outputs": [],
   "source": []
  },
  {
   "cell_type": "code",
   "execution_count": null,
   "id": "5280d0da",
   "metadata": {},
   "outputs": [],
   "source": []
  },
  {
   "cell_type": "code",
   "execution_count": null,
   "id": "9bb2eb55",
   "metadata": {},
   "outputs": [],
   "source": []
  },
  {
   "cell_type": "code",
   "execution_count": null,
   "id": "4507f517",
   "metadata": {},
   "outputs": [],
   "source": []
  },
  {
   "cell_type": "code",
   "execution_count": null,
   "id": "af739447",
   "metadata": {},
   "outputs": [],
   "source": []
  },
  {
   "cell_type": "code",
   "execution_count": null,
   "id": "aa755a63",
   "metadata": {},
   "outputs": [],
   "source": []
  },
  {
   "cell_type": "code",
   "execution_count": null,
   "id": "a9a1820b",
   "metadata": {},
   "outputs": [],
   "source": []
  }
 ],
 "metadata": {
  "kernelspec": {
   "display_name": "Julia 1.9.1 (20 threads) 1.9.1",
   "language": "julia",
   "name": "julia-1.9.1-_20-threads_-1.9"
  },
  "language_info": {
   "file_extension": ".jl",
   "mimetype": "application/julia",
   "name": "julia",
   "version": "1.9.1"
  }
 },
 "nbformat": 4,
 "nbformat_minor": 5
}
