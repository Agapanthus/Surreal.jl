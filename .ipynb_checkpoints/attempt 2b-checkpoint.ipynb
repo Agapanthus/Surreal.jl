{
 "cells": [
  {
   "cell_type": "code",
   "execution_count": 1,
   "id": "8e029ff2",
   "metadata": {},
   "outputs": [
    {
     "name": "stderr",
     "output_type": "stream",
     "text": [
      "\u001b[32m\u001b[1m  Activating\u001b[22m\u001b[39m project at `~/code/Surreal.jl`\n"
     ]
    }
   ],
   "source": [
    "using Pkg\n",
    "Pkg.activate(\"./\")"
   ]
  },
  {
   "cell_type": "code",
   "execution_count": 2,
   "id": "07d4cd3f",
   "metadata": {},
   "outputs": [],
   "source": [
    "include(\"./src2/include.jl\")\n",
    "\n",
    "S1 = Surreal(S0, nil)\n",
    "\n",
    "@assert S0 == S0\n",
    "\n",
    "S2 = Surreal(S1, nil)\n",
    "\n",
    "@assert S2 == Surreal([S0, S1], nil)"
   ]
  },
  {
   "cell_type": "code",
   "execution_count": 7,
   "id": "e6026a5b",
   "metadata": {},
   "outputs": [
    {
     "ename": "LoadError",
     "evalue": "UndefVarError: `isNegative` not defined",
     "output_type": "error",
     "traceback": [
      "UndefVarError: `isNegative` not defined",
      "",
      "Stacktrace:",
      " [1] toFrac(x::Surreal, check::Bool)",
      "   @ Main ~/code/Surreal.jl/src2/surreal_dyadic.jl:77",
      " [2] toFrac",
      "   @ ~/code/Surreal.jl/src2/surreal_dyadic.jl:64 [inlined]",
      " [3] |>(x::Surreal, f::typeof(toFrac))",
      "   @ Base ./operators.jl:907",
      " [4] top-level scope",
      "   @ In[7]:3"
     ]
    }
   ],
   "source": [
    "include(\"./src2/include.jl\")\n",
    "\n",
    "(Surreal(2) - Surreal(1)) |> toFrac"
   ]
  },
  {
   "cell_type": "code",
   "execution_count": 8,
   "id": "2a7542a6",
   "metadata": {},
   "outputs": [
    {
     "data": {
      "text/plain": [
       "true"
      ]
     },
     "execution_count": 8,
     "metadata": {},
     "output_type": "execute_result"
    }
   ],
   "source": [
    "Surreal(Surreal(Surreal(0),Surreal(1)), nil) == Surreal(1)"
   ]
  },
  {
   "cell_type": "code",
   "execution_count": 226,
   "id": "a218162e",
   "metadata": {},
   "outputs": [
    {
     "ename": "LoadError",
     "evalue": "InterruptException:",
     "output_type": "error",
     "traceback": [
      "InterruptException:",
      "",
      "Stacktrace:",
      "    [1] <=(x::Surreal, y::Surreal)",
      "      @ Main ~/code/Surreal.jl/src2/surreal.jl:14",
      "    [2] <(x::Surreal, y::Surreal)",
      "      @ Main ~/code/Surreal.jl/src2/surreal.jl:19",
      "    [3] <(x::SingularSurrealSet, y::Surreal)",
      "      @ Main ~/code/Surreal.jl/src2/surreal_singular.jl:9",
      "--- the last 3 lines are repeated 820 more times ---",
      " [2464] <=(x::Surreal, y::Surreal)",
      "      @ Main ~/code/Surreal.jl/src2/surreal.jl:14",
      " [2465] <(x::Surreal, y::Surreal)",
      "      @ Main ~/code/Surreal.jl/src2/surreal.jl:19",
      " [2466] <",
      "      @ ~/code/Surreal.jl/src2/surreal_singular.jl:7 [inlined]",
      " [2467] Surreal",
      "      @ ~/code/Surreal.jl/src2/surreal.jl:9 [inlined]",
      " [2468] Surreal(x::Rational{Int64}) (repeats 5 times)",
      "      @ Main ~/code/Surreal.jl/src2/surreal_dyadic.jl:59"
     ]
    }
   ],
   "source": [
    "include(\"./src2/include.jl\")\n",
    "\n",
    "#s = Surreal(131//32)\n",
    "Surreal(13121//32)"
   ]
  },
  {
   "cell_type": "code",
   "execution_count": 211,
   "id": "ed414697",
   "metadata": {},
   "outputs": [
    {
     "data": {
      "text/plain": [
       "true"
      ]
     },
     "execution_count": 211,
     "metadata": {},
     "output_type": "execute_result"
    }
   ],
   "source": [
    "Surreal(Surreal(1//128), nil) == Surreal(1)"
   ]
  },
  {
   "cell_type": "code",
   "execution_count": 208,
   "id": "0da18823",
   "metadata": {},
   "outputs": [
    {
     "data": {
      "text/plain": [
       "(6//1, 11//2)"
      ]
     },
     "execution_count": 208,
     "metadata": {},
     "output_type": "execute_result"
    }
   ],
   "source": [
    "include(\"./src2/include.jl\")\n",
    "\n",
    "#Surreal(Surreal(Surreal(-3), nil) |> toFrac) == Surreal(Surreal(-3), nil)\n",
    "\n",
    "#lca(41//8, 100//4)\n",
    "lca(41//8, 6//1)"
   ]
  },
  {
   "cell_type": "code",
   "execution_count": 209,
   "id": "7d33db4d",
   "metadata": {},
   "outputs": [
    {
     "data": {
      "text/plain": [
       "true"
      ]
     },
     "execution_count": 209,
     "metadata": {},
     "output_type": "execute_result"
    }
   ],
   "source": [
    "Surreal(Surreal(41//8), Surreal(6//1)) == Surreal(11//2)"
   ]
  },
  {
   "cell_type": "code",
   "execution_count": 210,
   "id": "c98ebc8c",
   "metadata": {},
   "outputs": [
    {
     "data": {
      "text/plain": [
       "true"
      ]
     },
     "execution_count": 210,
     "metadata": {},
     "output_type": "execute_result"
    }
   ],
   "source": [
    "Surreal(Surreal(1//4), Surreal(1)) == Surreal(1//2)"
   ]
  },
  {
   "cell_type": "code",
   "execution_count": 158,
   "id": "e73366b1",
   "metadata": {},
   "outputs": [
    {
     "data": {
      "text/plain": [
       "true"
      ]
     },
     "execution_count": 158,
     "metadata": {},
     "output_type": "execute_result"
    }
   ],
   "source": [
    "Surreal(Surreal(3//4), Surreal(1)) == Surreal(7//8)"
   ]
  },
  {
   "cell_type": "code",
   "execution_count": 182,
   "id": "f98881ab",
   "metadata": {},
   "outputs": [
    {
     "data": {
      "text/plain": [
       "-5//1"
      ]
     },
     "execution_count": 182,
     "metadata": {},
     "output_type": "execute_result"
    }
   ],
   "source": [
    "dyadicParent(-41//8)"
   ]
  },
  {
   "cell_type": "code",
   "execution_count": 183,
   "id": "59179b26",
   "metadata": {},
   "outputs": [
    {
     "data": {
      "text/plain": [
       "21//4"
      ]
     },
     "execution_count": 183,
     "metadata": {},
     "output_type": "execute_result"
    }
   ],
   "source": [
    "dyadicParent(41//8)"
   ]
  },
  {
   "cell_type": "code",
   "execution_count": null,
   "id": "24cdcb14",
   "metadata": {},
   "outputs": [],
   "source": []
  }
 ],
 "metadata": {
  "kernelspec": {
   "display_name": "Julia 1.9.1 (20 threads) 1.9.1",
   "language": "julia",
   "name": "julia-1.9.1-_20-threads_-1.9"
  },
  "language_info": {
   "file_extension": ".jl",
   "mimetype": "application/julia",
   "name": "julia",
   "version": "1.9.1"
  }
 },
 "nbformat": 4,
 "nbformat_minor": 5
}
