{
 "cells": [
  {
   "cell_type": "code",
   "execution_count": null,
   "id": "8e029ff2",
   "metadata": {},
   "outputs": [],
   "source": [
    "using Pkg\n",
    "Pkg.activate(\"./\")\n",
    "include(\"./src2/include.jl\")\n",
    "include(\"./src2/test.jl\")"
   ]
  },
  {
   "cell_type": "code",
   "execution_count": null,
   "id": "13a0c6b6",
   "metadata": {
    "scrolled": true
   },
   "outputs": [],
   "source": [
    "include(\"./src2/include.jl\")\n",
    "\n",
    "#Surreal(add_s(X_s(omega), X_s(Surreal(2))), nil)\n",
    "\n",
    "omega + Surreal(3)\n",
    "@time omega + Surreal(3)"
   ]
  },
  {
   "cell_type": "code",
   "execution_count": null,
   "id": "aacc63cf",
   "metadata": {},
   "outputs": [],
   "source": [
    "include(\"./src2/include.jl\")\n",
    "omega + omega"
   ]
  },
  {
   "cell_type": "code",
   "execution_count": null,
   "id": "53a6ce54",
   "metadata": {},
   "outputs": [],
   "source": []
  },
  {
   "cell_type": "code",
   "execution_count": 97,
   "id": "4ecfbf37",
   "metadata": {
    "scrolled": true
   },
   "outputs": [
    {
     "ename": "LoadError",
     "evalue": "MethodError: no method matching isNegative(::CountedSurrealSet)\n\n\u001b[0mClosest candidates are:\n\u001b[0m  isNegative(\u001b[91m::Surreal\u001b[39m)\n\u001b[0m\u001b[90m   @\u001b[39m \u001b[36mMain\u001b[39m \u001b[90m~/code/Surreal.jl/src2/\u001b[39m\u001b[90m\u001b[4msurreal.jl:81\u001b[24m\u001b[39m\n",
     "output_type": "error",
     "traceback": [
      "MethodError: no method matching isNegative(::CountedSurrealSet)\n\n\u001b[0mClosest candidates are:\n\u001b[0m  isNegative(\u001b[91m::Surreal\u001b[39m)\n\u001b[0m\u001b[90m   @\u001b[39m \u001b[36mMain\u001b[39m \u001b[90m~/code/Surreal.jl/src2/\u001b[39m\u001b[90m\u001b[4msurreal.jl:81\u001b[24m\u001b[39m\n",
      "",
      "Stacktrace:",
      " [1] <(x::CountedSurrealSet, y::Surreal)",
      "   @ Main ~/code/Surreal.jl/src2/surreal_counted.jl:16",
      " [2] <=(x::Surreal, y::Surreal)",
      "   @ Main ~/code/Surreal.jl/src2/surreal.jl:14",
      " [3] <(x::Surreal, y::Surreal)",
      "   @ Main ~/code/Surreal.jl/src2/surreal.jl:19",
      " [4] <(x::SingularSurrealSet, y::Surreal)",
      "   @ Main ~/code/Surreal.jl/src2/surreal_singular.jl:9",
      " [5] <=(x::Surreal, y::Surreal)",
      "   @ Main ~/code/Surreal.jl/src2/surreal.jl:14",
      " [6] top-level scope",
      "   @ In[97]:1"
     ]
    }
   ],
   "source": [
    "Surreal(1) <= omega"
   ]
  },
  {
   "cell_type": "code",
   "execution_count": 52,
   "id": "5fc40c64",
   "metadata": {},
   "outputs": [
    {
     "data": {
      "text/plain": [
       "1-element Vector{Tuple{Int64, Int64}}:\n",
       " (1, 2)"
      ]
     },
     "execution_count": 52,
     "metadata": {},
     "output_type": "execute_result"
    }
   ],
   "source": [
    "collect(zip([1], [2]))"
   ]
  },
  {
   "cell_type": "code",
   "execution_count": 4,
   "id": "e4181060",
   "metadata": {},
   "outputs": [
    {
     "ename": "LoadError",
     "evalue": "syntax: invalid identifier name \"->\"",
     "output_type": "error",
     "traceback": [
      "syntax: invalid identifier name \"->\"",
      "",
      "Stacktrace:",
      " [1] top-level scope",
      "   @ In[4]:1"
     ]
    }
   ],
   "source": [
    "1 <-> 2"
   ]
  },
  {
   "cell_type": "code",
   "execution_count": null,
   "id": "6bd1d448",
   "metadata": {},
   "outputs": [],
   "source": []
  }
 ],
 "metadata": {
  "kernelspec": {
   "display_name": "Julia 1.9.1 (20 threads) 1.9.1",
   "language": "julia",
   "name": "julia-1.9.1-_20-threads_-1.9"
  },
  "language_info": {
   "file_extension": ".jl",
   "mimetype": "application/julia",
   "name": "julia",
   "version": "1.9.1"
  }
 },
 "nbformat": 4,
 "nbformat_minor": 5
}
