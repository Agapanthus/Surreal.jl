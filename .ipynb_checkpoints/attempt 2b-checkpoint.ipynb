{
 "cells": [
  {
   "cell_type": "code",
   "execution_count": 55,
   "id": "8e029ff2",
   "metadata": {},
   "outputs": [
    {
     "name": "stderr",
     "output_type": "stream",
     "text": [
      "\u001b[32m\u001b[1m  Activating\u001b[22m\u001b[39m project at `~/code/Surreal.jl`\n"
     ]
    },
    {
     "ename": "LoadError",
     "evalue": "LoadError: UndefVarError: `simplifyRewriter` not defined\nin expression starting at /home/eric/code/Surreal.jl/src2/test.jl:71",
     "output_type": "error",
     "traceback": [
      "LoadError: UndefVarError: `simplifyRewriter` not defined\nin expression starting at /home/eric/code/Surreal.jl/src2/test.jl:71",
      "",
      "Stacktrace:",
      " [1] simplify(x::CountedSurrealSet, upper::Bool)",
      "   @ Main ~/code/Surreal.jl/src2/surreal_counted.jl:48",
      " [2] simplify(x::Surreal)",
      "   @ Main ~/code/Surreal.jl/src2/surreal.jl:69",
      " [3] |>",
      "   @ ./operators.jl:907 [inlined]",
      " [4] runTests()",
      "   @ Main ~/code/Surreal.jl/src2/test.jl:56",
      " [5] top-level scope",
      "   @ ./timing.jl:273",
      " [6] include(fname::String)",
      "   @ Base.MainInclude ./client.jl:478",
      " [7] top-level scope",
      "   @ In[55]:4"
     ]
    }
   ],
   "source": [
    "using Pkg\n",
    "Pkg.activate(\"./\")\n",
    "include(\"./src2/include.jl\")\n",
    "include(\"./src2/test.jl\")"
   ]
  },
  {
   "cell_type": "code",
   "execution_count": 56,
   "id": "cab58ec2",
   "metadata": {
    "scrolled": true
   },
   "outputs": [
    {
     "ename": "LoadError",
     "evalue": "UndefVarError: `simplifyRewriter` not defined",
     "output_type": "error",
     "traceback": [
      "UndefVarError: `simplifyRewriter` not defined",
      "",
      "Stacktrace:",
      "  [1] lowerUnion(x::CountedSurrealSet, y::CountedSurrealSet)",
      "    @ Main ~/code/Surreal.jl/src2/surreal_counted.jl:62",
      "  [2] lowerUnion(x::CountedSurrealSet, y::SingularSurrealSet)",
      "    @ Main ~/code/Surreal.jl/src2/surreal_counted.jl:61",
      "  [3] lowerUnion(y::SingularSurrealSet, x::CountedSurrealSet)",
      "    @ Main ~/code/Surreal.jl/src2/rule.jl:25",
      "  [4] +(x::Surreal, y::Surreal)",
      "    @ Main ~/code/Surreal.jl/src2/surreal.jl:79",
      "  [5] macro expansion",
      "    @ ~/code/Surreal.jl/src2/surreal_singular.jl:14 [inlined]",
      "  [6] +(v1::SingularSurrealSet, v2::Surreal)",
      "    @ Main ~/code/Surreal.jl/src2/rule.jl:53",
      "  [7] +(x::Surreal, y::Surreal)",
      "    @ Main ~/code/Surreal.jl/src2/surreal.jl:79",
      "  [8] macro expansion",
      "    @ ~/code/Surreal.jl/src2/surreal_singular.jl:14 [inlined]",
      "  [9] +(v1::SingularSurrealSet, v2::Surreal)",
      "    @ Main ~/code/Surreal.jl/src2/rule.jl:53",
      " [10] +(x::Surreal, y::Surreal)",
      "    @ Main ~/code/Surreal.jl/src2/surreal.jl:79",
      " [11] macro expansion",
      "    @ ~/code/Surreal.jl/src2/surreal.jl:99 [inlined]",
      " [12] +(v1::Surreal, v2::Int64)",
      "    @ Main ~/code/Surreal.jl/src2/rule.jl:58",
      " [13] top-level scope",
      "    @ In[56]:5"
     ]
    }
   ],
   "source": [
    "include(\"./src2/include.jl\")\n",
    "\n",
    "#Surreal(add_s(X_s(omega), X_s(Surreal(2))), nil)\n",
    "\n",
    "omega + 3\n",
    "@time omega + 3"
   ]
  },
  {
   "cell_type": "code",
   "execution_count": 68,
   "id": "2cd29c30",
   "metadata": {},
   "outputs": [
    {
     "data": {
      "text/html": [
       "# 3 methods for generic function <b>zero</b> from \u001b[35mMain\u001b[39m:<ul><li> zero(::<b>SurrealExpression</b>) in Main at <a href=\"https://github.com/Agapanthus/Surreal.jl/tree/7c142f42227efcf9012a96ba58ceb926b11c48c3//src2/SurrealExpression/syms.jl#L23\" target=\"_blank\">/home/eric/code/Surreal.jl/src2/SurrealExpression/syms.jl:23</a></li> <li> zero(::<b>Type{SurrealExpression}</b>) in Main at <a href=\"https://github.com/Agapanthus/Surreal.jl/tree/7c142f42227efcf9012a96ba58ceb926b11c48c3//src2/SurrealExpression/syms.jl#L23\" target=\"_blank\">/home/eric/code/Surreal.jl/src2/SurrealExpression/syms.jl:23</a></li> <li> zero(SurrealExpression) in Main at <a href=\"https://github.com/Agapanthus/Surreal.jl/tree/7c142f42227efcf9012a96ba58ceb926b11c48c3//src2/SurrealExpression/syms.jl#L23\" target=\"_blank\">/home/eric/code/Surreal.jl/src2/SurrealExpression/syms.jl:23</a></li> </ul>"
      ],
      "text/plain": [
       "# 3 methods for generic function \"zero\" from \u001b[35mMain\u001b[39m:\n",
       " [1] zero(::\u001b[1mSurrealExpression\u001b[22m)\n",
       "\u001b[90m     @\u001b[39m \u001b[90m~/code/Surreal.jl/src2/SurrealExpression/\u001b[39m\u001b[90m\u001b[4msyms.jl:23\u001b[24m\u001b[39m\n",
       " [2] zero(::\u001b[1mType\u001b[22m\u001b[0m{SurrealExpression})\n",
       "\u001b[90m     @\u001b[39m \u001b[90m~/code/Surreal.jl/src2/SurrealExpression/\u001b[39m\u001b[90m\u001b[4msyms.jl:23\u001b[24m\u001b[39m\n",
       " [3] zero(\u001b[90mSurrealExpression\u001b[39m)\n",
       "\u001b[90m     @\u001b[39m \u001b[90m~/code/Surreal.jl/src2/SurrealExpression/\u001b[39m\u001b[90m\u001b[4msyms.jl:23\u001b[24m\u001b[39m"
      ]
     },
     "execution_count": 68,
     "metadata": {},
     "output_type": "execute_result"
    }
   ],
   "source": [
    "methods(zero)"
   ]
  },
  {
   "cell_type": "code",
   "execution_count": null,
   "id": "06e008cd",
   "metadata": {},
   "outputs": [],
   "source": []
  },
  {
   "cell_type": "code",
   "execution_count": 62,
   "id": "cf968939",
   "metadata": {},
   "outputs": [
    {
     "data": {
      "text/plain": [
       "((1+2*n)|∅)"
      ]
     },
     "execution_count": 62,
     "metadata": {},
     "output_type": "execute_result"
    }
   ],
   "source": [
    "include(\"./src2/include.jl\")\n",
    "\n",
    "# Add(SurrealExpression, X_s(Surreal(0)), Dict(n_s => Surreal(2), omega_s => Surreal(4)))\n",
    "\n",
    "Surreal(1 + n_s + n_s, nil)"
   ]
  },
  {
   "cell_type": "code",
   "execution_count": 69,
   "id": "6065b498",
   "metadata": {},
   "outputs": [
    {
     "data": {
      "text/plain": [
       "1 + n*2"
      ]
     },
     "execution_count": 69,
     "metadata": {},
     "output_type": "execute_result"
    }
   ],
   "source": [
    "simplifyRewriter(1 + n_s + n_s)"
   ]
  },
  {
   "cell_type": "code",
   "execution_count": null,
   "id": "3b95df66",
   "metadata": {},
   "outputs": [],
   "source": [
    "include(\"./src2/include.jl\")\n",
    "\n",
    "omega + 1 #+ omega"
   ]
  },
  {
   "cell_type": "code",
   "execution_count": 80,
   "id": "03b5ff51",
   "metadata": {},
   "outputs": [
    {
     "data": {
      "text/plain": [
       "(n)"
      ]
     },
     "execution_count": 80,
     "metadata": {},
     "output_type": "execute_result"
    }
   ],
   "source": [
    "# TODO: Should be stripped from the add\n",
    "n_s + 0"
   ]
  },
  {
   "cell_type": "code",
   "execution_count": 48,
   "id": "5c307240",
   "metadata": {},
   "outputs": [
    {
     "ename": "LoadError",
     "evalue": "UndefVarError: `TODO` not defined",
     "output_type": "error",
     "traceback": [
      "UndefVarError: `TODO` not defined",
      "",
      "Stacktrace:",
      " [1] <",
      "   @ ~/code/Surreal.jl/src2/surreal_abstract.jl:15 [inlined]",
      " [2] Surreal",
      "   @ ~/code/Surreal.jl/src2/surreal.jl:9 [inlined]",
      " [3] Surreal(L::CountedSurrealSet, R::SingularSurrealSet)",
      "   @ Main ~/code/Surreal.jl/src2/surreal.jl:6",
      " [4] +(x::Surreal, y::Surreal)",
      "   @ Main ~/code/Surreal.jl/src2/surreal.jl:65",
      " [5] -",
      "   @ ~/code/Surreal.jl/src2/surreal.jl:67 [inlined]",
      " [6] macro expansion",
      "   @ ~/code/Surreal.jl/src2/surreal.jl:84 [inlined]",
      " [7] -(v1::Surreal, v2::Int64)",
      "   @ Main ~/code/Surreal.jl/src2/rule.jl:58",
      " [8] top-level scope",
      "   @ In[48]:1"
     ]
    }
   ],
   "source": [
    "omega - 1"
   ]
  },
  {
   "cell_type": "code",
   "execution_count": 50,
   "id": "7e7d780a",
   "metadata": {},
   "outputs": [
    {
     "data": {
      "text/plain": [
       "(∅|-n+(∅|0)∩-ω)"
      ]
     },
     "execution_count": 50,
     "metadata": {},
     "output_type": "execute_result"
    }
   ],
   "source": [
    "include(\"./src2/include.jl\")\n",
    "\n",
    "(-omega) - 1"
   ]
  },
  {
   "cell_type": "code",
   "execution_count": 44,
   "id": "e98cc8d3",
   "metadata": {
    "scrolled": true
   },
   "outputs": [
    {
     "name": "stdout",
     "output_type": "stream",
     "text": [
      "omega + omega + 1 = (n+ω+(0|∅)∪(n+ω|∅)|∅)\n",
      "omega + 1 + omega = (ω+ω∪n+(ω|∅)|∅)\n"
     ]
    },
    {
     "ename": "LoadError",
     "evalue": "UndefVarError: `TODO` not defined",
     "output_type": "error",
     "traceback": [
      "UndefVarError: `TODO` not defined",
      "",
      "Stacktrace:",
      "  [1] macro expansion",
      "    @ ~/code/Surreal.jl/src2/SurrealExpression/limits.jl:46 [inlined]",
      "  [2] macro expansion",
      "    @ ~/.julia/packages/Match/XemzX/src/matchmacro.jl:408 [inlined]",
      "  [3] hasUpperLimit(e::SymbolicUtils.BasicSymbolic{SurrealExpression})",
      "    @ Main ~/code/Surreal.jl/src2/SurrealExpression/limits.jl:30",
      "  [4] macro expansion",
      "    @ ~/.julia/packages/Match/XemzX/src/matchmacro.jl:408 [inlined]",
      "  [5] macro expansion",
      "    @ ~/code/Surreal.jl/src2/SurrealExpression/limits.jl:52 [inlined]",
      "  [6] macro expansion",
      "    @ ~/.julia/packages/Match/XemzX/src/matchmacro.jl:410 [inlined]",
      "  [7] macro expansion",
      "    @ ~/code/Surreal.jl/src2/SurrealExpression/limits.jl:51 [inlined]",
      "  [8] macro expansion",
      "    @ ~/.julia/packages/Match/XemzX/src/matchmacro.jl:410 [inlined]",
      "  [9] macro expansion",
      "    @ ~/code/Surreal.jl/src2/SurrealExpression/limits.jl:50 [inlined]",
      " [10] macro expansion",
      "    @ ~/.julia/packages/Match/XemzX/src/matchmacro.jl:410 [inlined]",
      " [11] macro expansion",
      "    @ ~/code/Surreal.jl/src2/SurrealExpression/limits.jl:49 [inlined]",
      " [12] macro expansion",
      "    @ ~/.julia/packages/Match/XemzX/src/matchmacro.jl:410 [inlined]",
      " [13] macro expansion",
      "    @ ~/code/Surreal.jl/src2/SurrealExpression/limits.jl:48 [inlined]",
      " [14] macro expansion",
      "    @ ~/.julia/packages/Match/XemzX/src/matchmacro.jl:410 [inlined]",
      " [15] hasUpperLimit(e::SymbolicUtils.BasicSymbolic{SurrealExpression})",
      "    @ Main ~/code/Surreal.jl/src2/SurrealExpression/limits.jl:30",
      " [16] hasUpperLimit",
      "    @ ~/code/Surreal.jl/src2/surreal_counted.jl:43 [inlined]",
      " [17] <(x::CountedSurrealSet, y::Surreal)",
      "    @ Main ~/code/Surreal.jl/src2/surreal_counted.jl:12",
      " [18] <=(x::Surreal, y::Surreal)",
      "    @ Main ~/code/Surreal.jl/src2/surreal.jl:16",
      " [19] <(x::Surreal, y::Surreal)",
      "    @ Main ~/code/Surreal.jl/src2/surreal.jl:18",
      " [20] isNegative",
      "    @ ~/code/Surreal.jl/src2/surreal.jl:107 [inlined]",
      " [21] <(x::CountedSurrealSet, y::Surreal)",
      "    @ Main ~/code/Surreal.jl/src2/surreal_counted.jl:13",
      " [22] <=(x::Surreal, y::Surreal)",
      "    @ Main ~/code/Surreal.jl/src2/surreal.jl:16",
      " [23] equiv(x::Surreal, y::Surreal)",
      "    @ Main ~/code/Surreal.jl/src2/surreal.jl:23",
      " [24] top-level scope",
      "    @ In[44]:3"
     ]
    }
   ],
   "source": [
    "@show omega + omega + 1\n",
    "@show omega + 1 + omega\n",
    "equiv(omega + Surreal(1) + omega, omega + omega + Surreal(1))"
   ]
  },
  {
   "cell_type": "code",
   "execution_count": 116,
   "id": "4ecfbf37",
   "metadata": {
    "scrolled": true
   },
   "outputs": [
    {
     "ename": "LoadError",
     "evalue": "UndefVarError: `TODO` not defined",
     "output_type": "error",
     "traceback": [
      "UndefVarError: `TODO` not defined",
      "",
      "Stacktrace:",
      " [1] <",
      "   @ ~/code/Surreal.jl/src2/surreal_abstract.jl:15 [inlined]",
      " [2] Surreal",
      "   @ ~/code/Surreal.jl/src2/surreal.jl:9 [inlined]",
      " [3] Surreal(L::CountedSurrealSet, R::SingularSurrealSet)",
      "   @ Main ~/code/Surreal.jl/src2/surreal.jl:6",
      " [4] +(x::Surreal, y::Surreal)",
      "   @ Main ~/code/Surreal.jl/src2/surreal.jl:48",
      " [5] top-level scope",
      "   @ In[116]:1"
     ]
    }
   ],
   "source": [
    "omega + Surreal(1//2)"
   ]
  },
  {
   "cell_type": "code",
   "execution_count": null,
   "id": "8492a3bf",
   "metadata": {},
   "outputs": [],
   "source": []
  },
  {
   "cell_type": "code",
   "execution_count": null,
   "id": "5280d0da",
   "metadata": {},
   "outputs": [],
   "source": []
  },
  {
   "cell_type": "code",
   "execution_count": null,
   "id": "9bb2eb55",
   "metadata": {},
   "outputs": [],
   "source": []
  },
  {
   "cell_type": "code",
   "execution_count": null,
   "id": "26520a52",
   "metadata": {},
   "outputs": [],
   "source": []
  },
  {
   "cell_type": "code",
   "execution_count": null,
   "id": "d6b082c4",
   "metadata": {},
   "outputs": [],
   "source": []
  },
  {
   "cell_type": "code",
   "execution_count": null,
   "id": "65b529e3",
   "metadata": {},
   "outputs": [],
   "source": []
  },
  {
   "cell_type": "code",
   "execution_count": null,
   "id": "31c366b3",
   "metadata": {},
   "outputs": [],
   "source": []
  }
 ],
 "metadata": {
  "kernelspec": {
   "display_name": "Julia 1.9.1 (20 threads) 1.9.1",
   "language": "julia",
   "name": "julia-1.9.1-_20-threads_-1.9"
  },
  "language_info": {
   "file_extension": ".jl",
   "mimetype": "application/julia",
   "name": "julia",
   "version": "1.9.1"
  }
 },
 "nbformat": 4,
 "nbformat_minor": 5
}
