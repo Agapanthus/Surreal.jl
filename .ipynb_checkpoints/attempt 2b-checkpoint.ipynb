{
 "cells": [
  {
   "cell_type": "code",
   "execution_count": 2,
   "id": "8e029ff2",
   "metadata": {},
   "outputs": [
    {
     "name": "stderr",
     "output_type": "stream",
     "text": [
      "\u001b[32m\u001b[1m  Activating\u001b[22m\u001b[39m project at `~/code/Surreal.jl`\n"
     ]
    },
    {
     "name": "stdout",
     "output_type": "stream",
     "text": [
      "  1.759452 seconds (85.98 M allocations: 2.600 GiB, 8.31% gc time, 31.31% compilation time)\n"
     ]
    }
   ],
   "source": [
    "using Pkg\n",
    "Pkg.activate(\"./\")\n",
    "include(\"./src2/include.jl\")\n",
    "include(\"./src2/test.jl\")"
   ]
  },
  {
   "cell_type": "code",
   "execution_count": 3,
   "id": "cab58ec2",
   "metadata": {
    "scrolled": true
   },
   "outputs": [
    {
     "name": "stdout",
     "output_type": "stream",
     "text": [
      "  0.000243 seconds (1.65 k allocations: 102.656 KiB)\n"
     ]
    },
    {
     "data": {
      "text/plain": [
       "((3+n)∪((2+n)∪((1+n)∪(n|∅)|∅)|∅)|∅)"
      ]
     },
     "execution_count": 3,
     "metadata": {},
     "output_type": "execute_result"
    }
   ],
   "source": [
    "include(\"./src2/include.jl\")\n",
    "\n",
    "#Surreal(add_s(X_s(omega), X_s(Surreal(2))), nil)\n",
    "\n",
    "omega + 3\n",
    "@time omega + 3"
   ]
  },
  {
   "cell_type": "code",
   "execution_count": 17,
   "id": "81bac688",
   "metadata": {},
   "outputs": [
    {
     "data": {
      "text/plain": [
       "((1+2*n)|∅)"
      ]
     },
     "execution_count": 17,
     "metadata": {},
     "output_type": "execute_result"
    }
   ],
   "source": [
    "include(\"./src2/include.jl\")\n",
    "\n",
    "# Add(SurrealExpression, X_s(Surreal(0)), Dict(n_s => Surreal(2), omega_s => Surreal(4)))\n",
    "\n",
    "Surreal(1 + n_s + n_s, nil)"
   ]
  },
  {
   "cell_type": "code",
   "execution_count": 24,
   "id": "53dca956",
   "metadata": {},
   "outputs": [
    {
     "data": {
      "text/plain": [
       "(1+2*n)"
      ]
     },
     "execution_count": 24,
     "metadata": {},
     "output_type": "execute_result"
    }
   ],
   "source": [
    "simplifyRewriter(1 + n_s + n_s)"
   ]
  },
  {
   "cell_type": "code",
   "execution_count": 25,
   "id": "fd32d673",
   "metadata": {},
   "outputs": [
    {
     "data": {
      "text/plain": [
       "(1+n)∪ω"
      ]
     },
     "execution_count": 25,
     "metadata": {},
     "output_type": "execute_result"
    }
   ],
   "source": [
    "include(\"./src2/include.jl\")\n",
    "\n",
    "simplifyRewriter(lu_s(n_s + 1, omega_s))"
   ]
  },
  {
   "cell_type": "code",
   "execution_count": 26,
   "id": "3b95df66",
   "metadata": {
    "scrolled": true
   },
   "outputs": [
    {
     "data": {
      "text/plain": [
       "((1+n)∪(n|∅)|∅)"
      ]
     },
     "execution_count": 26,
     "metadata": {},
     "output_type": "execute_result"
    }
   ],
   "source": [
    "include(\"./src2/include.jl\")\n",
    "\n",
    "omega + 1 #+ omega"
   ]
  },
  {
   "cell_type": "code",
   "execution_count": 39,
   "id": "a19e8d49",
   "metadata": {},
   "outputs": [
    {
     "ename": "LoadError",
     "evalue": "UndefVarError: `ispow` not defined",
     "output_type": "error",
     "traceback": [
      "UndefVarError: `ispow` not defined",
      "",
      "Stacktrace:",
      " [1] *(a::SymbolicUtils.BasicSymbolic{SurrealExpression}, b::SymbolicUtils.BasicSymbolic{SurrealExpression})",
      "   @ Main ~/code/Surreal.jl/src2/SurrealExpression/build.jl:106",
      " [2] *(::SymbolicUtils.BasicSymbolic{SurrealExpression}, ::Int64, ::SymbolicUtils.BasicSymbolic{SurrealExpression})",
      "   @ Base ./operators.jl:578",
      " [3] top-level scope",
      "   @ In[39]:1"
     ]
    }
   ],
   "source": [
    "n_s * 2 * omega_s"
   ]
  },
  {
   "cell_type": "code",
   "execution_count": 27,
   "id": "61be6915",
   "metadata": {},
   "outputs": [
    {
     "data": {
      "text/plain": [
       "n"
      ]
     },
     "execution_count": 27,
     "metadata": {},
     "output_type": "execute_result"
    }
   ],
   "source": [
    "# TODO: Should be stripped from the add\n",
    "n_s + 0"
   ]
  },
  {
   "cell_type": "code",
   "execution_count": 37,
   "id": "0705a134",
   "metadata": {},
   "outputs": [
    {
     "name": "stdout",
     "output_type": "stream",
     "text": [
      "a = Any[-1, n]\n",
      "a = Any[-1, n]\n",
      "e = -1*n\n"
     ]
    },
    {
     "ename": "LoadError",
     "evalue": "MethodError: no method matching !(::SymbolicUtils.BasicSymbolic{SurrealExpression})\n\n\u001b[0mClosest candidates are:\n\u001b[0m  !(\u001b[91m::ComposedFunction{typeof(!)}\u001b[39m)\n\u001b[0m\u001b[90m   @\u001b[39m \u001b[90mBase\u001b[39m \u001b[90m\u001b[4moperators.jl:1089\u001b[24m\u001b[39m\n\u001b[0m  !(\u001b[91m::Function\u001b[39m)\n\u001b[0m\u001b[90m   @\u001b[39m \u001b[90mBase\u001b[39m \u001b[90m\u001b[4moperators.jl:1088\u001b[24m\u001b[39m\n\u001b[0m  !(\u001b[91m::Symbolic{Bool}\u001b[39m)\n\u001b[0m\u001b[90m   @\u001b[39m \u001b[36mSymbolicUtils\u001b[39m \u001b[90m~/.julia/packages/SymbolicUtils/H684H/src/\u001b[39m\u001b[90m\u001b[4mmethods.jl:182\u001b[24m\u001b[39m\n\u001b[0m  ...\n",
     "output_type": "error",
     "traceback": [
      "MethodError: no method matching !(::SymbolicUtils.BasicSymbolic{SurrealExpression})\n\n\u001b[0mClosest candidates are:\n\u001b[0m  !(\u001b[91m::ComposedFunction{typeof(!)}\u001b[39m)\n\u001b[0m\u001b[90m   @\u001b[39m \u001b[90mBase\u001b[39m \u001b[90m\u001b[4moperators.jl:1089\u001b[24m\u001b[39m\n\u001b[0m  !(\u001b[91m::Function\u001b[39m)\n\u001b[0m\u001b[90m   @\u001b[39m \u001b[90mBase\u001b[39m \u001b[90m\u001b[4moperators.jl:1088\u001b[24m\u001b[39m\n\u001b[0m  !(\u001b[91m::Symbolic{Bool}\u001b[39m)\n\u001b[0m\u001b[90m   @\u001b[39m \u001b[36mSymbolicUtils\u001b[39m \u001b[90m~/.julia/packages/SymbolicUtils/H684H/src/\u001b[39m\u001b[90m\u001b[4mmethods.jl:182\u001b[24m\u001b[39m\n\u001b[0m  ...\n",
      "",
      "Stacktrace:",
      "  [1] <(x::Surreal, y::CountedSurrealSet)",
      "    @ Main ~/code/Surreal.jl/src2/surreal_counted.jl:25",
      "  [2] <=(x::Surreal, y::Surreal)",
      "    @ Main ~/code/Surreal.jl/src2/surreal.jl:17",
      "  [3] <(x::Surreal, y::Surreal)",
      "    @ Main ~/code/Surreal.jl/src2/surreal.jl:19",
      "  [4] macro expansion",
      "    @ ~/code/Surreal.jl/src2/surreal_singular.jl:7 [inlined]",
      "  [5] <(v1::Surreal, v2::SingularSurrealSet)",
      "    @ Main ~/code/Surreal.jl/src2/rule.jl:58",
      "  [6] <=(x::Surreal, y::Surreal)",
      "    @ Main ~/code/Surreal.jl/src2/surreal.jl:17",
      "  [7] <(x::Surreal, y::Surreal)",
      "    @ Main ~/code/Surreal.jl/src2/surreal.jl:19",
      "  [8] macro expansion",
      "    @ ~/code/Surreal.jl/src2/surreal.jl:111 [inlined]",
      "  [9] <(v1::Surreal, v2::Int64)",
      "    @ Main ~/code/Surreal.jl/src2/rule.jl:58",
      " [10] top-level scope",
      "    @ In[37]:3"
     ]
    }
   ],
   "source": [
    "include(\"./src2/include.jl\")\n",
    "\n",
    "-omega < -1  #< omega"
   ]
  },
  {
   "cell_type": "code",
   "execution_count": 28,
   "id": "444efc09",
   "metadata": {},
   "outputs": [
    {
     "ename": "LoadError",
     "evalue": "UndefVarError: `TODO` not defined",
     "output_type": "error",
     "traceback": [
      "UndefVarError: `TODO` not defined",
      "",
      "Stacktrace:",
      " [1] <",
      "   @ ~/code/Surreal.jl/src2/surreal_abstract.jl:14 [inlined]",
      " [2] Surreal",
      "   @ ~/code/Surreal.jl/src2/surreal.jl:10 [inlined]",
      " [3] Surreal(L::CountedSurrealSet, R::SingularSurrealSet)",
      "   @ Main ~/code/Surreal.jl/src2/surreal.jl:7",
      " [4] +(x::Surreal, y::Surreal)",
      "   @ Main ~/code/Surreal.jl/src2/surreal.jl:84",
      " [5] -",
      "   @ ~/code/Surreal.jl/src2/surreal.jl:88 [inlined]",
      " [6] macro expansion",
      "   @ ~/code/Surreal.jl/src2/surreal.jl:111 [inlined]",
      " [7] -(v1::Surreal, v2::Int64)",
      "   @ Main ~/code/Surreal.jl/src2/rule.jl:58",
      " [8] top-level scope",
      "   @ In[28]:1"
     ]
    }
   ],
   "source": [
    "omega - 1"
   ]
  },
  {
   "cell_type": "code",
   "execution_count": 50,
   "id": "2a7df8fb",
   "metadata": {},
   "outputs": [
    {
     "data": {
      "text/plain": [
       "(∅|-n+(∅|0)∩-ω)"
      ]
     },
     "execution_count": 50,
     "metadata": {},
     "output_type": "execute_result"
    }
   ],
   "source": [
    "include(\"./src2/include.jl\")\n",
    "\n",
    "(-omega) - 1"
   ]
  },
  {
   "cell_type": "code",
   "execution_count": 44,
   "id": "e98cc8d3",
   "metadata": {
    "scrolled": true
   },
   "outputs": [
    {
     "name": "stdout",
     "output_type": "stream",
     "text": [
      "omega + omega + 1 = (n+ω+(0|∅)∪(n+ω|∅)|∅)\n",
      "omega + 1 + omega = (ω+ω∪n+(ω|∅)|∅)\n"
     ]
    },
    {
     "ename": "LoadError",
     "evalue": "UndefVarError: `TODO` not defined",
     "output_type": "error",
     "traceback": [
      "UndefVarError: `TODO` not defined",
      "",
      "Stacktrace:",
      "  [1] macro expansion",
      "    @ ~/code/Surreal.jl/src2/SurrealExpression/limits.jl:46 [inlined]",
      "  [2] macro expansion",
      "    @ ~/.julia/packages/Match/XemzX/src/matchmacro.jl:408 [inlined]",
      "  [3] hasUpperLimit(e::SymbolicUtils.BasicSymbolic{SurrealExpression})",
      "    @ Main ~/code/Surreal.jl/src2/SurrealExpression/limits.jl:30",
      "  [4] macro expansion",
      "    @ ~/.julia/packages/Match/XemzX/src/matchmacro.jl:408 [inlined]",
      "  [5] macro expansion",
      "    @ ~/code/Surreal.jl/src2/SurrealExpression/limits.jl:52 [inlined]",
      "  [6] macro expansion",
      "    @ ~/.julia/packages/Match/XemzX/src/matchmacro.jl:410 [inlined]",
      "  [7] macro expansion",
      "    @ ~/code/Surreal.jl/src2/SurrealExpression/limits.jl:51 [inlined]",
      "  [8] macro expansion",
      "    @ ~/.julia/packages/Match/XemzX/src/matchmacro.jl:410 [inlined]",
      "  [9] macro expansion",
      "    @ ~/code/Surreal.jl/src2/SurrealExpression/limits.jl:50 [inlined]",
      " [10] macro expansion",
      "    @ ~/.julia/packages/Match/XemzX/src/matchmacro.jl:410 [inlined]",
      " [11] macro expansion",
      "    @ ~/code/Surreal.jl/src2/SurrealExpression/limits.jl:49 [inlined]",
      " [12] macro expansion",
      "    @ ~/.julia/packages/Match/XemzX/src/matchmacro.jl:410 [inlined]",
      " [13] macro expansion",
      "    @ ~/code/Surreal.jl/src2/SurrealExpression/limits.jl:48 [inlined]",
      " [14] macro expansion",
      "    @ ~/.julia/packages/Match/XemzX/src/matchmacro.jl:410 [inlined]",
      " [15] hasUpperLimit(e::SymbolicUtils.BasicSymbolic{SurrealExpression})",
      "    @ Main ~/code/Surreal.jl/src2/SurrealExpression/limits.jl:30",
      " [16] hasUpperLimit",
      "    @ ~/code/Surreal.jl/src2/surreal_counted.jl:43 [inlined]",
      " [17] <(x::CountedSurrealSet, y::Surreal)",
      "    @ Main ~/code/Surreal.jl/src2/surreal_counted.jl:12",
      " [18] <=(x::Surreal, y::Surreal)",
      "    @ Main ~/code/Surreal.jl/src2/surreal.jl:16",
      " [19] <(x::Surreal, y::Surreal)",
      "    @ Main ~/code/Surreal.jl/src2/surreal.jl:18",
      " [20] isNegative",
      "    @ ~/code/Surreal.jl/src2/surreal.jl:107 [inlined]",
      " [21] <(x::CountedSurrealSet, y::Surreal)",
      "    @ Main ~/code/Surreal.jl/src2/surreal_counted.jl:13",
      " [22] <=(x::Surreal, y::Surreal)",
      "    @ Main ~/code/Surreal.jl/src2/surreal.jl:16",
      " [23] equiv(x::Surreal, y::Surreal)",
      "    @ Main ~/code/Surreal.jl/src2/surreal.jl:23",
      " [24] top-level scope",
      "    @ In[44]:3"
     ]
    }
   ],
   "source": [
    "@show omega + omega + 1\n",
    "@show omega + 1 + omega\n",
    "equiv(omega + Surreal(1) + omega, omega + omega + Surreal(1))"
   ]
  },
  {
   "cell_type": "code",
   "execution_count": 116,
   "id": "4ecfbf37",
   "metadata": {
    "scrolled": true
   },
   "outputs": [
    {
     "ename": "LoadError",
     "evalue": "UndefVarError: `TODO` not defined",
     "output_type": "error",
     "traceback": [
      "UndefVarError: `TODO` not defined",
      "",
      "Stacktrace:",
      " [1] <",
      "   @ ~/code/Surreal.jl/src2/surreal_abstract.jl:15 [inlined]",
      " [2] Surreal",
      "   @ ~/code/Surreal.jl/src2/surreal.jl:9 [inlined]",
      " [3] Surreal(L::CountedSurrealSet, R::SingularSurrealSet)",
      "   @ Main ~/code/Surreal.jl/src2/surreal.jl:6",
      " [4] +(x::Surreal, y::Surreal)",
      "   @ Main ~/code/Surreal.jl/src2/surreal.jl:48",
      " [5] top-level scope",
      "   @ In[116]:1"
     ]
    }
   ],
   "source": [
    "omega + Surreal(1//2)"
   ]
  },
  {
   "cell_type": "code",
   "execution_count": null,
   "id": "8492a3bf",
   "metadata": {},
   "outputs": [],
   "source": []
  },
  {
   "cell_type": "code",
   "execution_count": null,
   "id": "5280d0da",
   "metadata": {},
   "outputs": [],
   "source": []
  },
  {
   "cell_type": "code",
   "execution_count": null,
   "id": "9bb2eb55",
   "metadata": {},
   "outputs": [],
   "source": []
  },
  {
   "cell_type": "code",
   "execution_count": null,
   "id": "0cbc0835",
   "metadata": {},
   "outputs": [],
   "source": []
  },
  {
   "cell_type": "code",
   "execution_count": null,
   "id": "18ca0423",
   "metadata": {},
   "outputs": [],
   "source": []
  },
  {
   "cell_type": "code",
   "execution_count": null,
   "id": "d2d0fdf4",
   "metadata": {},
   "outputs": [],
   "source": []
  },
  {
   "cell_type": "code",
   "execution_count": null,
   "id": "a3d1c571",
   "metadata": {},
   "outputs": [],
   "source": []
  }
 ],
 "metadata": {
  "kernelspec": {
   "display_name": "Julia 1.9.1 (20 threads) 1.9.1",
   "language": "julia",
   "name": "julia-1.9.1-_20-threads_-1.9"
  },
  "language_info": {
   "file_extension": ".jl",
   "mimetype": "application/julia",
   "name": "julia",
   "version": "1.9.1"
  }
 },
 "nbformat": 4,
 "nbformat_minor": 5
}
