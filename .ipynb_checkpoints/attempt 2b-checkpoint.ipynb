{
 "cells": [
  {
   "cell_type": "code",
   "execution_count": 1,
   "id": "8e029ff2",
   "metadata": {},
   "outputs": [
    {
     "name": "stderr",
     "output_type": "stream",
     "text": [
      "\u001b[32m\u001b[1m  Activating\u001b[22m\u001b[39m project at `~/code/Surreal.jl`\n",
      "\u001b[36m\u001b[1m[ \u001b[22m\u001b[39m\u001b[36m\u001b[1mInfo: \u001b[22m\u001b[39mPrecompiling SymbolicUtils [d1185830-fcd6-423d-90d6-eec64667417b]\n"
     ]
    },
    {
     "name": "stdout",
     "output_type": "stream",
     "text": [
      "  4.959755 seconds (7.67 M allocations: 438.162 MiB, 2.08% gc time, 98.84% compilation time)\n"
     ]
    }
   ],
   "source": [
    "using Pkg\n",
    "Pkg.activate(\"./\")\n",
    "include(\"./src2/include.jl\")\n",
    "include(\"./src2/test.jl\")"
   ]
  },
  {
   "cell_type": "code",
   "execution_count": 265,
   "id": "cab58ec2",
   "metadata": {
    "scrolled": true
   },
   "outputs": [
    {
     "data": {
      "text/plain": [
       "(n|((n|(ω-n))-n))"
      ]
     },
     "execution_count": 265,
     "metadata": {},
     "output_type": "execute_result"
    }
   ],
   "source": [
    "include(\"./src2/SurrealExpression/syms.jl\")\n",
    "include(\"./src2/include.jl\")\n",
    "include(\"./src2/surreal.jl\")\n",
    "\n",
    "1//4 * omega |> simplify"
   ]
  },
  {
   "cell_type": "code",
   "execution_count": 291,
   "id": "b0726fce",
   "metadata": {},
   "outputs": [
    {
     "data": {
      "text/plain": [
       "3"
      ]
     },
     "execution_count": 291,
     "metadata": {},
     "output_type": "execute_result"
    }
   ],
   "source": [
    "Surreal(2, nil)"
   ]
  },
  {
   "cell_type": "code",
   "execution_count": 292,
   "id": "301126cb",
   "metadata": {},
   "outputs": [
    {
     "ename": "LoadError",
     "evalue": "MethodError: no method matching birthday(::SymbolicUtils.BasicSymbolic{SurrealExpression})\n\n\u001b[0mClosest candidates are:\n\u001b[0m  birthday(\u001b[91m::CountedSurrealSet\u001b[39m)\n\u001b[0m\u001b[90m   @\u001b[39m \u001b[35mMain\u001b[39m \u001b[90m~/code/Surreal.jl/src2/\u001b[39m\u001b[90m\u001b[4msurreal_counted.jl:29\u001b[24m\u001b[39m\n\u001b[0m  birthday(\u001b[91m::VectorSurrealSet\u001b[39m)\n\u001b[0m\u001b[90m   @\u001b[39m \u001b[35mMain\u001b[39m \u001b[90m~/code/Surreal.jl/src2/\u001b[39m\u001b[90m\u001b[4msurreal_vector.jl:43\u001b[24m\u001b[39m\n\u001b[0m  birthday(\u001b[91m::SingularSurrealSet\u001b[39m)\n\u001b[0m\u001b[90m   @\u001b[39m \u001b[35mMain\u001b[39m \u001b[90m~/code/Surreal.jl/src2/\u001b[39m\u001b[90m\u001b[4msurreal_singular.jl:21\u001b[24m\u001b[39m\n\u001b[0m  ...\n",
     "output_type": "error",
     "traceback": [
      "MethodError: no method matching birthday(::SymbolicUtils.BasicSymbolic{SurrealExpression})\n\n\u001b[0mClosest candidates are:\n\u001b[0m  birthday(\u001b[91m::CountedSurrealSet\u001b[39m)\n\u001b[0m\u001b[90m   @\u001b[39m \u001b[35mMain\u001b[39m \u001b[90m~/code/Surreal.jl/src2/\u001b[39m\u001b[90m\u001b[4msurreal_counted.jl:29\u001b[24m\u001b[39m\n\u001b[0m  birthday(\u001b[91m::VectorSurrealSet\u001b[39m)\n\u001b[0m\u001b[90m   @\u001b[39m \u001b[35mMain\u001b[39m \u001b[90m~/code/Surreal.jl/src2/\u001b[39m\u001b[90m\u001b[4msurreal_vector.jl:43\u001b[24m\u001b[39m\n\u001b[0m  birthday(\u001b[91m::SingularSurrealSet\u001b[39m)\n\u001b[0m\u001b[90m   @\u001b[39m \u001b[35mMain\u001b[39m \u001b[90m~/code/Surreal.jl/src2/\u001b[39m\u001b[90m\u001b[4msurreal_singular.jl:21\u001b[24m\u001b[39m\n\u001b[0m  ...\n",
      "",
      "Stacktrace:",
      " [1] birthday(x::CountedSurrealSet)",
      "   @ Main ~/code/Surreal.jl/src2/surreal_counted.jl:29",
      " [2] birthday(x::Surreal)",
      "   @ Main ~/code/Surreal.jl/src2/surreal.jl:209",
      " [3] top-level scope",
      "   @ In[292]:1"
     ]
    }
   ],
   "source": [
    "birthday(omega)"
   ]
  },
  {
   "cell_type": "code",
   "execution_count": 264,
   "id": "8250b3ae",
   "metadata": {},
   "outputs": [
    {
     "data": {
      "text/plain": [
       "(n|(ω-n))"
      ]
     },
     "execution_count": 264,
     "metadata": {},
     "output_type": "execute_result"
    }
   ],
   "source": [
    "1//2 * omega |> simplify"
   ]
  },
  {
   "cell_type": "code",
   "execution_count": 224,
   "id": "976485ed",
   "metadata": {},
   "outputs": [
    {
     "data": {
      "text/plain": [
       "(L(ω)+L(-1/2*n))"
      ]
     },
     "execution_count": 224,
     "metadata": {},
     "output_type": "execute_result"
    }
   ],
   "source": [
    "(@rule lb_s(~x + ~y) => lb_s(~x) + lb_s(~y))(lb_s(omega+ -1//2*n_s))"
   ]
  },
  {
   "cell_type": "code",
   "execution_count": 256,
   "id": "febfb5c8",
   "metadata": {},
   "outputs": [
    {
     "data": {
      "text/plain": [
       "-ω"
      ]
     },
     "execution_count": 256,
     "metadata": {},
     "output_type": "execute_result"
    }
   ],
   "source": [
    "simplify(Surreal(nil, -1//2*n_s))"
   ]
  },
  {
   "cell_type": "code",
   "execution_count": 257,
   "id": "96fd5992",
   "metadata": {},
   "outputs": [
    {
     "data": {
      "text/plain": [
       "(n|(ω-n))"
      ]
     },
     "execution_count": 257,
     "metadata": {},
     "output_type": "execute_result"
    }
   ],
   "source": [
    "simplify(1//2 * omega) #.R.e |> iterateAdd"
   ]
  },
  {
   "cell_type": "code",
   "execution_count": 255,
   "id": "973e2b6e",
   "metadata": {},
   "outputs": [
    {
     "data": {
      "text/plain": [
       "(ω-n)"
      ]
     },
     "execution_count": 255,
     "metadata": {},
     "output_type": "execute_result"
    }
   ],
   "source": [
    "include(\"./src2/SurrealExpression/syms.jl\")\n",
    "omega_s - n_s "
   ]
  },
  {
   "cell_type": "code",
   "execution_count": 247,
   "id": "a7f1bba4",
   "metadata": {},
   "outputs": [
    {
     "name": "stdout",
     "output_type": "stream",
     "text": [
      "vs = Any[(ω|∅), -ω]\n",
      "UndefVarError: `TODO` not defined\n",
      "Stacktrace:\n",
      "  [1] \u001b[0m\u001b[1mmacro expansion\u001b[22m\n",
      "\u001b[90m    @\u001b[39m \u001b[90m~/code/Surreal.jl/src2/SurrealExpression/\u001b[39m\u001b[90m\u001b[4mlimits.jl:117\u001b[24m\u001b[39m\u001b[90m [inlined]\u001b[39m\n",
      "  [2] \u001b[0m\u001b[1mmacro expansion\u001b[22m\n",
      "\u001b[90m    @\u001b[39m \u001b[90m~/.julia/packages/Match/XemzX/src/\u001b[39m\u001b[90m\u001b[4mmatchmacro.jl:408\u001b[24m\u001b[39m\u001b[90m [inlined]\u001b[39m\n",
      "  [3] \u001b[0m\u001b[1mallPositive\u001b[22m\u001b[0m\u001b[1m(\u001b[22m\u001b[90me\u001b[39m::\u001b[0mSymbolicUtils.BasicSymbolic\u001b[90m{SurrealExpression}\u001b[39m\u001b[0m\u001b[1m)\u001b[22m\n",
      "\u001b[90m    @\u001b[39m \u001b[35mMain\u001b[39m \u001b[90m~/code/Surreal.jl/src2/SurrealExpression/\u001b[39m\u001b[90m\u001b[4mlimits.jl:106\u001b[24m\u001b[39m\n",
      "  [4] \u001b[0m\u001b[1mmacro expansion\u001b[22m\n",
      "\u001b[90m    @\u001b[39m \u001b[90m~/.julia/packages/Match/XemzX/src/\u001b[39m\u001b[90m\u001b[4mmatchmacro.jl:408\u001b[24m\u001b[39m\u001b[90m [inlined]\u001b[39m\n",
      "  [5] \u001b[0m\u001b[1mmacro expansion\u001b[22m\n",
      "\u001b[90m    @\u001b[39m \u001b[90m~/code/Surreal.jl/src2/SurrealExpression/\u001b[39m\u001b[90m\u001b[4mlimits.jl:133\u001b[24m\u001b[39m\u001b[90m [inlined]\u001b[39m\n",
      "  [6] \u001b[0m\u001b[1mmacro expansion\u001b[22m\n",
      "\u001b[90m    @\u001b[39m \u001b[90m~/.julia/packages/Match/XemzX/src/\u001b[39m\u001b[90m\u001b[4mmatchmacro.jl:410\u001b[24m\u001b[39m\u001b[90m [inlined]\u001b[39m\n",
      "  [7] \u001b[0m\u001b[1mmacro expansion\u001b[22m\n",
      "\u001b[90m    @\u001b[39m \u001b[90m~/code/Surreal.jl/src2/SurrealExpression/\u001b[39m\u001b[90m\u001b[4mlimits.jl:132\u001b[24m\u001b[39m\u001b[90m [inlined]\u001b[39m\n",
      "  [8] \u001b[0m\u001b[1mmacro expansion\u001b[22m\n",
      "\u001b[90m    @\u001b[39m \u001b[90m~/.julia/packages/Match/XemzX/src/\u001b[39m\u001b[90m\u001b[4mmatchmacro.jl:410\u001b[24m\u001b[39m\u001b[90m [inlined]\u001b[39m\n",
      "  [9] \u001b[0m\u001b[1mmacro expansion\u001b[22m\n",
      "\u001b[90m    @\u001b[39m \u001b[90m~/code/Surreal.jl/src2/SurrealExpression/\u001b[39m\u001b[90m\u001b[4mlimits.jl:131\u001b[24m\u001b[39m\u001b[90m [inlined]\u001b[39m\n",
      " [10] \u001b[0m\u001b[1mmacro expansion\u001b[22m\n",
      "\u001b[90m    @\u001b[39m \u001b[90m~/.julia/packages/Match/XemzX/src/\u001b[39m\u001b[90m\u001b[4mmatchmacro.jl:410\u001b[24m\u001b[39m\u001b[90m [inlined]\u001b[39m\n",
      " [11] \u001b[0m\u001b[1mmacro expansion\u001b[22m\n",
      "\u001b[90m    @\u001b[39m \u001b[90m~/code/Surreal.jl/src2/SurrealExpression/\u001b[39m\u001b[90m\u001b[4mlimits.jl:119\u001b[24m\u001b[39m\u001b[90m [inlined]\u001b[39m\n",
      " [12] \u001b[0m\u001b[1mmacro expansion\u001b[22m\n",
      "\u001b[90m    @\u001b[39m \u001b[90m~/.julia/packages/Match/XemzX/src/\u001b[39m\u001b[90m\u001b[4mmatchmacro.jl:410\u001b[24m\u001b[39m\u001b[90m [inlined]\u001b[39m\n",
      " [13] \u001b[0m\u001b[1mallPositive\u001b[22m\u001b[0m\u001b[1m(\u001b[22m\u001b[90me\u001b[39m::\u001b[0mSymbolicUtils.BasicSymbolic\u001b[90m{SurrealExpression}\u001b[39m\u001b[0m\u001b[1m)\u001b[22m\n",
      "\u001b[90m    @\u001b[39m \u001b[35mMain\u001b[39m \u001b[90m~/code/Surreal.jl/src2/SurrealExpression/\u001b[39m\u001b[90m\u001b[4mlimits.jl:106\u001b[24m\u001b[39m\n",
      " [14] \u001b[0m\u001b[1m(::var\"#13100#13135\")\u001b[22m\u001b[0m\u001b[1m(\u001b[22m\u001b[90m__MATCHES__\u001b[39m::\u001b[0mBase.ImmutableDict\u001b[90m{Symbol, Any}\u001b[39m\u001b[0m\u001b[1m)\u001b[22m\n",
      "\u001b[90m    @\u001b[39m \u001b[35mMain\u001b[39m \u001b[90m~/.julia/packages/SymbolicUtils/H684H/src/\u001b[39m\u001b[90m\u001b[4mrule.jl:318\u001b[24m\u001b[39m\n",
      " [15] \u001b[0m\u001b[1mmacro expansion\u001b[22m\n",
      "\u001b[90m    @\u001b[39m \u001b[90m~/.julia/packages/SymbolicUtils/H684H/src/\u001b[39m\u001b[90m\u001b[4mutils.jl:11\u001b[24m\u001b[39m\u001b[90m [inlined]\u001b[39m\n",
      " [16] \u001b[0m\u001b[1m(::SymbolicUtils.var\"#success#85\"{var\"#13100#13135\"})\u001b[22m\u001b[0m\u001b[1m(\u001b[22m\u001b[90mbindings\u001b[39m::\u001b[0mBase.ImmutableDict\u001b[90m{Symbol, Any}\u001b[39m, \u001b[90mn\u001b[39m::\u001b[0mInt64\u001b[0m\u001b[1m)\u001b[22m\n",
      "\u001b[90m    @\u001b[39m \u001b[36mSymbolicUtils\u001b[39m \u001b[90m~/.julia/packages/SymbolicUtils/H684H/src/\u001b[39m\u001b[90m\u001b[4mrule.jl:142\u001b[24m\u001b[39m\n",
      " [17] \u001b[0m\u001b[1m(::SymbolicUtils.var\"#loop#99\"{SymbolicUtils.var\"#success#85\"{var\"#13100#13135\"}})\u001b[22m\u001b[0m\u001b[1m(\u001b[22m\u001b[90mterm\u001b[39m::\u001b[0mSymbolicUtils.LL\u001b[90m{Vector{Any}}\u001b[39m, \u001b[90mbindings′\u001b[39m::\u001b[0mBase.ImmutableDict\u001b[90m{Symbol, Any}\u001b[39m, \u001b[90mmatchers′\u001b[39m::\u001b[0mSymbolicUtils.LL\u001b[90m{Tuple{SymbolicUtils.var\"#literal_matcher#94\"{SymbolicUtils.BasicSymbolic{SymbolicUtils.FnType{Tuple{SurrealExpression}, Bool}}}, SymbolicUtils.var\"#slot_matcher#95\"{SymbolicUtils.Slot{typeof(SymbolicUtils.alwaystrue)}}}}\u001b[39m\u001b[0m\u001b[1m)\u001b[22m\n",
      "\u001b[90m    @\u001b[39m \u001b[36mSymbolicUtils\u001b[39m \u001b[90m~/.julia/packages/SymbolicUtils/H684H/src/\u001b[39m\u001b[90m\u001b[4mmatchers.jl:97\u001b[24m\u001b[39m\n",
      " [18] \u001b[0m\u001b[1m(::SymbolicUtils.var\"#97#100\"{SymbolicUtils.LL{Vector{Any}}, SymbolicUtils.LL{Tuple{SymbolicUtils.var\"#literal_matcher#94\"{SymbolicUtils.BasicSymbolic{SymbolicUtils.FnType{Tuple{SurrealExpression}, Bool}}}, SymbolicUtils.var\"#slot_matcher#95\"{SymbolicUtils.Slot{typeof(SymbolicUtils.alwaystrue)}}}}})\u001b[22m\u001b[0m\u001b[1m(\u001b[22m\u001b[90mb\u001b[39m::\u001b[0mBase.ImmutableDict\u001b[90m{Symbol, Any}\u001b[39m, \u001b[90mn\u001b[39m::\u001b[0mInt64\u001b[0m\u001b[1m)\u001b[22m\n",
      "\u001b[90m    @\u001b[39m \u001b[36mSymbolicUtils\u001b[39m \u001b[90m~/.julia/packages/SymbolicUtils/H684H/src/\u001b[39m\u001b[90m\u001b[4mmatchers.jl:102\u001b[24m\u001b[39m\n",
      " [19] \u001b[0m\u001b[1m(::SymbolicUtils.var\"#slot_matcher#95\"{SymbolicUtils.Slot{typeof(SymbolicUtils.alwaystrue)}})\u001b[22m\u001b[0m\u001b[1m(\u001b[22m\u001b[90mnext\u001b[39m::\u001b[0mSymbolicUtils.var\"#97#100\"\u001b[90m{SymbolicUtils.LL{Vector{Any}}, SymbolicUtils.LL{Tuple{SymbolicUtils.var\"#literal_matcher#94\"{SymbolicUtils.BasicSymbolic{SymbolicUtils.FnType{Tuple{SurrealExpression}, Bool}}}, SymbolicUtils.var\"#slot_matcher#95\"{SymbolicUtils.Slot{typeof(SymbolicUtils.alwaystrue)}}}}}\u001b[39m, \u001b[90mdata\u001b[39m::\u001b[0mSymbolicUtils.LL\u001b[90m{Vector{Any}}\u001b[39m, \u001b[90mbindings\u001b[39m::\u001b[0mBase.ImmutableDict\u001b[90m{Symbol, Any}\u001b[39m\u001b[0m\u001b[1m)\u001b[22m\n",
      "\u001b[90m    @\u001b[39m \u001b[36mSymbolicUtils\u001b[39m \u001b[90m~/.julia/packages/SymbolicUtils/H684H/src/\u001b[39m\u001b[90m\u001b[4mmatchers.jl:25\u001b[24m\u001b[39m\n",
      " [20] \u001b[0m\u001b[1m(::SymbolicUtils.var\"#loop#99\"{SymbolicUtils.var\"#success#85\"{var\"#13100#13135\"}})\u001b[22m\u001b[0m\u001b[1m(\u001b[22m\u001b[90mterm\u001b[39m::\u001b[0mSymbolicUtils.LL\u001b[90m{Vector{Any}}\u001b[39m, \u001b[90mbindings′\u001b[39m::\u001b[0mBase.ImmutableDict\u001b[90m{Symbol, Any}\u001b[39m, \u001b[90mmatchers′\u001b[39m::\u001b[0mSymbolicUtils.LL\u001b[90m{Tuple{SymbolicUtils.var\"#literal_matcher#94\"{SymbolicUtils.BasicSymbolic{SymbolicUtils.FnType{Tuple{SurrealExpression}, Bool}}}, SymbolicUtils.var\"#slot_matcher#95\"{SymbolicUtils.Slot{typeof(SymbolicUtils.alwaystrue)}}}}\u001b[39m\u001b[0m\u001b[1m)\u001b[22m\n",
      "\u001b[90m    @\u001b[39m \u001b[36mSymbolicUtils\u001b[39m \u001b[90m~/.julia/packages/SymbolicUtils/H684H/src/\u001b[39m\u001b[90m\u001b[4mmatchers.jl:101\u001b[24m\u001b[39m\n",
      " [21] \u001b[0m\u001b[1m(::SymbolicUtils.var\"#97#100\"{SymbolicUtils.BasicSymbolic{Bool}, Tuple{SymbolicUtils.var\"#literal_matcher#94\"{SymbolicUtils.BasicSymbolic{SymbolicUtils.FnType{Tuple{SurrealExpression}, Bool}}}, SymbolicUtils.var\"#slot_matcher#95\"{SymbolicUtils.Slot{typeof(SymbolicUtils.alwaystrue)}}}})\u001b[22m\u001b[0m\u001b[1m(\u001b[22m\u001b[90mb\u001b[39m::\u001b[0mBase.ImmutableDict\u001b[90m{Symbol, Any}\u001b[39m, \u001b[90mn\u001b[39m::\u001b[0mInt64\u001b[0m\u001b[1m)\u001b[22m\n",
      "\u001b[90m    @\u001b[39m \u001b[36mSymbolicUtils\u001b[39m \u001b[90m~/.julia/packages/SymbolicUtils/H684H/src/\u001b[39m\u001b[90m\u001b[4mmatchers.jl:102\u001b[24m\u001b[39m\n",
      " [22] \u001b[0m\u001b[1m(::SymbolicUtils.var\"#literal_matcher#94\"{SymbolicUtils.BasicSymbolic{SymbolicUtils.FnType{Tuple{SurrealExpression}, Bool}}})\u001b[22m\u001b[0m\u001b[1m(\u001b[22m\u001b[90mnext\u001b[39m::\u001b[0mSymbolicUtils.var\"#97#100\"\u001b[90m{SymbolicUtils.BasicSymbolic{Bool}, Tuple{SymbolicUtils.var\"#literal_matcher#94\"{SymbolicUtils.BasicSymbolic{SymbolicUtils.FnType{Tuple{SurrealExpression}, Bool}}}, SymbolicUtils.var\"#slot_matcher#95\"{SymbolicUtils.Slot{typeof(SymbolicUtils.alwaystrue)}}}}\u001b[39m, \u001b[90mdata\u001b[39m::\u001b[0mSymbolicUtils.BasicSymbolic\u001b[90m{Bool}\u001b[39m, \u001b[90mbindings\u001b[39m::\u001b[0mBase.ImmutableDict\u001b[90m{Symbol, Any}\u001b[39m\u001b[0m\u001b[1m)\u001b[22m\n",
      "\u001b[90m    @\u001b[39m \u001b[36mSymbolicUtils\u001b[39m \u001b[90m~/.julia/packages/SymbolicUtils/H684H/src/\u001b[39m\u001b[90m\u001b[4mmatchers.jl:11\u001b[24m\u001b[39m\n",
      " [23] \u001b[0m\u001b[1m(::SymbolicUtils.var\"#loop#99\"{SymbolicUtils.var\"#success#85\"{var\"#13100#13135\"}})\u001b[22m\u001b[0m\u001b[1m(\u001b[22m\u001b[90mterm\u001b[39m::\u001b[0mSymbolicUtils.BasicSymbolic\u001b[90m{Bool}\u001b[39m, \u001b[90mbindings′\u001b[39m::\u001b[0mBase.ImmutableDict\u001b[90m{Symbol, Any}\u001b[39m, \u001b[90mmatchers′\u001b[39m::\u001b[0mTuple\u001b[90m{SymbolicUtils.var\"#literal_matcher#94\"{SymbolicUtils.BasicSymbolic{SymbolicUtils.FnType{Tuple{SurrealExpression}, Bool}}}, SymbolicUtils.var\"#slot_matcher#95\"{SymbolicUtils.Slot{typeof(SymbolicUtils.alwaystrue)}}}\u001b[39m\u001b[0m\u001b[1m)\u001b[22m\n",
      "\u001b[90m    @\u001b[39m \u001b[36mSymbolicUtils\u001b[39m \u001b[90m~/.julia/packages/SymbolicUtils/H684H/src/\u001b[39m\u001b[90m\u001b[4mmatchers.jl:101\u001b[24m\u001b[39m\n",
      " [24] \u001b[0m\u001b[1m(::SymbolicUtils.var\"#term_matcher#98\"{Tuple{SymbolicUtils.var\"#literal_matcher#94\"{SymbolicUtils.BasicSymbolic{SymbolicUtils.FnType{Tuple{SurrealExpression}, Bool}}}, SymbolicUtils.var\"#slot_matcher#95\"{SymbolicUtils.Slot{typeof(SymbolicUtils.alwaystrue)}}}})\u001b[22m\u001b[0m\u001b[1m(\u001b[22m\u001b[90msuccess\u001b[39m::\u001b[0mSymbolicUtils.var\"#success#85\"\u001b[90m{var\"#13100#13135\"}\u001b[39m, \u001b[90mdata\u001b[39m::\u001b[0mTuple\u001b[90m{SymbolicUtils.BasicSymbolic{Bool}}\u001b[39m, \u001b[90mbindings\u001b[39m::\u001b[0mBase.ImmutableDict\u001b[90m{Symbol, Any}\u001b[39m\u001b[0m\u001b[1m)\u001b[22m\n",
      "\u001b[90m    @\u001b[39m \u001b[36mSymbolicUtils\u001b[39m \u001b[90m~/.julia/packages/SymbolicUtils/H684H/src/\u001b[39m\u001b[90m\u001b[4mmatchers.jl:106\u001b[24m\u001b[39m\n",
      " [25] \u001b[0m\u001b[1m(::SymbolicUtils.Rule{SymbolicUtils.BasicSymbolic{Any}, SymbolicUtils.var\"#term_matcher#98\"{Tuple{SymbolicUtils.var\"#literal_matcher#94\"{SymbolicUtils.BasicSymbolic{SymbolicUtils.FnType{Tuple{SurrealExpression}, Bool}}}, SymbolicUtils.var\"#slot_matcher#95\"{SymbolicUtils.Slot{typeof(SymbolicUtils.alwaystrue)}}}}, var\"#13100#13135\"})\u001b[22m\u001b[0m\u001b[1m(\u001b[22m\u001b[90mterm\u001b[39m::\u001b[0mSymbolicUtils.BasicSymbolic\u001b[90m{Bool}\u001b[39m\u001b[0m\u001b[1m)\u001b[22m\n",
      "\u001b[90m    @\u001b[39m \u001b[36mSymbolicUtils\u001b[39m \u001b[90m~/.julia/packages/SymbolicUtils/H684H/src/\u001b[39m\u001b[90m\u001b[4mrule.jl:143\u001b[24m\u001b[39m\n",
      " [26] \u001b[0m\u001b[1mmacro expansion\u001b[22m\n",
      "\u001b[90m    @\u001b[39m \u001b[90m~/.julia/packages/SymbolicUtils/H684H/src/\u001b[39m\u001b[90m\u001b[4mutils.jl:11\u001b[24m\u001b[39m\u001b[90m [inlined]\u001b[39m\n",
      " [27] \u001b[0m\u001b[1m(::SymbolicUtils.Rewriters.RestartedChain{Vector{SymbolicUtils.Rule}})\u001b[22m\u001b[0m\u001b[1m(\u001b[22m\u001b[90mx\u001b[39m::\u001b[0mSymbolicUtils.BasicSymbolic\u001b[90m{Bool}\u001b[39m\u001b[0m\u001b[1m)\u001b[22m\n",
      "\u001b[90m    @\u001b[39m \u001b[36mSymbolicUtils.Rewriters\u001b[39m \u001b[90m~/.julia/packages/SymbolicUtils/H684H/src/\u001b[39m\u001b[90m\u001b[4mrewriters.jl:87\u001b[24m\u001b[39m\n",
      " [28] \u001b[0m\u001b[1m(::SymbolicUtils.Rewriters.Walk{:pre, SymbolicUtils.Rewriters.RestartedChain{Vector{SymbolicUtils.Rule}}, typeof(SymbolicUtils.similarterm), false})\u001b[22m\u001b[0m\u001b[1m(\u001b[22m\u001b[90mx\u001b[39m::\u001b[0mSymbolicUtils.BasicSymbolic\u001b[90m{Bool}\u001b[39m\u001b[0m\u001b[1m)\u001b[22m\n",
      "\u001b[90m    @\u001b[39m \u001b[36mSymbolicUtils.Rewriters\u001b[39m \u001b[90m~/.julia/packages/SymbolicUtils/H684H/src/\u001b[39m\u001b[90m\u001b[4mrewriters.jl:0\u001b[24m\u001b[39m\n",
      " [29] \u001b[0m\u001b[1mmacro expansion\u001b[22m\n",
      "\u001b[90m    @\u001b[39m \u001b[90m~/.julia/packages/SymbolicUtils/H684H/src/\u001b[39m\u001b[90m\u001b[4mutils.jl:11\u001b[24m\u001b[39m\u001b[90m [inlined]\u001b[39m\n",
      " [30] \u001b[0m\u001b[1m(::SymbolicUtils.Rewriters.Fixpoint{SymbolicUtils.Rewriters.Walk{:pre, SymbolicUtils.Rewriters.RestartedChain{Vector{SymbolicUtils.Rule}}, typeof(SymbolicUtils.similarterm), false}})\u001b[22m\u001b[0m\u001b[1m(\u001b[22m\u001b[90mx\u001b[39m::\u001b[0mSymbolicUtils.BasicSymbolic\u001b[90m{Bool}\u001b[39m\u001b[0m\u001b[1m)\u001b[22m\n",
      "\u001b[90m    @\u001b[39m \u001b[36mSymbolicUtils.Rewriters\u001b[39m \u001b[90m~/.julia/packages/SymbolicUtils/H684H/src/\u001b[39m\u001b[90m\u001b[4mrewriters.jl:118\u001b[24m\u001b[39m\n",
      " [31] \u001b[0m\u001b[1mPassThrough\u001b[22m\n"
     ]
    },
    {
     "name": "stdout",
     "output_type": "stream",
     "text": [
      "\u001b[90m    @\u001b[39m \u001b[90m~/.julia/packages/SymbolicUtils/H684H/src/\u001b[39m\u001b[90m\u001b[4mrewriters.jl:188\u001b[24m\u001b[39m\u001b[90m [inlined]\u001b[39m\n",
      " [32] \u001b[0m\u001b[1msimplify\u001b[22m\u001b[0m\u001b[1m(\u001b[22m\u001b[90mx\u001b[39m::\u001b[0mSymbolicUtils.BasicSymbolic\u001b[90m{Bool}\u001b[39m; \u001b[90mexpand\u001b[39m::\u001b[0mBool, \u001b[90mpolynorm\u001b[39m::\u001b[0mNothing, \u001b[90mthreaded\u001b[39m::\u001b[0mBool, \u001b[90msimplify_fractions\u001b[39m::\u001b[0mBool, \u001b[90mthread_subtree_cutoff\u001b[39m::\u001b[0mInt64, \u001b[90mrewriter\u001b[39m::\u001b[0mSymbolicUtils.Rewriters.Walk\u001b[90m{:pre, SymbolicUtils.Rewriters.RestartedChain{Vector{SymbolicUtils.Rule}}, typeof(SymbolicUtils.similarterm), false}\u001b[39m\u001b[0m\u001b[1m)\u001b[22m\n",
      "\u001b[90m    @\u001b[39m \u001b[36mSymbolicUtils\u001b[39m \u001b[90m~/.julia/packages/SymbolicUtils/H684H/src/\u001b[39m\u001b[90m\u001b[4msimplify.jl:41\u001b[24m\u001b[39m\n",
      " [33] \u001b[0m\u001b[1msimplify\u001b[22m\n",
      "\u001b[90m    @\u001b[39m \u001b[90m~/.julia/packages/SymbolicUtils/H684H/src/\u001b[39m\u001b[90m\u001b[4msimplify.jl:16\u001b[24m\u001b[39m\u001b[90m [inlined]\u001b[39m\n",
      " [34] \u001b[0m\u001b[1m(::var\"#13107#13143\"{Vector{SymbolicUtils.Rule}})\u001b[22m\u001b[0m\u001b[1m(\u001b[22m\u001b[90mx\u001b[39m::\u001b[0mSymbolicUtils.BasicSymbolic\u001b[90m{Bool}\u001b[39m\u001b[0m\u001b[1m)\u001b[22m\n",
      "\u001b[90m    @\u001b[39m \u001b[35mMain\u001b[39m \u001b[90m~/code/Surreal.jl/src2/SurrealExpression/\u001b[39m\u001b[90m\u001b[4mrules.jl:154\u001b[24m\u001b[39m\n",
      " [35] \u001b[0m\u001b[1m<\u001b[22m\u001b[0m\u001b[1m(\u001b[22m\u001b[90mx\u001b[39m::\u001b[0mSurreal, \u001b[90my\u001b[39m::\u001b[0mSymbolicUtils.BasicSymbolic\u001b[90m{SurrealExpression}\u001b[39m\u001b[0m\u001b[1m)\u001b[22m\n",
      "\u001b[90m    @\u001b[39m \u001b[35mMain\u001b[39m \u001b[90m~/code/Surreal.jl/src2/SurrealExpression/\u001b[39m\u001b[90m\u001b[4msyms.jl:251\u001b[24m\u001b[39m\n",
      " [36] \u001b[0m\u001b[1m<\u001b[22m\n",
      "\u001b[90m    @\u001b[39m \u001b[90m~/code/Surreal.jl/src2/\u001b[39m\u001b[90m\u001b[4msurreal_counted.jl:14\u001b[24m\u001b[39m\u001b[90m [inlined]\u001b[39m\n",
      " [37] \u001b[0m\u001b[1mSurreal\u001b[22m\n",
      "\u001b[90m    @\u001b[39m \u001b[90m~/code/Surreal.jl/src2/\u001b[39m\u001b[90m\u001b[4msurreal.jl:10\u001b[24m\u001b[39m\u001b[90m [inlined]\u001b[39m\n",
      " [38] \u001b[0m\u001b[1mSurreal\u001b[22m\u001b[0m\u001b[1m(\u001b[22m\u001b[90mL\u001b[39m::\u001b[0mSingularSurrealSet, \u001b[90mR\u001b[39m::\u001b[0mCountedSurrealSet\u001b[0m\u001b[1m)\u001b[22m\n",
      "\u001b[90m    @\u001b[39m \u001b[35mMain\u001b[39m \u001b[90m~/code/Surreal.jl/src2/\u001b[39m\u001b[90m\u001b[4msurreal.jl:7\u001b[24m\u001b[39m\n",
      " [39] \u001b[0m\u001b[1maddDirect\u001b[22m\u001b[0m\u001b[1m(\u001b[22m\u001b[90mx\u001b[39m::\u001b[0mSurreal, \u001b[90my\u001b[39m::\u001b[0mSurreal\u001b[0m\u001b[1m)\u001b[22m\n",
      "\u001b[90m    @\u001b[39m \u001b[35mMain\u001b[39m \u001b[90m~/code/Surreal.jl/src2/\u001b[39m\u001b[90m\u001b[4msurreal.jl:91\u001b[24m\u001b[39m\n",
      " [40] \u001b[0m\u001b[1madd\u001b[22m\u001b[0m\u001b[1m(\u001b[22m\u001b[90mx\u001b[39m::\u001b[0mSurreal, \u001b[90my\u001b[39m::\u001b[0mSurreal\u001b[0m\u001b[1m)\u001b[22m\n",
      "\u001b[90m    @\u001b[39m \u001b[35mMain\u001b[39m \u001b[90m~/code/Surreal.jl/src2/\u001b[39m\u001b[90m\u001b[4msurreal.jl:100\u001b[24m\u001b[39m\n",
      " [41] \u001b[0m\u001b[1m+\u001b[22m\n",
      "\u001b[90m    @\u001b[39m \u001b[90m~/code/Surreal.jl/src2/\u001b[39m\u001b[90m\u001b[4msurreal.jl:153\u001b[24m\u001b[39m\u001b[90m [inlined]\u001b[39m\n",
      " [42] \u001b[0m\u001b[1mmacro expansion\u001b[22m\n",
      "\u001b[90m    @\u001b[39m \u001b[90m~/code/Surreal.jl/src2/\u001b[39m\u001b[90m\u001b[4msurreal_singular.jl:14\u001b[24m\u001b[39m\u001b[90m [inlined]\u001b[39m\n",
      " [43] \u001b[0m\u001b[1m+\u001b[22m\u001b[0m\u001b[1m(\u001b[22m\u001b[90mv1\u001b[39m::\u001b[0mSingularSurrealSet, \u001b[90mv2\u001b[39m::\u001b[0mSurreal\u001b[0m\u001b[1m)\u001b[22m\n",
      "\u001b[90m    @\u001b[39m \u001b[35mMain\u001b[39m \u001b[90m~/code/Surreal.jl/src2/\u001b[39m\u001b[90m\u001b[4mrule.jl:53\u001b[24m\u001b[39m\n",
      " [44] \u001b[0m\u001b[1maddDirect\u001b[22m\u001b[0m\u001b[1m(\u001b[22m\u001b[90mx\u001b[39m::\u001b[0mSurreal, \u001b[90my\u001b[39m::\u001b[0mSurreal\u001b[0m\u001b[1m)\u001b[22m\n",
      "\u001b[90m    @\u001b[39m \u001b[35mMain\u001b[39m \u001b[90m~/code/Surreal.jl/src2/\u001b[39m\u001b[90m\u001b[4msurreal.jl:89\u001b[24m\u001b[39m\n",
      " [45] \u001b[0m\u001b[1madd\u001b[22m\u001b[0m\u001b[1m(\u001b[22m\u001b[90mx\u001b[39m::\u001b[0mSurreal, \u001b[90my\u001b[39m::\u001b[0mSurreal\u001b[0m\u001b[1m)\u001b[22m\n",
      "\u001b[90m    @\u001b[39m \u001b[35mMain\u001b[39m \u001b[90m~/code/Surreal.jl/src2/\u001b[39m\u001b[90m\u001b[4msurreal.jl:100\u001b[24m\u001b[39m\n",
      " [46] \u001b[0m\u001b[1m+\u001b[22m\n",
      "\u001b[90m    @\u001b[39m \u001b[90m~/code/Surreal.jl/src2/\u001b[39m\u001b[90m\u001b[4msurreal.jl:153\u001b[24m\u001b[39m\u001b[90m [inlined]\u001b[39m\n",
      " [47] \u001b[0m\u001b[1m-\u001b[22m\n",
      "\u001b[90m    @\u001b[39m \u001b[90m~/code/Surreal.jl/src2/\u001b[39m\u001b[90m\u001b[4msurreal.jl:156\u001b[24m\u001b[39m\u001b[90m [inlined]\u001b[39m\n",
      " [48] \u001b[0m\u001b[1mmacro expansion\u001b[22m\n",
      "\u001b[90m    @\u001b[39m \u001b[90m~/code/Surreal.jl/src2/\u001b[39m\u001b[90m\u001b[4msurreal.jl:162\u001b[24m\u001b[39m\u001b[90m [inlined]\u001b[39m\n",
      " [49] \u001b[0m\u001b[1m-\u001b[22m\u001b[0m\u001b[1m(\u001b[22m\u001b[90mv1\u001b[39m::\u001b[0mSurreal, \u001b[90mv2\u001b[39m::\u001b[0mRational\u001b[90m{Int64}\u001b[39m\u001b[0m\u001b[1m)\u001b[22m\n",
      "\u001b[90m    @\u001b[39m \u001b[35mMain\u001b[39m \u001b[90m~/code/Surreal.jl/src2/\u001b[39m\u001b[90m\u001b[4mrule.jl:58\u001b[24m\u001b[39m\n",
      " [50] top-level scope\n",
      "\u001b[90m    @\u001b[39m \u001b[90m\u001b[4mIn[247]:1\u001b[24m\u001b[39m\n",
      " [51] \u001b[0m\u001b[1meval\u001b[22m\n",
      "\u001b[90m    @\u001b[39m \u001b[90m./\u001b[39m\u001b[90m\u001b[4mboot.jl:370\u001b[24m\u001b[39m\u001b[90m [inlined]\u001b[39m\n",
      " [52] \u001b[0m\u001b[1minclude_string\u001b[22m\u001b[0m\u001b[1m(\u001b[22m\u001b[90mmapexpr\u001b[39m::\u001b[0mtypeof(REPL.softscope), \u001b[90mmod\u001b[39m::\u001b[0mModule, \u001b[90mcode\u001b[39m::\u001b[0mString, \u001b[90mfilename\u001b[39m::\u001b[0mString\u001b[0m\u001b[1m)\u001b[22m\n",
      "\u001b[90m    @\u001b[39m \u001b[90mBase\u001b[39m \u001b[90m./\u001b[39m\u001b[90m\u001b[4mloading.jl:1899\u001b[24m\u001b[39m\n",
      " [53] \u001b[0m\u001b[1msoftscope_include_string\u001b[22m\u001b[0m\u001b[1m(\u001b[22m\u001b[90mm\u001b[39m::\u001b[0mModule, \u001b[90mcode\u001b[39m::\u001b[0mString, \u001b[90mfilename\u001b[39m::\u001b[0mString\u001b[0m\u001b[1m)\u001b[22m\n",
      "\u001b[90m    @\u001b[39m \u001b[32mSoftGlobalScope\u001b[39m \u001b[90m~/.julia/packages/SoftGlobalScope/u4UzH/src/\u001b[39m\u001b[90m\u001b[4mSoftGlobalScope.jl:65\u001b[24m\u001b[39m\n",
      " [54] \u001b[0m\u001b[1mexecute_request\u001b[22m\u001b[0m\u001b[1m(\u001b[22m\u001b[90msocket\u001b[39m::\u001b[0mZMQ.Socket, \u001b[90mmsg\u001b[39m::\u001b[0mIJulia.Msg\u001b[0m\u001b[1m)\u001b[22m\n",
      "\u001b[90m    @\u001b[39m \u001b[33mIJulia\u001b[39m \u001b[90m~/.julia/packages/IJulia/Vo51o/src/\u001b[39m\u001b[90m\u001b[4mexecute_request.jl:67\u001b[24m\u001b[39m\n",
      " [55] \u001b[0m\u001b[1m#invokelatest#2\u001b[22m\n",
      "\u001b[90m    @\u001b[39m \u001b[90m./\u001b[39m\u001b[90m\u001b[4messentials.jl:816\u001b[24m\u001b[39m\u001b[90m [inlined]\u001b[39m\n",
      " [56] \u001b[0m\u001b[1minvokelatest\u001b[22m\n",
      "\u001b[90m    @\u001b[39m \u001b[90m./\u001b[39m\u001b[90m\u001b[4messentials.jl:813\u001b[24m\u001b[39m\u001b[90m [inlined]\u001b[39m\n",
      " [57] \u001b[0m\u001b[1meventloop\u001b[22m\u001b[0m\u001b[1m(\u001b[22m\u001b[90msocket\u001b[39m::\u001b[0mZMQ.Socket\u001b[0m\u001b[1m)\u001b[22m\n",
      "\u001b[90m    @\u001b[39m \u001b[33mIJulia\u001b[39m \u001b[90m~/.julia/packages/IJulia/Vo51o/src/\u001b[39m\u001b[90m\u001b[4meventloop.jl:8\u001b[24m\u001b[39m"
     ]
    },
    {
     "ename": "LoadError",
     "evalue": "Failed to apply rule isPos_s(~y) => allPositive(~y) on expression isPos_s(L(((ω|∅)-ω)))",
     "output_type": "error",
     "traceback": [
      "Failed to apply rule isPos_s(~y) => allPositive(~y) on expression isPos_s(L(((ω|∅)-ω)))",
      "",
      "Stacktrace:",
      "  [1] (::SymbolicUtils.Rule{SymbolicUtils.BasicSymbolic{Any}, SymbolicUtils.var\"#term_matcher#98\"{Tuple{SymbolicUtils.var\"#literal_matcher#94\"{SymbolicUtils.BasicSymbolic{SymbolicUtils.FnType{Tuple{SurrealExpression}, Bool}}}, SymbolicUtils.var\"#slot_matcher#95\"{SymbolicUtils.Slot{typeof(SymbolicUtils.alwaystrue)}}}}, var\"#13100#13135\"})(term::SymbolicUtils.BasicSymbolic{Bool})",
      "    @ SymbolicUtils ~/.julia/packages/SymbolicUtils/H684H/src/rule.jl:149",
      "  [2] macro expansion",
      "    @ ~/.julia/packages/SymbolicUtils/H684H/src/utils.jl:11 [inlined]",
      "  [3] (::SymbolicUtils.Rewriters.RestartedChain{Vector{SymbolicUtils.Rule}})(x::SymbolicUtils.BasicSymbolic{Bool})",
      "    @ SymbolicUtils.Rewriters ~/.julia/packages/SymbolicUtils/H684H/src/rewriters.jl:87",
      "  [4] (::SymbolicUtils.Rewriters.Walk{:pre, SymbolicUtils.Rewriters.RestartedChain{Vector{SymbolicUtils.Rule}}, typeof(SymbolicUtils.similarterm), false})(x::SymbolicUtils.BasicSymbolic{Bool})",
      "    @ SymbolicUtils.Rewriters ~/.julia/packages/SymbolicUtils/H684H/src/rewriters.jl:0",
      "  [5] macro expansion",
      "    @ ~/.julia/packages/SymbolicUtils/H684H/src/utils.jl:11 [inlined]",
      "  [6] (::SymbolicUtils.Rewriters.Fixpoint{SymbolicUtils.Rewriters.Walk{:pre, SymbolicUtils.Rewriters.RestartedChain{Vector{SymbolicUtils.Rule}}, typeof(SymbolicUtils.similarterm), false}})(x::SymbolicUtils.BasicSymbolic{Bool})",
      "    @ SymbolicUtils.Rewriters ~/.julia/packages/SymbolicUtils/H684H/src/rewriters.jl:118",
      "  [7] PassThrough",
      "    @ ~/.julia/packages/SymbolicUtils/H684H/src/rewriters.jl:188 [inlined]",
      "  [8] simplify(x::SymbolicUtils.BasicSymbolic{Bool}; expand::Bool, polynorm::Nothing, threaded::Bool, simplify_fractions::Bool, thread_subtree_cutoff::Int64, rewriter::SymbolicUtils.Rewriters.Walk{:pre, SymbolicUtils.Rewriters.RestartedChain{Vector{SymbolicUtils.Rule}}, typeof(SymbolicUtils.similarterm), false})",
      "    @ SymbolicUtils ~/.julia/packages/SymbolicUtils/H684H/src/simplify.jl:41",
      "  [9] simplify",
      "    @ ~/.julia/packages/SymbolicUtils/H684H/src/simplify.jl:16 [inlined]",
      " [10] (::var\"#13107#13143\"{Vector{SymbolicUtils.Rule}})(x::SymbolicUtils.BasicSymbolic{Bool})",
      "    @ Main ~/code/Surreal.jl/src2/SurrealExpression/rules.jl:154",
      " [11] <(x::Surreal, y::SymbolicUtils.BasicSymbolic{SurrealExpression})",
      "    @ Main ~/code/Surreal.jl/src2/SurrealExpression/syms.jl:251",
      " [12] <",
      "    @ ~/code/Surreal.jl/src2/surreal_counted.jl:14 [inlined]",
      " [13] Surreal",
      "    @ ~/code/Surreal.jl/src2/surreal.jl:10 [inlined]",
      " [14] Surreal(L::SingularSurrealSet, R::CountedSurrealSet)",
      "    @ Main ~/code/Surreal.jl/src2/surreal.jl:7",
      " [15] addDirect(x::Surreal, y::Surreal)",
      "    @ Main ~/code/Surreal.jl/src2/surreal.jl:91",
      " [16] add(x::Surreal, y::Surreal)",
      "    @ Main ~/code/Surreal.jl/src2/surreal.jl:100",
      " [17] +",
      "    @ ~/code/Surreal.jl/src2/surreal.jl:153 [inlined]",
      " [18] macro expansion",
      "    @ ~/code/Surreal.jl/src2/surreal_singular.jl:14 [inlined]",
      " [19] +(v1::SingularSurrealSet, v2::Surreal)",
      "    @ Main ~/code/Surreal.jl/src2/rule.jl:53",
      " [20] addDirect(x::Surreal, y::Surreal)",
      "    @ Main ~/code/Surreal.jl/src2/surreal.jl:89",
      " [21] add(x::Surreal, y::Surreal)",
      "    @ Main ~/code/Surreal.jl/src2/surreal.jl:100",
      " [22] +",
      "    @ ~/code/Surreal.jl/src2/surreal.jl:153 [inlined]",
      " [23] -",
      "    @ ~/code/Surreal.jl/src2/surreal.jl:156 [inlined]",
      " [24] macro expansion",
      "    @ ~/code/Surreal.jl/src2/surreal.jl:162 [inlined]",
      " [25] -(v1::Surreal, v2::Rational{Int64})",
      "    @ Main ~/code/Surreal.jl/src2/rule.jl:58",
      " [26] top-level scope",
      "    @ In[247]:1"
     ]
    }
   ],
   "source": [
    "@assert equiv(-omega + 1//2 - 1//2, -omega)\n",
    "-omega + 1//2 - 1//2"
   ]
  },
  {
   "cell_type": "code",
   "execution_count": 254,
   "id": "e98cc8d3",
   "metadata": {
    "scrolled": true
   },
   "outputs": [
    {
     "name": "stdout",
     "output_type": "stream",
     "text": [
      "omega + omega + 1 = (((ω|∅)+n)⩂((n+ω)|∅)|∅)\n",
      "omega + 1 + omega = (((ω|∅)+n)⩂((n+ω)|∅)|∅)\n",
      "AssertionError: uu_s\n",
      "Stacktrace:\n",
      "   [1] \u001b[0m\u001b[1mmacro expansion\u001b[22m\n",
      "\u001b[90m     @\u001b[39m \u001b[90m~/code/Surreal.jl/src2/SurrealExpression/\u001b[39m\u001b[90m\u001b[4mlimits.jl:98\u001b[24m\u001b[39m\u001b[90m [inlined]\u001b[39m\n",
      "   [2] \u001b[0m\u001b[1mmacro expansion\u001b[22m\n",
      "\u001b[90m     @\u001b[39m \u001b[90m~/.julia/packages/Match/XemzX/src/\u001b[39m\u001b[90m\u001b[4mmatchmacro.jl:410\u001b[24m\u001b[39m\u001b[90m [inlined]\u001b[39m\n",
      "   [3] \u001b[0m\u001b[1mmacro expansion\u001b[22m\n",
      "\u001b[90m     @\u001b[39m \u001b[90m~/code/Surreal.jl/src2/SurrealExpression/\u001b[39m\u001b[90m\u001b[4mlimits.jl:97\u001b[24m\u001b[39m\u001b[90m [inlined]\u001b[39m\n",
      "   [4] \u001b[0m\u001b[1mmacro expansion\u001b[22m\n",
      "\u001b[90m     @\u001b[39m \u001b[90m~/.julia/packages/Match/XemzX/src/\u001b[39m\u001b[90m\u001b[4mmatchmacro.jl:410\u001b[24m\u001b[39m\u001b[90m [inlined]\u001b[39m\n",
      "   [5] \u001b[0m\u001b[1mmacro expansion\u001b[22m\n",
      "\u001b[90m     @\u001b[39m \u001b[90m~/code/Surreal.jl/src2/SurrealExpression/\u001b[39m\u001b[90m\u001b[4mlimits.jl:96\u001b[24m\u001b[39m\u001b[90m [inlined]\u001b[39m\n",
      "   [6] \u001b[0m\u001b[1mmacro expansion\u001b[22m\n",
      "\u001b[90m     @\u001b[39m \u001b[90m~/.julia/packages/Match/XemzX/src/\u001b[39m\u001b[90m\u001b[4mmatchmacro.jl:410\u001b[24m\u001b[39m\u001b[90m [inlined]\u001b[39m\n",
      "   [7] \u001b[0m\u001b[1mmacro expansion\u001b[22m\n",
      "\u001b[90m     @\u001b[39m \u001b[90m~/code/Surreal.jl/src2/SurrealExpression/\u001b[39m\u001b[90m\u001b[4mlimits.jl:95\u001b[24m\u001b[39m\u001b[90m [inlined]\u001b[39m\n",
      "   [8] \u001b[0m\u001b[1mmacro expansion\u001b[22m\n",
      "\u001b[90m     @\u001b[39m \u001b[90m~/.julia/packages/Match/XemzX/src/\u001b[39m\u001b[90m\u001b[4mmatchmacro.jl:410\u001b[24m\u001b[39m\u001b[90m [inlined]\u001b[39m\n",
      "   [9] \u001b[0m\u001b[1mmacro expansion\u001b[22m\n",
      "\u001b[90m     @\u001b[39m \u001b[90m~/code/Surreal.jl/src2/SurrealExpression/\u001b[39m\u001b[90m\u001b[4mlimits.jl:94\u001b[24m\u001b[39m\u001b[90m [inlined]\u001b[39m\n",
      "  [10] \u001b[0m\u001b[1mmacro expansion\u001b[22m\n",
      "\u001b[90m     @\u001b[39m \u001b[90m~/.julia/packages/Match/XemzX/src/\u001b[39m\u001b[90m\u001b[4mmatchmacro.jl:410\u001b[24m\u001b[39m\u001b[90m [inlined]\u001b[39m\n",
      "  [11] \u001b[0m\u001b[1mmacro expansion\u001b[22m\n",
      "\u001b[90m     @\u001b[39m \u001b[90m~/code/Surreal.jl/src2/SurrealExpression/\u001b[39m\u001b[90m\u001b[4mlimits.jl:87\u001b[24m\u001b[39m\u001b[90m [inlined]\u001b[39m\n",
      "  [12] \u001b[0m\u001b[1mmacro expansion\u001b[22m\n",
      "\u001b[90m     @\u001b[39m \u001b[90m~/.julia/packages/Match/XemzX/src/\u001b[39m\u001b[90m\u001b[4mmatchmacro.jl:410\u001b[24m\u001b[39m\u001b[90m [inlined]\u001b[39m\n",
      "  [13] \u001b[0m\u001b[1mallNegative\u001b[22m\u001b[0m\u001b[1m(\u001b[22m\u001b[90me\u001b[39m::\u001b[0mSymbolicUtils.BasicSymbolic\u001b[90m{SurrealExpression}\u001b[39m\u001b[0m\u001b[1m)\u001b[22m\n",
      "\u001b[90m     @\u001b[39m \u001b[35mMain\u001b[39m \u001b[90m~/code/Surreal.jl/src2/SurrealExpression/\u001b[39m\u001b[90m\u001b[4mlimits.jl:77\u001b[24m\u001b[39m\n",
      "  [14] \u001b[0m\u001b[1mmacro expansion\u001b[22m\n",
      "\u001b[90m     @\u001b[39m \u001b[90m~/code/Surreal.jl/src2/SurrealExpression/\u001b[39m\u001b[90m\u001b[4mlimits.jl:121\u001b[24m\u001b[39m\u001b[90m [inlined]\u001b[39m\n",
      "  [15] \u001b[0m\u001b[1mmacro expansion\u001b[22m\n",
      "\u001b[90m     @\u001b[39m \u001b[90m~/.julia/packages/Match/XemzX/src/\u001b[39m\u001b[90m\u001b[4mmatchmacro.jl:408\u001b[24m\u001b[39m\u001b[90m [inlined]\u001b[39m\n",
      "  [16] \u001b[0m\u001b[1mmacro expansion\u001b[22m\n",
      "\u001b[90m     @\u001b[39m \u001b[90m~/code/Surreal.jl/src2/SurrealExpression/\u001b[39m\u001b[90m\u001b[4mlimits.jl:119\u001b[24m\u001b[39m\u001b[90m [inlined]\u001b[39m\n",
      "  [17] \u001b[0m\u001b[1mmacro expansion\u001b[22m\n",
      "\u001b[90m     @\u001b[39m \u001b[90m~/.julia/packages/Match/XemzX/src/\u001b[39m\u001b[90m\u001b[4mmatchmacro.jl:410\u001b[24m\u001b[39m\u001b[90m [inlined]\u001b[39m\n",
      "  [18] \u001b[0m\u001b[1mallPositive\u001b[22m\u001b[0m\u001b[1m(\u001b[22m\u001b[90me\u001b[39m::\u001b[0mSymbolicUtils.BasicSymbolic\u001b[90m{SurrealExpression}\u001b[39m\u001b[0m\u001b[1m)\u001b[22m\n",
      "\u001b[90m     @\u001b[39m \u001b[35mMain\u001b[39m \u001b[90m~/code/Surreal.jl/src2/SurrealExpression/\u001b[39m\u001b[90m\u001b[4mlimits.jl:106\u001b[24m\u001b[39m\n",
      "  [19] \u001b[0m\u001b[1mmacro expansion\u001b[22m\n",
      "\u001b[90m     @\u001b[39m \u001b[90m~/.julia/packages/Match/XemzX/src/\u001b[39m\u001b[90m\u001b[4mmatchmacro.jl:408\u001b[24m\u001b[39m\u001b[90m [inlined]\u001b[39m\n",
      "  [20] \u001b[0m\u001b[1mmacro expansion\u001b[22m\n",
      "\u001b[90m     @\u001b[39m \u001b[90m~/code/Surreal.jl/src2/SurrealExpression/\u001b[39m\u001b[90m\u001b[4mlimits.jl:133\u001b[24m\u001b[39m\u001b[90m [inlined]\u001b[39m\n",
      "  [21] \u001b[0m\u001b[1mmacro expansion\u001b[22m\n",
      "\u001b[90m     @\u001b[39m \u001b[90m~/.julia/packages/Match/XemzX/src/\u001b[39m\u001b[90m\u001b[4mmatchmacro.jl:410\u001b[24m\u001b[39m\u001b[90m [inlined]\u001b[39m\n",
      "  [22] \u001b[0m\u001b[1mmacro expansion\u001b[22m\n",
      "\u001b[90m     @\u001b[39m \u001b[90m~/code/Surreal.jl/src2/SurrealExpression/\u001b[39m\u001b[90m\u001b[4mlimits.jl:132\u001b[24m\u001b[39m\u001b[90m [inlined]\u001b[39m\n",
      "  [23] \u001b[0m\u001b[1mmacro expansion\u001b[22m\n",
      "\u001b[90m     @\u001b[39m \u001b[90m~/.julia/packages/Match/XemzX/src/\u001b[39m\u001b[90m\u001b[4mmatchmacro.jl:410\u001b[24m\u001b[39m\u001b[90m [inlined]\u001b[39m\n",
      "  [24] \u001b[0m\u001b[1mmacro expansion\u001b[22m\n",
      "\u001b[90m     @\u001b[39m \u001b[90m~/code/Surreal.jl/src2/SurrealExpression/\u001b[39m\u001b[90m\u001b[4mlimits.jl:131\u001b[24m\u001b[39m\u001b[90m [inlined]\u001b[39m\n",
      "  [25] \u001b[0m\u001b[1mmacro expansion\u001b[22m\n",
      "\u001b[90m     @\u001b[39m \u001b[90m~/.julia/packages/Match/XemzX/src/\u001b[39m\u001b[90m\u001b[4mmatchmacro.jl:410\u001b[24m\u001b[39m\u001b[90m [inlined]\u001b[39m\n",
      "  [26] \u001b[0m\u001b[1mmacro expansion\u001b[22m\n",
      "\u001b[90m     @\u001b[39m \u001b[90m~/code/Surreal.jl/src2/SurrealExpression/\u001b[39m\u001b[90m\u001b[4mlimits.jl:119\u001b[24m\u001b[39m\u001b[90m [inlined]\u001b[39m\n",
      "  [27] \u001b[0m\u001b[1mmacro expansion\u001b[22m\n",
      "\u001b[90m     @\u001b[39m \u001b[90m~/.julia/packages/Match/XemzX/src/\u001b[39m\u001b[90m\u001b[4mmatchmacro.jl:410\u001b[24m\u001b[39m\u001b[90m [inlined]\u001b[39m\n",
      "  [28] \u001b[0m\u001b[1mallPositive\u001b[22m\u001b[0m\u001b[1m(\u001b[22m\u001b[90me\u001b[39m::\u001b[0mSymbolicUtils.BasicSymbolic\u001b[90m{SurrealExpression}\u001b[39m\u001b[0m\u001b[1m)\u001b[22m\n",
      "\u001b[90m     @\u001b[39m \u001b[35mMain\u001b[39m \u001b[90m~/code/Surreal.jl/src2/SurrealExpression/\u001b[39m\u001b[90m\u001b[4mlimits.jl:106\u001b[24m\u001b[39m\n",
      "  [29] \u001b[0m\u001b[1m(::var\"#13100#13135\")\u001b[22m\u001b[0m\u001b[1m(\u001b[22m\u001b[90m__MATCHES__\u001b[39m::\u001b[0mBase.ImmutableDict\u001b[90m{Symbol, Any}\u001b[39m\u001b[0m\u001b[1m)\u001b[22m\n",
      "\u001b[90m     @\u001b[39m \u001b[35mMain\u001b[39m \u001b[90m~/.julia/packages/SymbolicUtils/H684H/src/\u001b[39m\u001b[90m\u001b[4mrule.jl:318\u001b[24m\u001b[39m\n",
      "  [30] \u001b[0m\u001b[1mmacro expansion\u001b[22m\n",
      "\u001b[90m     @\u001b[39m \u001b[90m~/.julia/packages/SymbolicUtils/H684H/src/\u001b[39m\u001b[90m\u001b[4mutils.jl:11\u001b[24m\u001b[39m\u001b[90m [inlined]\u001b[39m\n",
      "  [31] \u001b[0m\u001b[1m(::SymbolicUtils.var\"#success#85\"{var\"#13100#13135\"})\u001b[22m\u001b[0m\u001b[1m(\u001b[22m\u001b[90mbindings\u001b[39m::\u001b[0mBase.ImmutableDict\u001b[90m{Symbol, Any}\u001b[39m, \u001b[90mn\u001b[39m::\u001b[0mInt64\u001b[0m\u001b[1m)\u001b[22m\n",
      "\u001b[90m     @\u001b[39m \u001b[36mSymbolicUtils\u001b[39m \u001b[90m~/.julia/packages/SymbolicUtils/H684H/src/\u001b[39m\u001b[90m\u001b[4mrule.jl:142\u001b[24m\u001b[39m\n",
      "  [32] \u001b[0m\u001b[1m(::SymbolicUtils.var\"#loop#99\"{SymbolicUtils.var\"#success#85\"{var\"#13100#13135\"}})\u001b[22m\u001b[0m\u001b[1m(\u001b[22m\u001b[90mterm\u001b[39m::\u001b[0mSymbolicUtils.LL\u001b[90m{Vector{Any}}\u001b[39m, \u001b[90mbindings′\u001b[39m::\u001b[0mBase.ImmutableDict\u001b[90m{Symbol, Any}\u001b[39m, \u001b[90mmatchers′\u001b[39m::\u001b[0mSymbolicUtils.LL\u001b[90m{Tuple{SymbolicUtils.var\"#literal_matcher#94\"{SymbolicUtils.BasicSymbolic{SymbolicUtils.FnType{Tuple{SurrealExpression}, Bool}}}, SymbolicUtils.var\"#slot_matcher#95\"{SymbolicUtils.Slot{typeof(SymbolicUtils.alwaystrue)}}}}\u001b[39m\u001b[0m\u001b[1m)\u001b[22m\n",
      "\u001b[90m     @\u001b[39m \u001b[36mSymbolicUtils\u001b[39m \u001b[90m~/.julia/packages/SymbolicUtils/H684H/src/\u001b[39m\u001b[90m\u001b[4mmatchers.jl:97\u001b[24m\u001b[39m\n",
      "  [33] \u001b[0m\u001b[1m(::SymbolicUtils.var\"#97#100\"{SymbolicUtils.LL{Vector{Any}}, SymbolicUtils.LL{Tuple{SymbolicUtils.var\"#literal_matcher#94\"{SymbolicUtils.BasicSymbolic{SymbolicUtils.FnType{Tuple{SurrealExpression}, Bool}}}, SymbolicUtils.var\"#slot_matcher#95\"{SymbolicUtils.Slot{typeof(SymbolicUtils.alwaystrue)}}}}})\u001b[22m\u001b[0m\u001b[1m(\u001b[22m\u001b[90mb\u001b[39m::\u001b[0mBase.ImmutableDict\u001b[90m{Symbol, Any}\u001b[39m, \u001b[90mn\u001b[39m::\u001b[0mInt64\u001b[0m\u001b[1m)\u001b[22m\n",
      "\u001b[90m     @\u001b[39m \u001b[36mSymbolicUtils\u001b[39m \u001b[90m~/.julia/packages/SymbolicUtils/H684H/src/\u001b[39m\u001b[90m\u001b[4mmatchers.jl:102\u001b[24m\u001b[39m\n",
      "  [34] \u001b[0m\u001b[1m(::SymbolicUtils.var\"#slot_matcher#95\"{SymbolicUtils.Slot{typeof(SymbolicUtils.alwaystrue)}})\u001b[22m\u001b[0m\u001b[1m(\u001b[22m\u001b[90mnext\u001b[39m::\u001b[0mSymbolicUtils.var\"#97#100\"\u001b[90m{SymbolicUtils.LL{Vector{Any}}, SymbolicUtils.LL{Tuple{SymbolicUtils.var\"#literal_matcher#94\"{SymbolicUtils.BasicSymbolic{SymbolicUtils.FnType{Tuple{SurrealExpression}, Bool}}}, SymbolicUtils.var\"#slot_matcher#95\"{SymbolicUtils.Slot{typeof(SymbolicUtils.alwaystrue)}}}}}\u001b[39m, \u001b[90mdata\u001b[39m::\u001b[0mSymbolicUtils.LL\u001b[90m{Vector{Any}}\u001b[39m, \u001b[90mbindings\u001b[39m::\u001b[0mBase.ImmutableDict\u001b[90m{Symbol, Any}\u001b[39m\u001b[0m\u001b[1m)\u001b[22m\n",
      "\u001b[90m     @\u001b[39m \u001b[36mSymbolicUtils\u001b[39m \u001b[90m~/.julia/packages/SymbolicUtils/H684H/src/\u001b[39m\u001b[90m\u001b[4mmatchers.jl:25\u001b[24m\u001b[39m\n",
      "  [35] \u001b[0m\u001b[1m(::SymbolicUtils.var\"#loop#99\"{SymbolicUtils.var\"#success#85\"{var\"#13100#13135\"}})\u001b[22m\u001b[0m\u001b[1m(\u001b[22m\u001b[90mterm\u001b[39m::\u001b[0mSymbolicUtils.LL\u001b[90m{Vector{Any}}\u001b[39m, \u001b[90mbindings′\u001b[39m::\u001b[0mBase.ImmutableDict\u001b[90m{Symbol, Any}\u001b[39m, \u001b[90mmatchers′\u001b[39m::\u001b[0mSymbolicUtils.LL\u001b[90m{Tuple{SymbolicUtils.var\"#literal_matcher#94\"{SymbolicUtils.BasicSymbolic{SymbolicUtils.FnType{Tuple{SurrealExpression}, Bool}}}, SymbolicUtils.var\"#slot_matcher#95\"{SymbolicUtils.Slot{typeof(SymbolicUtils.alwaystrue)}}}}\u001b[39m\u001b[0m\u001b[1m)\u001b[22m\n",
      "\u001b[90m     @\u001b[39m \u001b[36mSymbolicUtils\u001b[39m \u001b[90m~/.julia/packages/SymbolicUtils/H684H/src/\u001b[39m\u001b[90m\u001b[4mmatchers.jl:101\u001b[24m\u001b[39m\n",
      "  [36] \u001b[0m\u001b[1m(::SymbolicUtils.var\"#97#100\"{SymbolicUtils.BasicSymbolic{Bool}, Tuple{SymbolicUtils.var\"#literal_matcher#94\"{SymbolicUtils.BasicSymbolic{SymbolicUtils.FnType{Tuple{SurrealExpression}, Bool}}}, SymbolicUtils.var\"#slot_matcher#95\"{SymbolicUtils.Slot{typeof(SymbolicUtils.alwaystrue)}}}})\u001b[22m\u001b[0m\u001b[1m(\u001b[22m\u001b[90mb\u001b[39m::\u001b[0mBase.ImmutableDict\u001b[90m{Symbol, Any}\u001b[39m, \u001b[90mn\u001b[39m::\u001b[0mInt64\u001b[0m\u001b[1m)\u001b[22m\n",
      "\u001b[90m     @\u001b[39m \u001b[36mSymbolicUtils\u001b[39m \u001b[90m~/.julia/packages/SymbolicUtils/H684H/src/\u001b[39m\u001b[90m\u001b[4mmatchers.jl:102\u001b[24m\u001b[39m\n",
      "  [37] \u001b[0m\u001b[1m(::SymbolicUtils.var\"#literal_matcher#94\"{SymbolicUtils.BasicSymbolic{SymbolicUtils.FnType{Tuple{SurrealExpression}, Bool}}})\u001b[22m\u001b[0m\u001b[1m(\u001b[22m\u001b[90mnext\u001b[39m::\u001b[0mSymbolicUtils.var\"#97#100\"\u001b[90m{SymbolicUtils.BasicSymbolic{Bool}, Tuple{SymbolicUtils.var\"#literal_matcher#94\"{SymbolicUtils.BasicSymbolic{SymbolicUtils.FnType{Tuple{SurrealExpression}, Bool}}}, SymbolicUtils.var\"#slot_matcher#95\"{SymbolicUtils.Slot{typeof(SymbolicUtils.alwaystrue)}}}}\u001b[39m, \u001b[90mdata\u001b[39m::\u001b[0mSymbolicUtils.BasicSymbolic\u001b[90m{Bool}\u001b[39m, \u001b[90mbindings\u001b[39m::\u001b[0mBase.ImmutableDict\u001b[90m{Symbol, Any}\u001b[39m\u001b[0m\u001b[1m)\u001b[22m\n",
      "\u001b[90m     @\u001b[39m \u001b[36mSymbolicUtils\u001b[39m \u001b[90m~/.julia/packages/SymbolicUtils/H684H/src/\u001b[39m\u001b[90m\u001b[4mmatchers.jl:11\u001b[24m\u001b[39m\n",
      "  [38] \u001b[0m\u001b[1m(::SymbolicUtils.var\"#loop#99\"{SymbolicUtils.var\"#success#85\"{var\"#13100#13135\"}})\u001b[22m\u001b[0m\u001b[1m(\u001b[22m\u001b[90mterm\u001b[39m::\u001b[0mSymbolicUtils.BasicSymbolic\u001b[90m{Bool}\u001b[39m, \u001b[90mbindings′\u001b[39m::\u001b[0mBase.ImmutableDict\u001b[90m{Symbol, Any}\u001b[39m, \u001b[90mmatchers′\u001b[39m::\u001b[0mTuple\u001b[90m{SymbolicUtils.var\"#literal_matcher#94\"{SymbolicUtils.BasicSymbolic{SymbolicUtils.FnType{Tuple{SurrealExpression}, Bool}}}, SymbolicUtils.var\"#slot_matcher#95\"{SymbolicUtils.Slot{typeof(SymbolicUtils.alwaystrue)}}}\u001b[39m\u001b[0m\u001b[1m)\u001b[22m\n",
      "\u001b[90m     @\u001b[39m \u001b[36mSymbolicUtils\u001b[39m \u001b[90m~/.julia/packages/SymbolicUtils/H684H/src/\u001b[39m\u001b[90m\u001b[4mmatchers.jl:101\u001b[24m\u001b[39m\n"
     ]
    },
    {
     "name": "stdout",
     "output_type": "stream",
     "text": [
      "  [39] \u001b[0m\u001b[1m(::SymbolicUtils.var\"#term_matcher#98\"{Tuple{SymbolicUtils.var\"#literal_matcher#94\"{SymbolicUtils.BasicSymbolic{SymbolicUtils.FnType{Tuple{SurrealExpression}, Bool}}}, SymbolicUtils.var\"#slot_matcher#95\"{SymbolicUtils.Slot{typeof(SymbolicUtils.alwaystrue)}}}})\u001b[22m\u001b[0m\u001b[1m(\u001b[22m\u001b[90msuccess\u001b[39m::\u001b[0mSymbolicUtils.var\"#success#85\"\u001b[90m{var\"#13100#13135\"}\u001b[39m, \u001b[90mdata\u001b[39m::\u001b[0mTuple\u001b[90m{SymbolicUtils.BasicSymbolic{Bool}}\u001b[39m, \u001b[90mbindings\u001b[39m::\u001b[0mBase.ImmutableDict\u001b[90m{Symbol, Any}\u001b[39m\u001b[0m\u001b[1m)\u001b[22m\n",
      "\u001b[90m     @\u001b[39m \u001b[36mSymbolicUtils\u001b[39m \u001b[90m~/.julia/packages/SymbolicUtils/H684H/src/\u001b[39m\u001b[90m\u001b[4mmatchers.jl:106\u001b[24m\u001b[39m\n",
      "  [40] \u001b[0m\u001b[1m(::SymbolicUtils.Rule{SymbolicUtils.BasicSymbolic{Any}, SymbolicUtils.var\"#term_matcher#98\"{Tuple{SymbolicUtils.var\"#literal_matcher#94\"{SymbolicUtils.BasicSymbolic{SymbolicUtils.FnType{Tuple{SurrealExpression}, Bool}}}, SymbolicUtils.var\"#slot_matcher#95\"{SymbolicUtils.Slot{typeof(SymbolicUtils.alwaystrue)}}}}, var\"#13100#13135\"})\u001b[22m\u001b[0m\u001b[1m(\u001b[22m\u001b[90mterm\u001b[39m::\u001b[0mSymbolicUtils.BasicSymbolic\u001b[90m{Bool}\u001b[39m\u001b[0m\u001b[1m)\u001b[22m\n",
      "\u001b[90m     @\u001b[39m \u001b[36mSymbolicUtils\u001b[39m \u001b[90m~/.julia/packages/SymbolicUtils/H684H/src/\u001b[39m\u001b[90m\u001b[4mrule.jl:143\u001b[24m\u001b[39m\n",
      "  [41] \u001b[0m\u001b[1mmacro expansion\u001b[22m\n",
      "\u001b[90m     @\u001b[39m \u001b[90m~/.julia/packages/SymbolicUtils/H684H/src/\u001b[39m\u001b[90m\u001b[4mutils.jl:11\u001b[24m\u001b[39m\u001b[90m [inlined]\u001b[39m\n",
      "  [42] \u001b[0m\u001b[1m(::SymbolicUtils.Rewriters.RestartedChain{Vector{SymbolicUtils.Rule}})\u001b[22m\u001b[0m\u001b[1m(\u001b[22m\u001b[90mx\u001b[39m::\u001b[0mSymbolicUtils.BasicSymbolic\u001b[90m{Bool}\u001b[39m\u001b[0m\u001b[1m)\u001b[22m\n",
      "\u001b[90m     @\u001b[39m \u001b[36mSymbolicUtils.Rewriters\u001b[39m \u001b[90m~/.julia/packages/SymbolicUtils/H684H/src/\u001b[39m\u001b[90m\u001b[4mrewriters.jl:87\u001b[24m\u001b[39m\n",
      "  [43] \u001b[0m\u001b[1m(::SymbolicUtils.Rewriters.Walk{:pre, SymbolicUtils.Rewriters.RestartedChain{Vector{SymbolicUtils.Rule}}, typeof(SymbolicUtils.similarterm), false})\u001b[22m\u001b[0m\u001b[1m(\u001b[22m\u001b[90mx\u001b[39m::\u001b[0mSymbolicUtils.BasicSymbolic\u001b[90m{Bool}\u001b[39m\u001b[0m\u001b[1m)\u001b[22m\n",
      "\u001b[90m     @\u001b[39m \u001b[36mSymbolicUtils.Rewriters\u001b[39m \u001b[90m~/.julia/packages/SymbolicUtils/H684H/src/\u001b[39m\u001b[90m\u001b[4mrewriters.jl:0\u001b[24m\u001b[39m\n",
      "  [44] \u001b[0m\u001b[1mmacro expansion\u001b[22m\n",
      "\u001b[90m     @\u001b[39m \u001b[90m~/.julia/packages/SymbolicUtils/H684H/src/\u001b[39m\u001b[90m\u001b[4mutils.jl:11\u001b[24m\u001b[39m\u001b[90m [inlined]\u001b[39m\n",
      "  [45] \u001b[0m\u001b[1m(::SymbolicUtils.Rewriters.Fixpoint{SymbolicUtils.Rewriters.Walk{:pre, SymbolicUtils.Rewriters.RestartedChain{Vector{SymbolicUtils.Rule}}, typeof(SymbolicUtils.similarterm), false}})\u001b[22m\u001b[0m\u001b[1m(\u001b[22m\u001b[90mx\u001b[39m::\u001b[0mSymbolicUtils.BasicSymbolic\u001b[90m{Bool}\u001b[39m\u001b[0m\u001b[1m)\u001b[22m\n",
      "\u001b[90m     @\u001b[39m \u001b[36mSymbolicUtils.Rewriters\u001b[39m \u001b[90m~/.julia/packages/SymbolicUtils/H684H/src/\u001b[39m\u001b[90m\u001b[4mrewriters.jl:118\u001b[24m\u001b[39m\n",
      "  [46] \u001b[0m\u001b[1mPassThrough\u001b[22m\n",
      "\u001b[90m     @\u001b[39m \u001b[90m~/.julia/packages/SymbolicUtils/H684H/src/\u001b[39m\u001b[90m\u001b[4mrewriters.jl:188\u001b[24m\u001b[39m\u001b[90m [inlined]\u001b[39m\n",
      "  [47] \u001b[0m\u001b[1msimplify\u001b[22m\u001b[0m\u001b[1m(\u001b[22m\u001b[90mx\u001b[39m::\u001b[0mSymbolicUtils.BasicSymbolic\u001b[90m{Bool}\u001b[39m; \u001b[90mexpand\u001b[39m::\u001b[0mBool, \u001b[90mpolynorm\u001b[39m::\u001b[0mNothing, \u001b[90mthreaded\u001b[39m::\u001b[0mBool, \u001b[90msimplify_fractions\u001b[39m::\u001b[0mBool, \u001b[90mthread_subtree_cutoff\u001b[39m::\u001b[0mInt64, \u001b[90mrewriter\u001b[39m::\u001b[0mSymbolicUtils.Rewriters.Walk\u001b[90m{:pre, SymbolicUtils.Rewriters.RestartedChain{Vector{SymbolicUtils.Rule}}, typeof(SymbolicUtils.similarterm), false}\u001b[39m\u001b[0m\u001b[1m)\u001b[22m\n",
      "\u001b[90m     @\u001b[39m \u001b[36mSymbolicUtils\u001b[39m \u001b[90m~/.julia/packages/SymbolicUtils/H684H/src/\u001b[39m\u001b[90m\u001b[4msimplify.jl:41\u001b[24m\u001b[39m\n",
      "  [48] \u001b[0m\u001b[1msimplify\u001b[22m\n",
      "\u001b[90m     @\u001b[39m \u001b[90m~/.julia/packages/SymbolicUtils/H684H/src/\u001b[39m\u001b[90m\u001b[4msimplify.jl:16\u001b[24m\u001b[39m\u001b[90m [inlined]\u001b[39m\n",
      "  [49] \u001b[0m\u001b[1m(::var\"#13107#13143\"{Vector{SymbolicUtils.Rule}})\u001b[22m\u001b[0m\u001b[1m(\u001b[22m\u001b[90mx\u001b[39m::\u001b[0mSymbolicUtils.BasicSymbolic\u001b[90m{Bool}\u001b[39m\u001b[0m\u001b[1m)\u001b[22m\n",
      "\u001b[90m     @\u001b[39m \u001b[35mMain\u001b[39m \u001b[90m~/code/Surreal.jl/src2/SurrealExpression/\u001b[39m\u001b[90m\u001b[4mrules.jl:154\u001b[24m\u001b[39m\n",
      "  [50] \u001b[0m\u001b[1m<\u001b[22m\u001b[0m\u001b[1m(\u001b[22m\u001b[90mx\u001b[39m::\u001b[0mSymbolicUtils.BasicSymbolic\u001b[90m{SurrealExpression}\u001b[39m, \u001b[90my\u001b[39m::\u001b[0mSurreal\u001b[0m\u001b[1m)\u001b[22m\n",
      "\u001b[90m     @\u001b[39m \u001b[35mMain\u001b[39m \u001b[90m~/code/Surreal.jl/src2/SurrealExpression/\u001b[39m\u001b[90m\u001b[4msyms.jl:251\u001b[24m\u001b[39m\n",
      "  [51] \u001b[0m\u001b[1m<\u001b[22m\u001b[0m\u001b[1m(\u001b[22m\u001b[90mx\u001b[39m::\u001b[0mCountedSurrealSet, \u001b[90my\u001b[39m::\u001b[0mSurreal\u001b[0m\u001b[1m)\u001b[22m\n",
      "\u001b[90m     @\u001b[39m \u001b[35mMain\u001b[39m \u001b[90m~/code/Surreal.jl/src2/\u001b[39m\u001b[90m\u001b[4msurreal_counted.jl:15\u001b[24m\u001b[39m\n",
      "  [52] \u001b[0m\u001b[1m<=\u001b[22m\u001b[0m\u001b[1m(\u001b[22m\u001b[90mx\u001b[39m::\u001b[0mSurreal, \u001b[90my\u001b[39m::\u001b[0mSurreal\u001b[0m\u001b[1m)\u001b[22m\n",
      "\u001b[90m     @\u001b[39m \u001b[35mMain\u001b[39m \u001b[90m~/code/Surreal.jl/src2/\u001b[39m\u001b[90m\u001b[4msurreal.jl:17\u001b[24m\u001b[39m\n",
      "  [53] \u001b[0m\u001b[1m<\u001b[22m\u001b[0m\u001b[1m(\u001b[22m\u001b[90mx\u001b[39m::\u001b[0mSurreal, \u001b[90my\u001b[39m::\u001b[0mSurreal\u001b[0m\u001b[1m)\u001b[22m\n",
      "\u001b[90m     @\u001b[39m \u001b[35mMain\u001b[39m \u001b[90m~/code/Surreal.jl/src2/\u001b[39m\u001b[90m\u001b[4msurreal.jl:19\u001b[24m\u001b[39m\n",
      "  [54] \u001b[0m\u001b[1m>\u001b[22m\n",
      "\u001b[90m     @\u001b[39m \u001b[90m~/code/Surreal.jl/src2/\u001b[39m\u001b[90m\u001b[4msurreal.jl:21\u001b[24m\u001b[39m\u001b[90m [inlined]\u001b[39m\n",
      "  [55] \u001b[0m\u001b[1misPositive\u001b[22m\n",
      "\u001b[90m     @\u001b[39m \u001b[90m~/code/Surreal.jl/src2/\u001b[39m\u001b[90m\u001b[4msurreal.jl:187\u001b[24m\u001b[39m\u001b[90m [inlined]\u001b[39m\n",
      "  [56] \u001b[0m\u001b[1mallPositive\u001b[22m\n",
      "\u001b[90m     @\u001b[39m \u001b[90m~/code/Surreal.jl/src2/\u001b[39m\u001b[90m\u001b[4msurreal.jl:206\u001b[24m\u001b[39m\u001b[90m [inlined]\u001b[39m\n",
      "  [57] \u001b[0m\u001b[1m_all\u001b[22m\u001b[0m\u001b[1m(\u001b[22m\u001b[90mf\u001b[39m::\u001b[0mtypeof(allPositive), \u001b[90mitr\u001b[39m::\u001b[0mVector\u001b[90m{Any}\u001b[39m, \u001b[90m#unused#\u001b[39m::\u001b[0mColon\u001b[0m\u001b[1m)\u001b[22m\n",
      "\u001b[90m     @\u001b[39m \u001b[90mBase\u001b[39m \u001b[90m./\u001b[39m\u001b[90m\u001b[4mreduce.jl:1283\u001b[24m\u001b[39m\n",
      "  [58] \u001b[0m\u001b[1mall\u001b[22m\u001b[0m\u001b[1m(\u001b[22m\u001b[90mf\u001b[39m::\u001b[0mFunction, \u001b[90ma\u001b[39m::\u001b[0mVector\u001b[90m{Any}\u001b[39m; \u001b[90mdims\u001b[39m::\u001b[0mFunction\u001b[0m\u001b[1m)\u001b[22m\n",
      "\u001b[90m     @\u001b[39m \u001b[90mBase\u001b[39m \u001b[90m./\u001b[39m\u001b[90m\u001b[4mreducedim.jl:1007\u001b[24m\u001b[39m\n",
      "  [59] \u001b[0m\u001b[1mall\u001b[22m\n",
      "\u001b[90m     @\u001b[39m \u001b[90m./\u001b[39m\u001b[90m\u001b[4mreducedim.jl:1007\u001b[24m\u001b[39m\u001b[90m [inlined]\u001b[39m\n",
      "  [60] \u001b[0m\u001b[1mmacro expansion\u001b[22m\n",
      "\u001b[90m     @\u001b[39m \u001b[90m~/code/Surreal.jl/src2/SurrealExpression/\u001b[39m\u001b[90m\u001b[4mlimits.jl:112\u001b[24m\u001b[39m\u001b[90m [inlined]\u001b[39m\n",
      "  [61] \u001b[0m\u001b[1mmacro expansion\u001b[22m\n",
      "\u001b[90m     @\u001b[39m \u001b[90m~/.julia/packages/Match/XemzX/src/\u001b[39m\u001b[90m\u001b[4mmatchmacro.jl:408\u001b[24m\u001b[39m\u001b[90m [inlined]\u001b[39m\n",
      "  [62] \u001b[0m\u001b[1mallPositive\u001b[22m\u001b[0m\u001b[1m(\u001b[22m\u001b[90me\u001b[39m::\u001b[0mSymbolicUtils.BasicSymbolic\u001b[90m{SurrealExpression}\u001b[39m\u001b[0m\u001b[1m)\u001b[22m\n",
      "\u001b[90m     @\u001b[39m \u001b[35mMain\u001b[39m \u001b[90m~/code/Surreal.jl/src2/SurrealExpression/\u001b[39m\u001b[90m\u001b[4mlimits.jl:106\u001b[24m\u001b[39m\n",
      "  [63] \u001b[0m\u001b[1mmacro expansion\u001b[22m\n",
      "\u001b[90m     @\u001b[39m \u001b[90m~/.julia/packages/Match/XemzX/src/\u001b[39m\u001b[90m\u001b[4mmatchmacro.jl:408\u001b[24m\u001b[39m\u001b[90m [inlined]\u001b[39m\n",
      "  [64] \u001b[0m\u001b[1mmacro expansion\u001b[22m\n",
      "\u001b[90m     @\u001b[39m \u001b[90m~/code/Surreal.jl/src2/SurrealExpression/\u001b[39m\u001b[90m\u001b[4mlimits.jl:133\u001b[24m\u001b[39m\u001b[90m [inlined]\u001b[39m\n",
      "  [65] \u001b[0m\u001b[1mmacro expansion\u001b[22m\n",
      "\u001b[90m     @\u001b[39m \u001b[90m~/.julia/packages/Match/XemzX/src/\u001b[39m\u001b[90m\u001b[4mmatchmacro.jl:410\u001b[24m\u001b[39m\u001b[90m [inlined]\u001b[39m\n",
      "  [66] \u001b[0m\u001b[1mmacro expansion\u001b[22m\n",
      "\u001b[90m     @\u001b[39m \u001b[90m~/code/Surreal.jl/src2/SurrealExpression/\u001b[39m\u001b[90m\u001b[4mlimits.jl:132\u001b[24m\u001b[39m\u001b[90m [inlined]\u001b[39m\n",
      "  [67] \u001b[0m\u001b[1mmacro expansion\u001b[22m\n",
      "\u001b[90m     @\u001b[39m \u001b[90m~/.julia/packages/Match/XemzX/src/\u001b[39m\u001b[90m\u001b[4mmatchmacro.jl:410\u001b[24m\u001b[39m\u001b[90m [inlined]\u001b[39m\n",
      "  [68] \u001b[0m\u001b[1mmacro expansion\u001b[22m\n",
      "\u001b[90m     @\u001b[39m \u001b[90m~/code/Surreal.jl/src2/SurrealExpression/\u001b[39m\u001b[90m\u001b[4mlimits.jl:131\u001b[24m\u001b[39m\u001b[90m [inlined]\u001b[39m\n",
      "  [69] \u001b[0m\u001b[1mmacro expansion\u001b[22m\n",
      "\u001b[90m     @\u001b[39m \u001b[90m~/.julia/packages/Match/XemzX/src/\u001b[39m\u001b[90m\u001b[4mmatchmacro.jl:410\u001b[24m\u001b[39m\u001b[90m [inlined]\u001b[39m\n",
      "  [70] \u001b[0m\u001b[1mmacro expansion\u001b[22m\n",
      "\u001b[90m     @\u001b[39m \u001b[90m~/code/Surreal.jl/src2/SurrealExpression/\u001b[39m\u001b[90m\u001b[4mlimits.jl:119\u001b[24m\u001b[39m\u001b[90m [inlined]\u001b[39m\n",
      "  [71] \u001b[0m\u001b[1mmacro expansion\u001b[22m\n",
      "\u001b[90m     @\u001b[39m \u001b[90m~/.julia/packages/Match/XemzX/src/\u001b[39m\u001b[90m\u001b[4mmatchmacro.jl:410\u001b[24m\u001b[39m\u001b[90m [inlined]\u001b[39m\n",
      "  [72] \u001b[0m\u001b[1mallPositive\u001b[22m\u001b[0m\u001b[1m(\u001b[22m\u001b[90me\u001b[39m::\u001b[0mSymbolicUtils.BasicSymbolic\u001b[90m{SurrealExpression}\u001b[39m\u001b[0m\u001b[1m)\u001b[22m\n",
      "\u001b[90m     @\u001b[39m \u001b[35mMain\u001b[39m \u001b[90m~/code/Surreal.jl/src2/SurrealExpression/\u001b[39m\u001b[90m\u001b[4mlimits.jl:106\u001b[24m\u001b[39m\n",
      "  [73] \u001b[0m\u001b[1m(::var\"#13100#13135\")\u001b[22m\u001b[0m\u001b[1m(\u001b[22m\u001b[90m__MATCHES__\u001b[39m::\u001b[0mBase.ImmutableDict\u001b[90m{Symbol, Any}\u001b[39m\u001b[0m\u001b[1m)\u001b[22m\n",
      "\u001b[90m     @\u001b[39m \u001b[35mMain\u001b[39m \u001b[90m~/.julia/packages/SymbolicUtils/H684H/src/\u001b[39m\u001b[90m\u001b[4mrule.jl:318\u001b[24m\u001b[39m\n",
      "  [74] \u001b[0m\u001b[1mmacro expansion\u001b[22m\n",
      "\u001b[90m     @\u001b[39m \u001b[90m~/.julia/packages/SymbolicUtils/H684H/src/\u001b[39m\u001b[90m\u001b[4mutils.jl:11\u001b[24m\u001b[39m\u001b[90m [inlined]\u001b[39m\n",
      "  [75] \u001b[0m\u001b[1m(::SymbolicUtils.var\"#success#85\"{var\"#13100#13135\"})\u001b[22m\u001b[0m\u001b[1m(\u001b[22m\u001b[90mbindings\u001b[39m::\u001b[0mBase.ImmutableDict\u001b[90m{Symbol, Any}\u001b[39m, \u001b[90mn\u001b[39m::\u001b[0mInt64\u001b[0m\u001b[1m)\u001b[22m\n",
      "\u001b[90m     @\u001b[39m \u001b[36mSymbolicUtils\u001b[39m \u001b[90m~/.julia/packages/SymbolicUtils/H684H/src/\u001b[39m\u001b[90m\u001b[4mrule.jl:142\u001b[24m\u001b[39m\n",
      "  [76] \u001b[0m\u001b[1m(::SymbolicUtils.var\"#loop#99\"{SymbolicUtils.var\"#success#85\"{var\"#13100#13135\"}})\u001b[22m\u001b[0m\u001b[1m(\u001b[22m\u001b[90mterm\u001b[39m::\u001b[0mSymbolicUtils.LL\u001b[90m{Vector{Any}}\u001b[39m, \u001b[90mbindings′\u001b[39m::\u001b[0mBase.ImmutableDict\u001b[90m{Symbol, Any}\u001b[39m, \u001b[90mmatchers′\u001b[39m::\u001b[0mSymbolicUtils.LL\u001b[90m{Tuple{SymbolicUtils.var\"#literal_matcher#94\"{SymbolicUtils.BasicSymbolic{SymbolicUtils.FnType{Tuple{SurrealExpression}, Bool}}}, SymbolicUtils.var\"#slot_matcher#95\"{SymbolicUtils.Slot{typeof(SymbolicUtils.alwaystrue)}}}}\u001b[39m\u001b[0m\u001b[1m)\u001b[22m\n",
      "\u001b[90m     @\u001b[39m \u001b[36mSymbolicUtils\u001b[39m \u001b[90m~/.julia/packages/SymbolicUtils/H684H/src/\u001b[39m\u001b[90m\u001b[4mmatchers.jl:97\u001b[24m\u001b[39m\n",
      "  [77] \u001b[0m\u001b[1m(::SymbolicUtils.var\"#97#100\"{SymbolicUtils.LL{Vector{Any}}, SymbolicUtils.LL{Tuple{SymbolicUtils.var\"#literal_matcher#94\"{SymbolicUtils.BasicSymbolic{SymbolicUtils.FnType{Tuple{SurrealExpression}, Bool}}}, SymbolicUtils.var\"#slot_matcher#95\"{SymbolicUtils.Slot{typeof(SymbolicUtils.alwaystrue)}}}}})\u001b[22m\u001b[0m\u001b[1m(\u001b[22m\u001b[90mb\u001b[39m::\u001b[0mBase.ImmutableDict\u001b[90m{Symbol, Any}\u001b[39m, \u001b[90mn\u001b[39m::\u001b[0mInt64\u001b[0m\u001b[1m)\u001b[22m\n",
      "\u001b[90m     @\u001b[39m \u001b[36mSymbolicUtils\u001b[39m \u001b[90m~/.julia/packages/SymbolicUtils/H684H/src/\u001b[39m\u001b[90m\u001b[4mmatchers.jl:102\u001b[24m\u001b[39m\n",
      "  [78] \u001b[0m\u001b[1m(::SymbolicUtils.var\"#slot_matcher#95\"{SymbolicUtils.Slot{typeof(SymbolicUtils.alwaystrue)}})\u001b[22m\u001b[0m\u001b[1m(\u001b[22m\u001b[90mnext\u001b[39m::\u001b[0mSymbolicUtils.var\"#97#100\"\u001b[90m{SymbolicUtils.LL{Vector{Any}}, SymbolicUtils.LL{Tuple{SymbolicUtils.var\"#literal_matcher#94\"{SymbolicUtils.BasicSymbolic{SymbolicUtils.FnType{Tuple{SurrealExpression}, Bool}}}, SymbolicUtils.var\"#slot_matcher#95\"{SymbolicUtils.Slot{typeof(SymbolicUtils.alwaystrue)}}}}}\u001b[39m, \u001b[90mdata\u001b[39m::\u001b[0mSymbolicUtils.LL\u001b[90m{Vector{Any}}\u001b[39m, \u001b[90mbindings\u001b[39m::\u001b[0mBase.ImmutableDict\u001b[90m{Symbol, Any}\u001b[39m\u001b[0m\u001b[1m)\u001b[22m\n"
     ]
    },
    {
     "name": "stdout",
     "output_type": "stream",
     "text": [
      "\u001b[90m     @\u001b[39m \u001b[36mSymbolicUtils\u001b[39m \u001b[90m~/.julia/packages/SymbolicUtils/H684H/src/\u001b[39m\u001b[90m\u001b[4mmatchers.jl:25\u001b[24m\u001b[39m\n",
      "  [79] \u001b[0m\u001b[1m(::SymbolicUtils.var\"#loop#99\"{SymbolicUtils.var\"#success#85\"{var\"#13100#13135\"}})\u001b[22m\u001b[0m\u001b[1m(\u001b[22m\u001b[90mterm\u001b[39m::\u001b[0mSymbolicUtils.LL\u001b[90m{Vector{Any}}\u001b[39m, \u001b[90mbindings′\u001b[39m::\u001b[0mBase.ImmutableDict\u001b[90m{Symbol, Any}\u001b[39m, \u001b[90mmatchers′\u001b[39m::\u001b[0mSymbolicUtils.LL\u001b[90m{Tuple{SymbolicUtils.var\"#literal_matcher#94\"{SymbolicUtils.BasicSymbolic{SymbolicUtils.FnType{Tuple{SurrealExpression}, Bool}}}, SymbolicUtils.var\"#slot_matcher#95\"{SymbolicUtils.Slot{typeof(SymbolicUtils.alwaystrue)}}}}\u001b[39m\u001b[0m\u001b[1m)\u001b[22m\n",
      "\u001b[90m     @\u001b[39m \u001b[36mSymbolicUtils\u001b[39m \u001b[90m~/.julia/packages/SymbolicUtils/H684H/src/\u001b[39m\u001b[90m\u001b[4mmatchers.jl:101\u001b[24m\u001b[39m\n",
      "  [80] \u001b[0m\u001b[1m(::SymbolicUtils.var\"#97#100\"{SymbolicUtils.BasicSymbolic{Bool}, Tuple{SymbolicUtils.var\"#literal_matcher#94\"{SymbolicUtils.BasicSymbolic{SymbolicUtils.FnType{Tuple{SurrealExpression}, Bool}}}, SymbolicUtils.var\"#slot_matcher#95\"{SymbolicUtils.Slot{typeof(SymbolicUtils.alwaystrue)}}}})\u001b[22m\u001b[0m\u001b[1m(\u001b[22m\u001b[90mb\u001b[39m::\u001b[0mBase.ImmutableDict\u001b[90m{Symbol, Any}\u001b[39m, \u001b[90mn\u001b[39m::\u001b[0mInt64\u001b[0m\u001b[1m)\u001b[22m\n",
      "\u001b[90m     @\u001b[39m \u001b[36mSymbolicUtils\u001b[39m \u001b[90m~/.julia/packages/SymbolicUtils/H684H/src/\u001b[39m\u001b[90m\u001b[4mmatchers.jl:102\u001b[24m\u001b[39m\n",
      "  [81] \u001b[0m\u001b[1m(::SymbolicUtils.var\"#literal_matcher#94\"{SymbolicUtils.BasicSymbolic{SymbolicUtils.FnType{Tuple{SurrealExpression}, Bool}}})\u001b[22m\u001b[0m\u001b[1m(\u001b[22m\u001b[90mnext\u001b[39m::\u001b[0mSymbolicUtils.var\"#97#100\"\u001b[90m{SymbolicUtils.BasicSymbolic{Bool}, Tuple{SymbolicUtils.var\"#literal_matcher#94\"{SymbolicUtils.BasicSymbolic{SymbolicUtils.FnType{Tuple{SurrealExpression}, Bool}}}, SymbolicUtils.var\"#slot_matcher#95\"{SymbolicUtils.Slot{typeof(SymbolicUtils.alwaystrue)}}}}\u001b[39m, \u001b[90mdata\u001b[39m::\u001b[0mSymbolicUtils.BasicSymbolic\u001b[90m{Bool}\u001b[39m, \u001b[90mbindings\u001b[39m::\u001b[0mBase.ImmutableDict\u001b[90m{Symbol, Any}\u001b[39m\u001b[0m\u001b[1m)\u001b[22m\n",
      "\u001b[90m     @\u001b[39m \u001b[36mSymbolicUtils\u001b[39m \u001b[90m~/.julia/packages/SymbolicUtils/H684H/src/\u001b[39m\u001b[90m\u001b[4mmatchers.jl:11\u001b[24m\u001b[39m\n",
      "  [82] \u001b[0m\u001b[1m(::SymbolicUtils.var\"#loop#99\"{SymbolicUtils.var\"#success#85\"{var\"#13100#13135\"}})\u001b[22m\u001b[0m\u001b[1m(\u001b[22m\u001b[90mterm\u001b[39m::\u001b[0mSymbolicUtils.BasicSymbolic\u001b[90m{Bool}\u001b[39m, \u001b[90mbindings′\u001b[39m::\u001b[0mBase.ImmutableDict\u001b[90m{Symbol, Any}\u001b[39m, \u001b[90mmatchers′\u001b[39m::\u001b[0mTuple\u001b[90m{SymbolicUtils.var\"#literal_matcher#94\"{SymbolicUtils.BasicSymbolic{SymbolicUtils.FnType{Tuple{SurrealExpression}, Bool}}}, SymbolicUtils.var\"#slot_matcher#95\"{SymbolicUtils.Slot{typeof(SymbolicUtils.alwaystrue)}}}\u001b[39m\u001b[0m\u001b[1m)\u001b[22m\n",
      "\u001b[90m     @\u001b[39m \u001b[36mSymbolicUtils\u001b[39m \u001b[90m~/.julia/packages/SymbolicUtils/H684H/src/\u001b[39m\u001b[90m\u001b[4mmatchers.jl:101\u001b[24m\u001b[39m\n",
      "  [83] \u001b[0m\u001b[1m(::SymbolicUtils.var\"#term_matcher#98\"{Tuple{SymbolicUtils.var\"#literal_matcher#94\"{SymbolicUtils.BasicSymbolic{SymbolicUtils.FnType{Tuple{SurrealExpression}, Bool}}}, SymbolicUtils.var\"#slot_matcher#95\"{SymbolicUtils.Slot{typeof(SymbolicUtils.alwaystrue)}}}})\u001b[22m\u001b[0m\u001b[1m(\u001b[22m\u001b[90msuccess\u001b[39m::\u001b[0mSymbolicUtils.var\"#success#85\"\u001b[90m{var\"#13100#13135\"}\u001b[39m, \u001b[90mdata\u001b[39m::\u001b[0mTuple\u001b[90m{SymbolicUtils.BasicSymbolic{Bool}}\u001b[39m, \u001b[90mbindings\u001b[39m::\u001b[0mBase.ImmutableDict\u001b[90m{Symbol, Any}\u001b[39m\u001b[0m\u001b[1m)\u001b[22m\n",
      "\u001b[90m     @\u001b[39m \u001b[36mSymbolicUtils\u001b[39m \u001b[90m~/.julia/packages/SymbolicUtils/H684H/src/\u001b[39m\u001b[90m\u001b[4mmatchers.jl:106\u001b[24m\u001b[39m\n",
      "  [84] \u001b[0m\u001b[1m(::SymbolicUtils.Rule{SymbolicUtils.BasicSymbolic{Any}, SymbolicUtils.var\"#term_matcher#98\"{Tuple{SymbolicUtils.var\"#literal_matcher#94\"{SymbolicUtils.BasicSymbolic{SymbolicUtils.FnType{Tuple{SurrealExpression}, Bool}}}, SymbolicUtils.var\"#slot_matcher#95\"{SymbolicUtils.Slot{typeof(SymbolicUtils.alwaystrue)}}}}, var\"#13100#13135\"})\u001b[22m\u001b[0m\u001b[1m(\u001b[22m\u001b[90mterm\u001b[39m::\u001b[0mSymbolicUtils.BasicSymbolic\u001b[90m{Bool}\u001b[39m\u001b[0m\u001b[1m)\u001b[22m\n",
      "\u001b[90m     @\u001b[39m \u001b[36mSymbolicUtils\u001b[39m \u001b[90m~/.julia/packages/SymbolicUtils/H684H/src/\u001b[39m\u001b[90m\u001b[4mrule.jl:143\u001b[24m\u001b[39m\n",
      "  [85] \u001b[0m\u001b[1mmacro expansion\u001b[22m\n",
      "\u001b[90m     @\u001b[39m \u001b[90m~/.julia/packages/SymbolicUtils/H684H/src/\u001b[39m\u001b[90m\u001b[4mutils.jl:11\u001b[24m\u001b[39m\u001b[90m [inlined]\u001b[39m\n",
      "  [86] \u001b[0m\u001b[1m(::SymbolicUtils.Rewriters.RestartedChain{Vector{SymbolicUtils.Rule}})\u001b[22m\u001b[0m\u001b[1m(\u001b[22m\u001b[90mx\u001b[39m::\u001b[0mSymbolicUtils.BasicSymbolic\u001b[90m{Bool}\u001b[39m\u001b[0m\u001b[1m)\u001b[22m\n",
      "\u001b[90m     @\u001b[39m \u001b[36mSymbolicUtils.Rewriters\u001b[39m \u001b[90m~/.julia/packages/SymbolicUtils/H684H/src/\u001b[39m\u001b[90m\u001b[4mrewriters.jl:87\u001b[24m\u001b[39m\n",
      "  [87] \u001b[0m\u001b[1m(::SymbolicUtils.Rewriters.Walk{:pre, SymbolicUtils.Rewriters.RestartedChain{Vector{SymbolicUtils.Rule}}, typeof(SymbolicUtils.similarterm), false})\u001b[22m\u001b[0m\u001b[1m(\u001b[22m\u001b[90mx\u001b[39m::\u001b[0mSymbolicUtils.BasicSymbolic\u001b[90m{Bool}\u001b[39m\u001b[0m\u001b[1m)\u001b[22m\n",
      "\u001b[90m     @\u001b[39m \u001b[36mSymbolicUtils.Rewriters\u001b[39m \u001b[90m~/.julia/packages/SymbolicUtils/H684H/src/\u001b[39m\u001b[90m\u001b[4mrewriters.jl:0\u001b[24m\u001b[39m\n",
      "  [88] \u001b[0m\u001b[1mmacro expansion\u001b[22m\n",
      "\u001b[90m     @\u001b[39m \u001b[90m~/.julia/packages/SymbolicUtils/H684H/src/\u001b[39m\u001b[90m\u001b[4mutils.jl:11\u001b[24m\u001b[39m\u001b[90m [inlined]\u001b[39m\n",
      "  [89] \u001b[0m\u001b[1m(::SymbolicUtils.Rewriters.Fixpoint{SymbolicUtils.Rewriters.Walk{:pre, SymbolicUtils.Rewriters.RestartedChain{Vector{SymbolicUtils.Rule}}, typeof(SymbolicUtils.similarterm), false}})\u001b[22m\u001b[0m\u001b[1m(\u001b[22m\u001b[90mx\u001b[39m::\u001b[0mSymbolicUtils.BasicSymbolic\u001b[90m{Bool}\u001b[39m\u001b[0m\u001b[1m)\u001b[22m\n",
      "\u001b[90m     @\u001b[39m \u001b[36mSymbolicUtils.Rewriters\u001b[39m \u001b[90m~/.julia/packages/SymbolicUtils/H684H/src/\u001b[39m\u001b[90m\u001b[4mrewriters.jl:118\u001b[24m\u001b[39m\n",
      "  [90] \u001b[0m\u001b[1mPassThrough\u001b[22m\n",
      "\u001b[90m     @\u001b[39m \u001b[90m~/.julia/packages/SymbolicUtils/H684H/src/\u001b[39m\u001b[90m\u001b[4mrewriters.jl:188\u001b[24m\u001b[39m\u001b[90m [inlined]\u001b[39m\n",
      "  [91] \u001b[0m\u001b[1msimplify\u001b[22m\u001b[0m\u001b[1m(\u001b[22m\u001b[90mx\u001b[39m::\u001b[0mSymbolicUtils.BasicSymbolic\u001b[90m{Bool}\u001b[39m; \u001b[90mexpand\u001b[39m::\u001b[0mBool, \u001b[90mpolynorm\u001b[39m::\u001b[0mNothing, \u001b[90mthreaded\u001b[39m::\u001b[0mBool, \u001b[90msimplify_fractions\u001b[39m::\u001b[0mBool, \u001b[90mthread_subtree_cutoff\u001b[39m::\u001b[0mInt64, \u001b[90mrewriter\u001b[39m::\u001b[0mSymbolicUtils.Rewriters.Walk\u001b[90m{:pre, SymbolicUtils.Rewriters.RestartedChain{Vector{SymbolicUtils.Rule}}, typeof(SymbolicUtils.similarterm), false}\u001b[39m\u001b[0m\u001b[1m)\u001b[22m\n",
      "\u001b[90m     @\u001b[39m \u001b[36mSymbolicUtils\u001b[39m \u001b[90m~/.julia/packages/SymbolicUtils/H684H/src/\u001b[39m\u001b[90m\u001b[4msimplify.jl:41\u001b[24m\u001b[39m\n",
      "  [92] \u001b[0m\u001b[1msimplify\u001b[22m\n",
      "\u001b[90m     @\u001b[39m \u001b[90m~/.julia/packages/SymbolicUtils/H684H/src/\u001b[39m\u001b[90m\u001b[4msimplify.jl:16\u001b[24m\u001b[39m\u001b[90m [inlined]\u001b[39m\n",
      "  [93] \u001b[0m\u001b[1m(::var\"#13107#13143\"{Vector{SymbolicUtils.Rule}})\u001b[22m\u001b[0m\u001b[1m(\u001b[22m\u001b[90mx\u001b[39m::\u001b[0mSymbolicUtils.BasicSymbolic\u001b[90m{Bool}\u001b[39m\u001b[0m\u001b[1m)\u001b[22m\n",
      "\u001b[90m     @\u001b[39m \u001b[35mMain\u001b[39m \u001b[90m~/code/Surreal.jl/src2/SurrealExpression/\u001b[39m\u001b[90m\u001b[4mrules.jl:154\u001b[24m\u001b[39m\n",
      "  [94] \u001b[0m\u001b[1m<\u001b[22m\u001b[0m\u001b[1m(\u001b[22m\u001b[90mx\u001b[39m::\u001b[0mSymbolicUtils.BasicSymbolic\u001b[90m{SurrealExpression}\u001b[39m, \u001b[90my\u001b[39m::\u001b[0mSurreal\u001b[0m\u001b[1m)\u001b[22m\n",
      "\u001b[90m     @\u001b[39m \u001b[35mMain\u001b[39m \u001b[90m~/code/Surreal.jl/src2/SurrealExpression/\u001b[39m\u001b[90m\u001b[4msyms.jl:251\u001b[24m\u001b[39m\n",
      "  [95] \u001b[0m\u001b[1m<\u001b[22m\u001b[0m\u001b[1m(\u001b[22m\u001b[90mx\u001b[39m::\u001b[0mCountedSurrealSet, \u001b[90my\u001b[39m::\u001b[0mSurreal\u001b[0m\u001b[1m)\u001b[22m\n",
      "\u001b[90m     @\u001b[39m \u001b[35mMain\u001b[39m \u001b[90m~/code/Surreal.jl/src2/\u001b[39m\u001b[90m\u001b[4msurreal_counted.jl:15\u001b[24m\u001b[39m\n",
      "  [96] \u001b[0m\u001b[1m<=\u001b[22m\u001b[0m\u001b[1m(\u001b[22m\u001b[90mx\u001b[39m::\u001b[0mSurreal, \u001b[90my\u001b[39m::\u001b[0mSurreal\u001b[0m\u001b[1m)\u001b[22m\n",
      "\u001b[90m     @\u001b[39m \u001b[35mMain\u001b[39m \u001b[90m~/code/Surreal.jl/src2/\u001b[39m\u001b[90m\u001b[4msurreal.jl:17\u001b[24m\u001b[39m\n",
      "  [97] \u001b[0m\u001b[1mequiv\u001b[22m\u001b[0m\u001b[1m(\u001b[22m\u001b[90mx\u001b[39m::\u001b[0mSurreal, \u001b[90my\u001b[39m::\u001b[0mSurreal\u001b[0m\u001b[1m)\u001b[22m\n",
      "\u001b[90m     @\u001b[39m \u001b[35mMain\u001b[39m \u001b[90m~/code/Surreal.jl/src2/\u001b[39m\u001b[90m\u001b[4msurreal.jl:24\u001b[24m\u001b[39m\n",
      "  [98] top-level scope\n",
      "\u001b[90m     @\u001b[39m \u001b[90m\u001b[4mIn[254]:3\u001b[24m\u001b[39m\n",
      "  [99] \u001b[0m\u001b[1meval\u001b[22m\n",
      "\u001b[90m     @\u001b[39m \u001b[90m./\u001b[39m\u001b[90m\u001b[4mboot.jl:370\u001b[24m\u001b[39m\u001b[90m [inlined]\u001b[39m\n",
      " [100] \u001b[0m\u001b[1minclude_string\u001b[22m\u001b[0m\u001b[1m(\u001b[22m\u001b[90mmapexpr\u001b[39m::\u001b[0mtypeof(REPL.softscope), \u001b[90mmod\u001b[39m::\u001b[0mModule, \u001b[90mcode\u001b[39m::\u001b[0mString, \u001b[90mfilename\u001b[39m::\u001b[0mString\u001b[0m\u001b[1m)\u001b[22m\n",
      "\u001b[90m     @\u001b[39m \u001b[90mBase\u001b[39m \u001b[90m./\u001b[39m\u001b[90m\u001b[4mloading.jl:1899\u001b[24m\u001b[39m\n",
      " [101] \u001b[0m\u001b[1msoftscope_include_string\u001b[22m\u001b[0m\u001b[1m(\u001b[22m\u001b[90mm\u001b[39m::\u001b[0mModule, \u001b[90mcode\u001b[39m::\u001b[0mString, \u001b[90mfilename\u001b[39m::\u001b[0mString\u001b[0m\u001b[1m)\u001b[22m\n",
      "\u001b[90m     @\u001b[39m \u001b[32mSoftGlobalScope\u001b[39m \u001b[90m~/.julia/packages/SoftGlobalScope/u4UzH/src/\u001b[39m\u001b[90m\u001b[4mSoftGlobalScope.jl:65\u001b[24m\u001b[39m\n",
      " [102] \u001b[0m\u001b[1mexecute_request\u001b[22m\u001b[0m\u001b[1m(\u001b[22m\u001b[90msocket\u001b[39m::\u001b[0mZMQ.Socket, \u001b[90mmsg\u001b[39m::\u001b[0mIJulia.Msg\u001b[0m\u001b[1m)\u001b[22m\n",
      "\u001b[90m     @\u001b[39m \u001b[33mIJulia\u001b[39m \u001b[90m~/.julia/packages/IJulia/Vo51o/src/\u001b[39m\u001b[90m\u001b[4mexecute_request.jl:67\u001b[24m\u001b[39m\n",
      " [103] \u001b[0m\u001b[1m#invokelatest#2\u001b[22m\n",
      "\u001b[90m     @\u001b[39m \u001b[90m./\u001b[39m\u001b[90m\u001b[4messentials.jl:816\u001b[24m\u001b[39m\u001b[90m [inlined]\u001b[39m\n",
      " [104] \u001b[0m\u001b[1minvokelatest\u001b[22m\n",
      "\u001b[90m     @\u001b[39m \u001b[90m./\u001b[39m\u001b[90m\u001b[4messentials.jl:813\u001b[24m\u001b[39m\u001b[90m [inlined]\u001b[39m\n",
      " [105] \u001b[0m\u001b[1meventloop\u001b[22m\u001b[0m\u001b[1m(\u001b[22m\u001b[90msocket\u001b[39m::\u001b[0mZMQ.Socket\u001b[0m\u001b[1m)\u001b[22m\n",
      "\u001b[90m     @\u001b[39m \u001b[33mIJulia\u001b[39m \u001b[90m~/.julia/packages/IJulia/Vo51o/src/\u001b[39m\u001b[90m\u001b[4meventloop.jl:8\u001b[24m\u001b[39mFailed to apply rule isPos_s(~y) => allPositive(~y) on expression isPos_s(L(-((ω|∅)+n)⩂((n+ω)|∅)))\n",
      "Stacktrace:\n",
      "  [1] \u001b[0m\u001b[1m(::SymbolicUtils.Rule{SymbolicUtils.BasicSymbolic{Any}, SymbolicUtils.var\"#term_matcher#98\"{Tuple{SymbolicUtils.var\"#literal_matcher#94\"{SymbolicUtils.BasicSymbolic{SymbolicUtils.FnType{Tuple{SurrealExpression}, Bool}}}, SymbolicUtils.var\"#slot_matcher#95\"{SymbolicUtils.Slot{typeof(SymbolicUtils.alwaystrue)}}}}, var\"#13100#13135\"})\u001b[22m\u001b[0m\u001b[1m(\u001b[22m\u001b[90mterm\u001b[39m::\u001b[0mSymbolicUtils.BasicSymbolic\u001b[90m{Bool}\u001b[39m\u001b[0m\u001b[1m)\u001b[22m\n",
      "\u001b[90m    @\u001b[39m \u001b[36mSymbolicUtils\u001b[39m \u001b[90m~/.julia/packages/SymbolicUtils/H684H/src/\u001b[39m\u001b[90m\u001b[4mrule.jl:149\u001b[24m\u001b[39m\n",
      "  [2] \u001b[0m\u001b[1mmacro expansion\u001b[22m\n",
      "\u001b[90m    @\u001b[39m \u001b[90m~/.julia/packages/SymbolicUtils/H684H/src/\u001b[39m\u001b[90m\u001b[4mutils.jl:11\u001b[24m\u001b[39m\u001b[90m [inlined]\u001b[39m\n",
      "  [3] \u001b[0m\u001b[1m(::SymbolicUtils.Rewriters.RestartedChain{Vector{SymbolicUtils.Rule}})\u001b[22m\u001b[0m\u001b[1m(\u001b[22m\u001b[90mx\u001b[39m::\u001b[0mSymbolicUtils.BasicSymbolic\u001b[90m{Bool}\u001b[39m\u001b[0m\u001b[1m)\u001b[22m\n",
      "\u001b[90m    @\u001b[39m \u001b[36mSymbolicUtils.Rewriters\u001b[39m \u001b[90m~/.julia/packages/SymbolicUtils/H684H/src/\u001b[39m\u001b[90m\u001b[4mrewriters.jl:87\u001b[24m\u001b[39m\n",
      "  [4] \u001b[0m\u001b[1m(::SymbolicUtils.Rewriters.Walk{:pre, SymbolicUtils.Rewriters.RestartedChain{Vector{SymbolicUtils.Rule}}, typeof(SymbolicUtils.similarterm), false})\u001b[22m\u001b[0m\u001b[1m(\u001b[22m\u001b[90mx\u001b[39m::\u001b[0mSymbolicUtils.BasicSymbolic\u001b[90m{Bool}\u001b[39m\u001b[0m\u001b[1m)\u001b[22m\n",
      "\u001b[90m    @\u001b[39m \u001b[36mSymbolicUtils.Rewriters\u001b[39m \u001b[90m~/.julia/packages/SymbolicUtils/H684H/src/\u001b[39m\u001b[90m\u001b[4mrewriters.jl:0\u001b[24m\u001b[39m\n",
      "  [5] \u001b[0m\u001b[1mmacro expansion\u001b[22m\n",
      "\u001b[90m    @\u001b[39m \u001b[90m~/.julia/packages/SymbolicUtils/H684H/src/\u001b[39m\u001b[90m\u001b[4mutils.jl:11\u001b[24m\u001b[39m\u001b[90m [inlined]\u001b[39m\n",
      "  [6] \u001b[0m\u001b[1m(::SymbolicUtils.Rewriters.Fixpoint{SymbolicUtils.Rewriters.Walk{:pre, SymbolicUtils.Rewriters.RestartedChain{Vector{SymbolicUtils.Rule}}, typeof(SymbolicUtils.similarterm), false}})\u001b[22m\u001b[0m\u001b[1m(\u001b[22m\u001b[90mx\u001b[39m::\u001b[0mSymbolicUtils.BasicSymbolic\u001b[90m{Bool}\u001b[39m\u001b[0m\u001b[1m)\u001b[22m\n",
      "\u001b[90m    @\u001b[39m \u001b[36mSymbolicUtils.Rewriters\u001b[39m \u001b[90m~/.julia/packages/SymbolicUtils/H684H/src/\u001b[39m\u001b[90m\u001b[4mrewriters.jl:118\u001b[24m\u001b[39m\n",
      "  [7] \u001b[0m\u001b[1mPassThrough\u001b[22m\n",
      "\u001b[90m    @\u001b[39m \u001b[90m~/.julia/packages/SymbolicUtils/H684H/src/\u001b[39m\u001b[90m\u001b[4mrewriters.jl:188\u001b[24m\u001b[39m\u001b[90m [inlined]\u001b[39m\n",
      "  [8] \u001b[0m\u001b[1msimplify\u001b[22m\u001b[0m\u001b[1m(\u001b[22m\u001b[90mx\u001b[39m::\u001b[0mSymbolicUtils.BasicSymbolic\u001b[90m{Bool}\u001b[39m; \u001b[90mexpand\u001b[39m::\u001b[0mBool, \u001b[90mpolynorm\u001b[39m::\u001b[0mNothing, \u001b[90mthreaded\u001b[39m::\u001b[0mBool, \u001b[90msimplify_fractions\u001b[39m::\u001b[0mBool, \u001b[90mthread_subtree_cutoff\u001b[39m::\u001b[0mInt64, \u001b[90mrewriter\u001b[39m::\u001b[0mSymbolicUtils.Rewriters.Walk\u001b[90m{:pre, SymbolicUtils.Rewriters.RestartedChain{Vector{SymbolicUtils.Rule}}, typeof(SymbolicUtils.similarterm), false}\u001b[39m\u001b[0m\u001b[1m)\u001b[22m\n",
      "\u001b[90m    @\u001b[39m \u001b[36mSymbolicUtils\u001b[39m \u001b[90m~/.julia/packages/SymbolicUtils/H684H/src/\u001b[39m\u001b[90m\u001b[4msimplify.jl:41\u001b[24m\u001b[39m\n",
      "  [9] \u001b[0m\u001b[1msimplify\u001b[22m\n",
      "\u001b[90m    @\u001b[39m \u001b[90m~/.julia/packages/SymbolicUtils/H684H/src/\u001b[39m\u001b[90m\u001b[4msimplify.jl:16\u001b[24m\u001b[39m\u001b[90m [inlined]\u001b[39m\n",
      " [10] \u001b[0m\u001b[1m(::var\"#13107#13143\"{Vector{SymbolicUtils.Rule}})\u001b[22m\u001b[0m\u001b[1m(\u001b[22m\u001b[90mx\u001b[39m::\u001b[0mSymbolicUtils.BasicSymbolic\u001b[90m{Bool}\u001b[39m\u001b[0m\u001b[1m)\u001b[22m\n",
      "\u001b[90m    @\u001b[39m \u001b[35mMain\u001b[39m \u001b[90m~/code/Surreal.jl/src2/SurrealExpression/\u001b[39m\u001b[90m\u001b[4mrules.jl:154\u001b[24m\u001b[39m\n",
      " [11] \u001b[0m\u001b[1m<\u001b[22m\u001b[0m\u001b[1m(\u001b[22m\u001b[90mx\u001b[39m::\u001b[0mSymbolicUtils.BasicSymbolic\u001b[90m{SurrealExpression}\u001b[39m, \u001b[90my\u001b[39m::\u001b[0mSurreal\u001b[0m\u001b[1m)\u001b[22m\n",
      "\u001b[90m    @\u001b[39m \u001b[35mMain\u001b[39m \u001b[90m~/code/Surreal.jl/src2/SurrealExpression/\u001b[39m\u001b[90m\u001b[4msyms.jl:251\u001b[24m\u001b[39m\n",
      " [12] \u001b[0m\u001b[1m<\u001b[22m\u001b[0m\u001b[1m(\u001b[22m\u001b[90mx\u001b[39m::\u001b[0mCountedSurrealSet, \u001b[90my\u001b[39m::\u001b[0mSurreal\u001b[0m\u001b[1m)\u001b[22m\n"
     ]
    },
    {
     "name": "stdout",
     "output_type": "stream",
     "text": [
      "\u001b[90m    @\u001b[39m \u001b[35mMain\u001b[39m \u001b[90m~/code/Surreal.jl/src2/\u001b[39m\u001b[90m\u001b[4msurreal_counted.jl:15\u001b[24m\u001b[39m\n",
      " [13] \u001b[0m\u001b[1m<=\u001b[22m\u001b[0m\u001b[1m(\u001b[22m\u001b[90mx\u001b[39m::\u001b[0mSurreal, \u001b[90my\u001b[39m::\u001b[0mSurreal\u001b[0m\u001b[1m)\u001b[22m\n",
      "\u001b[90m    @\u001b[39m \u001b[35mMain\u001b[39m \u001b[90m~/code/Surreal.jl/src2/\u001b[39m\u001b[90m\u001b[4msurreal.jl:17\u001b[24m\u001b[39m\n",
      " [14] \u001b[0m\u001b[1m<\u001b[22m\u001b[0m\u001b[1m(\u001b[22m\u001b[90mx\u001b[39m::\u001b[0mSurreal, \u001b[90my\u001b[39m::\u001b[0mSurreal\u001b[0m\u001b[1m)\u001b[22m\n",
      "\u001b[90m    @\u001b[39m \u001b[35mMain\u001b[39m \u001b[90m~/code/Surreal.jl/src2/\u001b[39m\u001b[90m\u001b[4msurreal.jl:19\u001b[24m\u001b[39m\n",
      " [15] \u001b[0m\u001b[1m>\u001b[22m\n",
      "\u001b[90m    @\u001b[39m \u001b[90m~/code/Surreal.jl/src2/\u001b[39m\u001b[90m\u001b[4msurreal.jl:21\u001b[24m\u001b[39m\u001b[90m [inlined]\u001b[39m\n",
      " [16] \u001b[0m\u001b[1misPositive\u001b[22m\n",
      "\u001b[90m    @\u001b[39m \u001b[90m~/code/Surreal.jl/src2/\u001b[39m\u001b[90m\u001b[4msurreal.jl:187\u001b[24m\u001b[39m\u001b[90m [inlined]\u001b[39m\n",
      " [17] \u001b[0m\u001b[1mallPositive\u001b[22m\n",
      "\u001b[90m    @\u001b[39m \u001b[90m~/code/Surreal.jl/src2/\u001b[39m\u001b[90m\u001b[4msurreal.jl:206\u001b[24m\u001b[39m\u001b[90m [inlined]\u001b[39m\n",
      " [18] \u001b[0m\u001b[1m_all\u001b[22m\u001b[0m\u001b[1m(\u001b[22m\u001b[90mf\u001b[39m::\u001b[0mtypeof(allPositive), \u001b[90mitr\u001b[39m::\u001b[0mVector\u001b[90m{Any}\u001b[39m, \u001b[90m#unused#\u001b[39m::\u001b[0mColon\u001b[0m\u001b[1m)\u001b[22m\n",
      "\u001b[90m    @\u001b[39m \u001b[90mBase\u001b[39m \u001b[90m./\u001b[39m\u001b[90m\u001b[4mreduce.jl:1283\u001b[24m\u001b[39m\n",
      " [19] \u001b[0m\u001b[1mall\u001b[22m\u001b[0m\u001b[1m(\u001b[22m\u001b[90mf\u001b[39m::\u001b[0mFunction, \u001b[90ma\u001b[39m::\u001b[0mVector\u001b[90m{Any}\u001b[39m; \u001b[90mdims\u001b[39m::\u001b[0mFunction\u001b[0m\u001b[1m)\u001b[22m\n",
      "\u001b[90m    @\u001b[39m \u001b[90mBase\u001b[39m \u001b[90m./\u001b[39m\u001b[90m\u001b[4mreducedim.jl:1007\u001b[24m\u001b[39m\n",
      " [20] \u001b[0m\u001b[1mall\u001b[22m\n",
      "\u001b[90m    @\u001b[39m \u001b[90m./\u001b[39m\u001b[90m\u001b[4mreducedim.jl:1007\u001b[24m\u001b[39m\u001b[90m [inlined]\u001b[39m\n",
      " [21] \u001b[0m\u001b[1mmacro expansion\u001b[22m\n",
      "\u001b[90m    @\u001b[39m \u001b[90m~/code/Surreal.jl/src2/SurrealExpression/\u001b[39m\u001b[90m\u001b[4mlimits.jl:112\u001b[24m\u001b[39m\u001b[90m [inlined]\u001b[39m\n",
      " [22] \u001b[0m\u001b[1mmacro expansion\u001b[22m\n",
      "\u001b[90m    @\u001b[39m \u001b[90m~/.julia/packages/Match/XemzX/src/\u001b[39m\u001b[90m\u001b[4mmatchmacro.jl:408\u001b[24m\u001b[39m\u001b[90m [inlined]\u001b[39m\n",
      " [23] \u001b[0m\u001b[1mallPositive\u001b[22m\u001b[0m\u001b[1m(\u001b[22m\u001b[90me\u001b[39m::\u001b[0mSymbolicUtils.BasicSymbolic\u001b[90m{SurrealExpression}\u001b[39m\u001b[0m\u001b[1m)\u001b[22m\n",
      "\u001b[90m    @\u001b[39m \u001b[35mMain\u001b[39m \u001b[90m~/code/Surreal.jl/src2/SurrealExpression/\u001b[39m\u001b[90m\u001b[4mlimits.jl:106\u001b[24m\u001b[39m\n",
      " [24] \u001b[0m\u001b[1mmacro expansion\u001b[22m\n",
      "\u001b[90m    @\u001b[39m \u001b[90m~/.julia/packages/Match/XemzX/src/\u001b[39m\u001b[90m\u001b[4mmatchmacro.jl:408\u001b[24m\u001b[39m\u001b[90m [inlined]\u001b[39m\n",
      " [25] \u001b[0m\u001b[1mmacro expansion\u001b[22m\n",
      "\u001b[90m    @\u001b[39m \u001b[90m~/code/Surreal.jl/src2/SurrealExpression/\u001b[39m\u001b[90m\u001b[4mlimits.jl:133\u001b[24m\u001b[39m\u001b[90m [inlined]\u001b[39m\n",
      " [26] \u001b[0m\u001b[1mmacro expansion\u001b[22m\n",
      "\u001b[90m    @\u001b[39m \u001b[90m~/.julia/packages/Match/XemzX/src/\u001b[39m\u001b[90m\u001b[4mmatchmacro.jl:410\u001b[24m\u001b[39m\u001b[90m [inlined]\u001b[39m\n",
      " [27] \u001b[0m\u001b[1mmacro expansion\u001b[22m\n",
      "\u001b[90m    @\u001b[39m \u001b[90m~/code/Surreal.jl/src2/SurrealExpression/\u001b[39m\u001b[90m\u001b[4mlimits.jl:132\u001b[24m\u001b[39m\u001b[90m [inlined]\u001b[39m\n",
      " [28] \u001b[0m\u001b[1mmacro expansion\u001b[22m\n",
      "\u001b[90m    @\u001b[39m \u001b[90m~/.julia/packages/Match/XemzX/src/\u001b[39m\u001b[90m\u001b[4mmatchmacro.jl:410\u001b[24m\u001b[39m\u001b[90m [inlined]\u001b[39m\n",
      " [29] \u001b[0m\u001b[1mmacro expansion\u001b[22m\n",
      "\u001b[90m    @\u001b[39m \u001b[90m~/code/Surreal.jl/src2/SurrealExpression/\u001b[39m\u001b[90m\u001b[4mlimits.jl:131\u001b[24m\u001b[39m\u001b[90m [inlined]\u001b[39m\n",
      " [30] \u001b[0m\u001b[1mmacro expansion\u001b[22m\n",
      "\u001b[90m    @\u001b[39m \u001b[90m~/.julia/packages/Match/XemzX/src/\u001b[39m\u001b[90m\u001b[4mmatchmacro.jl:410\u001b[24m\u001b[39m\u001b[90m [inlined]\u001b[39m\n",
      " [31] \u001b[0m\u001b[1mmacro expansion\u001b[22m\n",
      "\u001b[90m    @\u001b[39m \u001b[90m~/code/Surreal.jl/src2/SurrealExpression/\u001b[39m\u001b[90m\u001b[4mlimits.jl:119\u001b[24m\u001b[39m\u001b[90m [inlined]\u001b[39m\n",
      " [32] \u001b[0m\u001b[1mmacro expansion\u001b[22m\n",
      "\u001b[90m    @\u001b[39m \u001b[90m~/.julia/packages/Match/XemzX/src/\u001b[39m\u001b[90m\u001b[4mmatchmacro.jl:410\u001b[24m\u001b[39m\u001b[90m [inlined]\u001b[39m\n",
      " [33] \u001b[0m\u001b[1mallPositive\u001b[22m\u001b[0m\u001b[1m(\u001b[22m\u001b[90me\u001b[39m::\u001b[0mSymbolicUtils.BasicSymbolic\u001b[90m{SurrealExpression}\u001b[39m\u001b[0m\u001b[1m)\u001b[22m\n",
      "\u001b[90m    @\u001b[39m \u001b[35mMain\u001b[39m \u001b[90m~/code/Surreal.jl/src2/SurrealExpression/\u001b[39m\u001b[90m\u001b[4mlimits.jl:106\u001b[24m\u001b[39m\n",
      " [34] \u001b[0m\u001b[1m(::var\"#13100#13135\")\u001b[22m\u001b[0m\u001b[1m(\u001b[22m\u001b[90m__MATCHES__\u001b[39m::\u001b[0mBase.ImmutableDict\u001b[90m{Symbol, Any}\u001b[39m\u001b[0m\u001b[1m)\u001b[22m\n",
      "\u001b[90m    @\u001b[39m \u001b[35mMain\u001b[39m \u001b[90m~/.julia/packages/SymbolicUtils/H684H/src/\u001b[39m\u001b[90m\u001b[4mrule.jl:318\u001b[24m\u001b[39m\n",
      " [35] \u001b[0m\u001b[1mmacro expansion\u001b[22m\n",
      "\u001b[90m    @\u001b[39m \u001b[90m~/.julia/packages/SymbolicUtils/H684H/src/\u001b[39m\u001b[90m\u001b[4mutils.jl:11\u001b[24m\u001b[39m\u001b[90m [inlined]\u001b[39m\n",
      " [36] \u001b[0m\u001b[1m(::SymbolicUtils.var\"#success#85\"{var\"#13100#13135\"})\u001b[22m\u001b[0m\u001b[1m(\u001b[22m\u001b[90mbindings\u001b[39m::\u001b[0mBase.ImmutableDict\u001b[90m{Symbol, Any}\u001b[39m, \u001b[90mn\u001b[39m::\u001b[0mInt64\u001b[0m\u001b[1m)\u001b[22m\n",
      "\u001b[90m    @\u001b[39m \u001b[36mSymbolicUtils\u001b[39m \u001b[90m~/.julia/packages/SymbolicUtils/H684H/src/\u001b[39m\u001b[90m\u001b[4mrule.jl:142\u001b[24m\u001b[39m\n",
      " [37] \u001b[0m\u001b[1m(::SymbolicUtils.var\"#loop#99\"{SymbolicUtils.var\"#success#85\"{var\"#13100#13135\"}})\u001b[22m\u001b[0m\u001b[1m(\u001b[22m\u001b[90mterm\u001b[39m::\u001b[0mSymbolicUtils.LL\u001b[90m{Vector{Any}}\u001b[39m, \u001b[90mbindings′\u001b[39m::\u001b[0mBase.ImmutableDict\u001b[90m{Symbol, Any}\u001b[39m, \u001b[90mmatchers′\u001b[39m::\u001b[0mSymbolicUtils.LL\u001b[90m{Tuple{SymbolicUtils.var\"#literal_matcher#94\"{SymbolicUtils.BasicSymbolic{SymbolicUtils.FnType{Tuple{SurrealExpression}, Bool}}}, SymbolicUtils.var\"#slot_matcher#95\"{SymbolicUtils.Slot{typeof(SymbolicUtils.alwaystrue)}}}}\u001b[39m\u001b[0m\u001b[1m)\u001b[22m\n",
      "\u001b[90m    @\u001b[39m \u001b[36mSymbolicUtils\u001b[39m \u001b[90m~/.julia/packages/SymbolicUtils/H684H/src/\u001b[39m\u001b[90m\u001b[4mmatchers.jl:97\u001b[24m\u001b[39m\n",
      " [38] \u001b[0m\u001b[1m(::SymbolicUtils.var\"#97#100\"{SymbolicUtils.LL{Vector{Any}}, SymbolicUtils.LL{Tuple{SymbolicUtils.var\"#literal_matcher#94\"{SymbolicUtils.BasicSymbolic{SymbolicUtils.FnType{Tuple{SurrealExpression}, Bool}}}, SymbolicUtils.var\"#slot_matcher#95\"{SymbolicUtils.Slot{typeof(SymbolicUtils.alwaystrue)}}}}})\u001b[22m\u001b[0m\u001b[1m(\u001b[22m\u001b[90mb\u001b[39m::\u001b[0mBase.ImmutableDict\u001b[90m{Symbol, Any}\u001b[39m, \u001b[90mn\u001b[39m::\u001b[0mInt64\u001b[0m\u001b[1m)\u001b[22m\n",
      "\u001b[90m    @\u001b[39m \u001b[36mSymbolicUtils\u001b[39m \u001b[90m~/.julia/packages/SymbolicUtils/H684H/src/\u001b[39m\u001b[90m\u001b[4mmatchers.jl:102\u001b[24m\u001b[39m\n",
      " [39] \u001b[0m\u001b[1m(::SymbolicUtils.var\"#slot_matcher#95\"{SymbolicUtils.Slot{typeof(SymbolicUtils.alwaystrue)}})\u001b[22m\u001b[0m\u001b[1m(\u001b[22m\u001b[90mnext\u001b[39m::\u001b[0mSymbolicUtils.var\"#97#100\"\u001b[90m{SymbolicUtils.LL{Vector{Any}}, SymbolicUtils.LL{Tuple{SymbolicUtils.var\"#literal_matcher#94\"{SymbolicUtils.BasicSymbolic{SymbolicUtils.FnType{Tuple{SurrealExpression}, Bool}}}, SymbolicUtils.var\"#slot_matcher#95\"{SymbolicUtils.Slot{typeof(SymbolicUtils.alwaystrue)}}}}}\u001b[39m, \u001b[90mdata\u001b[39m::\u001b[0mSymbolicUtils.LL\u001b[90m{Vector{Any}}\u001b[39m, \u001b[90mbindings\u001b[39m::\u001b[0mBase.ImmutableDict\u001b[90m{Symbol, Any}\u001b[39m\u001b[0m\u001b[1m)\u001b[22m\n",
      "\u001b[90m    @\u001b[39m \u001b[36mSymbolicUtils\u001b[39m \u001b[90m~/.julia/packages/SymbolicUtils/H684H/src/\u001b[39m\u001b[90m\u001b[4mmatchers.jl:25\u001b[24m\u001b[39m\n",
      " [40] \u001b[0m\u001b[1m(::SymbolicUtils.var\"#loop#99\"{SymbolicUtils.var\"#success#85\"{var\"#13100#13135\"}})\u001b[22m\u001b[0m\u001b[1m(\u001b[22m\u001b[90mterm\u001b[39m::\u001b[0mSymbolicUtils.LL\u001b[90m{Vector{Any}}\u001b[39m, \u001b[90mbindings′\u001b[39m::\u001b[0mBase.ImmutableDict\u001b[90m{Symbol, Any}\u001b[39m, \u001b[90mmatchers′\u001b[39m::\u001b[0mSymbolicUtils.LL\u001b[90m{Tuple{SymbolicUtils.var\"#literal_matcher#94\"{SymbolicUtils.BasicSymbolic{SymbolicUtils.FnType{Tuple{SurrealExpression}, Bool}}}, SymbolicUtils.var\"#slot_matcher#95\"{SymbolicUtils.Slot{typeof(SymbolicUtils.alwaystrue)}}}}\u001b[39m\u001b[0m\u001b[1m)\u001b[22m\n",
      "\u001b[90m    @\u001b[39m \u001b[36mSymbolicUtils\u001b[39m \u001b[90m~/.julia/packages/SymbolicUtils/H684H/src/\u001b[39m\u001b[90m\u001b[4mmatchers.jl:101\u001b[24m\u001b[39m\n",
      " [41] \u001b[0m\u001b[1m(::SymbolicUtils.var\"#97#100\"{SymbolicUtils.BasicSymbolic{Bool}, Tuple{SymbolicUtils.var\"#literal_matcher#94\"{SymbolicUtils.BasicSymbolic{SymbolicUtils.FnType{Tuple{SurrealExpression}, Bool}}}, SymbolicUtils.var\"#slot_matcher#95\"{SymbolicUtils.Slot{typeof(SymbolicUtils.alwaystrue)}}}})\u001b[22m\u001b[0m\u001b[1m(\u001b[22m\u001b[90mb\u001b[39m::\u001b[0mBase.ImmutableDict\u001b[90m{Symbol, Any}\u001b[39m, \u001b[90mn\u001b[39m::\u001b[0mInt64\u001b[0m\u001b[1m)\u001b[22m\n",
      "\u001b[90m    @\u001b[39m \u001b[36mSymbolicUtils\u001b[39m \u001b[90m~/.julia/packages/SymbolicUtils/H684H/src/\u001b[39m\u001b[90m\u001b[4mmatchers.jl:102\u001b[24m\u001b[39m\n",
      " [42] \u001b[0m\u001b[1m(::SymbolicUtils.var\"#literal_matcher#94\"{SymbolicUtils.BasicSymbolic{SymbolicUtils.FnType{Tuple{SurrealExpression}, Bool}}})\u001b[22m\u001b[0m\u001b[1m(\u001b[22m\u001b[90mnext\u001b[39m::\u001b[0mSymbolicUtils.var\"#97#100\"\u001b[90m{SymbolicUtils.BasicSymbolic{Bool}, Tuple{SymbolicUtils.var\"#literal_matcher#94\"{SymbolicUtils.BasicSymbolic{SymbolicUtils.FnType{Tuple{SurrealExpression}, Bool}}}, SymbolicUtils.var\"#slot_matcher#95\"{SymbolicUtils.Slot{typeof(SymbolicUtils.alwaystrue)}}}}\u001b[39m, \u001b[90mdata\u001b[39m::\u001b[0mSymbolicUtils.BasicSymbolic\u001b[90m{Bool}\u001b[39m, \u001b[90mbindings\u001b[39m::\u001b[0mBase.ImmutableDict\u001b[90m{Symbol, Any}\u001b[39m\u001b[0m\u001b[1m)\u001b[22m\n",
      "\u001b[90m    @\u001b[39m \u001b[36mSymbolicUtils\u001b[39m \u001b[90m~/.julia/packages/SymbolicUtils/H684H/src/\u001b[39m\u001b[90m\u001b[4mmatchers.jl:11\u001b[24m\u001b[39m\n",
      " [43] \u001b[0m\u001b[1m(::SymbolicUtils.var\"#loop#99\"{SymbolicUtils.var\"#success#85\"{var\"#13100#13135\"}})\u001b[22m\u001b[0m\u001b[1m(\u001b[22m\u001b[90mterm\u001b[39m::\u001b[0mSymbolicUtils.BasicSymbolic\u001b[90m{Bool}\u001b[39m, \u001b[90mbindings′\u001b[39m::\u001b[0mBase.ImmutableDict\u001b[90m{Symbol, Any}\u001b[39m, \u001b[90mmatchers′\u001b[39m::\u001b[0mTuple\u001b[90m{SymbolicUtils.var\"#literal_matcher#94\"{SymbolicUtils.BasicSymbolic{SymbolicUtils.FnType{Tuple{SurrealExpression}, Bool}}}, SymbolicUtils.var\"#slot_matcher#95\"{SymbolicUtils.Slot{typeof(SymbolicUtils.alwaystrue)}}}\u001b[39m\u001b[0m\u001b[1m)\u001b[22m\n",
      "\u001b[90m    @\u001b[39m \u001b[36mSymbolicUtils\u001b[39m \u001b[90m~/.julia/packages/SymbolicUtils/H684H/src/\u001b[39m\u001b[90m\u001b[4mmatchers.jl:101\u001b[24m\u001b[39m\n",
      " [44] \u001b[0m\u001b[1m(::SymbolicUtils.var\"#term_matcher#98\"{Tuple{SymbolicUtils.var\"#literal_matcher#94\"{SymbolicUtils.BasicSymbolic{SymbolicUtils.FnType{Tuple{SurrealExpression}, Bool}}}, SymbolicUtils.var\"#slot_matcher#95\"{SymbolicUtils.Slot{typeof(SymbolicUtils.alwaystrue)}}}})\u001b[22m\u001b[0m\u001b[1m(\u001b[22m\u001b[90msuccess\u001b[39m::\u001b[0mSymbolicUtils.var\"#success#85\"\u001b[90m{var\"#13100#13135\"}\u001b[39m, \u001b[90mdata\u001b[39m::\u001b[0mTuple\u001b[90m{SymbolicUtils.BasicSymbolic{Bool}}\u001b[39m, \u001b[90mbindings\u001b[39m::\u001b[0mBase.ImmutableDict\u001b[90m{Symbol, Any}\u001b[39m\u001b[0m\u001b[1m)\u001b[22m\n",
      "\u001b[90m    @\u001b[39m \u001b[36mSymbolicUtils\u001b[39m \u001b[90m~/.julia/packages/SymbolicUtils/H684H/src/\u001b[39m\u001b[90m\u001b[4mmatchers.jl:106\u001b[24m\u001b[39m\n",
      " [45] \u001b[0m\u001b[1m(::SymbolicUtils.Rule{SymbolicUtils.BasicSymbolic{Any}, SymbolicUtils.var\"#term_matcher#98\"{Tuple{SymbolicUtils.var\"#literal_matcher#94\"{SymbolicUtils.BasicSymbolic{SymbolicUtils.FnType{Tuple{SurrealExpression}, Bool}}}, SymbolicUtils.var\"#slot_matcher#95\"{SymbolicUtils.Slot{typeof(SymbolicUtils.alwaystrue)}}}}, var\"#13100#13135\"})\u001b[22m\u001b[0m\u001b[1m(\u001b[22m\u001b[90mterm\u001b[39m::\u001b[0mSymbolicUtils.BasicSymbolic\u001b[90m{Bool}\u001b[39m\u001b[0m\u001b[1m)\u001b[22m\n",
      "\u001b[90m    @\u001b[39m \u001b[36mSymbolicUtils\u001b[39m \u001b[90m~/.julia/packages/SymbolicUtils/H684H/src/\u001b[39m\u001b[90m\u001b[4mrule.jl:143\u001b[24m\u001b[39m\n",
      " [46] \u001b[0m\u001b[1mmacro expansion\u001b[22m\n",
      "\u001b[90m    @\u001b[39m \u001b[90m~/.julia/packages/SymbolicUtils/H684H/src/\u001b[39m\u001b[90m\u001b[4mutils.jl:11\u001b[24m\u001b[39m\u001b[90m [inlined]\u001b[39m\n"
     ]
    },
    {
     "name": "stdout",
     "output_type": "stream",
     "text": [
      " [47] \u001b[0m\u001b[1m(::SymbolicUtils.Rewriters.RestartedChain{Vector{SymbolicUtils.Rule}})\u001b[22m\u001b[0m\u001b[1m(\u001b[22m\u001b[90mx\u001b[39m::\u001b[0mSymbolicUtils.BasicSymbolic\u001b[90m{Bool}\u001b[39m\u001b[0m\u001b[1m)\u001b[22m\n",
      "\u001b[90m    @\u001b[39m \u001b[36mSymbolicUtils.Rewriters\u001b[39m \u001b[90m~/.julia/packages/SymbolicUtils/H684H/src/\u001b[39m\u001b[90m\u001b[4mrewriters.jl:87\u001b[24m\u001b[39m\n",
      " [48] \u001b[0m\u001b[1m(::SymbolicUtils.Rewriters.Walk{:pre, SymbolicUtils.Rewriters.RestartedChain{Vector{SymbolicUtils.Rule}}, typeof(SymbolicUtils.similarterm), false})\u001b[22m\u001b[0m\u001b[1m(\u001b[22m\u001b[90mx\u001b[39m::\u001b[0mSymbolicUtils.BasicSymbolic\u001b[90m{Bool}\u001b[39m\u001b[0m\u001b[1m)\u001b[22m\n",
      "\u001b[90m    @\u001b[39m \u001b[36mSymbolicUtils.Rewriters\u001b[39m \u001b[90m~/.julia/packages/SymbolicUtils/H684H/src/\u001b[39m\u001b[90m\u001b[4mrewriters.jl:0\u001b[24m\u001b[39m\n",
      " [49] \u001b[0m\u001b[1mmacro expansion\u001b[22m\n",
      "\u001b[90m    @\u001b[39m \u001b[90m~/.julia/packages/SymbolicUtils/H684H/src/\u001b[39m\u001b[90m\u001b[4mutils.jl:11\u001b[24m\u001b[39m\u001b[90m [inlined]\u001b[39m\n",
      " [50] \u001b[0m\u001b[1m(::SymbolicUtils.Rewriters.Fixpoint{SymbolicUtils.Rewriters.Walk{:pre, SymbolicUtils.Rewriters.RestartedChain{Vector{SymbolicUtils.Rule}}, typeof(SymbolicUtils.similarterm), false}})\u001b[22m\u001b[0m\u001b[1m(\u001b[22m\u001b[90mx\u001b[39m::\u001b[0mSymbolicUtils.BasicSymbolic\u001b[90m{Bool}\u001b[39m\u001b[0m\u001b[1m)\u001b[22m\n",
      "\u001b[90m    @\u001b[39m \u001b[36mSymbolicUtils.Rewriters\u001b[39m \u001b[90m~/.julia/packages/SymbolicUtils/H684H/src/\u001b[39m\u001b[90m\u001b[4mrewriters.jl:118\u001b[24m\u001b[39m\n",
      " [51] \u001b[0m\u001b[1mPassThrough\u001b[22m\n",
      "\u001b[90m    @\u001b[39m \u001b[90m~/.julia/packages/SymbolicUtils/H684H/src/\u001b[39m\u001b[90m\u001b[4mrewriters.jl:188\u001b[24m\u001b[39m\u001b[90m [inlined]\u001b[39m\n",
      " [52] \u001b[0m\u001b[1msimplify\u001b[22m\u001b[0m\u001b[1m(\u001b[22m\u001b[90mx\u001b[39m::\u001b[0mSymbolicUtils.BasicSymbolic\u001b[90m{Bool}\u001b[39m; \u001b[90mexpand\u001b[39m::\u001b[0mBool, \u001b[90mpolynorm\u001b[39m::\u001b[0mNothing, \u001b[90mthreaded\u001b[39m::\u001b[0mBool, \u001b[90msimplify_fractions\u001b[39m::\u001b[0mBool, \u001b[90mthread_subtree_cutoff\u001b[39m::\u001b[0mInt64, \u001b[90mrewriter\u001b[39m::\u001b[0mSymbolicUtils.Rewriters.Walk\u001b[90m{:pre, SymbolicUtils.Rewriters.RestartedChain{Vector{SymbolicUtils.Rule}}, typeof(SymbolicUtils.similarterm), false}\u001b[39m\u001b[0m\u001b[1m)\u001b[22m\n",
      "\u001b[90m    @\u001b[39m \u001b[36mSymbolicUtils\u001b[39m \u001b[90m~/.julia/packages/SymbolicUtils/H684H/src/\u001b[39m\u001b[90m\u001b[4msimplify.jl:41\u001b[24m\u001b[39m\n",
      " [53] \u001b[0m\u001b[1msimplify\u001b[22m\n",
      "\u001b[90m    @\u001b[39m \u001b[90m~/.julia/packages/SymbolicUtils/H684H/src/\u001b[39m\u001b[90m\u001b[4msimplify.jl:16\u001b[24m\u001b[39m\u001b[90m [inlined]\u001b[39m\n",
      " [54] \u001b[0m\u001b[1m(::var\"#13107#13143\"{Vector{SymbolicUtils.Rule}})\u001b[22m\u001b[0m\u001b[1m(\u001b[22m\u001b[90mx\u001b[39m::\u001b[0mSymbolicUtils.BasicSymbolic\u001b[90m{Bool}\u001b[39m\u001b[0m\u001b[1m)\u001b[22m\n",
      "\u001b[90m    @\u001b[39m \u001b[35mMain\u001b[39m \u001b[90m~/code/Surreal.jl/src2/SurrealExpression/\u001b[39m\u001b[90m\u001b[4mrules.jl:154\u001b[24m\u001b[39m\n",
      " [55] \u001b[0m\u001b[1m<\u001b[22m\u001b[0m\u001b[1m(\u001b[22m\u001b[90mx\u001b[39m::\u001b[0mSymbolicUtils.BasicSymbolic\u001b[90m{SurrealExpression}\u001b[39m, \u001b[90my\u001b[39m::\u001b[0mSurreal\u001b[0m\u001b[1m)\u001b[22m\n",
      "\u001b[90m    @\u001b[39m \u001b[35mMain\u001b[39m \u001b[90m~/code/Surreal.jl/src2/SurrealExpression/\u001b[39m\u001b[90m\u001b[4msyms.jl:251\u001b[24m\u001b[39m\n",
      " [56] \u001b[0m\u001b[1m<\u001b[22m\u001b[0m\u001b[1m(\u001b[22m\u001b[90mx\u001b[39m::\u001b[0mCountedSurrealSet, \u001b[90my\u001b[39m::\u001b[0mSurreal\u001b[0m\u001b[1m)\u001b[22m\n",
      "\u001b[90m    @\u001b[39m \u001b[35mMain\u001b[39m \u001b[90m~/code/Surreal.jl/src2/\u001b[39m\u001b[90m\u001b[4msurreal_counted.jl:15\u001b[24m\u001b[39m\n",
      " [57] \u001b[0m\u001b[1m<=\u001b[22m\u001b[0m\u001b[1m(\u001b[22m\u001b[90mx\u001b[39m::\u001b[0mSurreal, \u001b[90my\u001b[39m::\u001b[0mSurreal\u001b[0m\u001b[1m)\u001b[22m\n",
      "\u001b[90m    @\u001b[39m \u001b[35mMain\u001b[39m \u001b[90m~/code/Surreal.jl/src2/\u001b[39m\u001b[90m\u001b[4msurreal.jl:17\u001b[24m\u001b[39m\n",
      " [58] \u001b[0m\u001b[1mequiv\u001b[22m\u001b[0m\u001b[1m(\u001b[22m\u001b[90mx\u001b[39m::\u001b[0mSurreal, \u001b[90my\u001b[39m::\u001b[0mSurreal\u001b[0m\u001b[1m)\u001b[22m\n",
      "\u001b[90m    @\u001b[39m \u001b[35mMain\u001b[39m \u001b[90m~/code/Surreal.jl/src2/\u001b[39m\u001b[90m\u001b[4msurreal.jl:24\u001b[24m\u001b[39m\n",
      " [59] top-level scope\n",
      "\u001b[90m    @\u001b[39m \u001b[90m\u001b[4mIn[254]:3\u001b[24m\u001b[39m\n",
      " [60] \u001b[0m\u001b[1meval\u001b[22m\n",
      "\u001b[90m    @\u001b[39m \u001b[90m./\u001b[39m\u001b[90m\u001b[4mboot.jl:370\u001b[24m\u001b[39m\u001b[90m [inlined]\u001b[39m\n",
      " [61] \u001b[0m\u001b[1minclude_string\u001b[22m\u001b[0m\u001b[1m(\u001b[22m\u001b[90mmapexpr\u001b[39m::\u001b[0mtypeof(REPL.softscope), \u001b[90mmod\u001b[39m::\u001b[0mModule, \u001b[90mcode\u001b[39m::\u001b[0mString, \u001b[90mfilename\u001b[39m::\u001b[0mString\u001b[0m\u001b[1m)\u001b[22m\n",
      "\u001b[90m    @\u001b[39m \u001b[90mBase\u001b[39m \u001b[90m./\u001b[39m\u001b[90m\u001b[4mloading.jl:1899\u001b[24m\u001b[39m\n",
      " [62] \u001b[0m\u001b[1msoftscope_include_string\u001b[22m\u001b[0m\u001b[1m(\u001b[22m\u001b[90mm\u001b[39m::\u001b[0mModule, \u001b[90mcode\u001b[39m::\u001b[0mString, \u001b[90mfilename\u001b[39m::\u001b[0mString\u001b[0m\u001b[1m)\u001b[22m\n",
      "\u001b[90m    @\u001b[39m \u001b[32mSoftGlobalScope\u001b[39m \u001b[90m~/.julia/packages/SoftGlobalScope/u4UzH/src/\u001b[39m\u001b[90m\u001b[4mSoftGlobalScope.jl:65\u001b[24m\u001b[39m\n",
      " [63] \u001b[0m\u001b[1mexecute_request\u001b[22m\u001b[0m\u001b[1m(\u001b[22m\u001b[90msocket\u001b[39m::\u001b[0mZMQ.Socket, \u001b[90mmsg\u001b[39m::\u001b[0mIJulia.Msg\u001b[0m\u001b[1m)\u001b[22m\n",
      "\u001b[90m    @\u001b[39m \u001b[33mIJulia\u001b[39m \u001b[90m~/.julia/packages/IJulia/Vo51o/src/\u001b[39m\u001b[90m\u001b[4mexecute_request.jl:67\u001b[24m\u001b[39m\n",
      " [64] \u001b[0m\u001b[1m#invokelatest#2\u001b[22m\n",
      "\u001b[90m    @\u001b[39m \u001b[90m./\u001b[39m\u001b[90m\u001b[4messentials.jl:816\u001b[24m\u001b[39m\u001b[90m [inlined]\u001b[39m\n",
      " [65] \u001b[0m\u001b[1minvokelatest\u001b[22m\n",
      "\u001b[90m    @\u001b[39m \u001b[90m./\u001b[39m\u001b[90m\u001b[4messentials.jl:813\u001b[24m\u001b[39m\u001b[90m [inlined]\u001b[39m\n",
      " [66] \u001b[0m\u001b[1meventloop\u001b[22m\u001b[0m\u001b[1m(\u001b[22m\u001b[90msocket\u001b[39m::\u001b[0mZMQ.Socket\u001b[0m\u001b[1m)\u001b[22m\n",
      "\u001b[90m    @\u001b[39m \u001b[33mIJulia\u001b[39m \u001b[90m~/.julia/packages/IJulia/Vo51o/src/\u001b[39m\u001b[90m\u001b[4meventloop.jl:8\u001b[24m\u001b[39m"
     ]
    },
    {
     "ename": "LoadError",
     "evalue": "Failed to apply rule isPos_s(~y) => allPositive(~y) on expression isPos_s(L(((((ω|∅)+n)⩂((n+ω)|∅)|∅)-((ω|∅)+n)⩂((n+ω)|∅))))",
     "output_type": "error",
     "traceback": [
      "Failed to apply rule isPos_s(~y) => allPositive(~y) on expression isPos_s(L(((((ω|∅)+n)⩂((n+ω)|∅)|∅)-((ω|∅)+n)⩂((n+ω)|∅))))",
      "",
      "Stacktrace:",
      "  [1] (::SymbolicUtils.Rule{SymbolicUtils.BasicSymbolic{Any}, SymbolicUtils.var\"#term_matcher#98\"{Tuple{SymbolicUtils.var\"#literal_matcher#94\"{SymbolicUtils.BasicSymbolic{SymbolicUtils.FnType{Tuple{SurrealExpression}, Bool}}}, SymbolicUtils.var\"#slot_matcher#95\"{SymbolicUtils.Slot{typeof(SymbolicUtils.alwaystrue)}}}}, var\"#13100#13135\"})(term::SymbolicUtils.BasicSymbolic{Bool})",
      "    @ SymbolicUtils ~/.julia/packages/SymbolicUtils/H684H/src/rule.jl:149",
      "  [2] macro expansion",
      "    @ ~/.julia/packages/SymbolicUtils/H684H/src/utils.jl:11 [inlined]",
      "  [3] (::SymbolicUtils.Rewriters.RestartedChain{Vector{SymbolicUtils.Rule}})(x::SymbolicUtils.BasicSymbolic{Bool})",
      "    @ SymbolicUtils.Rewriters ~/.julia/packages/SymbolicUtils/H684H/src/rewriters.jl:87",
      "  [4] (::SymbolicUtils.Rewriters.Walk{:pre, SymbolicUtils.Rewriters.RestartedChain{Vector{SymbolicUtils.Rule}}, typeof(SymbolicUtils.similarterm), false})(x::SymbolicUtils.BasicSymbolic{Bool})",
      "    @ SymbolicUtils.Rewriters ~/.julia/packages/SymbolicUtils/H684H/src/rewriters.jl:0",
      "  [5] macro expansion",
      "    @ ~/.julia/packages/SymbolicUtils/H684H/src/utils.jl:11 [inlined]",
      "  [6] (::SymbolicUtils.Rewriters.Fixpoint{SymbolicUtils.Rewriters.Walk{:pre, SymbolicUtils.Rewriters.RestartedChain{Vector{SymbolicUtils.Rule}}, typeof(SymbolicUtils.similarterm), false}})(x::SymbolicUtils.BasicSymbolic{Bool})",
      "    @ SymbolicUtils.Rewriters ~/.julia/packages/SymbolicUtils/H684H/src/rewriters.jl:118",
      "  [7] PassThrough",
      "    @ ~/.julia/packages/SymbolicUtils/H684H/src/rewriters.jl:188 [inlined]",
      "  [8] simplify(x::SymbolicUtils.BasicSymbolic{Bool}; expand::Bool, polynorm::Nothing, threaded::Bool, simplify_fractions::Bool, thread_subtree_cutoff::Int64, rewriter::SymbolicUtils.Rewriters.Walk{:pre, SymbolicUtils.Rewriters.RestartedChain{Vector{SymbolicUtils.Rule}}, typeof(SymbolicUtils.similarterm), false})",
      "    @ SymbolicUtils ~/.julia/packages/SymbolicUtils/H684H/src/simplify.jl:41",
      "  [9] simplify",
      "    @ ~/.julia/packages/SymbolicUtils/H684H/src/simplify.jl:16 [inlined]",
      " [10] (::var\"#13107#13143\"{Vector{SymbolicUtils.Rule}})(x::SymbolicUtils.BasicSymbolic{Bool})",
      "    @ Main ~/code/Surreal.jl/src2/SurrealExpression/rules.jl:154",
      " [11] <(x::SymbolicUtils.BasicSymbolic{SurrealExpression}, y::Surreal)",
      "    @ Main ~/code/Surreal.jl/src2/SurrealExpression/syms.jl:251",
      " [12] <(x::CountedSurrealSet, y::Surreal)",
      "    @ Main ~/code/Surreal.jl/src2/surreal_counted.jl:15",
      " [13] <=(x::Surreal, y::Surreal)",
      "    @ Main ~/code/Surreal.jl/src2/surreal.jl:17",
      " [14] equiv(x::Surreal, y::Surreal)",
      "    @ Main ~/code/Surreal.jl/src2/surreal.jl:24",
      " [15] top-level scope",
      "    @ In[254]:3"
     ]
    }
   ],
   "source": [
    "@show omega + omega + 1\n",
    "@show omega + 1 + omega\n",
    "equiv(omega + Surreal(1) + omega, omega + omega + Surreal(1))"
   ]
  },
  {
   "cell_type": "code",
   "execution_count": 136,
   "id": "3ac50dc1",
   "metadata": {},
   "outputs": [
    {
     "data": {
      "text/plain": [
       "(((((ω|∅)|∅)|∅)+n)⩂((((ω|∅)|∅)+n)⩂(((n+ω)|∅)⩂((ω|∅)+n)|∅)|∅)|∅)"
      ]
     },
     "execution_count": 136,
     "metadata": {},
     "output_type": "execute_result"
    }
   ],
   "source": [
    "omega + 3 + omega"
   ]
  },
  {
   "cell_type": "code",
   "execution_count": null,
   "id": "8492a3bf",
   "metadata": {},
   "outputs": [],
   "source": []
  },
  {
   "cell_type": "code",
   "execution_count": null,
   "id": "5280d0da",
   "metadata": {},
   "outputs": [],
   "source": []
  },
  {
   "cell_type": "code",
   "execution_count": null,
   "id": "9bb2eb55",
   "metadata": {},
   "outputs": [],
   "source": []
  },
  {
   "cell_type": "code",
   "execution_count": null,
   "id": "4507f517",
   "metadata": {},
   "outputs": [],
   "source": []
  },
  {
   "cell_type": "code",
   "execution_count": null,
   "id": "af739447",
   "metadata": {},
   "outputs": [],
   "source": []
  },
  {
   "cell_type": "code",
   "execution_count": null,
   "id": "aa755a63",
   "metadata": {},
   "outputs": [],
   "source": []
  },
  {
   "cell_type": "code",
   "execution_count": null,
   "id": "a9a1820b",
   "metadata": {},
   "outputs": [],
   "source": []
  }
 ],
 "metadata": {
  "kernelspec": {
   "display_name": "Julia 1.9.1 (20 threads) 1.9.1",
   "language": "julia",
   "name": "julia-1.9.1-_20-threads_-1.9"
  },
  "language_info": {
   "file_extension": ".jl",
   "mimetype": "application/julia",
   "name": "julia",
   "version": "1.9.1"
  }
 },
 "nbformat": 4,
 "nbformat_minor": 5
}
