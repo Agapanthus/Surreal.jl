{
 "cells": [
  {
   "cell_type": "code",
   "execution_count": 30,
   "id": "48db95a7",
   "metadata": {},
   "outputs": [
    {
     "name": "stderr",
     "output_type": "stream",
     "text": [
      "\u001b[32m\u001b[1m  Activating\u001b[22m\u001b[39m project at `~/code/Surreal.jl`\n"
     ]
    }
   ],
   "source": [
    "using Pkg\n",
    "Pkg.activate(\"./\")\n",
    "include(\"./src/include.jl\")"
   ]
  },
  {
   "cell_type": "code",
   "execution_count": 761,
   "id": "812f9ff3",
   "metadata": {},
   "outputs": [
    {
     "data": {
      "text/plain": [
       "Surreal\n",
       "   Surreal\n",
       "      n\n",
       "      ∅\n",
       "   ∅\n"
      ]
     },
     "execution_count": 761,
     "metadata": {},
     "output_type": "execute_result"
    }
   ],
   "source": [
    "include(\"./src/include.jl\")\n",
    "o1 = ω + 1"
   ]
  },
  {
   "cell_type": "code",
   "execution_count": 757,
   "id": "a5957559",
   "metadata": {},
   "outputs": [
    {
     "data": {
      "text/plain": [
       "false"
      ]
     },
     "execution_count": 757,
     "metadata": {},
     "output_type": "execute_result"
    }
   ],
   "source": [
    "isFinite(-o1)"
   ]
  },
  {
   "cell_type": "code",
   "execution_count": 687,
   "id": "6d7f5e99",
   "metadata": {},
   "outputs": [
    {
     "data": {
      "text/plain": [
       "Surreal\n",
       "   - 1 / n\n",
       "   0\n"
      ]
     },
     "execution_count": 687,
     "metadata": {},
     "output_type": "execute_result"
    }
   ],
   "source": [
    "include(\"./src/include.jl\")\n",
    "\n",
    "x = -ϵ\n",
    "showDebug = true\n",
    "\n",
    "# TODO\n",
    "#x < ϵ\n",
    "\n",
    "-ϵ"
   ]
  },
  {
   "cell_type": "code",
   "execution_count": null,
   "id": "c28b9950",
   "metadata": {},
   "outputs": [],
   "source": []
  },
  {
   "cell_type": "code",
   "execution_count": 603,
   "id": "7f1ec1a2",
   "metadata": {},
   "outputs": [
    {
     "ename": "LoadError",
     "evalue": "InterruptException:",
     "output_type": "error",
     "traceback": [
      "InterruptException:",
      "",
      "Stacktrace:",
      "  [1] sigatomic_end",
      "    @ ./c.jl:452 [inlined]",
      "  [2] disable_sigint",
      "    @ ./c.jl:475 [inlined]",
      "  [3] __pycall!",
      "    @ ~/.julia/packages/PyCall/twYvK/src/pyfncall.jl:42 [inlined]",
      "  [4] _pycall!(ret::PyObject, o::PyObject, args::Tuple{Sym, Sym}, nargs::Int64, kw::PyObject)",
      "    @ PyCall ~/.julia/packages/PyCall/twYvK/src/pyfncall.jl:29",
      "  [5] _pycall!(ret::PyObject, o::PyObject, args::Tuple{Sym, Sym}, kwargs::Base.Pairs{Symbol, Sym, Tuple{Symbol}, NamedTuple{(:domain,), Tuple{Sym}}})",
      "    @ PyCall ~/.julia/packages/PyCall/twYvK/src/pyfncall.jl:11",
      "  [6] (::PyObject)(::Sym, ::Vararg{Sym}; kwargs::Base.Pairs{Symbol, Sym, Tuple{Symbol}, NamedTuple{(:domain,), Tuple{Sym}}})",
      "    @ PyCall ~/.julia/packages/PyCall/twYvK/src/pyfncall.jl:86",
      "  [7] solveset(ex::Sym, args::Sym; kwargs::Base.Pairs{Symbol, Sym, Tuple{Symbol}, NamedTuple{(:domain,), Tuple{Sym}}})",
      "    @ SymPy ~/.julia/packages/SymPy/gkr7m/src/importexport.jl:96",
      "  [8] compareAll(x::Surreal, y::Side, op::Symbol)",
      "    @ Main ~/code/Surreal.jl/src/symbolic.jl:136",
      "  [9] <(x::Surreal, y::Side)",
      "    @ Main ~/code/Surreal.jl/src/compare.jl:35",
      " [10] <=(x::Surreal, y::Surreal)",
      "    @ Main ~/code/Surreal.jl/src/compare.jl:42",
      " [11] <(x::Surreal, y::Surreal)",
      "    @ Main ~/code/Surreal.jl/src/compare.jl:44",
      " [12] <(x::Surreal, y::Side)",
      "    @ Main ~/code/Surreal.jl/src/compare.jl:33",
      " [13] <=(x::Surreal, y::Surreal)",
      "    @ Main ~/code/Surreal.jl/src/compare.jl:42",
      " [14] >=(x::Surreal, y::Surreal)",
      "    @ Main ~/code/Surreal.jl/src/compare.jl:41",
      " [15] simplify(s::Surreal, lo::Surreal, hi::Surreal) (repeats 6 times)",
      "    @ Main ~/code/Surreal.jl/src/toRational.jl:14",
      " [16] simplify(s::Surreal)",
      "    @ Main ~/code/Surreal.jl/src/toRational.jl:26",
      " [17] toR(s::Surreal)",
      "    @ Main ~/code/Surreal.jl/src/toRational.jl:32",
      " [18] compareAll(x::Surreal, y::Side, op::Symbol)",
      "    @ Main ~/code/Surreal.jl/src/symbolic.jl:136",
      " [19] compareAll(x::Side, y::Surreal, op::Symbol)",
      "    @ Main ~/code/Surreal.jl/src/symbolic.jl:207",
      " [20] <(x::Side, y::Surreal)",
      "    @ Main ~/code/Surreal.jl/src/compare.jl:25",
      " [21] <=(x::Surreal, y::Surreal)",
      "    @ Main ~/code/Surreal.jl/src/compare.jl:42",
      " [22] <(x::Surreal, y::Surreal)",
      "    @ Main ~/code/Surreal.jl/src/compare.jl:44",
      " [23] top-level scope",
      "    @ In[603]:1"
     ]
    }
   ],
   "source": [
    "-ϵ < ϵ"
   ]
  },
  {
   "cell_type": "code",
   "execution_count": 545,
   "id": "db8237cb",
   "metadata": {},
   "outputs": [
    {
     "data": {
      "text/plain": [
       "false"
      ]
     },
     "execution_count": 545,
     "metadata": {},
     "output_type": "execute_result"
    }
   ],
   "source": [
    "include(\"./src/symbolic.jl\")\n",
    "\n",
    "compareAll( Side(SSetInv, Side(SSetId)), Side(SSetInv, Side(SSetId)))\n",
    "#compareAll(Side(Surreal(0)), Side(SSetInv, Side(SSetId)))"
   ]
  },
  {
   "cell_type": "code",
   "execution_count": 559,
   "id": "f6024a09",
   "metadata": {},
   "outputs": [
    {
     "data": {
      "text/plain": [
       "true"
      ]
     },
     "execution_count": 559,
     "metadata": {},
     "output_type": "execute_result"
    }
   ],
   "source": [
    "isFinite(Surreal(S0, Side(SSetInv, Side(SSetId))))"
   ]
  },
  {
   "cell_type": "code",
   "execution_count": null,
   "id": "d8f1e1f9",
   "metadata": {},
   "outputs": [],
   "source": []
  }
 ],
 "metadata": {
  "kernelspec": {
   "display_name": "Julia 1.9.1 (20 threads) 1.9.1",
   "language": "julia",
   "name": "julia-1.9.1-_20-threads_-1.9"
  },
  "language_info": {
   "file_extension": ".jl",
   "mimetype": "application/julia",
   "name": "julia",
   "version": "1.9.1"
  }
 },
 "nbformat": 4,
 "nbformat_minor": 5
}
