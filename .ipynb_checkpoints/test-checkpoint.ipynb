{
 "cells": [
  {
   "cell_type": "code",
   "execution_count": 1,
   "id": "48db95a7",
   "metadata": {},
   "outputs": [
    {
     "name": "stderr",
     "output_type": "stream",
     "text": [
      "\u001b[32m\u001b[1m  Activating\u001b[22m\u001b[39m project at `~/code/Surreal.jl`\n"
     ]
    }
   ],
   "source": [
    "using Pkg\n",
    "Pkg.activate(\"./\")\n",
    "include(\"./src/include.jl\");"
   ]
  },
  {
   "cell_type": "code",
   "execution_count": 31,
   "id": "c4677928",
   "metadata": {},
   "outputs": [
    {
     "name": "stdout",
     "output_type": "stream",
     "text": [
      "op = :geq\n",
      "x = Surreal\n",
      "   n\n",
      "   ∅\n",
      "\n",
      "s = n + 1\n",
      "\n"
     ]
    },
    {
     "ename": "LoadError",
     "evalue": "UndefVarError: `todo` not defined",
     "output_type": "error",
     "traceback": [
      "UndefVarError: `todo` not defined",
      "",
      "Stacktrace:",
      " [1] compareAll(x::Surreal, s::Side, op::Symbol)",
      "   @ Main ~/code/Surreal.jl/src/symbolic.jl:174",
      " [2] compareAll",
      "   @ ~/code/Surreal.jl/src/symbolic.jl:206 [inlined]",
      " [3] <=(x::Side, y::Side)",
      "   @ Main ~/code/Surreal.jl/src/compare.jl:82",
      " [4] max(x::Side, y::Side)",
      "   @ Main ~/code/Surreal.jl/src/minmax.jl:37",
      " [5] +(x::Surreal, y::Surreal)",
      "   @ Main ~/code/Surreal.jl/src/add.jl:10",
      " [6] +(x::Surreal, y::Int64)",
      "   @ Main ~/code/Surreal.jl/src/add.jl:13",
      " [7] top-level scope",
      "   @ In[31]:2"
     ]
    }
   ],
   "source": [
    "include(\"./src/include.jl\")\n",
    "o1 = ω + 1"
   ]
  },
  {
   "cell_type": "code",
   "execution_count": 817,
   "id": "89fe6534",
   "metadata": {},
   "outputs": [
    {
     "data": {
      "text/plain": [
       "false"
      ]
     },
     "execution_count": 817,
     "metadata": {},
     "output_type": "execute_result"
    }
   ],
   "source": [
    "isFinite(-o1)"
   ]
  },
  {
   "cell_type": "code",
   "execution_count": null,
   "id": "e87c2551",
   "metadata": {},
   "outputs": [],
   "source": []
  },
  {
   "cell_type": "code",
   "execution_count": 28,
   "id": "45262785",
   "metadata": {},
   "outputs": [
    {
     "data": {
      "text/plain": [
       "false"
      ]
     },
     "execution_count": 28,
     "metadata": {},
     "output_type": "execute_result"
    }
   ],
   "source": [
    "include(\"./src/symbolic.jl\")\n",
    "include(\"./src/negate.jl\")\n",
    "\n",
    "x = ω # Surreal(Side(SSetId), ω)  # ω\n",
    "y = Side(SSetAdd, Side(SSetId), Side(S1))\n",
    "\n",
    "#-x < -y\n",
    "\n",
    "x < y"
   ]
  },
  {
   "cell_type": "code",
   "execution_count": 32,
   "id": "83022836",
   "metadata": {},
   "outputs": [
    {
     "data": {
      "text/plain": [
       "Surreal\n",
       "   n\n",
       "   ∅\n"
      ]
     },
     "execution_count": 32,
     "metadata": {},
     "output_type": "execute_result"
    }
   ],
   "source": [
    "x"
   ]
  },
  {
   "cell_type": "code",
   "execution_count": 33,
   "id": "9c4aa19c",
   "metadata": {},
   "outputs": [
    {
     "data": {
      "text/plain": [
       "n + 1\n"
      ]
     },
     "execution_count": 33,
     "metadata": {},
     "output_type": "execute_result"
    }
   ],
   "source": [
    "y"
   ]
  },
  {
   "cell_type": "code",
   "execution_count": null,
   "id": "71668a6a",
   "metadata": {},
   "outputs": [],
   "source": []
  }
 ],
 "metadata": {
  "kernelspec": {
   "display_name": "Julia 1.9.1 (20 threads) 1.9.1",
   "language": "julia",
   "name": "julia-1.9.1-_20-threads_-1.9"
  },
  "language_info": {
   "file_extension": ".jl",
   "mimetype": "application/julia",
   "name": "julia",
   "version": "1.9.1"
  }
 },
 "nbformat": 4,
 "nbformat_minor": 5
}
