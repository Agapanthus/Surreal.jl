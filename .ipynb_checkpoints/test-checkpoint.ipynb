{
 "cells": [
  {
   "cell_type": "code",
   "execution_count": null,
   "id": "48db95a7",
   "metadata": {},
   "outputs": [],
   "source": [
    "using Pkg\n",
    "Pkg.activate(\"./\")\n",
    "include(\"./src/include.jl\")"
   ]
  },
  {
   "cell_type": "code",
   "execution_count": null,
   "id": "c0462297",
   "metadata": {},
   "outputs": [],
   "source": [
    "Surreal(2,3) == 5//2"
   ]
  },
  {
   "cell_type": "code",
   "execution_count": null,
   "id": "158925e3",
   "metadata": {},
   "outputs": [],
   "source": [
    "min(ω, Surreal(2))"
   ]
  },
  {
   "cell_type": "code",
   "execution_count": null,
   "id": "b592e06d",
   "metadata": {},
   "outputs": [],
   "source": []
  },
  {
   "cell_type": "code",
   "execution_count": null,
   "id": "e3affde6",
   "metadata": {},
   "outputs": [],
   "source": []
  }
 ],
 "metadata": {
  "kernelspec": {
   "display_name": "Julia 1.9.1 (20 threads) 1.9.1",
   "language": "julia",
   "name": "julia-1.9.1-_20-threads_-1.9"
  },
  "language_info": {
   "file_extension": ".jl",
   "mimetype": "application/julia",
   "name": "julia",
   "version": "1.9.1"
  }
 },
 "nbformat": 4,
 "nbformat_minor": 5
}
