{
 "cells": [
  {
   "cell_type": "code",
   "execution_count": 4,
   "id": "48ca6478",
   "metadata": {},
   "outputs": [
    {
     "name": "stderr",
     "output_type": "stream",
     "text": [
      "\u001b[32m\u001b[1m  Activating\u001b[22m\u001b[39m project at `~/code/Surreal.jl`\n"
     ]
    }
   ],
   "source": [
    "using Pkg\n",
    "Pkg.activate(\"./\")\n",
    "\n",
    "# idea: we don't represent ssets using natural numbers but EVERYTHING is properly surreal\n",
    "# otherwise, it's really hard to to the maths\n",
    "# futhermore, we directly use symbolics for rewriting\n",
    "\n",
    "include(\"./src2/include.jl\")\n",
    "\n",
    "const S0 = Surreal(nil, nil)\n",
    "S1 = Surreal(S0, nil)\n",
    "\n",
    "@assert S0 == S0\n",
    "\n",
    "S2 = Surreal(S1, nil)\n",
    "\n",
    "@assert S2 == Surreal([S0, S1], nil)"
   ]
  },
  {
   "cell_type": "code",
   "execution_count": 5,
   "id": "ba788957",
   "metadata": {},
   "outputs": [
    {
     "data": {
      "text/plain": [
       "true"
      ]
     },
     "execution_count": 5,
     "metadata": {},
     "output_type": "execute_result"
    }
   ],
   "source": [
    "max(S0, S1) == S1"
   ]
  },
  {
   "cell_type": "code",
   "execution_count": 13,
   "id": "f2d02e64",
   "metadata": {},
   "outputs": [
    {
     "ename": "LoadError",
     "evalue": "UndefVarError: `version` not defined",
     "output_type": "error",
     "traceback": [
      "UndefVarError: `version` not defined",
      "",
      "Stacktrace:",
      " [1] top-level scope",
      "   @ In[13]:1"
     ]
    }
   ],
   "source": []
  },
  {
   "cell_type": "code",
   "execution_count": 6,
   "id": "bce446e0",
   "metadata": {},
   "outputs": [],
   "source": [
    "using Symbolics\n",
    "using SymbolicUtils\n",
    "using SymbolicUtils: Symbolic"
   ]
  },
  {
   "cell_type": "code",
   "execution_count": 7,
   "id": "8083a388",
   "metadata": {},
   "outputs": [],
   "source": [
    "# binary ops that return Bool\n",
    "\n",
    "for (f, Domain) in [(==) => Surreal, (!=) => Surreal,\n",
    "                    (<=) => Surreal,   (>=) => Surreal,\n",
    "                    (isless) => Surreal,\n",
    "                    (<) => Surreal,   (> ) => Surreal,\n",
    "                    (<=) => SurrealSet, (<) => SurrealSet]\n",
    "    @eval begin\n",
    "        promote_symtype(::$(typeof(f)), ::Type{<:$Domain}, ::Type{<:$Domain}) = Bool\n",
    "        (::$(typeof(f)))(a::Symbolic{<:$Domain}, b::$Domain) = term($f, a, b, type=Bool)\n",
    "        (::$(typeof(f)))(a::Symbolic{<:$Domain}, b::Symbolic{<:$Domain}) = term($f, a, b, type=Bool)\n",
    "        (::$(typeof(f)))(a::$Domain, b::Symbolic{<:$Domain}) = term($f, a, b, type=Bool)\n",
    "    end\n",
    "end\n",
    "\n"
   ]
  },
  {
   "cell_type": "code",
   "execution_count": 8,
   "id": "aec07977",
   "metadata": {},
   "outputs": [
    {
     "data": {
      "text/latex": [
       "$$ \\begin{equation}\n",
       "\\mathrm{SN}\\left( 1 \\right)\n",
       "\\end{equation}\n",
       " $$"
      ],
      "text/plain": [
       "SN(1)"
      ]
     },
     "execution_count": 8,
     "metadata": {},
     "output_type": "execute_result"
    }
   ],
   "source": [
    "@syms S(l::SurrealSet, r::SurrealSet)::Surreal \n",
    "@syms ∅::SurrealSet # empty set\n",
    "@syms SSS(x::Surreal)::SurrealSet # SingularSurrealSet\n",
    "@syms SN(x::Number)::Surreal # natural number\n",
    "@syms maxUnion(x::SurrealSet, y::SurrealSet)::SurrealSet\n",
    "@syms minUnion(x::SurrealSet, y::SurrealSet)::SurrealSet\n",
    "@syms add(x::SurrealSet, y::Surreal)::SurrealSet\n",
    "@syms ⊕(x::Surreal, y::Surreal)::Surreal\n",
    "@syms myIfElse(c::Any, x::Surreal, y::Surreal)::Surreal\n",
    "\n",
    "compareRules = [    \n",
    "    @rule (~x <= ∅) => true\n",
    "    @rule (∅ <= ~x) => true\n",
    "    @rule (S(~XL, ~XR) <= S(~YL, ~YR)) => ((~XL < SSS(S(~YL, ~YR))) & (~XL < SSS(S(~YL, ~YR))))\n",
    "    \n",
    "    @rule (SSS(~x) <= SSS(~y)) => (~x <= ~y)\n",
    "    @rule (SN(~x) <= SN(~y)) => (~x <= ~y)\n",
    "]\n",
    "\n",
    "logicRules = [\n",
    "    @rule myIfElse(true, ~x, ~y) => ~x\n",
    "    @rule myIfElse(false, ~x, ~y) => ~y\n",
    "    \n",
    "    @rule !true => false\n",
    "    @rule !false => true\n",
    "    @rule true & true => true\n",
    "    @rule true & false => false\n",
    "    @rule false & true => false\n",
    "    @rule false & false => false\n",
    "    \n",
    "    @rule (~x < ~y) => ((~x <= ~y) & !(~y <= ~x))\n",
    "    @rule (~x > ~y) => (~y < ~x)\n",
    "    @rule (~x >= ~y) => (~y <= ~x)\n",
    "    @rule (~x == ~y) => ((~y <= ~x) & (~x <= ~y))\n",
    "    @rule (~x != ~y) => !(~x == ~y)\n",
    "]\n",
    "\n",
    "removeNames = [\n",
    "    @rule SN(0) => S(∅, ∅)\n",
    "    @rule SN(~x::(x -> x isa Integer && x >= 0)) => S(SSS(SN(~x - 1)), ∅)\n",
    "]\n",
    "\n",
    "\n",
    "unionRules = [\n",
    "    @rule maxUnion(∅, ~y) => ~y\n",
    "    @rule maxUnion(~x, ∅) => ~x\n",
    "    @rule maxUnion(SSS(~x), SSS(~y)) => SSS(myIfElse(~x <= ~y, ~y, ~x))\n",
    "    \n",
    "    @rule minUnion(∅, ~y) => ~y\n",
    "    @rule minUnion(~x, ∅) => ~x\n",
    "    @rule minUnion(SSS(~x), SSS(~y)) => SSS(myIfElse(~x <= ~y, ~x, ~y))\n",
    "    \n",
    "    #@rule (S(~XL, ~XR) ⊔ S(~YL, ~YR)) => ∅\n",
    "]\n",
    "\n",
    "additionRules = [\n",
    "    @rule add(∅, ~y) => ∅\n",
    "    @rule add(~x, S(∅, ∅)) => ~x\n",
    "    @rule add(SSS(~x), ~y) => SSS(~x ⊕ ~y)\n",
    "        \n",
    "    @rule (S(∅, ∅) ⊕ ~y) => ~y\n",
    "    @rule (~x ⊕ S(∅, ∅)) => ~x\n",
    "    @rule (S(~XL, ~XR) ⊕ S(~YL, ~YR)) =>  S(maxUnion(add(~XL, S(~YL, ~YR)), add(~YL, S(~XL, ~XR))), minUnion(add(~XR, S(~YL, ~YR)), add(~YR, S(~XL, ~XR))))\n",
    "]\n",
    "\n",
    "\n",
    "addNames = [\n",
    "    @rule S(∅, ∅) => SN(0)\n",
    "    @rule S(SSS(SN(~x::(x -> x isa Integer && x >= 0))), ∅) => SN(~x + 1)\n",
    "\n",
    "]\n",
    "\n",
    "\n",
    "cas = vcat(\n",
    "    #removeNames..., \n",
    "    unionRules...,\n",
    "    additionRules..., \n",
    "    #logicRules...,\n",
    "    #compareRules..., \n",
    "    #addNames...\n",
    "    )\n",
    "\n",
    "prepareChain(cas) = x -> simplify(x;\n",
    "        threaded=true,\n",
    "        rewriter= (cas |>\n",
    "        SymbolicUtils.RestartedChain |> # RestartedChain\n",
    "        SymbolicUtils.Prewalk)\n",
    "    )\n",
    "    #=\n",
    "    cas |>\n",
    "    SymbolicUtils.RestartedChain |>\n",
    "    (x -> SymbolicUtils.Prewalk(x; threaded=true)) |>\n",
    "    SymbolicUtils.Fixpoint=#\n",
    "  \n",
    "    \n",
    "c0 = prepareChain(removeNames)\n",
    "c1 = prepareChain(cas)\n",
    "c2 = prepareChain(addNames)\n",
    "    \n",
    "res = c1(c0(\n",
    "    SN(0) ⊕ SN(1)\n",
    "))\n",
    "c2(res)"
   ]
  },
  {
   "cell_type": "code",
   "execution_count": 9,
   "id": "a62cd4f2",
   "metadata": {},
   "outputs": [
    {
     "name": "stdout",
     "output_type": "stream",
     "text": [
      "  0.002801 seconds (1.85 k allocations: 114.497 KiB, 91.74% compilation time)\n",
      "  1.741133 seconds (1.84 M allocations: 117.720 MiB, 1.60% gc time, 98.93% compilation time)\n",
      "res = S(SSS(myIfElse(S(SSS(myIfElse(S(SSS(S(SSS(S(∅, ∅)), ∅)), ∅) <= S(SSS(myIfElse(S(SSS(S(∅, ∅)), ∅) <= S(SSS(S(∅, ∅)), ∅), S(SSS(S(∅, ∅)), ∅), S(SSS(S(∅, ∅)), ∅))), ∅), S(SSS(myIfElse(S(SSS(S(∅, ∅)), ∅) <= S(SSS(S(∅, ∅)), ∅), S(SSS(S(∅, ∅)), ∅), S(SSS(S(∅, ∅)), ∅))), ∅), S(SSS(S(SSS(S(∅, ∅)), ∅)), ∅))), ∅) <= S(SSS(myIfElse(S(SSS(S(SSS(S(∅, ∅)), ∅)), ∅) <= S(SSS(myIfElse(S(SSS(S(∅, ∅)), ∅) <= S(SSS(S(∅, ∅)), ∅), S(SSS(S(∅, ∅)), ∅), S(SSS(S(∅, ∅)), ∅))), ∅), S(SSS(myIfElse(S(SSS(S(∅, ∅)), ∅) <= S(SSS(S(∅, ∅)), ∅), S(SSS(S(∅, ∅)), ∅), S(SSS(S(∅, ∅)), ∅))), ∅), S(SSS(S(SSS(S(∅, ∅)), ∅)), ∅))), ∅), S(SSS(myIfElse(S(SSS(S(SSS(S(∅, ∅)), ∅)), ∅) <= S(SSS(myIfElse(S(SSS(S(∅, ∅)), ∅) <= S(SSS(S(∅, ∅)), ∅), S(SSS(S(∅, ∅)), ∅), S(SSS(S(∅, ∅)), ∅))), ∅), S(SSS(myIfElse(S(SSS(S(∅, ∅)), ∅) <= S(SSS(S(∅, ∅)), ∅), S(SSS(S(∅, ∅)), ∅), S(SSS(S(∅, ∅)), ∅))), ∅), S(SSS(S(SSS(S(∅, ∅)), ∅)), ∅))), ∅), S(SSS(myIfElse(S(SSS(S(SSS(S(∅, ∅)), ∅)), ∅) <= S(SSS(myIfElse(S(SSS(S(∅, ∅)), ∅) <= S(SSS(S(∅, ∅)), ∅), S(SSS(S(∅, ∅)), ∅), S(SSS(S(∅, ∅)), ∅))), ∅), S(SSS(myIfElse(S(SSS(S(∅, ∅)), ∅) <= S(SSS(S(∅, ∅)), ∅), S(SSS(S(∅, ∅)), ∅), S(SSS(S(∅, ∅)), ∅))), ∅), S(SSS(S(SSS(S(∅, ∅)), ∅)), ∅))), ∅))), ∅)\n",
      "  0.076997 seconds (47.63 k allocations: 3.461 MiB, 12.09% gc time, 97.14% compilation time)\n",
      "res = S(SSS(myIfElse(S(SSS(myIfElse(SN(2) <= S(SSS(myIfElse(SN(1) <= SN(1), SN(1), SN(1))), ∅), S(SSS(myIfElse(SN(1) <= SN(1), SN(1), SN(1))), ∅), SN(2))), ∅) <= S(SSS(myIfElse(SN(2) <= S(SSS(myIfElse(SN(1) <= SN(1), SN(1), SN(1))), ∅), S(SSS(myIfElse(SN(1) <= SN(1), SN(1), SN(1))), ∅), SN(2))), ∅), S(SSS(myIfElse(SN(2) <= S(SSS(myIfElse(SN(1) <= SN(1), SN(1), SN(1))), ∅), S(SSS(myIfElse(SN(1) <= SN(1), SN(1), SN(1))), ∅), SN(2))), ∅), S(SSS(myIfElse(SN(2) <= S(SSS(myIfElse(SN(1) <= SN(1), SN(1), SN(1))), ∅), S(SSS(myIfElse(SN(1) <= SN(1), SN(1), SN(1))), ∅), SN(2))), ∅))), ∅)\n"
     ]
    },
    {
     "data": {
      "text/latex": [
       "$$ \\begin{equation}\n",
       "S\\left( \\mathrm{SSS}\\left( \\mathrm{myIfElse}\\left( \\left( S\\left( \\mathrm{SSS}\\left( \\mathrm{myIfElse}\\left( \\left( \\mathrm{SN}\\left( 2 \\right) \\leq S\\left( \\mathrm{SSS}\\left( \\mathrm{myIfElse}\\left( \\left( \\mathrm{SN}\\left( 1 \\right) \\leq \\mathrm{SN}\\left( 1 \\right) \\right), \\mathrm{SN}\\left( 1 \\right), \\mathrm{SN}\\left( 1 \\right) \\right) \\right), \\emptyset \\right) \\right), S\\left( \\mathrm{SSS}\\left( \\mathrm{myIfElse}\\left( \\left( \\mathrm{SN}\\left( 1 \\right) \\leq \\mathrm{SN}\\left( 1 \\right) \\right), \\mathrm{SN}\\left( 1 \\right), \\mathrm{SN}\\left( 1 \\right) \\right) \\right), \\emptyset \\right), \\mathrm{SN}\\left( 2 \\right) \\right) \\right), \\emptyset \\right) \\leq S\\left( \\mathrm{SSS}\\left( \\mathrm{myIfElse}\\left( \\left( \\mathrm{SN}\\left( 2 \\right) \\leq S\\left( \\mathrm{SSS}\\left( \\mathrm{myIfElse}\\left( \\left( \\mathrm{SN}\\left( 1 \\right) \\leq \\mathrm{SN}\\left( 1 \\right) \\right), \\mathrm{SN}\\left( 1 \\right), \\mathrm{SN}\\left( 1 \\right) \\right) \\right), \\emptyset \\right) \\right), S\\left( \\mathrm{SSS}\\left( \\mathrm{myIfElse}\\left( \\left( \\mathrm{SN}\\left( 1 \\right) \\leq \\mathrm{SN}\\left( 1 \\right) \\right), \\mathrm{SN}\\left( 1 \\right), \\mathrm{SN}\\left( 1 \\right) \\right) \\right), \\emptyset \\right), \\mathrm{SN}\\left( 2 \\right) \\right) \\right), \\emptyset \\right) \\right), S\\left( \\mathrm{SSS}\\left( \\mathrm{myIfElse}\\left( \\left( \\mathrm{SN}\\left( 2 \\right) \\leq S\\left( \\mathrm{SSS}\\left( \\mathrm{myIfElse}\\left( \\left( \\mathrm{SN}\\left( 1 \\right) \\leq \\mathrm{SN}\\left( 1 \\right) \\right), \\mathrm{SN}\\left( 1 \\right), \\mathrm{SN}\\left( 1 \\right) \\right) \\right), \\emptyset \\right) \\right), S\\left( \\mathrm{SSS}\\left( \\mathrm{myIfElse}\\left( \\left( \\mathrm{SN}\\left( 1 \\right) \\leq \\mathrm{SN}\\left( 1 \\right) \\right), \\mathrm{SN}\\left( 1 \\right), \\mathrm{SN}\\left( 1 \\right) \\right) \\right), \\emptyset \\right), \\mathrm{SN}\\left( 2 \\right) \\right) \\right), \\emptyset \\right), S\\left( \\mathrm{SSS}\\left( \\mathrm{myIfElse}\\left( \\left( \\mathrm{SN}\\left( 2 \\right) \\leq S\\left( \\mathrm{SSS}\\left( \\mathrm{myIfElse}\\left( \\left( \\mathrm{SN}\\left( 1 \\right) \\leq \\mathrm{SN}\\left( 1 \\right) \\right), \\mathrm{SN}\\left( 1 \\right), \\mathrm{SN}\\left( 1 \\right) \\right) \\right), \\emptyset \\right) \\right), S\\left( \\mathrm{SSS}\\left( \\mathrm{myIfElse}\\left( \\left( \\mathrm{SN}\\left( 1 \\right) \\leq \\mathrm{SN}\\left( 1 \\right) \\right), \\mathrm{SN}\\left( 1 \\right), \\mathrm{SN}\\left( 1 \\right) \\right) \\right), \\emptyset \\right), \\mathrm{SN}\\left( 2 \\right) \\right) \\right), \\emptyset \\right) \\right) \\right), \\emptyset \\right)\n",
       "\\end{equation}\n",
       " $$"
      ],
      "text/plain": [
       "S(SSS(myIfElse(S(SSS(myIfElse(SN(2) <= S(SSS(myIfElse(SN(1) <= SN(1), SN(1), SN(1))), ∅), S(SSS(myIfElse(SN(1) <= SN(1), SN(1), SN(1))), ∅), SN(2))), ∅) <= S(SSS(myIfElse(SN(2) <= S(SSS(myIfElse(SN(1) <= SN(1), SN(1), SN(1))), ∅), S(SSS(myIfElse(SN(1) <= SN(1), SN(1), SN(1))), ∅), SN(2))), ∅), S(SSS(myIfElse(SN(2) <= S(SSS(myIfElse(SN(1) <= SN(1), SN(1), SN(1))), ∅), S(SSS(myIfElse(SN(1) <= SN(1), SN(1), SN(1))), ∅), SN(2))), ∅), S(SSS(myIfElse(SN(2) <= S(SSS(myIfElse(SN(1) <= SN(1), SN(1), SN(1))), ∅), S(SSS(myIfElse(SN(1) <= SN(1), SN(1), SN(1))), ∅), SN(2))), ∅))), ∅)"
      ]
     },
     "execution_count": 9,
     "metadata": {},
     "output_type": "execute_result"
    }
   ],
   "source": [
    "@time res = SN(2) ⊕ SN(2) |> c0 \n",
    "@time res = res |> c1 \n",
    "@show res\n",
    "@time res = res |> c2\n",
    "@show res"
   ]
  },
  {
   "cell_type": "code",
   "execution_count": null,
   "id": "ceb8e3e7",
   "metadata": {},
   "outputs": [],
   "source": []
  }
 ],
 "metadata": {
  "kernelspec": {
   "display_name": "Julia 1.9.1 (20 threads) 1.9.1",
   "language": "julia",
   "name": "julia-1.9.1-_20-threads_-1.9"
  },
  "language_info": {
   "file_extension": ".jl",
   "mimetype": "application/julia",
   "name": "julia",
   "version": "1.9.1"
  }
 },
 "nbformat": 4,
 "nbformat_minor": 5
}
