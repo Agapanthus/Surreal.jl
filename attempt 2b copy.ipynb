{
 "cells": [
  {
   "cell_type": "code",
   "execution_count": 3,
   "id": "8e029ff2",
   "metadata": {},
   "outputs": [
    {
     "name": "stderr",
     "output_type": "stream",
     "text": [
      "\u001b[32m\u001b[1mPrecompiling\u001b[22m\u001b[39m project...\n",
      "\u001b[32m  ✓ \u001b[39m\u001b[90mStatsFuns → StatsFunsChainRulesCoreExt\u001b[39m\n",
      "\u001b[32m  ✓ \u001b[39m\u001b[90mDistributions → DistributionsChainRulesCoreExt\u001b[39m\n",
      "\u001b[32m  ✓ \u001b[39m\u001b[90mSciMLBase\u001b[39m\n",
      "\u001b[32m  ✓ \u001b[39m\u001b[90mSciMLBase → SciMLBaseChainRulesCoreExt\u001b[39m\n",
      "\u001b[32m  ✓ \u001b[39m\u001b[90mSciMLBase → SciMLBasePyCallExt\u001b[39m\n",
      "\u001b[32m  ✓ \u001b[39mSymbolics\n",
      "\u001b[91m  ✗ \u001b[39mSurreal\n",
      "\u001b[91m  ✗ \u001b[39m\u001b[90mSymbolics → SymbolicsSymPyExt\u001b[39m\n",
      "  6 dependencies successfully precompiled in 92 seconds. 126 already precompiled. 1 skipped during auto due to previous errors.\n",
      "  \u001b[91m2\u001b[39m dependencies errored. To see a full report either run `import Pkg; Pkg.precompile()` or load the packages\n",
      "\u001b[32m\u001b[1m  Activating\u001b[22m\u001b[39m project at `/mnt/c/Users/eric/Documents/Surreal.jl`\n"
     ]
    },
    {
     "name": "stdout",
     "output_type": "stream",
     "text": [
      "  5.734846 seconds (9.56 M allocations: 664.019 MiB, 3.55% gc time, 98.84% compilation time)\n",
      " 11.018446 seconds (9.00 M allocations: 407.567 MiB, 1.44% gc time, 95.42% compilation time: 5% of which was recompilation)\n"
     ]
    }
   ],
   "source": [
    "using Pkg\n",
    "Pkg.instantiate()\n",
    "Pkg.activate(\"./\")\n",
    "include(\"./src/include.jl\")\n",
    "include(\"./src/test.jl\")"
   ]
  },
  {
   "cell_type": "code",
   "execution_count": 7,
   "metadata": {},
   "outputs": [
    {
     "data": {
      "text/plain": [
       "2"
      ]
     },
     "execution_count": 7,
     "metadata": {},
     "output_type": "execute_result"
    }
   ],
   "source": [
    "(Surreal(1) + 1)"
   ]
  },
  {
   "cell_type": "code",
   "execution_count": 8,
   "id": "ad10a297",
   "metadata": {},
   "outputs": [
    {
     "data": {
      "text/plain": [
       "((1/2*n-ω)|-n)"
      ]
     },
     "execution_count": 8,
     "metadata": {},
     "output_type": "execute_result"
    }
   ],
   "source": [
    "omega * -1//2 |> simplify"
   ]
  },
  {
   "cell_type": "code",
   "execution_count": 9,
   "id": "a4924f44",
   "metadata": {},
   "outputs": [
    {
     "data": {
      "text/plain": [
       "No::MaybeBool = 0"
      ]
     },
     "execution_count": 9,
     "metadata": {},
     "output_type": "execute_result"
    }
   ],
   "source": [
    "isFinite(omega)"
   ]
  },
  {
   "cell_type": "code",
   "execution_count": 11,
   "id": "a4621f5f",
   "metadata": {},
   "outputs": [
    {
     "name": "stdout",
     "output_type": "stream",
     "text": [
      "  3.529761 seconds (8.99 M allocations: 659.316 MiB, 6.44% gc time, 0.11% compilation time)\n"
     ]
    },
    {
     "data": {
      "text/plain": [
       "(n|((n|((n|(-n+ω))-n))-n))"
      ]
     },
     "execution_count": 11,
     "metadata": {},
     "output_type": "execute_result"
    }
   ],
   "source": [
    "# TODO: make this faster\n",
    "@time omega * 1//8 |> simplify"
   ]
  },
  {
   "cell_type": "code",
   "execution_count": 12,
   "id": "4f2a7c4d",
   "metadata": {},
   "outputs": [
    {
     "data": {
      "text/plain": [
       "(n|(-n+ω))"
      ]
     },
     "execution_count": 12,
     "metadata": {},
     "output_type": "execute_result"
    }
   ],
   "source": [
    "1//2 * omega |> simplify"
   ]
  },
  {
   "cell_type": "code",
   "execution_count": 18,
   "id": "c54ac55f",
   "metadata": {},
   "outputs": [
    {
     "data": {
      "text/plain": [
       "-ω"
      ]
     },
     "execution_count": 18,
     "metadata": {},
     "output_type": "execute_result"
    }
   ],
   "source": [
    "simplify(Surreal(nil, -1//2*n_s))"
   ]
  },
  {
   "cell_type": "code",
   "execution_count": 13,
   "id": "8a32cbde",
   "metadata": {},
   "outputs": [
    {
     "data": {
      "text/plain": [
       "(((((ω|∅)|∅)|∅)+n)⩂((((ω|∅)|∅)+n)⩂(((ω|∅)+n)⩂((n+ω)|∅)|∅)|∅)|∅)"
      ]
     },
     "execution_count": 13,
     "metadata": {},
     "output_type": "execute_result"
    }
   ],
   "source": [
    "omega + 3 + omega"
   ]
  },
  {
   "cell_type": "code",
   "execution_count": null,
   "id": "8492a3bf",
   "metadata": {},
   "outputs": [],
   "source": []
  },
  {
   "cell_type": "code",
   "execution_count": null,
   "id": "5280d0da",
   "metadata": {},
   "outputs": [],
   "source": []
  },
  {
   "cell_type": "code",
   "execution_count": null,
   "id": "9bb2eb55",
   "metadata": {},
   "outputs": [],
   "source": []
  },
  {
   "cell_type": "code",
   "execution_count": null,
   "id": "4507f517",
   "metadata": {},
   "outputs": [],
   "source": []
  },
  {
   "cell_type": "code",
   "execution_count": null,
   "id": "af739447",
   "metadata": {},
   "outputs": [],
   "source": []
  },
  {
   "cell_type": "code",
   "execution_count": null,
   "id": "aa755a63",
   "metadata": {},
   "outputs": [],
   "source": []
  },
  {
   "cell_type": "code",
   "execution_count": null,
   "id": "a9a1820b",
   "metadata": {},
   "outputs": [],
   "source": []
  }
 ],
 "metadata": {
  "kernelspec": {
   "display_name": "Julia 1.9.3",
   "language": "julia",
   "name": "julia-1.9"
  },
  "language_info": {
   "file_extension": ".jl",
   "mimetype": "application/julia",
   "name": "julia",
   "version": "1.9.3"
  }
 },
 "nbformat": 4,
 "nbformat_minor": 5
}
