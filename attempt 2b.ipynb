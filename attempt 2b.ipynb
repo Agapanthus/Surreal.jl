{
 "cells": [
  {
   "cell_type": "code",
   "execution_count": 1,
   "id": "8e029ff2",
   "metadata": {},
   "outputs": [
    {
     "name": "stderr",
     "output_type": "stream",
     "text": [
      "\u001b[32m\u001b[1m  Activating\u001b[22m\u001b[39m project at `~/code/Surreal.jl`\n"
     ]
    }
   ],
   "source": [
    "using Pkg\n",
    "Pkg.activate(\"./\")"
   ]
  },
  {
   "cell_type": "code",
   "execution_count": 60,
   "id": "07d4cd3f",
   "metadata": {},
   "outputs": [
    {
     "ename": "LoadError",
     "evalue": "LoadError: MethodError: no method matching Surreal(::Vector{Int64})\n\n\u001b[0mClosest candidates are:\n\u001b[0m  Surreal(::Any, \u001b[91m::Any\u001b[39m)\n\u001b[0m\u001b[90m   @\u001b[39m \u001b[35mMain\u001b[39m \u001b[90m~/code/Surreal.jl/src2/\u001b[39m\u001b[90m\u001b[4msurreal.jl:5\u001b[24m\u001b[39m\n\u001b[0m  Surreal(::Any, \u001b[91m::Any\u001b[39m, \u001b[91m::Bool\u001b[39m)\n\u001b[0m\u001b[90m   @\u001b[39m \u001b[35mMain\u001b[39m \u001b[90m~/code/Surreal.jl/src2/\u001b[39m\u001b[90m\u001b[4msurreal.jl:5\u001b[24m\u001b[39m\n\u001b[0m  Surreal(\u001b[91m::Int64\u001b[39m)\n\u001b[0m\u001b[90m   @\u001b[39m \u001b[35mMain\u001b[39m \u001b[90m~/code/Surreal.jl/src2/\u001b[39m\u001b[90m\u001b[4msurreal_dyadic.jl:7\u001b[24m\u001b[39m\n\u001b[0m  ...\n\nin expression starting at /home/eric/code/Surreal.jl/src2/test.jl:13",
     "output_type": "error",
     "traceback": [
      "LoadError: MethodError: no method matching Surreal(::Vector{Int64})\n\n\u001b[0mClosest candidates are:\n\u001b[0m  Surreal(::Any, \u001b[91m::Any\u001b[39m)\n\u001b[0m\u001b[90m   @\u001b[39m \u001b[35mMain\u001b[39m \u001b[90m~/code/Surreal.jl/src2/\u001b[39m\u001b[90m\u001b[4msurreal.jl:5\u001b[24m\u001b[39m\n\u001b[0m  Surreal(::Any, \u001b[91m::Any\u001b[39m, \u001b[91m::Bool\u001b[39m)\n\u001b[0m\u001b[90m   @\u001b[39m \u001b[35mMain\u001b[39m \u001b[90m~/code/Surreal.jl/src2/\u001b[39m\u001b[90m\u001b[4msurreal.jl:5\u001b[24m\u001b[39m\n\u001b[0m  Surreal(\u001b[91m::Int64\u001b[39m)\n\u001b[0m\u001b[90m   @\u001b[39m \u001b[35mMain\u001b[39m \u001b[90m~/code/Surreal.jl/src2/\u001b[39m\u001b[90m\u001b[4msurreal_dyadic.jl:7\u001b[24m\u001b[39m\n\u001b[0m  ...\n\nin expression starting at /home/eric/code/Surreal.jl/src2/test.jl:13",
      "",
      "Stacktrace:",
      " [1] top-level scope",
      "   @ ~/code/Surreal.jl/src2/test.jl:13",
      " [2] include(fname::String)",
      "   @ Base.MainInclude ./client.jl:478",
      " [3] top-level scope",
      "   @ In[60]:2"
     ]
    }
   ],
   "source": [
    "include(\"./src2/include.jl\")\n",
    "include(\"./src2/test.jl\")\n",
    "\n",
    "S1 = Surreal(S0, nil)\n",
    "\n",
    "@assert S0 == S0\n",
    "\n",
    "S2 = Surreal(S1, nil)\n",
    "\n",
    "@assert S2 == Surreal([S0, S1], nil)"
   ]
  },
  {
   "cell_type": "code",
   "execution_count": 45,
   "id": "1443eb63",
   "metadata": {},
   "outputs": [
    {
     "data": {
      "text/plain": [
       "(4|∅)"
      ]
     },
     "execution_count": 45,
     "metadata": {},
     "output_type": "execute_result"
    }
   ],
   "source": [
    "include(\"./src2/include.jl\")\n",
    "\n",
    "Surreal([Surreal(2),autoSurrealSet([2,3])], nil) + Surreal(1)"
   ]
  },
  {
   "cell_type": "code",
   "execution_count": 39,
   "id": "9c10de7a",
   "metadata": {},
   "outputs": [
    {
     "data": {
      "text/plain": [
       "({2,3,{4,5}}|6)"
      ]
     },
     "execution_count": 39,
     "metadata": {},
     "output_type": "execute_result"
    }
   ],
   "source": [
    "Surreal([2,3,[4,5]], 6) "
   ]
  },
  {
   "cell_type": "code",
   "execution_count": 19,
   "id": "a770d22e",
   "metadata": {},
   "outputs": [
    {
     "data": {
      "text/plain": [
       "{2,3}"
      ]
     },
     "execution_count": 19,
     "metadata": {},
     "output_type": "execute_result"
    }
   ],
   "source": [
    "autoSurrealSet([2,3])"
   ]
  },
  {
   "cell_type": "code",
   "execution_count": 342,
   "id": "e0b1839f",
   "metadata": {},
   "outputs": [
    {
     "data": {
      "text/plain": [
       "(∅|∅)"
      ]
     },
     "execution_count": 342,
     "metadata": {},
     "output_type": "execute_result"
    }
   ],
   "source": [
    "simplify(Surreal(-1, 66//2))"
   ]
  },
  {
   "cell_type": "code",
   "execution_count": 343,
   "id": "9d9cd702",
   "metadata": {},
   "outputs": [
    {
     "data": {
      "text/plain": [
       "true"
      ]
     },
     "execution_count": 343,
     "metadata": {},
     "output_type": "execute_result"
    }
   ],
   "source": [
    "Surreal(Surreal(Surreal(0),Surreal(1)), nil) == Surreal(1)"
   ]
  },
  {
   "cell_type": "code",
   "execution_count": 296,
   "id": "f167838a",
   "metadata": {},
   "outputs": [
    {
     "data": {
      "text/plain": [
       "13311//32"
      ]
     },
     "execution_count": 296,
     "metadata": {},
     "output_type": "execute_result"
    }
   ],
   "source": [
    "include(\"./src2/include.jl\")\n",
    "\n",
    "#s = Surreal(131//32)\n",
    "Surreal(13311//32) |> toFrac"
   ]
  },
  {
   "cell_type": "code",
   "execution_count": 248,
   "id": "5cf3c1d5",
   "metadata": {},
   "outputs": [
    {
     "data": {
      "text/plain": [
       "true"
      ]
     },
     "execution_count": 248,
     "metadata": {},
     "output_type": "execute_result"
    }
   ],
   "source": [
    "Surreal(Surreal(1//128), nil) == Surreal(1)"
   ]
  },
  {
   "cell_type": "code",
   "execution_count": 249,
   "id": "7d7b7e77",
   "metadata": {},
   "outputs": [
    {
     "data": {
      "text/plain": [
       "(6//1, 11//2)"
      ]
     },
     "execution_count": 249,
     "metadata": {},
     "output_type": "execute_result"
    }
   ],
   "source": [
    "include(\"./src2/include.jl\")\n",
    "\n",
    "#Surreal(Surreal(Surreal(-3), nil) |> toFrac) == Surreal(Surreal(-3), nil)\n",
    "\n",
    "#lca(41//8, 100//4)\n",
    "lca(41//8, 6//1)"
   ]
  },
  {
   "cell_type": "code",
   "execution_count": 250,
   "id": "e44607cb",
   "metadata": {},
   "outputs": [
    {
     "data": {
      "text/plain": [
       "true"
      ]
     },
     "execution_count": 250,
     "metadata": {},
     "output_type": "execute_result"
    }
   ],
   "source": [
    "Surreal(Surreal(41//8), Surreal(6//1)) == Surreal(11//2)"
   ]
  },
  {
   "cell_type": "code",
   "execution_count": 251,
   "id": "1422d53d",
   "metadata": {},
   "outputs": [
    {
     "data": {
      "text/plain": [
       "true"
      ]
     },
     "execution_count": 251,
     "metadata": {},
     "output_type": "execute_result"
    }
   ],
   "source": [
    "Surreal(Surreal(1//4), Surreal(1)) == Surreal(1//2)"
   ]
  },
  {
   "cell_type": "code",
   "execution_count": 252,
   "id": "3ed8bf04",
   "metadata": {},
   "outputs": [
    {
     "data": {
      "text/plain": [
       "true"
      ]
     },
     "execution_count": 252,
     "metadata": {},
     "output_type": "execute_result"
    }
   ],
   "source": [
    "Surreal(Surreal(3//4), Surreal(1)) == Surreal(7//8)"
   ]
  },
  {
   "cell_type": "code",
   "execution_count": 253,
   "id": "ef9ebff7",
   "metadata": {},
   "outputs": [
    {
     "data": {
      "text/plain": [
       "-21//4"
      ]
     },
     "execution_count": 253,
     "metadata": {},
     "output_type": "execute_result"
    }
   ],
   "source": [
    "dyadicParent(-41//8)"
   ]
  },
  {
   "cell_type": "code",
   "execution_count": 183,
   "id": "72b2559f",
   "metadata": {},
   "outputs": [
    {
     "data": {
      "text/plain": [
       "21//4"
      ]
     },
     "execution_count": 183,
     "metadata": {},
     "output_type": "execute_result"
    }
   ],
   "source": [
    "dyadicParent(41//8)"
   ]
  },
  {
   "cell_type": "code",
   "execution_count": 359,
   "id": "4ecfbf37",
   "metadata": {},
   "outputs": [],
   "source": [
    "iterate(1, nothing)"
   ]
  },
  {
   "cell_type": "code",
   "execution_count": null,
   "id": "d896da24",
   "metadata": {},
   "outputs": [],
   "source": []
  },
  {
   "cell_type": "code",
   "execution_count": null,
   "id": "3aa4702d",
   "metadata": {},
   "outputs": [],
   "source": []
  }
 ],
 "metadata": {
  "kernelspec": {
   "display_name": "Julia 1.9.1 (20 threads) 1.9.1",
   "language": "julia",
   "name": "julia-1.9.1-_20-threads_-1.9"
  },
  "language_info": {
   "file_extension": ".jl",
   "mimetype": "application/julia",
   "name": "julia",
   "version": "1.9.1"
  }
 },
 "nbformat": 4,
 "nbformat_minor": 5
}
