{
 "cells": [
  {
   "cell_type": "code",
   "execution_count": 3,
   "id": "8e029ff2",
   "metadata": {},
   "outputs": [
    {
     "name": "stderr",
     "output_type": "stream",
     "text": [
      "\u001b[32m\u001b[1m  Activating\u001b[22m\u001b[39m project at `~/code/Surreal.jl`\n"
     ]
    },
    {
     "name": "stdout",
     "output_type": "stream",
     "text": [
      "  2.487126 seconds (49.75 M allocations: 1.603 GiB, 5.88% gc time, 71.56% compilation time)\n"
     ]
    }
   ],
   "source": [
    "using Pkg\n",
    "Pkg.activate(\"./\")\n",
    "include(\"./src2/include.jl\")\n",
    "include(\"./src2/test.jl\")"
   ]
  },
  {
   "cell_type": "code",
   "execution_count": 9,
   "id": "ecc4003b",
   "metadata": {
    "scrolled": true
   },
   "outputs": [
    {
     "name": "stdout",
     "output_type": "stream",
     "text": [
      "operation(e) = lu_s\n",
      "UndefVarError: `TODO` not defined"
     ]
    },
    {
     "data": {
      "text/plain": [
       "46-element Vector{Base.StackTraces.StackFrame}:\n",
       " hasFiniteUpperLimit(e::SymbolicUtils.BasicSymbolic{SurrealExpression}) at surrealExpression.jl:126\n",
       " hasFiniteUpperLimit(x::CountedSurrealSet) at surreal_counted.jl:34\n",
       " isFinite(x::Surreal) at surreal.jl:93\n",
       " isInfinite(x::Surreal) at surreal.jl:96\n",
       " isOmegaFast at surreal.jl:108 [inlined]\n",
       " (::var\"#390#391\"{typeof(isOmegaFast)})(x::Surreal) at surrealExpression.jl:154\n",
       " (::SymbolicUtils.var\"#slot_matcher#95\"{SymbolicUtils.Slot{var\"#390#391\"{typeof(isOmegaFast)}}})(next::SymbolicUtils.var\"#97#100\"{SymbolicUtils.LL{Vector{Any}}, SymbolicUtils.LL{Tuple{SymbolicUtils.var\"#literal_matcher#94\"{SymbolicUtils.BasicSymbolic{SymbolicUtils.FnType{Tuple{Surreal}, SurrealExpression}}}, SymbolicUtils.var\"#slot_matcher#95\"{SymbolicUtils.Slot{var\"#390#391\"{typeof(isOmegaFast)}}}}}}, data::SymbolicUtils.LL{Vector{Any}}, bindings::Base.ImmutableDict{Symbol, Any}) at matchers.jl:24\n",
       " (::SymbolicUtils.var\"#loop#99\"{SymbolicUtils.var\"#success#85\"{var\"#410#411\"}})(term::SymbolicUtils.LL{Vector{Any}}, bindings′::Base.ImmutableDict{Symbol, Any}, matchers′::SymbolicUtils.LL{Tuple{SymbolicUtils.var\"#literal_matcher#94\"{SymbolicUtils.BasicSymbolic{SymbolicUtils.FnType{Tuple{Surreal}, SurrealExpression}}}, SymbolicUtils.var\"#slot_matcher#95\"{SymbolicUtils.Slot{var\"#390#391\"{typeof(isOmegaFast)}}}}}) at matchers.jl:101\n",
       " (::SymbolicUtils.var\"#97#100\"{SymbolicUtils.BasicSymbolic{SurrealExpression}, Tuple{SymbolicUtils.var\"#literal_matcher#94\"{SymbolicUtils.BasicSymbolic{SymbolicUtils.FnType{Tuple{Surreal}, SurrealExpression}}}, SymbolicUtils.var\"#slot_matcher#95\"{SymbolicUtils.Slot{var\"#390#391\"{typeof(isOmegaFast)}}}}})(b::Base.ImmutableDict{Symbol, Any}, n::Int64) at matchers.jl:102\n",
       " (::SymbolicUtils.var\"#literal_matcher#94\"{SymbolicUtils.BasicSymbolic{SymbolicUtils.FnType{Tuple{Surreal}, SurrealExpression}}})(next::SymbolicUtils.var\"#97#100\"{SymbolicUtils.BasicSymbolic{SurrealExpression}, Tuple{SymbolicUtils.var\"#literal_matcher#94\"{SymbolicUtils.BasicSymbolic{SymbolicUtils.FnType{Tuple{Surreal}, SurrealExpression}}}, SymbolicUtils.var\"#slot_matcher#95\"{SymbolicUtils.Slot{var\"#390#391\"{typeof(isOmegaFast)}}}}}, data::SymbolicUtils.BasicSymbolic{SurrealExpression}, bindings::Base.ImmutableDict{Symbol, Any}) at matchers.jl:11\n",
       " (::SymbolicUtils.var\"#loop#99\"{SymbolicUtils.var\"#success#85\"{var\"#410#411\"}})(term::SymbolicUtils.BasicSymbolic{SurrealExpression}, bindings′::Base.ImmutableDict{Symbol, Any}, matchers′::Tuple{SymbolicUtils.var\"#literal_matcher#94\"{SymbolicUtils.BasicSymbolic{SymbolicUtils.FnType{Tuple{Surreal}, SurrealExpression}}}, SymbolicUtils.var\"#slot_matcher#95\"{SymbolicUtils.Slot{var\"#390#391\"{typeof(isOmegaFast)}}}}) at matchers.jl:101\n",
       " (::SymbolicUtils.var\"#term_matcher#98\"{Tuple{SymbolicUtils.var\"#literal_matcher#94\"{SymbolicUtils.BasicSymbolic{SymbolicUtils.FnType{Tuple{Surreal}, SurrealExpression}}}, SymbolicUtils.var\"#slot_matcher#95\"{SymbolicUtils.Slot{var\"#390#391\"{typeof(isOmegaFast)}}}}})(success::SymbolicUtils.var\"#success#85\"{var\"#410#411\"}, data::Tuple{SymbolicUtils.BasicSymbolic{SurrealExpression}}, bindings::Base.ImmutableDict{Symbol, Any}) at matchers.jl:106\n",
       " (::SymbolicUtils.Rule{SymbolicUtils.BasicSymbolic{Any}, SymbolicUtils.var\"#term_matcher#98\"{Tuple{SymbolicUtils.var\"#literal_matcher#94\"{SymbolicUtils.BasicSymbolic{SymbolicUtils.FnType{Tuple{Surreal}, SurrealExpression}}}, SymbolicUtils.var\"#slot_matcher#95\"{SymbolicUtils.Slot{var\"#390#391\"{typeof(isOmegaFast)}}}}}, var\"#410#411\"})(term::SymbolicUtils.BasicSymbolic{SurrealExpression}) at rule.jl:143\n",
       " ⋮\n",
       " +(x::Surreal, y::Surreal) at surreal.jl:46\n",
       " +(x::SingularSurrealSet, y::Surreal) at surreal_singular.jl:31\n",
       " +(x::Surreal, y::Surreal) at surreal.jl:46\n",
       " top-level scope at In[9]:5\n",
       " eval at boot.jl:370 [inlined]\n",
       " include_string(mapexpr::typeof(REPL.softscope), mod::Module, code::String, filename::String) at loading.jl:1899\n",
       " softscope_include_string(m::Module, code::String, filename::String) at SoftGlobalScope.jl:65\n",
       " execute_request(socket::ZMQ.Socket, msg::IJulia.Msg) at execute_request.jl:67\n",
       " #invokelatest#2 at essentials.jl:816 [inlined]\n",
       " invokelatest at essentials.jl:813 [inlined]\n",
       " eventloop(socket::ZMQ.Socket) at eventloop.jl:8\n",
       " (::IJulia.var\"#15#18\")() at task.jl:514"
      ]
     },
     "metadata": {},
     "output_type": "display_data"
    },
    {
     "ename": "LoadError",
     "evalue": "Failed to apply rule X_s(~(x::showMeError(isOmegaFast))) => omega_s on expression (n∪ω|∅)",
     "output_type": "error",
     "traceback": [
      "Failed to apply rule X_s(~(x::showMeError(isOmegaFast))) => omega_s on expression (n∪ω|∅)",
      "",
      "Stacktrace:",
      "  [1] (::SymbolicUtils.Rule{SymbolicUtils.BasicSymbolic{Any}, SymbolicUtils.var\"#term_matcher#98\"{Tuple{SymbolicUtils.var\"#literal_matcher#94\"{SymbolicUtils.BasicSymbolic{SymbolicUtils.FnType{Tuple{Surreal}, SurrealExpression}}}, SymbolicUtils.var\"#slot_matcher#95\"{SymbolicUtils.Slot{var\"#390#391\"{typeof(isOmegaFast)}}}}}, var\"#410#411\"})(term::SymbolicUtils.BasicSymbolic{SurrealExpression})",
      "    @ SymbolicUtils ~/.julia/packages/SymbolicUtils/H684H/src/rule.jl:145",
      "  [2] macro expansion",
      "    @ ~/.julia/packages/SymbolicUtils/H684H/src/utils.jl:11 [inlined]",
      "  [3] (::SymbolicUtils.Rewriters.Chain)(x::SymbolicUtils.BasicSymbolic{SurrealExpression})",
      "    @ SymbolicUtils.Rewriters ~/.julia/packages/SymbolicUtils/H684H/src/rewriters.jl:69",
      "  [4] (::SymbolicUtils.Rewriters.RestartedChain{Vector{SymbolicUtils.Rule{SymbolicUtils.BasicSymbolic{Any}}}})(x::SymbolicUtils.BasicSymbolic{SurrealExpression})",
      "    @ SymbolicUtils.Rewriters ~/.julia/packages/SymbolicUtils/H684H/src/rewriters.jl:89",
      "  [5] (::SymbolicUtils.Rewriters.Walk{:pre, SymbolicUtils.Rewriters.RestartedChain{Vector{SymbolicUtils.Rule{SymbolicUtils.BasicSymbolic{Any}}}}, typeof(SymbolicUtils.similarterm), false})(x::SymbolicUtils.BasicSymbolic{SurrealExpression})",
      "    @ SymbolicUtils.Rewriters ~/.julia/packages/SymbolicUtils/H684H/src/rewriters.jl:0",
      "  [6] (::SymbolicUtils.Rewriters.PassThrough{SymbolicUtils.Rewriters.Walk{:pre, SymbolicUtils.Rewriters.RestartedChain{Vector{SymbolicUtils.Rule{SymbolicUtils.BasicSymbolic{Any}}}}, typeof(SymbolicUtils.similarterm), false}})(x::SymbolicUtils.BasicSymbolic{SurrealExpression})",
      "    @ SymbolicUtils.Rewriters ~/.julia/packages/SymbolicUtils/H684H/src/rewriters.jl:188",
      "  [7] iterate",
      "    @ ./generator.jl:47 [inlined]",
      "  [8] collect_to!(dest::Vector{SymbolicUtils.BasicSymbolic{SurrealExpression}}, itr::Base.Generator{Vector{Any}, SymbolicUtils.Rewriters.PassThrough{SymbolicUtils.Rewriters.Walk{:pre, SymbolicUtils.Rewriters.RestartedChain{Vector{SymbolicUtils.Rule{SymbolicUtils.BasicSymbolic{Any}}}}, typeof(SymbolicUtils.similarterm), false}}}, offs::Int64, st::Int64)",
      "    @ Base ./array.jl:840",
      "  [9] collect_to_with_first!(dest::Vector{SymbolicUtils.BasicSymbolic{SurrealExpression}}, v1::SymbolicUtils.BasicSymbolic{SurrealExpression}, itr::Base.Generator{Vector{Any}, SymbolicUtils.Rewriters.PassThrough{SymbolicUtils.Rewriters.Walk{:pre, SymbolicUtils.Rewriters.RestartedChain{Vector{SymbolicUtils.Rule{SymbolicUtils.BasicSymbolic{Any}}}}, typeof(SymbolicUtils.similarterm), false}}}, st::Int64)",
      "    @ Base ./array.jl:818",
      " [10] _collect(c::Vector{Any}, itr::Base.Generator{Vector{Any}, SymbolicUtils.Rewriters.PassThrough{SymbolicUtils.Rewriters.Walk{:pre, SymbolicUtils.Rewriters.RestartedChain{Vector{SymbolicUtils.Rule{SymbolicUtils.BasicSymbolic{Any}}}}, typeof(SymbolicUtils.similarterm), false}}}, #unused#::Base.EltypeUnknown, isz::Base.HasShape{1})",
      "    @ Base ./array.jl:812",
      " [11] collect_similar",
      "    @ ./array.jl:711 [inlined]",
      " [12] map(f::SymbolicUtils.Rewriters.PassThrough{SymbolicUtils.Rewriters.Walk{:pre, SymbolicUtils.Rewriters.RestartedChain{Vector{SymbolicUtils.Rule{SymbolicUtils.BasicSymbolic{Any}}}}, typeof(SymbolicUtils.similarterm), false}}, A::Vector{Any})",
      "    @ Base ./abstractarray.jl:3261",
      " [13] (::SymbolicUtils.Rewriters.Walk{:pre, SymbolicUtils.Rewriters.RestartedChain{Vector{SymbolicUtils.Rule{SymbolicUtils.BasicSymbolic{Any}}}}, typeof(SymbolicUtils.similarterm), false})(x::SymbolicUtils.BasicSymbolic{SurrealExpression})",
      "    @ SymbolicUtils.Rewriters ~/.julia/packages/SymbolicUtils/H684H/src/rewriters.jl:198",
      " [14] macro expansion",
      "    @ ~/.julia/packages/SymbolicUtils/H684H/src/utils.jl:11 [inlined]",
      " [15] (::SymbolicUtils.Rewriters.Fixpoint{SymbolicUtils.Rewriters.Walk{:pre, SymbolicUtils.Rewriters.RestartedChain{Vector{SymbolicUtils.Rule{SymbolicUtils.BasicSymbolic{Any}}}}, typeof(SymbolicUtils.similarterm), false}})(x::SymbolicUtils.BasicSymbolic{SurrealExpression})",
      "    @ SymbolicUtils.Rewriters ~/.julia/packages/SymbolicUtils/H684H/src/rewriters.jl:118",
      " [16] PassThrough",
      "    @ ~/.julia/packages/SymbolicUtils/H684H/src/rewriters.jl:188 [inlined]",
      " [17] simplify(x::SymbolicUtils.BasicSymbolic{SurrealExpression}; expand::Bool, polynorm::Nothing, threaded::Bool, simplify_fractions::Bool, thread_subtree_cutoff::Int64, rewriter::SymbolicUtils.Rewriters.Walk{:pre, SymbolicUtils.Rewriters.RestartedChain{Vector{SymbolicUtils.Rule{SymbolicUtils.BasicSymbolic{Any}}}}, typeof(SymbolicUtils.similarterm), false})",
      "    @ SymbolicUtils ~/.julia/packages/SymbolicUtils/H684H/src/simplify.jl:41",
      " [18] simplify",
      "    @ ~/.julia/packages/SymbolicUtils/H684H/src/simplify.jl:16 [inlined]",
      " [19] (::var\"#388#389\"{Vector{SymbolicUtils.Rule{SymbolicUtils.BasicSymbolic{Any}}}})(x::SymbolicUtils.BasicSymbolic{SurrealExpression})",
      "    @ Main ~/code/Surreal.jl/src2/surrealExpression.jl:145",
      " [20] lowerUnion(x::CountedSurrealSet, y::CountedSurrealSet)",
      "    @ Main ~/code/Surreal.jl/src2/surreal_counted.jl:56",
      " [21] lowerUnion(x::CountedSurrealSet, y::SingularSurrealSet)",
      "    @ Main ~/code/Surreal.jl/src2/surreal_counted.jl:53",
      " [22] lowerUnion(x::SingularSurrealSet, y::CountedSurrealSet)",
      "    @ Main ~/code/Surreal.jl/src2/surreal_counted.jl:54",
      " [23] +(x::Surreal, y::Surreal)",
      "    @ Main ~/code/Surreal.jl/src2/surreal.jl:46",
      " [24] +(x::SingularSurrealSet, y::Surreal)",
      "    @ Main ~/code/Surreal.jl/src2/surreal_singular.jl:31",
      " [25] +(x::Surreal, y::Surreal)",
      "    @ Main ~/code/Surreal.jl/src2/surreal.jl:46",
      " [26] top-level scope",
      "    @ In[9]:5"
     ]
    }
   ],
   "source": [
    "include(\"./src2/include.jl\")\n",
    "\n",
    "#Surreal(add_s(X_s(omega), X_s(Surreal(2))), nil)\n",
    "\n",
    "omega + Surreal(3)\n",
    "@time omega + Surreal(3)"
   ]
  },
  {
   "cell_type": "code",
   "execution_count": 3,
   "id": "2ae5cf89",
   "metadata": {},
   "outputs": [
    {
     "data": {
      "text/plain": [
       "(n+ω|∅)"
      ]
     },
     "execution_count": 3,
     "metadata": {},
     "output_type": "execute_result"
    }
   ],
   "source": [
    "include(\"./src2/include.jl\")\n",
    "omega + omega"
   ]
  },
  {
   "cell_type": "code",
   "execution_count": null,
   "id": "416a15f0",
   "metadata": {},
   "outputs": [],
   "source": []
  },
  {
   "cell_type": "code",
   "execution_count": 97,
   "id": "4ecfbf37",
   "metadata": {
    "scrolled": true
   },
   "outputs": [
    {
     "ename": "LoadError",
     "evalue": "MethodError: no method matching isNegative(::CountedSurrealSet)\n\n\u001b[0mClosest candidates are:\n\u001b[0m  isNegative(\u001b[91m::Surreal\u001b[39m)\n\u001b[0m\u001b[90m   @\u001b[39m \u001b[36mMain\u001b[39m \u001b[90m~/code/Surreal.jl/src2/\u001b[39m\u001b[90m\u001b[4msurreal.jl:81\u001b[24m\u001b[39m\n",
     "output_type": "error",
     "traceback": [
      "MethodError: no method matching isNegative(::CountedSurrealSet)\n\n\u001b[0mClosest candidates are:\n\u001b[0m  isNegative(\u001b[91m::Surreal\u001b[39m)\n\u001b[0m\u001b[90m   @\u001b[39m \u001b[36mMain\u001b[39m \u001b[90m~/code/Surreal.jl/src2/\u001b[39m\u001b[90m\u001b[4msurreal.jl:81\u001b[24m\u001b[39m\n",
      "",
      "Stacktrace:",
      " [1] <(x::CountedSurrealSet, y::Surreal)",
      "   @ Main ~/code/Surreal.jl/src2/surreal_counted.jl:16",
      " [2] <=(x::Surreal, y::Surreal)",
      "   @ Main ~/code/Surreal.jl/src2/surreal.jl:14",
      " [3] <(x::Surreal, y::Surreal)",
      "   @ Main ~/code/Surreal.jl/src2/surreal.jl:19",
      " [4] <(x::SingularSurrealSet, y::Surreal)",
      "   @ Main ~/code/Surreal.jl/src2/surreal_singular.jl:9",
      " [5] <=(x::Surreal, y::Surreal)",
      "   @ Main ~/code/Surreal.jl/src2/surreal.jl:14",
      " [6] top-level scope",
      "   @ In[97]:1"
     ]
    }
   ],
   "source": [
    "Surreal(1) <= omega"
   ]
  },
  {
   "cell_type": "code",
   "execution_count": 52,
   "id": "eeecef41",
   "metadata": {},
   "outputs": [
    {
     "data": {
      "text/plain": [
       "1-element Vector{Tuple{Int64, Int64}}:\n",
       " (1, 2)"
      ]
     },
     "execution_count": 52,
     "metadata": {},
     "output_type": "execute_result"
    }
   ],
   "source": [
    "collect(zip([1], [2]))"
   ]
  },
  {
   "cell_type": "code",
   "execution_count": 4,
   "id": "399fa8f2",
   "metadata": {},
   "outputs": [
    {
     "ename": "LoadError",
     "evalue": "syntax: invalid identifier name \"->\"",
     "output_type": "error",
     "traceback": [
      "syntax: invalid identifier name \"->\"",
      "",
      "Stacktrace:",
      " [1] top-level scope",
      "   @ In[4]:1"
     ]
    }
   ],
   "source": [
    "1 <-> 2"
   ]
  },
  {
   "cell_type": "code",
   "execution_count": null,
   "id": "b926c000",
   "metadata": {},
   "outputs": [],
   "source": []
  }
 ],
 "metadata": {
  "kernelspec": {
   "display_name": "Julia 1.9.1 (20 threads) 1.9.1",
   "language": "julia",
   "name": "julia-1.9.1-_20-threads_-1.9"
  },
  "language_info": {
   "file_extension": ".jl",
   "mimetype": "application/julia",
   "name": "julia",
   "version": "1.9.1"
  }
 },
 "nbformat": 4,
 "nbformat_minor": 5
}
