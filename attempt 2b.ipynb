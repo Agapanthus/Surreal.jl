{
 "cells": [
  {
   "cell_type": "code",
   "execution_count": 1,
   "id": "8e029ff2",
   "metadata": {},
   "outputs": [
    {
     "name": "stderr",
     "output_type": "stream",
     "text": [
      "\u001b[32m\u001b[1m  Activating\u001b[22m\u001b[39m project at `~/code/Surreal.jl`\n"
     ]
    },
    {
     "ename": "LoadError",
     "evalue": "LoadError: UndefVarError: `neg_s` not defined\nin expression starting at /home/eric/code/Surreal.jl/src2/test.jl:71",
     "output_type": "error",
     "traceback": [
      "LoadError: UndefVarError: `neg_s` not defined\nin expression starting at /home/eric/code/Surreal.jl/src2/test.jl:71",
      "",
      "Stacktrace:",
      " [1] -(x::CountedSurrealSet)",
      "   @ Main ~/code/Surreal.jl/src2/surreal_counted.jl:53",
      " [2] -",
      "   @ ~/code/Surreal.jl/src2/surreal.jl:81 [inlined]",
      " [3] runTests()",
      "   @ Main ~/code/Surreal.jl/src2/test.jl:4",
      " [4] top-level scope",
      "   @ ./timing.jl:273",
      " [5] include(fname::String)",
      "   @ Base.MainInclude ./client.jl:478",
      " [6] top-level scope",
      "   @ In[1]:4"
     ]
    }
   ],
   "source": [
    "using Pkg\n",
    "Pkg.activate(\"./\")\n",
    "include(\"./src2/include.jl\")\n",
    "include(\"./src2/test.jl\")"
   ]
  },
  {
   "cell_type": "code",
   "execution_count": 56,
   "id": "cab58ec2",
   "metadata": {
    "scrolled": true
   },
   "outputs": [
    {
     "ename": "LoadError",
     "evalue": "UndefVarError: `simplifyRewriter` not defined",
     "output_type": "error",
     "traceback": [
      "UndefVarError: `simplifyRewriter` not defined",
      "",
      "Stacktrace:",
      "  [1] lowerUnion(x::CountedSurrealSet, y::CountedSurrealSet)",
      "    @ Main ~/code/Surreal.jl/src2/surreal_counted.jl:62",
      "  [2] lowerUnion(x::CountedSurrealSet, y::SingularSurrealSet)",
      "    @ Main ~/code/Surreal.jl/src2/surreal_counted.jl:61",
      "  [3] lowerUnion(y::SingularSurrealSet, x::CountedSurrealSet)",
      "    @ Main ~/code/Surreal.jl/src2/rule.jl:25",
      "  [4] +(x::Surreal, y::Surreal)",
      "    @ Main ~/code/Surreal.jl/src2/surreal.jl:79",
      "  [5] macro expansion",
      "    @ ~/code/Surreal.jl/src2/surreal_singular.jl:14 [inlined]",
      "  [6] +(v1::SingularSurrealSet, v2::Surreal)",
      "    @ Main ~/code/Surreal.jl/src2/rule.jl:53",
      "  [7] +(x::Surreal, y::Surreal)",
      "    @ Main ~/code/Surreal.jl/src2/surreal.jl:79",
      "  [8] macro expansion",
      "    @ ~/code/Surreal.jl/src2/surreal_singular.jl:14 [inlined]",
      "  [9] +(v1::SingularSurrealSet, v2::Surreal)",
      "    @ Main ~/code/Surreal.jl/src2/rule.jl:53",
      " [10] +(x::Surreal, y::Surreal)",
      "    @ Main ~/code/Surreal.jl/src2/surreal.jl:79",
      " [11] macro expansion",
      "    @ ~/code/Surreal.jl/src2/surreal.jl:99 [inlined]",
      " [12] +(v1::Surreal, v2::Int64)",
      "    @ Main ~/code/Surreal.jl/src2/rule.jl:58",
      " [13] top-level scope",
      "    @ In[56]:5"
     ]
    }
   ],
   "source": [
    "include(\"./src2/include.jl\")\n",
    "\n",
    "#Surreal(add_s(X_s(omega), X_s(Surreal(2))), nil)\n",
    "\n",
    "omega + 3\n",
    "@time omega + 3"
   ]
  },
  {
   "cell_type": "code",
   "execution_count": 68,
   "id": "c947064b",
   "metadata": {},
   "outputs": [
    {
     "data": {
      "text/html": [
       "# 3 methods for generic function <b>zero</b> from \u001b[35mMain\u001b[39m:<ul><li> zero(::<b>SurrealExpression</b>) in Main at <a href=\"https://github.com/Agapanthus/Surreal.jl/tree/7c142f42227efcf9012a96ba58ceb926b11c48c3//src2/SurrealExpression/syms.jl#L23\" target=\"_blank\">/home/eric/code/Surreal.jl/src2/SurrealExpression/syms.jl:23</a></li> <li> zero(::<b>Type{SurrealExpression}</b>) in Main at <a href=\"https://github.com/Agapanthus/Surreal.jl/tree/7c142f42227efcf9012a96ba58ceb926b11c48c3//src2/SurrealExpression/syms.jl#L23\" target=\"_blank\">/home/eric/code/Surreal.jl/src2/SurrealExpression/syms.jl:23</a></li> <li> zero(SurrealExpression) in Main at <a href=\"https://github.com/Agapanthus/Surreal.jl/tree/7c142f42227efcf9012a96ba58ceb926b11c48c3//src2/SurrealExpression/syms.jl#L23\" target=\"_blank\">/home/eric/code/Surreal.jl/src2/SurrealExpression/syms.jl:23</a></li> </ul>"
      ],
      "text/plain": [
       "# 3 methods for generic function \"zero\" from \u001b[35mMain\u001b[39m:\n",
       " [1] zero(::\u001b[1mSurrealExpression\u001b[22m)\n",
       "\u001b[90m     @\u001b[39m \u001b[90m~/code/Surreal.jl/src2/SurrealExpression/\u001b[39m\u001b[90m\u001b[4msyms.jl:23\u001b[24m\u001b[39m\n",
       " [2] zero(::\u001b[1mType\u001b[22m\u001b[0m{SurrealExpression})\n",
       "\u001b[90m     @\u001b[39m \u001b[90m~/code/Surreal.jl/src2/SurrealExpression/\u001b[39m\u001b[90m\u001b[4msyms.jl:23\u001b[24m\u001b[39m\n",
       " [3] zero(\u001b[90mSurrealExpression\u001b[39m)\n",
       "\u001b[90m     @\u001b[39m \u001b[90m~/code/Surreal.jl/src2/SurrealExpression/\u001b[39m\u001b[90m\u001b[4msyms.jl:23\u001b[24m\u001b[39m"
      ]
     },
     "execution_count": 68,
     "metadata": {},
     "output_type": "execute_result"
    }
   ],
   "source": [
    "methods(zero)"
   ]
  },
  {
   "cell_type": "code",
   "execution_count": null,
   "id": "92aafc78",
   "metadata": {},
   "outputs": [],
   "source": []
  },
  {
   "cell_type": "code",
   "execution_count": 2,
   "id": "832bdf9f",
   "metadata": {},
   "outputs": [
    {
     "data": {
      "text/plain": [
       "((1+2*n)|∅)"
      ]
     },
     "execution_count": 2,
     "metadata": {},
     "output_type": "execute_result"
    }
   ],
   "source": [
    "include(\"./src2/include.jl\")\n",
    "\n",
    "# Add(SurrealExpression, X_s(Surreal(0)), Dict(n_s => Surreal(2), omega_s => Surreal(4)))\n",
    "\n",
    "Surreal(1 + n_s + n_s, nil)"
   ]
  },
  {
   "cell_type": "code",
   "execution_count": 3,
   "id": "6a248505",
   "metadata": {},
   "outputs": [
    {
     "data": {
      "text/plain": [
       "1 + n*2"
      ]
     },
     "execution_count": 3,
     "metadata": {},
     "output_type": "execute_result"
    }
   ],
   "source": [
    "simplifyRewriter(1 + n_s + n_s)"
   ]
  },
  {
   "cell_type": "code",
   "execution_count": 23,
   "id": "141e6b87",
   "metadata": {},
   "outputs": [
    {
     "name": "stdout",
     "output_type": "stream",
     "text": [
      "MethodError: no method matching isInfinite(::SymbolicUtils.BasicSymbolic{SurrealExpression})\n",
      "\n",
      "\u001b[0mClosest candidates are:\n",
      "\u001b[0m  isInfinite(\u001b[91m::Surreal\u001b[39m)\n",
      "\u001b[0m\u001b[90m   @\u001b[39m \u001b[35mMain\u001b[39m \u001b[90m~/code/Surreal.jl/src2/\u001b[39m\u001b[90m\u001b[4msurreal.jl:137\u001b[24m\u001b[39m\n",
      "\n",
      "Stacktrace:\n",
      "  [1] \u001b[0m\u001b[1m(::var\"#3662#3663\"{typeof(isInfinite)})\u001b[22m\u001b[0m\u001b[1m(\u001b[22m\u001b[90mx\u001b[39m::\u001b[0mSymbolicUtils.BasicSymbolic\u001b[90m{SurrealExpression}\u001b[39m\u001b[0m\u001b[1m)\u001b[22m\n",
      "\u001b[90m    @\u001b[39m \u001b[35mMain\u001b[39m \u001b[90m~/code/Surreal.jl/src2/SurrealExpression/\u001b[39m\u001b[90m\u001b[4mrules.jl:6\u001b[24m\u001b[39m\n",
      "  [2] \u001b[0m\u001b[1m(::SymbolicUtils.var\"#slot_matcher#95\"{SymbolicUtils.Slot{var\"#3662#3663\"{typeof(isInfinite)}}})\u001b[22m\u001b[0m\u001b[1m(\u001b[22m\u001b[90mnext\u001b[39m::\u001b[0mSymbolicUtils.var\"#97#100\"\u001b[90m{SymbolicUtils.LL{Vector{Any}}, SymbolicUtils.LL{Tuple{SymbolicUtils.var\"#literal_matcher#94\"{SymbolicUtils.BasicSymbolic{SymbolicUtils.FnType{Tuple{SurrealExpression, SurrealExpression}, SurrealExpression}}}, SymbolicUtils.var\"#literal_matcher#94\"{SymbolicUtils.BasicSymbolic{SurrealExpression}}, SymbolicUtils.var\"#slot_matcher#95\"{SymbolicUtils.Slot{var\"#3662#3663\"{typeof(isInfinite)}}}}}}\u001b[39m, \u001b[90mdata\u001b[39m::\u001b[0mSymbolicUtils.LL\u001b[90m{Vector{Any}}\u001b[39m, \u001b[90mbindings\u001b[39m::\u001b[0mBase.ImmutableDict\u001b[90m{Symbol, Any}\u001b[39m\u001b[0m\u001b[1m)\u001b[22m\n",
      "\u001b[90m    @\u001b[39m \u001b[36mSymbolicUtils\u001b[39m \u001b[90m~/.julia/packages/SymbolicUtils/H684H/src/\u001b[39m\u001b[90m\u001b[4mmatchers.jl:24\u001b[24m\u001b[39m\n",
      "  [3] \u001b[0m\u001b[1m(::SymbolicUtils.var\"#loop#99\"{SymbolicUtils.var\"#success#85\"{var\"#3672#3687\"}})\u001b[22m\u001b[0m\u001b[1m(\u001b[22m\u001b[90mterm\u001b[39m::\u001b[0mSymbolicUtils.LL\u001b[90m{Vector{Any}}\u001b[39m, \u001b[90mbindings′\u001b[39m::\u001b[0mBase.ImmutableDict\u001b[90m{Symbol, Any}\u001b[39m, \u001b[90mmatchers′\u001b[39m::\u001b[0mSymbolicUtils.LL\u001b[90m{Tuple{SymbolicUtils.var\"#literal_matcher#94\"{SymbolicUtils.BasicSymbolic{SymbolicUtils.FnType{Tuple{SurrealExpression, SurrealExpression}, SurrealExpression}}}, SymbolicUtils.var\"#literal_matcher#94\"{SymbolicUtils.BasicSymbolic{SurrealExpression}}, SymbolicUtils.var\"#slot_matcher#95\"{SymbolicUtils.Slot{var\"#3662#3663\"{typeof(isInfinite)}}}}}\u001b[39m\u001b[0m\u001b[1m)\u001b[22m\n",
      "\u001b[90m    @\u001b[39m \u001b[36mSymbolicUtils\u001b[39m \u001b[90m~/.julia/packages/SymbolicUtils/H684H/src/\u001b[39m\u001b[90m\u001b[4mmatchers.jl:101\u001b[24m\u001b[39m\n",
      "  [4] \u001b[0m\u001b[1m(::SymbolicUtils.var\"#97#100\"{SymbolicUtils.LL{Vector{Any}}, SymbolicUtils.LL{Tuple{SymbolicUtils.var\"#literal_matcher#94\"{SymbolicUtils.BasicSymbolic{SymbolicUtils.FnType{Tuple{SurrealExpression, SurrealExpression}, SurrealExpression}}}, SymbolicUtils.var\"#literal_matcher#94\"{SymbolicUtils.BasicSymbolic{SurrealExpression}}, SymbolicUtils.var\"#slot_matcher#95\"{SymbolicUtils.Slot{var\"#3662#3663\"{typeof(isInfinite)}}}}}})\u001b[22m\u001b[0m\u001b[1m(\u001b[22m\u001b[90mb\u001b[39m::\u001b[0mBase.ImmutableDict\u001b[90m{Symbol, Any}\u001b[39m, \u001b[90mn\u001b[39m::\u001b[0mInt64\u001b[0m\u001b[1m)\u001b[22m\n",
      "\u001b[90m    @\u001b[39m \u001b[36mSymbolicUtils\u001b[39m \u001b[90m~/.julia/packages/SymbolicUtils/H684H/src/\u001b[39m\u001b[90m\u001b[4mmatchers.jl:102\u001b[24m\u001b[39m\n",
      "  [5] \u001b[0m\u001b[1m(::SymbolicUtils.var\"#literal_matcher#94\"{SymbolicUtils.BasicSymbolic{SurrealExpression}})\u001b[22m\u001b[0m\u001b[1m(\u001b[22m\u001b[90mnext\u001b[39m::\u001b[0mSymbolicUtils.var\"#97#100\"\u001b[90m{SymbolicUtils.LL{Vector{Any}}, SymbolicUtils.LL{Tuple{SymbolicUtils.var\"#literal_matcher#94\"{SymbolicUtils.BasicSymbolic{SymbolicUtils.FnType{Tuple{SurrealExpression, SurrealExpression}, SurrealExpression}}}, SymbolicUtils.var\"#literal_matcher#94\"{SymbolicUtils.BasicSymbolic{SurrealExpression}}, SymbolicUtils.var\"#slot_matcher#95\"{SymbolicUtils.Slot{var\"#3662#3663\"{typeof(isInfinite)}}}}}}\u001b[39m, \u001b[90mdata\u001b[39m::\u001b[0mSymbolicUtils.LL\u001b[90m{Vector{Any}}\u001b[39m, \u001b[90mbindings\u001b[39m::\u001b[0mBase.ImmutableDict\u001b[90m{Symbol, Any}\u001b[39m\u001b[0m\u001b[1m)\u001b[22m\n",
      "\u001b[90m    @\u001b[39m \u001b[36mSymbolicUtils\u001b[39m \u001b[90m~/.julia/packages/SymbolicUtils/H684H/src/\u001b[39m\u001b[90m\u001b[4mmatchers.jl:11\u001b[24m\u001b[39m\n",
      "  [6] \u001b[0m\u001b[1m(::SymbolicUtils.var\"#loop#99\"{SymbolicUtils.var\"#success#85\"{var\"#3672#3687\"}})\u001b[22m\u001b[0m\u001b[1m(\u001b[22m\u001b[90mterm\u001b[39m::\u001b[0mSymbolicUtils.LL\u001b[90m{Vector{Any}}\u001b[39m, \u001b[90mbindings′\u001b[39m::\u001b[0mBase.ImmutableDict\u001b[90m{Symbol, Any}\u001b[39m, \u001b[90mmatchers′\u001b[39m::\u001b[0mSymbolicUtils.LL\u001b[90m{Tuple{SymbolicUtils.var\"#literal_matcher#94\"{SymbolicUtils.BasicSymbolic{SymbolicUtils.FnType{Tuple{SurrealExpression, SurrealExpression}, SurrealExpression}}}, SymbolicUtils.var\"#literal_matcher#94\"{SymbolicUtils.BasicSymbolic{SurrealExpression}}, SymbolicUtils.var\"#slot_matcher#95\"{SymbolicUtils.Slot{var\"#3662#3663\"{typeof(isInfinite)}}}}}\u001b[39m\u001b[0m\u001b[1m)\u001b[22m\n",
      "\u001b[90m    @\u001b[39m \u001b[36mSymbolicUtils\u001b[39m \u001b[90m~/.julia/packages/SymbolicUtils/H684H/src/\u001b[39m\u001b[90m\u001b[4mmatchers.jl:101\u001b[24m\u001b[39m\n",
      "  [7] \u001b[0m\u001b[1m(::SymbolicUtils.var\"#97#100\"{SymbolicUtils.BasicSymbolic{SurrealExpression}, Tuple{SymbolicUtils.var\"#literal_matcher#94\"{SymbolicUtils.BasicSymbolic{SymbolicUtils.FnType{Tuple{SurrealExpression, SurrealExpression}, SurrealExpression}}}, SymbolicUtils.var\"#literal_matcher#94\"{SymbolicUtils.BasicSymbolic{SurrealExpression}}, SymbolicUtils.var\"#slot_matcher#95\"{SymbolicUtils.Slot{var\"#3662#3663\"{typeof(isInfinite)}}}}})\u001b[22m\u001b[0m\u001b[1m(\u001b[22m\u001b[90mb\u001b[39m::\u001b[0mBase.ImmutableDict\u001b[90m{Symbol, Any}\u001b[39m, \u001b[90mn\u001b[39m::\u001b[0mInt64\u001b[0m\u001b[1m)\u001b[22m\n",
      "\u001b[90m    @\u001b[39m \u001b[36mSymbolicUtils\u001b[39m \u001b[90m~/.julia/packages/SymbolicUtils/H684H/src/\u001b[39m\u001b[90m\u001b[4mmatchers.jl:102\u001b[24m\u001b[39m\n",
      "  [8] \u001b[0m\u001b[1m(::SymbolicUtils.var\"#literal_matcher#94\"{SymbolicUtils.BasicSymbolic{SymbolicUtils.FnType{Tuple{SurrealExpression, SurrealExpression}, SurrealExpression}}})\u001b[22m\u001b[0m\u001b[1m(\u001b[22m\u001b[90mnext\u001b[39m::\u001b[0mSymbolicUtils.var\"#97#100\"\u001b[90m{SymbolicUtils.BasicSymbolic{SurrealExpression}, Tuple{SymbolicUtils.var\"#literal_matcher#94\"{SymbolicUtils.BasicSymbolic{SymbolicUtils.FnType{Tuple{SurrealExpression, SurrealExpression}, SurrealExpression}}}, SymbolicUtils.var\"#literal_matcher#94\"{SymbolicUtils.BasicSymbolic{SurrealExpression}}, SymbolicUtils.var\"#slot_matcher#95\"{SymbolicUtils.Slot{var\"#3662#3663\"{typeof(isInfinite)}}}}}\u001b[39m, \u001b[90mdata\u001b[39m::\u001b[0mSymbolicUtils.BasicSymbolic\u001b[90m{SurrealExpression}\u001b[39m, \u001b[90mbindings\u001b[39m::\u001b[0mBase.ImmutableDict\u001b[90m{Symbol, Any}\u001b[39m\u001b[0m\u001b[1m)\u001b[22m\n",
      "\u001b[90m    @\u001b[39m \u001b[36mSymbolicUtils\u001b[39m \u001b[90m~/.julia/packages/SymbolicUtils/H684H/src/\u001b[39m\u001b[90m\u001b[4mmatchers.jl:11\u001b[24m\u001b[39m\n",
      "  [9] \u001b[0m\u001b[1m(::SymbolicUtils.var\"#loop#99\"{SymbolicUtils.var\"#success#85\"{var\"#3672#3687\"}})\u001b[22m\u001b[0m\u001b[1m(\u001b[22m\u001b[90mterm\u001b[39m::\u001b[0mSymbolicUtils.BasicSymbolic\u001b[90m{SurrealExpression}\u001b[39m, \u001b[90mbindings′\u001b[39m::\u001b[0mBase.ImmutableDict\u001b[90m{Symbol, Any}\u001b[39m, \u001b[90mmatchers′\u001b[39m::\u001b[0mTuple\u001b[90m{SymbolicUtils.var\"#literal_matcher#94\"{SymbolicUtils.BasicSymbolic{SymbolicUtils.FnType{Tuple{SurrealExpression, SurrealExpression}, SurrealExpression}}}, SymbolicUtils.var\"#literal_matcher#94\"{SymbolicUtils.BasicSymbolic{SurrealExpression}}, SymbolicUtils.var\"#slot_matcher#95\"{SymbolicUtils.Slot{var\"#3662#3663\"{typeof(isInfinite)}}}}\u001b[39m\u001b[0m\u001b[1m)\u001b[22m\n",
      "\u001b[90m    @\u001b[39m \u001b[36mSymbolicUtils\u001b[39m \u001b[90m~/.julia/packages/SymbolicUtils/H684H/src/\u001b[39m\u001b[90m\u001b[4mmatchers.jl:101\u001b[24m\u001b[39m\n",
      " [10] \u001b[0m\u001b[1m(::SymbolicUtils.var\"#term_matcher#98\"{Tuple{SymbolicUtils.var\"#literal_matcher#94\"{SymbolicUtils.BasicSymbolic{SymbolicUtils.FnType{Tuple{SurrealExpression, SurrealExpression}, SurrealExpression}}}, SymbolicUtils.var\"#literal_matcher#94\"{SymbolicUtils.BasicSymbolic{SurrealExpression}}, SymbolicUtils.var\"#slot_matcher#95\"{SymbolicUtils.Slot{var\"#3662#3663\"{typeof(isInfinite)}}}}})\u001b[22m\u001b[0m\u001b[1m(\u001b[22m\u001b[90msuccess\u001b[39m::\u001b[0mSymbolicUtils.var\"#success#85\"\u001b[90m{var\"#3672#3687\"}\u001b[39m, \u001b[90mdata\u001b[39m::\u001b[0mTuple\u001b[90m{SymbolicUtils.BasicSymbolic{SurrealExpression}}\u001b[39m, \u001b[90mbindings\u001b[39m::\u001b[0mBase.ImmutableDict\u001b[90m{Symbol, Any}\u001b[39m\u001b[0m\u001b[1m)\u001b[22m\n",
      "\u001b[90m    @\u001b[39m \u001b[36mSymbolicUtils\u001b[39m \u001b[90m~/.julia/packages/SymbolicUtils/H684H/src/\u001b[39m\u001b[90m\u001b[4mmatchers.jl:106\u001b[24m\u001b[39m\n",
      " [11] \u001b[0m\u001b[1m(::SymbolicUtils.Rule{SymbolicUtils.BasicSymbolic{Any}, SymbolicUtils.var\"#term_matcher#98\"{Tuple{SymbolicUtils.var\"#literal_matcher#94\"{SymbolicUtils.BasicSymbolic{SymbolicUtils.FnType{Tuple{SurrealExpression, SurrealExpression}, SurrealExpression}}}, SymbolicUtils.var\"#literal_matcher#94\"{SymbolicUtils.BasicSymbolic{SurrealExpression}}, SymbolicUtils.var\"#slot_matcher#95\"{SymbolicUtils.Slot{var\"#3662#3663\"{typeof(isInfinite)}}}}}, var\"#3672#3687\"})\u001b[22m\u001b[0m\u001b[1m(\u001b[22m\u001b[90mterm\u001b[39m::\u001b[0mSymbolicUtils.BasicSymbolic\u001b[90m{SurrealExpression}\u001b[39m\u001b[0m\u001b[1m)\u001b[22m\n",
      "\u001b[90m    @\u001b[39m \u001b[36mSymbolicUtils\u001b[39m \u001b[90m~/.julia/packages/SymbolicUtils/H684H/src/\u001b[39m\u001b[90m\u001b[4mrule.jl:143\u001b[24m\u001b[39m\n",
      " [12] \u001b[0m\u001b[1mmacro expansion\u001b[22m\n",
      "\u001b[90m    @\u001b[39m \u001b[90m~/.julia/packages/SymbolicUtils/H684H/src/\u001b[39m\u001b[90m\u001b[4mutils.jl:11\u001b[24m\u001b[39m\u001b[90m [inlined]\u001b[39m\n",
      " [13] \u001b[0m\u001b[1m(::SymbolicUtils.Rewriters.RestartedChain{Vector{SymbolicUtils.Rule{SymbolicUtils.BasicSymbolic{Any}}}})\u001b[22m\u001b[0m\u001b[1m(\u001b[22m\u001b[90mx\u001b[39m::\u001b[0mSymbolicUtils.BasicSymbolic\u001b[90m{SurrealExpression}\u001b[39m\u001b[0m\u001b[1m)\u001b[22m\n",
      "\u001b[90m    @\u001b[39m \u001b[36mSymbolicUtils.Rewriters\u001b[39m \u001b[90m~/.julia/packages/SymbolicUtils/H684H/src/\u001b[39m\u001b[90m\u001b[4mrewriters.jl:87\u001b[24m\u001b[39m\n",
      " [14] \u001b[0m\u001b[1m(::SymbolicUtils.Rewriters.Walk{:pre, SymbolicUtils.Rewriters.RestartedChain{Vector{SymbolicUtils.Rule{SymbolicUtils.BasicSymbolic{Any}}}}, typeof(SymbolicUtils.similarterm), false})\u001b[22m\u001b[0m\u001b[1m(\u001b[22m\u001b[90mx\u001b[39m::\u001b[0mSymbolicUtils.BasicSymbolic\u001b[90m{SurrealExpression}\u001b[39m\u001b[0m\u001b[1m)\u001b[22m\n",
      "\u001b[90m    @\u001b[39m \u001b[36mSymbolicUtils.Rewriters\u001b[39m \u001b[90m~/.julia/packages/SymbolicUtils/H684H/src/\u001b[39m\u001b[90m\u001b[4mrewriters.jl:0\u001b[24m\u001b[39m\n",
      " [15] \u001b[0m\u001b[1mmacro expansion\u001b[22m\n",
      "\u001b[90m    @\u001b[39m \u001b[90m~/.julia/packages/SymbolicUtils/H684H/src/\u001b[39m\u001b[90m\u001b[4mutils.jl:11\u001b[24m\u001b[39m\u001b[90m [inlined]\u001b[39m\n",
      " [16] \u001b[0m\u001b[1m(::SymbolicUtils.Rewriters.Fixpoint{SymbolicUtils.Rewriters.Walk{:pre, SymbolicUtils.Rewriters.RestartedChain{Vector{SymbolicUtils.Rule{SymbolicUtils.BasicSymbolic{Any}}}}, typeof(SymbolicUtils.similarterm), false}})\u001b[22m\u001b[0m\u001b[1m(\u001b[22m\u001b[90mx\u001b[39m::\u001b[0mSymbolicUtils.BasicSymbolic\u001b[90m{SurrealExpression}\u001b[39m\u001b[0m\u001b[1m)\u001b[22m\n",
      "\u001b[90m    @\u001b[39m \u001b[36mSymbolicUtils.Rewriters\u001b[39m \u001b[90m~/.julia/packages/SymbolicUtils/H684H/src/\u001b[39m\u001b[90m\u001b[4mrewriters.jl:118\u001b[24m\u001b[39m\n",
      " [17] \u001b[0m\u001b[1mPassThrough\u001b[22m\n",
      "\u001b[90m    @\u001b[39m \u001b[90m~/.julia/packages/SymbolicUtils/H684H/src/\u001b[39m\u001b[90m\u001b[4mrewriters.jl:188\u001b[24m\u001b[39m\u001b[90m [inlined]\u001b[39m\n"
     ]
    },
    {
     "name": "stdout",
     "output_type": "stream",
     "text": [
      " [18] \u001b[0m\u001b[1msimplify\u001b[22m\u001b[0m\u001b[1m(\u001b[22m\u001b[90mx\u001b[39m::\u001b[0mSymbolicUtils.BasicSymbolic\u001b[90m{SurrealExpression}\u001b[39m; \u001b[90mexpand\u001b[39m::\u001b[0mBool, \u001b[90mpolynorm\u001b[39m::\u001b[0mNothing, \u001b[90mthreaded\u001b[39m::\u001b[0mBool, \u001b[90msimplify_fractions\u001b[39m::\u001b[0mBool, \u001b[90mthread_subtree_cutoff\u001b[39m::\u001b[0mInt64, \u001b[90mrewriter\u001b[39m::\u001b[0mSymbolicUtils.Rewriters.Walk\u001b[90m{:pre, SymbolicUtils.Rewriters.RestartedChain{Vector{SymbolicUtils.Rule{SymbolicUtils.BasicSymbolic{Any}}}}, typeof(SymbolicUtils.similarterm), false}\u001b[39m\u001b[0m\u001b[1m)\u001b[22m\n",
      "\u001b[90m    @\u001b[39m \u001b[36mSymbolicUtils\u001b[39m \u001b[90m~/.julia/packages/SymbolicUtils/H684H/src/\u001b[39m\u001b[90m\u001b[4msimplify.jl:41\u001b[24m\u001b[39m\n",
      " [19] \u001b[0m\u001b[1msimplify\u001b[22m\n",
      "\u001b[90m    @\u001b[39m \u001b[90m~/.julia/packages/SymbolicUtils/H684H/src/\u001b[39m\u001b[90m\u001b[4msimplify.jl:16\u001b[24m\u001b[39m\u001b[90m [inlined]\u001b[39m\n",
      " [20] \u001b[0m\u001b[1m(::var\"#3678#3694\"{Vector{SymbolicUtils.Rule{SymbolicUtils.BasicSymbolic{Any}}}})\u001b[22m\u001b[0m\u001b[1m(\u001b[22m\u001b[90mx\u001b[39m::\u001b[0mSymbolicUtils.BasicSymbolic\u001b[90m{SurrealExpression}\u001b[39m\u001b[0m\u001b[1m)\u001b[22m\n",
      "\u001b[90m    @\u001b[39m \u001b[35mMain\u001b[39m \u001b[90m~/code/Surreal.jl/src2/SurrealExpression/\u001b[39m\u001b[90m\u001b[4mrules.jl:65\u001b[24m\u001b[39m\n",
      " [21] top-level scope\n",
      "\u001b[90m    @\u001b[39m \u001b[90m\u001b[4mIn[23]:3\u001b[24m\u001b[39m\n",
      " [22] \u001b[0m\u001b[1meval\u001b[22m\n",
      "\u001b[90m    @\u001b[39m \u001b[90m./\u001b[39m\u001b[90m\u001b[4mboot.jl:370\u001b[24m\u001b[39m\u001b[90m [inlined]\u001b[39m\n",
      " [23] \u001b[0m\u001b[1minclude_string\u001b[22m\u001b[0m\u001b[1m(\u001b[22m\u001b[90mmapexpr\u001b[39m::\u001b[0mtypeof(REPL.softscope), \u001b[90mmod\u001b[39m::\u001b[0mModule, \u001b[90mcode\u001b[39m::\u001b[0mString, \u001b[90mfilename\u001b[39m::\u001b[0mString\u001b[0m\u001b[1m)\u001b[22m\n",
      "\u001b[90m    @\u001b[39m \u001b[90mBase\u001b[39m \u001b[90m./\u001b[39m\u001b[90m\u001b[4mloading.jl:1899\u001b[24m\u001b[39m\n",
      " [24] \u001b[0m\u001b[1msoftscope_include_string\u001b[22m\u001b[0m\u001b[1m(\u001b[22m\u001b[90mm\u001b[39m::\u001b[0mModule, \u001b[90mcode\u001b[39m::\u001b[0mString, \u001b[90mfilename\u001b[39m::\u001b[0mString\u001b[0m\u001b[1m)\u001b[22m\n",
      "\u001b[90m    @\u001b[39m \u001b[33mSoftGlobalScope\u001b[39m \u001b[90m~/.julia/packages/SoftGlobalScope/u4UzH/src/\u001b[39m\u001b[90m\u001b[4mSoftGlobalScope.jl:65\u001b[24m\u001b[39m\n",
      " [25] \u001b[0m\u001b[1mexecute_request\u001b[22m\u001b[0m\u001b[1m(\u001b[22m\u001b[90msocket\u001b[39m::\u001b[0mZMQ.Socket, \u001b[90mmsg\u001b[39m::\u001b[0mIJulia.Msg\u001b[0m\u001b[1m)\u001b[22m\n",
      "\u001b[90m    @\u001b[39m \u001b[32mIJulia\u001b[39m \u001b[90m~/.julia/packages/IJulia/Vo51o/src/\u001b[39m\u001b[90m\u001b[4mexecute_request.jl:67\u001b[24m\u001b[39m\n",
      " [26] \u001b[0m\u001b[1m#invokelatest#2\u001b[22m\n",
      "\u001b[90m    @\u001b[39m \u001b[90m./\u001b[39m\u001b[90m\u001b[4messentials.jl:816\u001b[24m\u001b[39m\u001b[90m [inlined]\u001b[39m\n",
      " [27] \u001b[0m\u001b[1minvokelatest\u001b[22m\n",
      "\u001b[90m    @\u001b[39m \u001b[90m./\u001b[39m\u001b[90m\u001b[4messentials.jl:813\u001b[24m\u001b[39m\u001b[90m [inlined]\u001b[39m\n",
      " [28] \u001b[0m\u001b[1meventloop\u001b[22m\u001b[0m\u001b[1m(\u001b[22m\u001b[90msocket\u001b[39m::\u001b[0mZMQ.Socket\u001b[0m\u001b[1m)\u001b[22m\n",
      "\u001b[90m    @\u001b[39m \u001b[32mIJulia\u001b[39m \u001b[90m~/.julia/packages/IJulia/Vo51o/src/\u001b[39m\u001b[90m\u001b[4meventloop.jl:8\u001b[24m\u001b[39m\n",
      " [29] \u001b[0m\u001b[1m(::IJulia.var\"#15#18\")\u001b[22m\u001b[0m\u001b[1m(\u001b[22m\u001b[0m\u001b[1m)\u001b[22m\n",
      "\u001b[90m    @\u001b[39m \u001b[32mIJulia\u001b[39m \u001b[90m./\u001b[39m\u001b[90m\u001b[4mtask.jl:514\u001b[24m\u001b[39m"
     ]
    },
    {
     "ename": "LoadError",
     "evalue": "Failed to apply rule lu_s(n_s, ~(x::se(isInfinite))) => ~x on expression n∪ω",
     "output_type": "error",
     "traceback": [
      "Failed to apply rule lu_s(n_s, ~(x::se(isInfinite))) => ~x on expression n∪ω",
      "",
      "Stacktrace:",
      "  [1] (::SymbolicUtils.Rule{SymbolicUtils.BasicSymbolic{Any}, SymbolicUtils.var\"#term_matcher#98\"{Tuple{SymbolicUtils.var\"#literal_matcher#94\"{SymbolicUtils.BasicSymbolic{SymbolicUtils.FnType{Tuple{SurrealExpression, SurrealExpression}, SurrealExpression}}}, SymbolicUtils.var\"#literal_matcher#94\"{SymbolicUtils.BasicSymbolic{SurrealExpression}}, SymbolicUtils.var\"#slot_matcher#95\"{SymbolicUtils.Slot{var\"#3662#3663\"{typeof(isInfinite)}}}}}, var\"#3672#3687\"})(term::SymbolicUtils.BasicSymbolic{SurrealExpression})",
      "    @ SymbolicUtils ~/.julia/packages/SymbolicUtils/H684H/src/rule.jl:145",
      "  [2] macro expansion",
      "    @ ~/.julia/packages/SymbolicUtils/H684H/src/utils.jl:11 [inlined]",
      "  [3] (::SymbolicUtils.Rewriters.RestartedChain{Vector{SymbolicUtils.Rule{SymbolicUtils.BasicSymbolic{Any}}}})(x::SymbolicUtils.BasicSymbolic{SurrealExpression})",
      "    @ SymbolicUtils.Rewriters ~/.julia/packages/SymbolicUtils/H684H/src/rewriters.jl:87",
      "  [4] (::SymbolicUtils.Rewriters.Walk{:pre, SymbolicUtils.Rewriters.RestartedChain{Vector{SymbolicUtils.Rule{SymbolicUtils.BasicSymbolic{Any}}}}, typeof(SymbolicUtils.similarterm), false})(x::SymbolicUtils.BasicSymbolic{SurrealExpression})",
      "    @ SymbolicUtils.Rewriters ~/.julia/packages/SymbolicUtils/H684H/src/rewriters.jl:0",
      "  [5] macro expansion",
      "    @ ~/.julia/packages/SymbolicUtils/H684H/src/utils.jl:11 [inlined]",
      "  [6] (::SymbolicUtils.Rewriters.Fixpoint{SymbolicUtils.Rewriters.Walk{:pre, SymbolicUtils.Rewriters.RestartedChain{Vector{SymbolicUtils.Rule{SymbolicUtils.BasicSymbolic{Any}}}}, typeof(SymbolicUtils.similarterm), false}})(x::SymbolicUtils.BasicSymbolic{SurrealExpression})",
      "    @ SymbolicUtils.Rewriters ~/.julia/packages/SymbolicUtils/H684H/src/rewriters.jl:118",
      "  [7] PassThrough",
      "    @ ~/.julia/packages/SymbolicUtils/H684H/src/rewriters.jl:188 [inlined]",
      "  [8] simplify(x::SymbolicUtils.BasicSymbolic{SurrealExpression}; expand::Bool, polynorm::Nothing, threaded::Bool, simplify_fractions::Bool, thread_subtree_cutoff::Int64, rewriter::SymbolicUtils.Rewriters.Walk{:pre, SymbolicUtils.Rewriters.RestartedChain{Vector{SymbolicUtils.Rule{SymbolicUtils.BasicSymbolic{Any}}}}, typeof(SymbolicUtils.similarterm), false})",
      "    @ SymbolicUtils ~/.julia/packages/SymbolicUtils/H684H/src/simplify.jl:41",
      "  [9] simplify",
      "    @ ~/.julia/packages/SymbolicUtils/H684H/src/simplify.jl:16 [inlined]",
      " [10] (::var\"#3678#3694\"{Vector{SymbolicUtils.Rule{SymbolicUtils.BasicSymbolic{Any}}}})(x::SymbolicUtils.BasicSymbolic{SurrealExpression})",
      "    @ Main ~/code/Surreal.jl/src2/SurrealExpression/rules.jl:65",
      " [11] top-level scope",
      "    @ In[23]:3"
     ]
    }
   ],
   "source": [
    "include(\"./src2/include.jl\")\n",
    "\n",
    "simplifyRewriter(lu_s(n_s, omega_s))"
   ]
  },
  {
   "cell_type": "code",
   "execution_count": 17,
   "id": "3b95df66",
   "metadata": {
    "scrolled": true
   },
   "outputs": [
    {
     "data": {
      "text/plain": [
       "((1+n)∪ω|∅)"
      ]
     },
     "execution_count": 17,
     "metadata": {},
     "output_type": "execute_result"
    }
   ],
   "source": [
    "include(\"./src2/include.jl\")\n",
    "\n",
    "omega + 1 #+ omega"
   ]
  },
  {
   "cell_type": "code",
   "execution_count": 5,
   "id": "56071777",
   "metadata": {},
   "outputs": [
    {
     "data": {
      "text/plain": [
       "n"
      ]
     },
     "execution_count": 5,
     "metadata": {},
     "output_type": "execute_result"
    }
   ],
   "source": [
    "# TODO: Should be stripped from the add\n",
    "n_s + 0"
   ]
  },
  {
   "cell_type": "code",
   "execution_count": 48,
   "id": "f732dc18",
   "metadata": {},
   "outputs": [
    {
     "ename": "LoadError",
     "evalue": "UndefVarError: `TODO` not defined",
     "output_type": "error",
     "traceback": [
      "UndefVarError: `TODO` not defined",
      "",
      "Stacktrace:",
      " [1] <",
      "   @ ~/code/Surreal.jl/src2/surreal_abstract.jl:15 [inlined]",
      " [2] Surreal",
      "   @ ~/code/Surreal.jl/src2/surreal.jl:9 [inlined]",
      " [3] Surreal(L::CountedSurrealSet, R::SingularSurrealSet)",
      "   @ Main ~/code/Surreal.jl/src2/surreal.jl:6",
      " [4] +(x::Surreal, y::Surreal)",
      "   @ Main ~/code/Surreal.jl/src2/surreal.jl:65",
      " [5] -",
      "   @ ~/code/Surreal.jl/src2/surreal.jl:67 [inlined]",
      " [6] macro expansion",
      "   @ ~/code/Surreal.jl/src2/surreal.jl:84 [inlined]",
      " [7] -(v1::Surreal, v2::Int64)",
      "   @ Main ~/code/Surreal.jl/src2/rule.jl:58",
      " [8] top-level scope",
      "   @ In[48]:1"
     ]
    }
   ],
   "source": [
    "omega - 1"
   ]
  },
  {
   "cell_type": "code",
   "execution_count": 50,
   "id": "5f035fa7",
   "metadata": {},
   "outputs": [
    {
     "data": {
      "text/plain": [
       "(∅|-n+(∅|0)∩-ω)"
      ]
     },
     "execution_count": 50,
     "metadata": {},
     "output_type": "execute_result"
    }
   ],
   "source": [
    "include(\"./src2/include.jl\")\n",
    "\n",
    "(-omega) - 1"
   ]
  },
  {
   "cell_type": "code",
   "execution_count": 44,
   "id": "e98cc8d3",
   "metadata": {
    "scrolled": true
   },
   "outputs": [
    {
     "name": "stdout",
     "output_type": "stream",
     "text": [
      "omega + omega + 1 = (n+ω+(0|∅)∪(n+ω|∅)|∅)\n",
      "omega + 1 + omega = (ω+ω∪n+(ω|∅)|∅)\n"
     ]
    },
    {
     "ename": "LoadError",
     "evalue": "UndefVarError: `TODO` not defined",
     "output_type": "error",
     "traceback": [
      "UndefVarError: `TODO` not defined",
      "",
      "Stacktrace:",
      "  [1] macro expansion",
      "    @ ~/code/Surreal.jl/src2/SurrealExpression/limits.jl:46 [inlined]",
      "  [2] macro expansion",
      "    @ ~/.julia/packages/Match/XemzX/src/matchmacro.jl:408 [inlined]",
      "  [3] hasUpperLimit(e::SymbolicUtils.BasicSymbolic{SurrealExpression})",
      "    @ Main ~/code/Surreal.jl/src2/SurrealExpression/limits.jl:30",
      "  [4] macro expansion",
      "    @ ~/.julia/packages/Match/XemzX/src/matchmacro.jl:408 [inlined]",
      "  [5] macro expansion",
      "    @ ~/code/Surreal.jl/src2/SurrealExpression/limits.jl:52 [inlined]",
      "  [6] macro expansion",
      "    @ ~/.julia/packages/Match/XemzX/src/matchmacro.jl:410 [inlined]",
      "  [7] macro expansion",
      "    @ ~/code/Surreal.jl/src2/SurrealExpression/limits.jl:51 [inlined]",
      "  [8] macro expansion",
      "    @ ~/.julia/packages/Match/XemzX/src/matchmacro.jl:410 [inlined]",
      "  [9] macro expansion",
      "    @ ~/code/Surreal.jl/src2/SurrealExpression/limits.jl:50 [inlined]",
      " [10] macro expansion",
      "    @ ~/.julia/packages/Match/XemzX/src/matchmacro.jl:410 [inlined]",
      " [11] macro expansion",
      "    @ ~/code/Surreal.jl/src2/SurrealExpression/limits.jl:49 [inlined]",
      " [12] macro expansion",
      "    @ ~/.julia/packages/Match/XemzX/src/matchmacro.jl:410 [inlined]",
      " [13] macro expansion",
      "    @ ~/code/Surreal.jl/src2/SurrealExpression/limits.jl:48 [inlined]",
      " [14] macro expansion",
      "    @ ~/.julia/packages/Match/XemzX/src/matchmacro.jl:410 [inlined]",
      " [15] hasUpperLimit(e::SymbolicUtils.BasicSymbolic{SurrealExpression})",
      "    @ Main ~/code/Surreal.jl/src2/SurrealExpression/limits.jl:30",
      " [16] hasUpperLimit",
      "    @ ~/code/Surreal.jl/src2/surreal_counted.jl:43 [inlined]",
      " [17] <(x::CountedSurrealSet, y::Surreal)",
      "    @ Main ~/code/Surreal.jl/src2/surreal_counted.jl:12",
      " [18] <=(x::Surreal, y::Surreal)",
      "    @ Main ~/code/Surreal.jl/src2/surreal.jl:16",
      " [19] <(x::Surreal, y::Surreal)",
      "    @ Main ~/code/Surreal.jl/src2/surreal.jl:18",
      " [20] isNegative",
      "    @ ~/code/Surreal.jl/src2/surreal.jl:107 [inlined]",
      " [21] <(x::CountedSurrealSet, y::Surreal)",
      "    @ Main ~/code/Surreal.jl/src2/surreal_counted.jl:13",
      " [22] <=(x::Surreal, y::Surreal)",
      "    @ Main ~/code/Surreal.jl/src2/surreal.jl:16",
      " [23] equiv(x::Surreal, y::Surreal)",
      "    @ Main ~/code/Surreal.jl/src2/surreal.jl:23",
      " [24] top-level scope",
      "    @ In[44]:3"
     ]
    }
   ],
   "source": [
    "@show omega + omega + 1\n",
    "@show omega + 1 + omega\n",
    "equiv(omega + Surreal(1) + omega, omega + omega + Surreal(1))"
   ]
  },
  {
   "cell_type": "code",
   "execution_count": 116,
   "id": "4ecfbf37",
   "metadata": {
    "scrolled": true
   },
   "outputs": [
    {
     "ename": "LoadError",
     "evalue": "UndefVarError: `TODO` not defined",
     "output_type": "error",
     "traceback": [
      "UndefVarError: `TODO` not defined",
      "",
      "Stacktrace:",
      " [1] <",
      "   @ ~/code/Surreal.jl/src2/surreal_abstract.jl:15 [inlined]",
      " [2] Surreal",
      "   @ ~/code/Surreal.jl/src2/surreal.jl:9 [inlined]",
      " [3] Surreal(L::CountedSurrealSet, R::SingularSurrealSet)",
      "   @ Main ~/code/Surreal.jl/src2/surreal.jl:6",
      " [4] +(x::Surreal, y::Surreal)",
      "   @ Main ~/code/Surreal.jl/src2/surreal.jl:48",
      " [5] top-level scope",
      "   @ In[116]:1"
     ]
    }
   ],
   "source": [
    "omega + Surreal(1//2)"
   ]
  },
  {
   "cell_type": "code",
   "execution_count": null,
   "id": "8492a3bf",
   "metadata": {},
   "outputs": [],
   "source": []
  },
  {
   "cell_type": "code",
   "execution_count": null,
   "id": "5280d0da",
   "metadata": {},
   "outputs": [],
   "source": []
  },
  {
   "cell_type": "code",
   "execution_count": null,
   "id": "9bb2eb55",
   "metadata": {},
   "outputs": [],
   "source": []
  },
  {
   "cell_type": "code",
   "execution_count": null,
   "id": "7a4d5fc2",
   "metadata": {},
   "outputs": [],
   "source": []
  },
  {
   "cell_type": "code",
   "execution_count": null,
   "id": "0413c1c3",
   "metadata": {},
   "outputs": [],
   "source": []
  },
  {
   "cell_type": "code",
   "execution_count": null,
   "id": "d1171ee0",
   "metadata": {},
   "outputs": [],
   "source": []
  },
  {
   "cell_type": "code",
   "execution_count": null,
   "id": "c34dc1e9",
   "metadata": {},
   "outputs": [],
   "source": []
  }
 ],
 "metadata": {
  "kernelspec": {
   "display_name": "Julia 1.9.1 (20 threads) 1.9.1",
   "language": "julia",
   "name": "julia-1.9.1-_20-threads_-1.9"
  },
  "language_info": {
   "file_extension": ".jl",
   "mimetype": "application/julia",
   "name": "julia",
   "version": "1.9.1"
  }
 },
 "nbformat": 4,
 "nbformat_minor": 5
}
