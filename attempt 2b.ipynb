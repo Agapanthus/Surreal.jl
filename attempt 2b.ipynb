{
 "cells": [
  {
   "cell_type": "code",
   "execution_count": null,
   "id": "8e029ff2",
   "metadata": {},
   "outputs": [],
   "source": [
    "using Pkg\n",
    "Pkg.activate(\"./\")\n",
    "include(\"./src2/include.jl\")\n",
    "include(\"./src2/test.jl\")"
   ]
  },
  {
   "cell_type": "code",
   "execution_count": null,
   "id": "950e2705",
   "metadata": {
    "scrolled": true
   },
   "outputs": [],
   "source": [
    "include(\"./src2/include.jl\")\n",
    "\n",
    "#Surreal(add_s(X_s(omega), X_s(Surreal(2))), nil)\n",
    "\n",
    "omega + Surreal(1)"
   ]
  },
  {
   "cell_type": "code",
   "execution_count": 1,
   "id": "4ecfbf37",
   "metadata": {},
   "outputs": [
    {
     "ename": "LoadError",
     "evalue": "UndefVarError: `Surreal` not defined",
     "output_type": "error",
     "traceback": [
      "UndefVarError: `Surreal` not defined",
      "",
      "Stacktrace:",
      " [1] top-level scope",
      "   @ In[1]:1"
     ]
    }
   ],
   "source": [
    "Surreal(1) <= omega"
   ]
  },
  {
   "cell_type": "code",
   "execution_count": 52,
   "id": "30224cfc",
   "metadata": {},
   "outputs": [
    {
     "data": {
      "text/plain": [
       "1-element Vector{Tuple{Int64, Int64}}:\n",
       " (1, 2)"
      ]
     },
     "execution_count": 52,
     "metadata": {},
     "output_type": "execute_result"
    }
   ],
   "source": [
    "collect(zip([1], [2]))"
   ]
  },
  {
   "cell_type": "code",
   "execution_count": 4,
   "id": "59e6b6c6",
   "metadata": {},
   "outputs": [
    {
     "ename": "LoadError",
     "evalue": "syntax: invalid identifier name \"->\"",
     "output_type": "error",
     "traceback": [
      "syntax: invalid identifier name \"->\"",
      "",
      "Stacktrace:",
      " [1] top-level scope",
      "   @ In[4]:1"
     ]
    }
   ],
   "source": [
    "1 <-> 2"
   ]
  },
  {
   "cell_type": "code",
   "execution_count": null,
   "id": "e338d836",
   "metadata": {},
   "outputs": [],
   "source": []
  }
 ],
 "metadata": {
  "kernelspec": {
   "display_name": "Julia 1.9.1 (20 threads) 1.9.1",
   "language": "julia",
   "name": "julia-1.9.1-_20-threads_-1.9"
  },
  "language_info": {
   "file_extension": ".jl",
   "mimetype": "application/julia",
   "name": "julia",
   "version": "1.9.1"
  }
 },
 "nbformat": 4,
 "nbformat_minor": 5
}
