{
 "cells": [
  {
   "cell_type": "code",
   "execution_count": 37,
   "id": "8e029ff2",
   "metadata": {},
   "outputs": [
    {
     "name": "stderr",
     "output_type": "stream",
     "text": [
      "\u001b[32m\u001b[1m  Activating\u001b[22m\u001b[39m project at `~/code/Surreal.jl`\n"
     ]
    },
    {
     "name": "stdout",
     "output_type": "stream",
     "text": [
      "  1.453952 seconds (67.84 M allocations: 2.032 GiB, 13.48% gc time, 26.39% compilation time: 29% of which was recompilation)\n"
     ]
    }
   ],
   "source": [
    "using Pkg\n",
    "Pkg.activate(\"./\")\n",
    "include(\"./src2/include.jl\")\n",
    "include(\"./src2/test.jl\")"
   ]
  },
  {
   "cell_type": "code",
   "execution_count": 118,
   "id": "cab58ec2",
   "metadata": {
    "scrolled": true
   },
   "outputs": [
    {
     "name": "stdout",
     "output_type": "stream",
     "text": [
      "  0.000329 seconds (3.62 k allocations: 303.633 KiB)\n"
     ]
    },
    {
     "data": {
      "text/plain": [
       "(((ω|∅)|∅)|∅)"
      ]
     },
     "execution_count": 118,
     "metadata": {},
     "output_type": "execute_result"
    }
   ],
   "source": [
    "include(\"./src2/include.jl\")\n",
    "\n",
    "#Surreal(add_s(X_s(omega), X_s(Surreal(2))), nil)\n",
    "\n",
    "omega + 3\n",
    "@time omega + 3"
   ]
  },
  {
   "cell_type": "code",
   "execution_count": 33,
   "id": "3b95df66",
   "metadata": {},
   "outputs": [
    {
     "data": {
      "text/plain": [
       "(n+ω|∅)"
      ]
     },
     "execution_count": 33,
     "metadata": {},
     "output_type": "execute_result"
    }
   ],
   "source": [
    "include(\"./src2/include.jl\")\n",
    "\n",
    "omega + omega"
   ]
  },
  {
   "cell_type": "code",
   "execution_count": 35,
   "id": "3ed23039",
   "metadata": {},
   "outputs": [
    {
     "data": {
      "text/plain": [
       "(∅|-n+(∅|0)∩-ω)"
      ]
     },
     "execution_count": 35,
     "metadata": {},
     "output_type": "execute_result"
    }
   ],
   "source": [
    "include(\"./src2/include.jl\")\n",
    "\n",
    "(-omega) - 1"
   ]
  },
  {
   "cell_type": "code",
   "execution_count": 80,
   "id": "e98cc8d3",
   "metadata": {
    "scrolled": true
   },
   "outputs": [
    {
     "name": "stdout",
     "output_type": "stream",
     "text": [
      "omega + omega + Surreal(1) = (n+ω+(0|∅)∪(n+ω|∅)|∅)\n",
      "omega + Surreal(1) + omega = (ω+ω∪n+(ω|∅)|∅)\n"
     ]
    },
    {
     "ename": "LoadError",
     "evalue": "UndefVarError: `TODO` not defined",
     "output_type": "error",
     "traceback": [
      "UndefVarError: `TODO` not defined",
      "",
      "Stacktrace:",
      "  [1] macro expansion",
      "    @ ~/code/Surreal.jl/src2/surrealExpression.jl:84 [inlined]",
      "  [2] macro expansion",
      "    @ ~/.julia/packages/Match/XemzX/src/matchmacro.jl:408 [inlined]",
      "  [3] hasUpperLimit(e::SymbolicUtils.BasicSymbolic{SurrealExpression})",
      "    @ Main ~/code/Surreal.jl/src2/surrealExpression.jl:68",
      "  [4] macro expansion",
      "    @ ~/.julia/packages/Match/XemzX/src/matchmacro.jl:408 [inlined]",
      "  [5] macro expansion",
      "    @ ~/code/Surreal.jl/src2/surrealExpression.jl:90 [inlined]",
      "  [6] macro expansion",
      "    @ ~/.julia/packages/Match/XemzX/src/matchmacro.jl:410 [inlined]",
      "  [7] macro expansion",
      "    @ ~/code/Surreal.jl/src2/surrealExpression.jl:89 [inlined]",
      "  [8] macro expansion",
      "    @ ~/.julia/packages/Match/XemzX/src/matchmacro.jl:410 [inlined]",
      "  [9] macro expansion",
      "    @ ~/code/Surreal.jl/src2/surrealExpression.jl:88 [inlined]",
      " [10] macro expansion",
      "    @ ~/.julia/packages/Match/XemzX/src/matchmacro.jl:410 [inlined]",
      " [11] macro expansion",
      "    @ ~/code/Surreal.jl/src2/surrealExpression.jl:87 [inlined]",
      " [12] macro expansion",
      "    @ ~/.julia/packages/Match/XemzX/src/matchmacro.jl:410 [inlined]",
      " [13] macro expansion",
      "    @ ~/code/Surreal.jl/src2/surrealExpression.jl:86 [inlined]",
      " [14] macro expansion",
      "    @ ~/.julia/packages/Match/XemzX/src/matchmacro.jl:410 [inlined]",
      " [15] hasUpperLimit(e::SymbolicUtils.BasicSymbolic{SurrealExpression})",
      "    @ Main ~/code/Surreal.jl/src2/surrealExpression.jl:68",
      " [16] hasUpperLimit",
      "    @ ~/code/Surreal.jl/src2/surreal_counted.jl:43 [inlined]",
      " [17] <(x::CountedSurrealSet, y::Surreal)",
      "    @ Main ~/code/Surreal.jl/src2/surreal_counted.jl:12",
      " [18] <=(x::Surreal, y::Surreal)",
      "    @ Main ~/code/Surreal.jl/src2/surreal.jl:16",
      " [19] <(x::Surreal, y::Surreal)",
      "    @ Main ~/code/Surreal.jl/src2/surreal.jl:21",
      " [20] isNegative",
      "    @ ~/code/Surreal.jl/src2/surreal.jl:83 [inlined]",
      " [21] <(x::CountedSurrealSet, y::Surreal)",
      "    @ Main ~/code/Surreal.jl/src2/surreal_counted.jl:13",
      " [22] <=(x::Surreal, y::Surreal)",
      "    @ Main ~/code/Surreal.jl/src2/surreal.jl:16",
      " [23] equiv(x::Surreal, y::Surreal)",
      "    @ Main ~/code/Surreal.jl/src2/surreal.jl:19",
      " [24] top-level scope",
      "    @ In[80]:3"
     ]
    }
   ],
   "source": [
    "@show omega + omega + Surreal(1) \n",
    "@show omega + Surreal(1) + omega\n",
    "equiv(omega + Surreal(1) + omega, omega + omega + Surreal(1))"
   ]
  },
  {
   "cell_type": "code",
   "execution_count": 116,
   "id": "4ecfbf37",
   "metadata": {
    "scrolled": true
   },
   "outputs": [
    {
     "ename": "LoadError",
     "evalue": "UndefVarError: `TODO` not defined",
     "output_type": "error",
     "traceback": [
      "UndefVarError: `TODO` not defined",
      "",
      "Stacktrace:",
      " [1] <",
      "   @ ~/code/Surreal.jl/src2/surreal_abstract.jl:15 [inlined]",
      " [2] Surreal",
      "   @ ~/code/Surreal.jl/src2/surreal.jl:9 [inlined]",
      " [3] Surreal(L::CountedSurrealSet, R::SingularSurrealSet)",
      "   @ Main ~/code/Surreal.jl/src2/surreal.jl:6",
      " [4] +(x::Surreal, y::Surreal)",
      "   @ Main ~/code/Surreal.jl/src2/surreal.jl:48",
      " [5] top-level scope",
      "   @ In[116]:1"
     ]
    }
   ],
   "source": [
    "omega + Surreal(1//2)"
   ]
  },
  {
   "cell_type": "code",
   "execution_count": null,
   "id": "8492a3bf",
   "metadata": {},
   "outputs": [],
   "source": []
  },
  {
   "cell_type": "code",
   "execution_count": null,
   "id": "5280d0da",
   "metadata": {},
   "outputs": [],
   "source": []
  },
  {
   "cell_type": "code",
   "execution_count": null,
   "id": "9bb2eb55",
   "metadata": {},
   "outputs": [],
   "source": []
  },
  {
   "cell_type": "code",
   "execution_count": null,
   "id": "b81561e0",
   "metadata": {},
   "outputs": [],
   "source": []
  },
  {
   "cell_type": "code",
   "execution_count": null,
   "id": "0148d83b",
   "metadata": {},
   "outputs": [],
   "source": []
  },
  {
   "cell_type": "code",
   "execution_count": null,
   "id": "aa2caafe",
   "metadata": {},
   "outputs": [],
   "source": []
  },
  {
   "cell_type": "code",
   "execution_count": null,
   "id": "f0c70522",
   "metadata": {},
   "outputs": [],
   "source": []
  }
 ],
 "metadata": {
  "kernelspec": {
   "display_name": "Julia 1.9.1 (20 threads) 1.9.1",
   "language": "julia",
   "name": "julia-1.9.1-_20-threads_-1.9"
  },
  "language_info": {
   "file_extension": ".jl",
   "mimetype": "application/julia",
   "name": "julia",
   "version": "1.9.1"
  }
 },
 "nbformat": 4,
 "nbformat_minor": 5
}
