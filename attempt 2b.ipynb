{
 "cells": [
  {
   "cell_type": "code",
   "execution_count": 58,
   "id": "8e029ff2",
   "metadata": {},
   "outputs": [
    {
     "name": "stderr",
     "output_type": "stream",
     "text": [
      "\u001b[32m\u001b[1m  Activating\u001b[22m\u001b[39m project at `~/code/Surreal.jl`\n"
     ]
    },
    {
     "name": "stdout",
     "output_type": "stream",
     "text": [
      "  2.703790 seconds (102.95 M allocations: 3.087 GiB, 9.79% gc time, 34.15% compilation time: 6% of which was recompilation)\n"
     ]
    }
   ],
   "source": [
    "using Pkg\n",
    "Pkg.activate(\"./\")\n",
    "include(\"./src2/include.jl\")\n",
    "include(\"./src2/test.jl\")"
   ]
  },
  {
   "cell_type": "code",
   "execution_count": 59,
   "id": "cab58ec2",
   "metadata": {
    "scrolled": true
   },
   "outputs": [
    {
     "name": "stdout",
     "output_type": "stream",
     "text": [
      "  0.000400 seconds (2.05 k allocations: 179.875 KiB)\n"
     ]
    },
    {
     "data": {
      "text/plain": [
       "(((ω|∅)|∅)|∅)"
      ]
     },
     "execution_count": 59,
     "metadata": {},
     "output_type": "execute_result"
    }
   ],
   "source": [
    "include(\"./src2/include.jl\")\n",
    "\n",
    "#Surreal(add_s(X_s(omega), X_s(Surreal(2))), nil)\n",
    "\n",
    "omega + Surreal(3)\n",
    "@time omega + Surreal(3)"
   ]
  },
  {
   "cell_type": "code",
   "execution_count": 45,
   "id": "3b95df66",
   "metadata": {},
   "outputs": [
    {
     "data": {
      "text/plain": [
       "(n+ω|∅)"
      ]
     },
     "execution_count": 45,
     "metadata": {},
     "output_type": "execute_result"
    }
   ],
   "source": [
    "include(\"./src2/surrealExpression.jl\")\n",
    "omega + omega"
   ]
  },
  {
   "cell_type": "code",
   "execution_count": 56,
   "id": "e98cc8d3",
   "metadata": {},
   "outputs": [
    {
     "data": {
      "text/plain": [
       ":add_s"
      ]
     },
     "execution_count": 56,
     "metadata": {},
     "output_type": "execute_result"
    }
   ],
   "source": [
    "Symbol(operation(add_s(n_s, n_s)))"
   ]
  },
  {
   "cell_type": "code",
   "execution_count": 44,
   "id": "4ecfbf37",
   "metadata": {
    "scrolled": true
   },
   "outputs": [
    {
     "ename": "LoadError",
     "evalue": "MethodError: no method matching isNegative(::CountedSurrealSet)\n\n\u001b[0mClosest candidates are:\n\u001b[0m  isNegative(\u001b[91m::Surreal\u001b[39m)\n\u001b[0m\u001b[90m   @\u001b[39m \u001b[35mMain\u001b[39m \u001b[90m~/code/Surreal.jl/src2/\u001b[39m\u001b[90m\u001b[4msurreal.jl:83\u001b[24m\u001b[39m\n",
     "output_type": "error",
     "traceback": [
      "MethodError: no method matching isNegative(::CountedSurrealSet)\n\n\u001b[0mClosest candidates are:\n\u001b[0m  isNegative(\u001b[91m::Surreal\u001b[39m)\n\u001b[0m\u001b[90m   @\u001b[39m \u001b[35mMain\u001b[39m \u001b[90m~/code/Surreal.jl/src2/\u001b[39m\u001b[90m\u001b[4msurreal.jl:83\u001b[24m\u001b[39m\n",
      "",
      "Stacktrace:",
      " [1] <(x::CountedSurrealSet, y::Surreal)",
      "   @ Main ~/code/Surreal.jl/src2/surreal_counted.jl:12",
      " [2] <=(x::Surreal, y::Surreal)",
      "   @ Main ~/code/Surreal.jl/src2/surreal.jl:16",
      " [3] <(x::Surreal, y::Surreal)",
      "   @ Main ~/code/Surreal.jl/src2/surreal.jl:21",
      " [4] macro expansion",
      "   @ ~/code/Surreal.jl/src2/surreal_singular.jl:7 [inlined]",
      " [5] <(v1::SingularSurrealSet, v2::Surreal)",
      "   @ Main ~/code/Surreal.jl/src2/rule.jl:53",
      " [6] <=(x::Surreal, y::Surreal)",
      "   @ Main ~/code/Surreal.jl/src2/surreal.jl:16",
      " [7] top-level scope",
      "   @ In[44]:1"
     ]
    }
   ],
   "source": [
    "Surreal(1) <= omega"
   ]
  },
  {
   "cell_type": "code",
   "execution_count": 52,
   "id": "8492a3bf",
   "metadata": {},
   "outputs": [
    {
     "data": {
      "text/plain": [
       "1-element Vector{Tuple{Int64, Int64}}:\n",
       " (1, 2)"
      ]
     },
     "execution_count": 52,
     "metadata": {},
     "output_type": "execute_result"
    }
   ],
   "source": [
    "collect(zip([1], [2]))"
   ]
  },
  {
   "cell_type": "code",
   "execution_count": 4,
   "id": "5280d0da",
   "metadata": {},
   "outputs": [
    {
     "ename": "LoadError",
     "evalue": "syntax: invalid identifier name \"->\"",
     "output_type": "error",
     "traceback": [
      "syntax: invalid identifier name \"->\"",
      "",
      "Stacktrace:",
      " [1] top-level scope",
      "   @ In[4]:1"
     ]
    }
   ],
   "source": [
    "1 <-> 2"
   ]
  },
  {
   "cell_type": "code",
   "execution_count": null,
   "id": "9bb2eb55",
   "metadata": {},
   "outputs": [],
   "source": []
  },
  {
   "cell_type": "code",
   "execution_count": null,
   "id": "0c54406e",
   "metadata": {},
   "outputs": [],
   "source": []
  },
  {
   "cell_type": "code",
   "execution_count": 104,
   "id": "92b65283",
   "metadata": {},
   "outputs": [
    {
     "data": {
      "text/html": [
       "# 4 methods for generic function <b>f</b> from \u001b[35mMain\u001b[39m:<ul><li> f(y::<b>var\"#1090#T\"</b>, x::<b>Int64</b>)<i> where var\"#1090#T\"<:SurrealSet</i> in Main at <a href=\"https://github.com/Agapanthus/Surreal.jl/tree/aa891b172d5c7c0dbb0103e9f07766b24d71309a//src2/rule.jl#L27\" target=\"_blank\">/home/eric/code/Surreal.jl/src2/rule.jl:27</a></li> <li> f(x::<b>Int64</b>, y::<b>T</b>)<i> where T<:SurrealSet</i> in Main at In[102]:5</li> <li> f(x::<b>Int64</b>, y::<b>Float32</b>) in Main at In[30]:3</li> <li> f(y::<b>Float32</b>, x::<b>Int64</b>) in Main at <a href=\"https://github.com/Agapanthus/Surreal.jl/tree/aa891b172d5c7c0dbb0103e9f07766b24d71309a//src2/rule.jl#L12\" target=\"_blank\">/home/eric/code/Surreal.jl/src2/rule.jl:12</a></li> </ul>"
      ],
      "text/plain": [
       "# 4 methods for generic function \"f\" from \u001b[35mMain\u001b[39m:\n",
       " [1] f(\u001b[90my\u001b[39m::\u001b[1mvar\"#1090#T\"\u001b[22m, \u001b[90mx\u001b[39m::\u001b[1mInt64\u001b[22m) where var\"#1090#T\"<:SurrealSet\n",
       "\u001b[90m     @\u001b[39m \u001b[90m~/code/Surreal.jl/src2/\u001b[39m\u001b[90m\u001b[4mrule.jl:27\u001b[24m\u001b[39m\n",
       " [2] f(\u001b[90mx\u001b[39m::\u001b[1mInt64\u001b[22m, \u001b[90my\u001b[39m::\u001b[1mT\u001b[22m) where T<:SurrealSet\n",
       "\u001b[90m     @\u001b[39m \u001b[90m\u001b[4mIn[102]:5\u001b[24m\u001b[39m\n",
       " [3] f(\u001b[90mx\u001b[39m::\u001b[1mInt64\u001b[22m, \u001b[90my\u001b[39m::\u001b[1mFloat32\u001b[22m)\n",
       "\u001b[90m     @\u001b[39m \u001b[90m\u001b[4mIn[30]:3\u001b[24m\u001b[39m\n",
       " [4] f(\u001b[90my\u001b[39m::\u001b[1mFloat32\u001b[22m, \u001b[90mx\u001b[39m::\u001b[1mInt64\u001b[22m)\n",
       "\u001b[90m     @\u001b[39m \u001b[90m~/code/Surreal.jl/src2/\u001b[39m\u001b[90m\u001b[4mrule.jl:12\u001b[24m\u001b[39m"
      ]
     },
     "execution_count": 104,
     "metadata": {},
     "output_type": "execute_result"
    }
   ],
   "source": [
    "methods(f)"
   ]
  },
  {
   "cell_type": "code",
   "execution_count": null,
   "id": "f39fc657",
   "metadata": {},
   "outputs": [],
   "source": []
  },
  {
   "cell_type": "code",
   "execution_count": null,
   "id": "6fe75377",
   "metadata": {},
   "outputs": [],
   "source": []
  }
 ],
 "metadata": {
  "kernelspec": {
   "display_name": "Julia 1.9.1 (20 threads) 1.9.1",
   "language": "julia",
   "name": "julia-1.9.1-_20-threads_-1.9"
  },
  "language_info": {
   "file_extension": ".jl",
   "mimetype": "application/julia",
   "name": "julia",
   "version": "1.9.1"
  }
 },
 "nbformat": 4,
 "nbformat_minor": 5
}
