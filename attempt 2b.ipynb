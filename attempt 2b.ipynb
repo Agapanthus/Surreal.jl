{
 "cells": [
  {
   "cell_type": "code",
   "execution_count": 24,
   "id": "8e029ff2",
   "metadata": {},
   "outputs": [
    {
     "name": "stderr",
     "output_type": "stream",
     "text": [
      "\u001b[32m\u001b[1m  Activating\u001b[22m\u001b[39m project at `~/code/Surreal.jl`\n"
     ]
    },
    {
     "ename": "LoadError",
     "evalue": "LoadError: AssertionError: isInfinite(n)\nin expression starting at /home/eric/code/Surreal.jl/src2/test.jl:72",
     "output_type": "error",
     "traceback": [
      "LoadError: AssertionError: isInfinite(n)\nin expression starting at /home/eric/code/Surreal.jl/src2/test.jl:72",
      "",
      "Stacktrace:",
      " [1] runTests()",
      "   @ Main ~/code/Surreal.jl/src2/test.jl:66",
      " [2] top-level scope",
      "   @ ./timing.jl:273",
      " [3] include(fname::String)",
      "   @ Base.MainInclude ./client.jl:478",
      " [4] top-level scope",
      "   @ In[24]:4"
     ]
    }
   ],
   "source": [
    "using Pkg\n",
    "Pkg.activate(\"./\")\n",
    "include(\"./src2/include.jl\")\n",
    "include(\"./src2/test.jl\")"
   ]
  },
  {
   "cell_type": "code",
   "execution_count": 41,
   "id": "4c26d6d4",
   "metadata": {},
   "outputs": [
    {
     "name": "stdout",
     "output_type": "stream",
     "text": [
      "(x, isPositive(x), hasUpperLimit(x.L)) = (ω, true, false)\n",
      "(x, isPositive(x), hasUpperLimit(x.L)) = (ω, true, false)\n",
      "(x, isPositive(x), hasUpperLimit(x.L)) = (((-1+n)|ω), true, true)\n",
      "(x, isPositive(x), hasUpperLimit(x.L)) = (ω, true, false)\n",
      "(x, isPositive(x), hasUpperLimit(x.L)) = (ω, true, false)\n"
     ]
    },
    {
     "data": {
      "text/plain": [
       "true"
      ]
     },
     "execution_count": 41,
     "metadata": {},
     "output_type": "execute_result"
    }
   ],
   "source": [
    "#include(\"./src2/include.jl\")\n",
    "isFinite(omega - 1)\n",
    "hasUpperLimit((omega - 1).L)"
   ]
  },
  {
   "cell_type": "code",
   "execution_count": 48,
   "id": "cbfe803a",
   "metadata": {},
   "outputs": [
    {
     "name": "stdout",
     "output_type": "stream",
     "text": [
      "ul = Tuple{Bool, Bool}[(1, 1), (0, 1)]\n",
      "ul = Tuple{Bool, Bool}[(1, 1), (0, 1)]\n",
      "v = (-1+n)\n",
      "ul = Tuple{Bool, Bool}[(1, 1), (0, 1)]\n"
     ]
    },
    {
     "data": {
      "text/plain": [
       "true"
      ]
     },
     "execution_count": 48,
     "metadata": {},
     "output_type": "execute_result"
    }
   ],
   "source": [
    "include(\"./src2/SurrealExpression/limits.jl\")\n",
    "v = (omega - 1).L\n",
    "@show v\n",
    "hasUpperLimit(v)"
   ]
  },
  {
   "cell_type": "code",
   "execution_count": 63,
   "id": "cab58ec2",
   "metadata": {
    "scrolled": true
   },
   "outputs": [
    {
     "data": {
      "text/plain": [
       "(((ω|∅)|∅)|∅)"
      ]
     },
     "execution_count": 63,
     "metadata": {},
     "output_type": "execute_result"
    }
   ],
   "source": [
    "include(\"./src2/include.jl\")\n",
    "\n",
    "#Surreal(add_s(X_s(omega), X_s(Surreal(2))), nil)\n",
    "\n",
    "#omega + 3\n",
    "#@time omega + 3\n",
    "\n",
    "#omega - 1\n",
    "\n",
    "omega + 3"
   ]
  },
  {
   "cell_type": "code",
   "execution_count": 41,
   "id": "7aea6250",
   "metadata": {},
   "outputs": [
    {
     "data": {
      "text/plain": [
       "ω"
      ]
     },
     "execution_count": 41,
     "metadata": {},
     "output_type": "execute_result"
    }
   ],
   "source": [
    "(@rule uu_s(n_s, ~x::sc(isPosInfinite)) => ~x)(uu_s(n_s, omega))"
   ]
  },
  {
   "cell_type": "code",
   "execution_count": 52,
   "id": "a7988068",
   "metadata": {},
   "outputs": [
    {
     "data": {
      "text/plain": [
       "n"
      ]
     },
     "execution_count": 52,
     "metadata": {},
     "output_type": "execute_result"
    }
   ],
   "source": [
    "(left((omega + 3).L.s.L.s.L.e))"
   ]
  },
  {
   "cell_type": "code",
   "execution_count": 58,
   "id": "3634db30",
   "metadata": {},
   "outputs": [
    {
     "data": {
      "text/plain": [
       "false"
      ]
     },
     "execution_count": 58,
     "metadata": {},
     "output_type": "execute_result"
    }
   ],
   "source": [
    "(omega + 3).L.s.L.s.L.e == uu_s(n_s, omega)"
   ]
  },
  {
   "cell_type": "code",
   "execution_count": 54,
   "id": "4e0ae3cc",
   "metadata": {},
   "outputs": [],
   "source": [
    "(@rule uu_s(n_s, ~x::sc(isPosInfinite)) => ~x)((omega + 3).L.s.L.s.L.e)"
   ]
  },
  {
   "cell_type": "code",
   "execution_count": 62,
   "id": "d71c5172",
   "metadata": {},
   "outputs": [
    {
     "data": {
      "text/plain": [
       "4"
      ]
     },
     "execution_count": 62,
     "metadata": {},
     "output_type": "execute_result"
    }
   ],
   "source": [
    "include(\"./src2/include.jl\")\n",
    "simplify(Surreal(uu_s(Surreal(1), Surreal(3)), nil))"
   ]
  },
  {
   "cell_type": "code",
   "execution_count": 64,
   "id": "85335942",
   "metadata": {},
   "outputs": [
    {
     "data": {
      "text/plain": [
       "(ω|∅)"
      ]
     },
     "execution_count": 64,
     "metadata": {},
     "output_type": "execute_result"
    }
   ],
   "source": [
    "simplify(Surreal(uu_s(n_s, omega), nil))"
   ]
  },
  {
   "cell_type": "code",
   "execution_count": 88,
   "id": "ab12f3d2",
   "metadata": {},
   "outputs": [
    {
     "data": {
      "text/plain": [
       "(n|ω)"
      ]
     },
     "execution_count": 88,
     "metadata": {},
     "output_type": "execute_result"
    }
   ],
   "source": [
    "#include(\"./src2/SurrealExpression/syms.jl\")\n",
    "include(\"./src2/include.jl\")\n",
    "\n",
    "simplify(omega - 1)"
   ]
  },
  {
   "cell_type": "code",
   "execution_count": 7,
   "id": "cec3fb06",
   "metadata": {},
   "outputs": [
    {
     "data": {
      "text/plain": [
       "(n|(n|ω))"
      ]
     },
     "execution_count": 7,
     "metadata": {},
     "output_type": "execute_result"
    }
   ],
   "source": [
    "include(\"./src2/include.jl\")\n",
    "\n",
    "simplify(omega - 2)"
   ]
  },
  {
   "cell_type": "code",
   "execution_count": 21,
   "id": "f287d396",
   "metadata": {},
   "outputs": [
    {
     "data": {
      "text/plain": [
       "true"
      ]
     },
     "execution_count": 21,
     "metadata": {},
     "output_type": "execute_result"
    }
   ],
   "source": [
    "simplify(omega - 1) < omega < omega + 1"
   ]
  },
  {
   "cell_type": "code",
   "execution_count": 74,
   "id": "6d38ce98",
   "metadata": {},
   "outputs": [
    {
     "data": {
      "text/plain": [
       "true"
      ]
     },
     "execution_count": 74,
     "metadata": {},
     "output_type": "execute_result"
    }
   ],
   "source": [
    "hasLowerLimit(omega)"
   ]
  },
  {
   "cell_type": "code",
   "execution_count": 46,
   "id": "d884dfa1",
   "metadata": {
    "collapsed": true
   },
   "outputs": [
    {
     "ename": "AssertionError",
     "evalue": "AssertionError: uu_s",
     "output_type": "error",
     "traceback": [
      "AssertionError: uu_s",
      "",
      "Stacktrace:",
      "  [1] macro expansion",
      "    @ ~/code/Surreal.jl/src2/SurrealExpression/limits.jl:90 [inlined]",
      "  [2] macro expansion",
      "    @ ~/.julia/packages/Match/XemzX/src/matchmacro.jl:410 [inlined]",
      "  [3] macro expansion",
      "    @ ~/code/Surreal.jl/src2/SurrealExpression/limits.jl:89 [inlined]",
      "  [4] macro expansion",
      "    @ ~/.julia/packages/Match/XemzX/src/matchmacro.jl:410 [inlined]",
      "  [5] macro expansion",
      "    @ ~/code/Surreal.jl/src2/SurrealExpression/limits.jl:88 [inlined]",
      "  [6] macro expansion",
      "    @ ~/.julia/packages/Match/XemzX/src/matchmacro.jl:410 [inlined]",
      "  [7] hasLowerLimit(e::SymbolicUtils.BasicSymbolic{SurrealExpression})",
      "    @ Main ~/code/Surreal.jl/src2/SurrealExpression/limits.jl:77",
      "  [8] hasLowerLimit",
      "    @ ~/code/Surreal.jl/src2/surreal_counted.jl:51 [inlined]",
      "  [9] <(x::Surreal, y::CountedSurrealSet)",
      "    @ Main ~/code/Surreal.jl/src2/surreal_counted.jl:32",
      " [10] <=(x::Surreal, y::Surreal)",
      "    @ Main ~/code/Surreal.jl/src2/surreal.jl:17",
      " [11] <(x::Surreal, y::Surreal)",
      "    @ Main ~/code/Surreal.jl/src2/surreal.jl:19",
      " [12] >",
      "    @ ~/code/Surreal.jl/src2/surreal.jl:21 [inlined]",
      " [13] isPositive",
      "    @ ~/code/Surreal.jl/src2/surreal.jl:159 [inlined]",
      " [14] isFinite(x::Surreal)",
      "    @ Main ~/code/Surreal.jl/src2/surreal.jl:169",
      " [15] isInfinite",
      "    @ ~/code/Surreal.jl/src2/surreal.jl:171 [inlined]",
      " [16] isOmegaFast",
      "    @ ~/code/Surreal.jl/src2/surreal.jl:186 [inlined]",
      " [17] show(io::IOContext{IOBuffer}, x::Surreal)",
      "    @ Main ~/code/Surreal.jl/src2/surreal.jl:59",
      " [18] show",
      "    @ ./multimedia.jl:47 [inlined]",
      " [19] limitstringmime(mime::MIME{Symbol(\"text/plain\")}, x::Surreal, forcetext::Bool)",
      "    @ IJulia ~/.julia/packages/IJulia/Vo51o/src/inline.jl:43",
      " [20] limitstringmime",
      "    @ ~/.julia/packages/IJulia/Vo51o/src/inline.jl:38 [inlined]",
      " [21] display_mimestring",
      "    @ ~/.julia/packages/IJulia/Vo51o/src/display.jl:71 [inlined]",
      " [22] display_dict(x::Surreal)",
      "    @ IJulia ~/.julia/packages/IJulia/Vo51o/src/display.jl:102",
      " [23] #invokelatest#2",
      "    @ ./essentials.jl:816 [inlined]",
      " [24] invokelatest",
      "    @ ./essentials.jl:813 [inlined]",
      " [25] execute_request(socket::ZMQ.Socket, msg::IJulia.Msg)",
      "    @ IJulia ~/.julia/packages/IJulia/Vo51o/src/execute_request.jl:112",
      " [26] #invokelatest#2",
      "    @ ./essentials.jl:816 [inlined]",
      " [27] invokelatest",
      "    @ ./essentials.jl:813 [inlined]",
      " [28] eventloop(socket::ZMQ.Socket)",
      "    @ IJulia ~/.julia/packages/IJulia/Vo51o/src/eventloop.jl:8",
      " [29] (::IJulia.var\"#15#18\")()",
      "    @ IJulia ./task.jl:514"
     ]
    }
   ],
   "source": [
    "include(\"./src2/include.jl\")\n",
    "\n",
    "(-omega) - 1"
   ]
  },
  {
   "cell_type": "code",
   "execution_count": 44,
   "id": "e98cc8d3",
   "metadata": {
    "scrolled": true
   },
   "outputs": [
    {
     "name": "stdout",
     "output_type": "stream",
     "text": [
      "omega + omega + 1 = (n+ω+(0|∅)∪(n+ω|∅)|∅)\n",
      "omega + 1 + omega = (ω+ω∪n+(ω|∅)|∅)\n"
     ]
    },
    {
     "ename": "LoadError",
     "evalue": "UndefVarError: `TODO` not defined",
     "output_type": "error",
     "traceback": [
      "UndefVarError: `TODO` not defined",
      "",
      "Stacktrace:",
      "  [1] macro expansion",
      "    @ ~/code/Surreal.jl/src2/SurrealExpression/limits.jl:46 [inlined]",
      "  [2] macro expansion",
      "    @ ~/.julia/packages/Match/XemzX/src/matchmacro.jl:408 [inlined]",
      "  [3] hasUpperLimit(e::SymbolicUtils.BasicSymbolic{SurrealExpression})",
      "    @ Main ~/code/Surreal.jl/src2/SurrealExpression/limits.jl:30",
      "  [4] macro expansion",
      "    @ ~/.julia/packages/Match/XemzX/src/matchmacro.jl:408 [inlined]",
      "  [5] macro expansion",
      "    @ ~/code/Surreal.jl/src2/SurrealExpression/limits.jl:52 [inlined]",
      "  [6] macro expansion",
      "    @ ~/.julia/packages/Match/XemzX/src/matchmacro.jl:410 [inlined]",
      "  [7] macro expansion",
      "    @ ~/code/Surreal.jl/src2/SurrealExpression/limits.jl:51 [inlined]",
      "  [8] macro expansion",
      "    @ ~/.julia/packages/Match/XemzX/src/matchmacro.jl:410 [inlined]",
      "  [9] macro expansion",
      "    @ ~/code/Surreal.jl/src2/SurrealExpression/limits.jl:50 [inlined]",
      " [10] macro expansion",
      "    @ ~/.julia/packages/Match/XemzX/src/matchmacro.jl:410 [inlined]",
      " [11] macro expansion",
      "    @ ~/code/Surreal.jl/src2/SurrealExpression/limits.jl:49 [inlined]",
      " [12] macro expansion",
      "    @ ~/.julia/packages/Match/XemzX/src/matchmacro.jl:410 [inlined]",
      " [13] macro expansion",
      "    @ ~/code/Surreal.jl/src2/SurrealExpression/limits.jl:48 [inlined]",
      " [14] macro expansion",
      "    @ ~/.julia/packages/Match/XemzX/src/matchmacro.jl:410 [inlined]",
      " [15] hasUpperLimit(e::SymbolicUtils.BasicSymbolic{SurrealExpression})",
      "    @ Main ~/code/Surreal.jl/src2/SurrealExpression/limits.jl:30",
      " [16] hasUpperLimit",
      "    @ ~/code/Surreal.jl/src2/surreal_counted.jl:43 [inlined]",
      " [17] <(x::CountedSurrealSet, y::Surreal)",
      "    @ Main ~/code/Surreal.jl/src2/surreal_counted.jl:12",
      " [18] <=(x::Surreal, y::Surreal)",
      "    @ Main ~/code/Surreal.jl/src2/surreal.jl:16",
      " [19] <(x::Surreal, y::Surreal)",
      "    @ Main ~/code/Surreal.jl/src2/surreal.jl:18",
      " [20] isNegative",
      "    @ ~/code/Surreal.jl/src2/surreal.jl:107 [inlined]",
      " [21] <(x::CountedSurrealSet, y::Surreal)",
      "    @ Main ~/code/Surreal.jl/src2/surreal_counted.jl:13",
      " [22] <=(x::Surreal, y::Surreal)",
      "    @ Main ~/code/Surreal.jl/src2/surreal.jl:16",
      " [23] equiv(x::Surreal, y::Surreal)",
      "    @ Main ~/code/Surreal.jl/src2/surreal.jl:23",
      " [24] top-level scope",
      "    @ In[44]:3"
     ]
    }
   ],
   "source": [
    "@show omega + omega + 1\n",
    "@show omega + 1 + omega\n",
    "equiv(omega + Surreal(1) + omega, omega + omega + Surreal(1))"
   ]
  },
  {
   "cell_type": "code",
   "execution_count": 116,
   "id": "4ecfbf37",
   "metadata": {
    "scrolled": true
   },
   "outputs": [
    {
     "ename": "LoadError",
     "evalue": "UndefVarError: `TODO` not defined",
     "output_type": "error",
     "traceback": [
      "UndefVarError: `TODO` not defined",
      "",
      "Stacktrace:",
      " [1] <",
      "   @ ~/code/Surreal.jl/src2/surreal_abstract.jl:15 [inlined]",
      " [2] Surreal",
      "   @ ~/code/Surreal.jl/src2/surreal.jl:9 [inlined]",
      " [3] Surreal(L::CountedSurrealSet, R::SingularSurrealSet)",
      "   @ Main ~/code/Surreal.jl/src2/surreal.jl:6",
      " [4] +(x::Surreal, y::Surreal)",
      "   @ Main ~/code/Surreal.jl/src2/surreal.jl:48",
      " [5] top-level scope",
      "   @ In[116]:1"
     ]
    }
   ],
   "source": [
    "omega + Surreal(1//2)"
   ]
  },
  {
   "cell_type": "code",
   "execution_count": null,
   "id": "8492a3bf",
   "metadata": {},
   "outputs": [],
   "source": []
  },
  {
   "cell_type": "code",
   "execution_count": null,
   "id": "5280d0da",
   "metadata": {},
   "outputs": [],
   "source": []
  },
  {
   "cell_type": "code",
   "execution_count": null,
   "id": "9bb2eb55",
   "metadata": {},
   "outputs": [],
   "source": []
  },
  {
   "cell_type": "code",
   "execution_count": null,
   "id": "4507f517",
   "metadata": {},
   "outputs": [],
   "source": []
  },
  {
   "cell_type": "code",
   "execution_count": null,
   "id": "af739447",
   "metadata": {},
   "outputs": [],
   "source": []
  },
  {
   "cell_type": "code",
   "execution_count": null,
   "id": "aa755a63",
   "metadata": {},
   "outputs": [],
   "source": []
  },
  {
   "cell_type": "code",
   "execution_count": null,
   "id": "a9a1820b",
   "metadata": {},
   "outputs": [],
   "source": []
  }
 ],
 "metadata": {
  "kernelspec": {
   "display_name": "Julia 1.9.1 (20 threads) 1.9.1",
   "language": "julia",
   "name": "julia-1.9.1-_20-threads_-1.9"
  },
  "language_info": {
   "file_extension": ".jl",
   "mimetype": "application/julia",
   "name": "julia",
   "version": "1.9.1"
  }
 },
 "nbformat": 4,
 "nbformat_minor": 5
}
