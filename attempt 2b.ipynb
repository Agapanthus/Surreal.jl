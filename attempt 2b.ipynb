{
 "cells": [
  {
   "cell_type": "code",
   "execution_count": 5,
   "id": "8e029ff2",
   "metadata": {},
   "outputs": [
    {
     "name": "stderr",
     "output_type": "stream",
     "text": [
      "\u001b[32m\u001b[1m  Activating\u001b[22m\u001b[39m project at `~/code/Surreal.jl`\n"
     ]
    },
    {
     "name": "stdout",
     "output_type": "stream",
     "text": [
      "  1.485694 seconds (65.52 M allocations: 1.983 GiB, 7.41% gc time, 33.01% compilation time)\n"
     ]
    }
   ],
   "source": [
    "using Pkg\n",
    "Pkg.activate(\"./\")\n",
    "include(\"./src2/include.jl\")\n",
    "include(\"./src2/test.jl\")"
   ]
  },
  {
   "cell_type": "code",
   "execution_count": 7,
   "id": "93099e14",
   "metadata": {
    "scrolled": true
   },
   "outputs": [
    {
     "ename": "LoadError",
     "evalue": "Failed to apply rule add_s(~y, X_s(~(x::(x->begin\n                            #= /home/eric/code/Surreal.jl/src2/surrealExpression.jl:154 =#\n                            isZeroFast(x)\n                        end)))) => ~y on expression n+(0|∅)",
     "output_type": "error",
     "traceback": [
      "Failed to apply rule add_s(~y, X_s(~(x::(x->begin\n                            #= /home/eric/code/Surreal.jl/src2/surrealExpression.jl:154 =#\n                            isZeroFast(x)\n                        end)))) => ~y on expression n+(0|∅)",
      "",
      "Stacktrace:",
      "  [1] (::SymbolicUtils.Rule{SymbolicUtils.BasicSymbolic{Any}, SymbolicUtils.var\"#term_matcher#98\"{Tuple{SymbolicUtils.var\"#literal_matcher#94\"{SymbolicUtils.BasicSymbolic{SymbolicUtils.FnType{Tuple{SurrealExpression, SurrealExpression}, SurrealExpression}}}, SymbolicUtils.var\"#slot_matcher#95\"{SymbolicUtils.Slot{typeof(SymbolicUtils.alwaystrue)}}, SymbolicUtils.var\"#term_matcher#98\"{Tuple{SymbolicUtils.var\"#literal_matcher#94\"{SymbolicUtils.BasicSymbolic{SymbolicUtils.FnType{Tuple{Surreal}, SurrealExpression}}}, SymbolicUtils.var\"#slot_matcher#95\"{SymbolicUtils.Slot{var\"#103#109\"}}}}}}, var\"#104#110\"})(term::SymbolicUtils.BasicSymbolic{SurrealExpression})",
      "    @ SymbolicUtils ~/.julia/packages/SymbolicUtils/H684H/src/rule.jl:145",
      "  [2] macro expansion",
      "    @ ~/.julia/packages/SymbolicUtils/H684H/src/utils.jl:11 [inlined]",
      "  [3] (::SymbolicUtils.Rewriters.RestartedChain{Vector{SymbolicUtils.Rule{SymbolicUtils.BasicSymbolic{Any}}}})(x::SymbolicUtils.BasicSymbolic{SurrealExpression})",
      "    @ SymbolicUtils.Rewriters ~/.julia/packages/SymbolicUtils/H684H/src/rewriters.jl:87",
      "  [4] (::SymbolicUtils.Rewriters.Walk{:pre, SymbolicUtils.Rewriters.RestartedChain{Vector{SymbolicUtils.Rule{SymbolicUtils.BasicSymbolic{Any}}}}, typeof(similarterm), false})(x::SymbolicUtils.BasicSymbolic{SurrealExpression})",
      "    @ SymbolicUtils.Rewriters ~/.julia/packages/SymbolicUtils/H684H/src/rewriters.jl:0",
      "  [5] (::SymbolicUtils.Rewriters.PassThrough{SymbolicUtils.Rewriters.Walk{:pre, SymbolicUtils.Rewriters.RestartedChain{Vector{SymbolicUtils.Rule{SymbolicUtils.BasicSymbolic{Any}}}}, typeof(similarterm), false}})(x::SymbolicUtils.BasicSymbolic{SurrealExpression})",
      "    @ SymbolicUtils.Rewriters ~/.julia/packages/SymbolicUtils/H684H/src/rewriters.jl:188",
      "  [6] iterate",
      "    @ ./generator.jl:47 [inlined]",
      "  [7] _collect(c::Vector{Any}, itr::Base.Generator{Vector{Any}, SymbolicUtils.Rewriters.PassThrough{SymbolicUtils.Rewriters.Walk{:pre, SymbolicUtils.Rewriters.RestartedChain{Vector{SymbolicUtils.Rule{SymbolicUtils.BasicSymbolic{Any}}}}, typeof(similarterm), false}}}, #unused#::Base.EltypeUnknown, isz::Base.HasShape{1})",
      "    @ Base ./array.jl:802",
      "  [8] collect_similar",
      "    @ ./array.jl:711 [inlined]",
      "  [9] map(f::SymbolicUtils.Rewriters.PassThrough{SymbolicUtils.Rewriters.Walk{:pre, SymbolicUtils.Rewriters.RestartedChain{Vector{SymbolicUtils.Rule{SymbolicUtils.BasicSymbolic{Any}}}}, typeof(similarterm), false}}, A::Vector{Any})",
      "    @ Base ./abstractarray.jl:3261",
      " [10] (::SymbolicUtils.Rewriters.Walk{:pre, SymbolicUtils.Rewriters.RestartedChain{Vector{SymbolicUtils.Rule{SymbolicUtils.BasicSymbolic{Any}}}}, typeof(similarterm), false})(x::SymbolicUtils.BasicSymbolic{SurrealExpression})",
      "    @ SymbolicUtils.Rewriters ~/.julia/packages/SymbolicUtils/H684H/src/rewriters.jl:198",
      " [11] macro expansion",
      "    @ ~/.julia/packages/SymbolicUtils/H684H/src/utils.jl:11 [inlined]",
      " [12] (::SymbolicUtils.Rewriters.Fixpoint{SymbolicUtils.Rewriters.Walk{:pre, SymbolicUtils.Rewriters.RestartedChain{Vector{SymbolicUtils.Rule{SymbolicUtils.BasicSymbolic{Any}}}}, typeof(similarterm), false}})(x::SymbolicUtils.BasicSymbolic{SurrealExpression})",
      "    @ SymbolicUtils.Rewriters ~/.julia/packages/SymbolicUtils/H684H/src/rewriters.jl:118",
      " [13] PassThrough",
      "    @ ~/.julia/packages/SymbolicUtils/H684H/src/rewriters.jl:188 [inlined]",
      " [14] simplify(x::SymbolicUtils.BasicSymbolic{SurrealExpression}; expand::Bool, polynorm::Nothing, threaded::Bool, simplify_fractions::Bool, thread_subtree_cutoff::Int64, rewriter::SymbolicUtils.Rewriters.Walk{:pre, SymbolicUtils.Rewriters.RestartedChain{Vector{SymbolicUtils.Rule{SymbolicUtils.BasicSymbolic{Any}}}}, typeof(similarterm), false})",
      "    @ SymbolicUtils ~/.julia/packages/SymbolicUtils/H684H/src/simplify.jl:41",
      " [15] simplify",
      "    @ ~/.julia/packages/SymbolicUtils/H684H/src/simplify.jl:16 [inlined]",
      " [16] (::var\"#98#99\"{Vector{SymbolicUtils.Rule{SymbolicUtils.BasicSymbolic{Any}}}})(x::SymbolicUtils.BasicSymbolic{SurrealExpression})",
      "    @ Main ~/code/Surreal.jl/src2/surrealExpression.jl:145",
      " [17] lowerUnion(x::CountedSurrealSet, y::CountedSurrealSet)",
      "    @ Main ~/code/Surreal.jl/src2/surreal_counted.jl:51",
      " [18] lowerUnion(x::CountedSurrealSet, y::SingularSurrealSet)",
      "    @ Main ~/code/Surreal.jl/src2/surreal_counted.jl:48",
      " [19] +(x::Surreal, y::Surreal)",
      "    @ Main ~/code/Surreal.jl/src2/surreal.jl:34",
      " [20] top-level scope",
      "    @ In[7]:5"
     ]
    }
   ],
   "source": [
    "include(\"./src2/include.jl\")\n",
    "\n",
    "#Surreal(add_s(X_s(omega), X_s(Surreal(2))), nil)\n",
    "\n",
    "omega + Surreal(1)"
   ]
  },
  {
   "cell_type": "code",
   "execution_count": 1,
   "id": "4ecfbf37",
   "metadata": {},
   "outputs": [
    {
     "ename": "LoadError",
     "evalue": "UndefVarError: `Surreal` not defined",
     "output_type": "error",
     "traceback": [
      "UndefVarError: `Surreal` not defined",
      "",
      "Stacktrace:",
      " [1] top-level scope",
      "   @ In[1]:1"
     ]
    }
   ],
   "source": [
    "Surreal(1) <= omega"
   ]
  },
  {
   "cell_type": "code",
   "execution_count": 52,
   "id": "9469c48d",
   "metadata": {},
   "outputs": [
    {
     "data": {
      "text/plain": [
       "1-element Vector{Tuple{Int64, Int64}}:\n",
       " (1, 2)"
      ]
     },
     "execution_count": 52,
     "metadata": {},
     "output_type": "execute_result"
    }
   ],
   "source": [
    "collect(zip([1], [2]))"
   ]
  },
  {
   "cell_type": "code",
   "execution_count": 4,
   "id": "b0e49085",
   "metadata": {},
   "outputs": [
    {
     "ename": "LoadError",
     "evalue": "syntax: invalid identifier name \"->\"",
     "output_type": "error",
     "traceback": [
      "syntax: invalid identifier name \"->\"",
      "",
      "Stacktrace:",
      " [1] top-level scope",
      "   @ In[4]:1"
     ]
    }
   ],
   "source": [
    "1 <-> 2"
   ]
  },
  {
   "cell_type": "code",
   "execution_count": null,
   "id": "a54f3b62",
   "metadata": {},
   "outputs": [],
   "source": []
  }
 ],
 "metadata": {
  "kernelspec": {
   "display_name": "Julia 1.9.1 (20 threads) 1.9.1",
   "language": "julia",
   "name": "julia-1.9.1-_20-threads_-1.9"
  },
  "language_info": {
   "file_extension": ".jl",
   "mimetype": "application/julia",
   "name": "julia",
   "version": "1.9.1"
  }
 },
 "nbformat": 4,
 "nbformat_minor": 5
}
