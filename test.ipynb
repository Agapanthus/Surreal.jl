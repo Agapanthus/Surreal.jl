{
 "cells": [
  {
   "cell_type": "code",
   "execution_count": 30,
   "id": "48db95a7",
   "metadata": {},
   "outputs": [
    {
     "name": "stderr",
     "output_type": "stream",
     "text": [
      "\u001b[32m\u001b[1m  Activating\u001b[22m\u001b[39m project at `~/code/Surreal.jl`\n"
     ]
    }
   ],
   "source": [
    "using Pkg\n",
    "Pkg.activate(\"./\")\n",
    "include(\"./src/include.jl\")"
   ]
  },
  {
   "cell_type": "code",
   "execution_count": 556,
   "id": "f0bb1f1f",
   "metadata": {},
   "outputs": [
    {
     "name": "stdout",
     "output_type": "stream",
     "text": [
      "Side\n",
      "  x: SSet{Surreal}\n",
      "    t: SSetType SSetAdd\n",
      "    l: SSet{Surreal}\n",
      "      t: SSetType SSetId\n",
      "      l: Nothing nothing\n",
      "      r: Nothing nothing\n",
      "      v: Surreal\n",
      "        L: Side\n",
      "          x: Nothing nothing\n",
      "        R: Side\n",
      "          x: Nothing nothing\n",
      "    r: SSet{Surreal}\n",
      "      t: SSetType SSetLit\n",
      "      l: Nothing nothing\n",
      "      r: Nothing nothing\n",
      "      v: Surreal\n",
      "        L: Side\n",
      "          x: SSet{Surreal}\n",
      "            t: SSetType SSetLit\n",
      "            l: Nothing nothing\n",
      "            r: Nothing nothing\n",
      "            v: Surreal\n",
      "              L: Side\n",
      "                x: Nothing nothing\n",
      "              R: Side\n",
      "                x: Nothing nothing\n",
      "        R: Side\n",
      "          x: Nothing nothing\n",
      "    v: Surreal\n",
      "      L: Side\n",
      "        x: Nothing nothing\n",
      "      R: Side\n",
      "        x: Nothing nothing\n",
      "Side\n",
      "  x: SSet{Surreal}\n",
      "    t: SSetType SSetLit\n",
      "    l: Nothing nothing\n",
      "    r: Nothing nothing\n",
      "    v: Surreal\n",
      "      L: Side\n",
      "        x: SSet{Surreal}\n",
      "          t: SSetType SSetId\n",
      "          l: Nothing nothing\n",
      "          r: Nothing nothing\n",
      "          v: Surreal\n",
      "            L: Side\n",
      "              x: Nothing nothing\n",
      "            R: Side\n",
      "              x: Nothing nothing\n",
      "      R: Side\n",
      "        x: Nothing nothing\n"
     ]
    },
    {
     "ename": "LoadError",
     "evalue": "UndefVarError: `eh` not defined",
     "output_type": "error",
     "traceback": [
      "UndefVarError: `eh` not defined",
      "",
      "Stacktrace:",
      " [1] max(x::Side, y::Side)",
      "   @ Main ~/code/Surreal.jl/src/minmax.jl:41",
      " [2] +(x::Surreal, y::Surreal)",
      "   @ Main ~/code/Surreal.jl/src/add.jl:11",
      " [3] +(x::Surreal, y::Int64)",
      "   @ Main ~/code/Surreal.jl/src/add.jl:14",
      " [4] top-level scope",
      "   @ In[556]:2"
     ]
    }
   ],
   "source": [
    "include(\"./src/include.jl\")\n",
    "ω + 1;"
   ]
  },
  {
   "cell_type": "code",
   "execution_count": 565,
   "id": "1a0accc3",
   "metadata": {},
   "outputs": [
    {
     "name": "stdout",
     "output_type": "stream",
     "text": [
      "  0.025261 seconds (262 allocations: 8.805 KiB)\n"
     ]
    },
    {
     "data": {
      "text/plain": [
       "true"
      ]
     },
     "execution_count": 565,
     "metadata": {},
     "output_type": "execute_result"
    }
   ],
   "source": [
    "include(\"./src/include.jl\")\n",
    "\n",
    "isFinite(-ω)\n",
    "\n",
    "-ω < 4\n",
    "\n",
    "ϵ < ω"
   ]
  },
  {
   "cell_type": "code",
   "execution_count": 545,
   "id": "7f379844",
   "metadata": {},
   "outputs": [
    {
     "data": {
      "text/plain": [
       "false"
      ]
     },
     "execution_count": 545,
     "metadata": {},
     "output_type": "execute_result"
    }
   ],
   "source": [
    "include(\"./src/symbolic.jl\")\n",
    "\n",
    "compareAll( Side(SSetInv, Side(SSetId)), Side(SSetInv, Side(SSetId)))\n",
    "#compareAll(Side(Surreal(0)), Side(SSetInv, Side(SSetId)))"
   ]
  },
  {
   "cell_type": "code",
   "execution_count": 559,
   "id": "5808e102",
   "metadata": {},
   "outputs": [
    {
     "data": {
      "text/plain": [
       "true"
      ]
     },
     "execution_count": 559,
     "metadata": {},
     "output_type": "execute_result"
    }
   ],
   "source": [
    "isFinite(Surreal(S0, Side(SSetInv, Side(SSetId))))"
   ]
  },
  {
   "cell_type": "code",
   "execution_count": null,
   "id": "589ebc17",
   "metadata": {},
   "outputs": [],
   "source": []
  }
 ],
 "metadata": {
  "kernelspec": {
   "display_name": "Julia 1.9.1 (20 threads) 1.9.1",
   "language": "julia",
   "name": "julia-1.9.1-_20-threads_-1.9"
  },
  "language_info": {
   "file_extension": ".jl",
   "mimetype": "application/julia",
   "name": "julia",
   "version": "1.9.1"
  }
 },
 "nbformat": 4,
 "nbformat_minor": 5
}
