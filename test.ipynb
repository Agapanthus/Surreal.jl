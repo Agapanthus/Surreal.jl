{
 "cells": [
  {
   "cell_type": "code",
   "execution_count": 3,
   "id": "48db95a7",
   "metadata": {},
   "outputs": [
    {
     "name": "stderr",
     "output_type": "stream",
     "text": [
      "\u001b[32m\u001b[1m  Activating\u001b[22m\u001b[39m project at `~/code/Surreal.jl`\n"
     ]
    }
   ],
   "source": [
    "using Pkg\n",
    "Pkg.activate(\"./\")\n",
    "#using Revise\n",
    "include(\"./src/include.jl\")"
   ]
  },
  {
   "cell_type": "code",
   "execution_count": 4,
   "id": "c0462297",
   "metadata": {},
   "outputs": [
    {
     "ename": "LoadError",
     "evalue": "MethodError: no method matching +(::Nothing, ::Surreal)\n\n\u001b[0mClosest candidates are:\n\u001b[0m  +(::Any, ::Any, \u001b[91m::Any\u001b[39m, \u001b[91m::Any...\u001b[39m)\n\u001b[0m\u001b[90m   @\u001b[39m \u001b[90mBase\u001b[39m \u001b[90m\u001b[4moperators.jl:578\u001b[24m\u001b[39m\n\u001b[0m  +(\u001b[91m::SSS\u001b[39m, ::Surreal)\n\u001b[0m\u001b[90m   @\u001b[39m \u001b[35mMain\u001b[39m \u001b[90m~/code/Surreal.jl/src/\u001b[39m\u001b[90m\u001b[4madd.jl:2\u001b[24m\u001b[39m\n\u001b[0m  +(\u001b[91m::PyCall.PyObject\u001b[39m, ::Any)\n\u001b[0m\u001b[90m   @\u001b[39m \u001b[36mPyCall\u001b[39m \u001b[90m~/.julia/packages/PyCall/twYvK/src/\u001b[39m\u001b[90m\u001b[4mpyoperators.jl:13\u001b[24m\u001b[39m\n\u001b[0m  ...\n",
     "output_type": "error",
     "traceback": [
      "MethodError: no method matching +(::Nothing, ::Surreal)\n\n\u001b[0mClosest candidates are:\n\u001b[0m  +(::Any, ::Any, \u001b[91m::Any\u001b[39m, \u001b[91m::Any...\u001b[39m)\n\u001b[0m\u001b[90m   @\u001b[39m \u001b[90mBase\u001b[39m \u001b[90m\u001b[4moperators.jl:578\u001b[24m\u001b[39m\n\u001b[0m  +(\u001b[91m::SSS\u001b[39m, ::Surreal)\n\u001b[0m\u001b[90m   @\u001b[39m \u001b[35mMain\u001b[39m \u001b[90m~/code/Surreal.jl/src/\u001b[39m\u001b[90m\u001b[4madd.jl:2\u001b[24m\u001b[39m\n\u001b[0m  +(\u001b[91m::PyCall.PyObject\u001b[39m, ::Any)\n\u001b[0m\u001b[90m   @\u001b[39m \u001b[36mPyCall\u001b[39m \u001b[90m~/.julia/packages/PyCall/twYvK/src/\u001b[39m\u001b[90m\u001b[4mpyoperators.jl:13\u001b[24m\u001b[39m\n\u001b[0m  ...\n",
      "",
      "Stacktrace:",
      " [1] +(x::Surreal, y::Surreal)",
      "   @ Main ~/code/Surreal.jl/src/add.jl:11",
      " [2] top-level scope",
      "   @ In[4]:1"
     ]
    }
   ],
   "source": [
    "\n",
    "\n",
    "Surreal(0) + Surreal(1)"
   ]
  },
  {
   "cell_type": "code",
   "execution_count": null,
   "id": "49dc4325",
   "metadata": {},
   "outputs": [],
   "source": []
  }
 ],
 "metadata": {
  "kernelspec": {
   "display_name": "Julia 1.9.1 (20 threads) 1.9.1",
   "language": "julia",
   "name": "julia-1.9.1-_20-threads_-1.9"
  },
  "language_info": {
   "file_extension": ".jl",
   "mimetype": "application/julia",
   "name": "julia",
   "version": "1.9.1"
  }
 },
 "nbformat": 4,
 "nbformat_minor": 5
}
