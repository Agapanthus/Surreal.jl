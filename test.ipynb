{
 "cells": [
  {
   "cell_type": "code",
   "execution_count": 1,
   "id": "48db95a7",
   "metadata": {},
   "outputs": [
    {
     "name": "stderr",
     "output_type": "stream",
     "text": [
      "\u001b[32m\u001b[1m  Activating\u001b[22m\u001b[39m project at `~/code/Surreal.jl`\n"
     ]
    },
    {
     "data": {
      "text/latex": [
       "$$ \\begin{equation}\n",
       "\\left( 0 < \\frac{1}{n} \\right)\n",
       "\\end{equation}\n",
       " $$"
      ],
      "text/plain": [
       "0 < (1 / n)"
      ]
     },
     "metadata": {},
     "output_type": "display_data"
    },
    {
     "data": {
      "text/latex": [
       "$$ \\begin{equation}\n",
       "\\left( 0 < \\frac{1}{n} \\right)\n",
       "\\end{equation}\n",
       " $$"
      ],
      "text/plain": [
       "0 < (1 / n)"
      ]
     },
     "metadata": {},
     "output_type": "display_data"
    }
   ],
   "source": [
    "using Pkg\n",
    "Pkg.activate(\"./\")\n",
    "include(\"./src/include.jl\");"
   ]
  },
  {
   "cell_type": "code",
   "execution_count": 168,
   "id": "9c3ff71e",
   "metadata": {},
   "outputs": [
    {
     "data": {
      "text/latex": [
       "$$ \\begin{equation}\n",
       "\\left( 0 < \\frac{1}{n} \\right)\n",
       "\\end{equation}\n",
       " $$"
      ],
      "text/plain": [
       "0 < (1 / n)"
      ]
     },
     "metadata": {},
     "output_type": "display_data"
    },
    {
     "data": {
      "text/latex": [
       "$$ \\begin{equation}\n",
       "\\left( 0 < \\frac{1}{n} \\right)\n",
       "\\end{equation}\n",
       " $$"
      ],
      "text/plain": [
       "0 < (1 / n)"
      ]
     },
     "metadata": {},
     "output_type": "display_data"
    },
    {
     "data": {
      "text/latex": [
       "$$ \\begin{equation}\n",
       "\\left( S\\left( n, \\emptyset \\right) \\geq 1 + n \\right)\n",
       "\\end{equation}\n",
       " $$"
      ],
      "text/plain": [
       "S(n, ∅) >= (1 + n)"
      ]
     },
     "metadata": {},
     "output_type": "display_data"
    },
    {
     "data": {
      "text/latex": [
       "$$ \\begin{equation}\n",
       "\\left( \\omega \\geq 1 + n \\right)\n",
       "\\end{equation}\n",
       " $$"
      ],
      "text/plain": [
       "omega >= (1 + n)"
      ]
     },
     "metadata": {},
     "output_type": "display_data"
    },
    {
     "data": {
      "text/latex": [
       "$$ \\begin{equation}\n",
       "\\left( n < n \\right)\n",
       "\\end{equation}\n",
       " $$"
      ],
      "text/plain": [
       "n < n"
      ]
     },
     "metadata": {},
     "output_type": "display_data"
    },
    {
     "data": {
      "text/plain": [
       "false"
      ]
     },
     "metadata": {},
     "output_type": "display_data"
    },
    {
     "data": {
      "text/plain": [
       "true"
      ]
     },
     "execution_count": 168,
     "metadata": {},
     "output_type": "execute_result"
    }
   ],
   "source": [
    "include(\"./src/include.jl\")\n",
    "o1 = ω + 1\n",
    "o1 >= ω"
   ]
  },
  {
   "cell_type": "code",
   "execution_count": 169,
   "id": "fbc71063",
   "metadata": {},
   "outputs": [
    {
     "data": {
      "text/latex": [
       "$$ \\begin{equation}\n",
       "\\left( 0 <  - n \\right)\n",
       "\\end{equation}\n",
       " $$"
      ],
      "text/plain": [
       "0 < (-n)"
      ]
     },
     "metadata": {},
     "output_type": "display_data"
    },
    {
     "data": {
      "text/latex": [
       "$$ \\begin{equation}\n",
       "\\left( 0 <  - n \\right)\n",
       "\\end{equation}\n",
       " $$"
      ],
      "text/plain": [
       "0 < (-n)"
      ]
     },
     "metadata": {},
     "output_type": "display_data"
    },
    {
     "data": {
      "text/latex": [
       "$$ \\begin{equation}\n",
       "\\left( 0 <  - n \\right)\n",
       "\\end{equation}\n",
       " $$"
      ],
      "text/plain": [
       "0 < (-n)"
      ]
     },
     "metadata": {},
     "output_type": "display_data"
    },
    {
     "data": {
      "text/latex": [
       "$$ \\begin{equation}\n",
       "\\left( 0 <  - n \\right)\n",
       "\\end{equation}\n",
       " $$"
      ],
      "text/plain": [
       "0 < (-n)"
      ]
     },
     "metadata": {},
     "output_type": "display_data"
    },
    {
     "data": {
      "text/latex": [
       "$$ \\begin{equation}\n",
       "\\left( n < n \\right)\n",
       "\\end{equation}\n",
       " $$"
      ],
      "text/plain": [
       "n < n"
      ]
     },
     "metadata": {},
     "output_type": "display_data"
    },
    {
     "data": {
      "text/plain": [
       "false"
      ]
     },
     "metadata": {},
     "output_type": "display_data"
    },
    {
     "data": {
      "text/latex": [
       "$$ \\begin{equation}\n",
       "\\left( n < n \\right)\n",
       "\\end{equation}\n",
       " $$"
      ],
      "text/plain": [
       "n < n"
      ]
     },
     "metadata": {},
     "output_type": "display_data"
    },
    {
     "data": {
      "text/plain": [
       "false"
      ]
     },
     "metadata": {},
     "output_type": "display_data"
    },
    {
     "data": {
      "text/plain": [
       "false"
      ]
     },
     "execution_count": 169,
     "metadata": {},
     "output_type": "execute_result"
    }
   ],
   "source": [
    "isFinite(-o1)"
   ]
  },
  {
   "cell_type": "code",
   "execution_count": 139,
   "id": "2aa6c2aa",
   "metadata": {},
   "outputs": [
    {
     "data": {
      "text/html": [
       "# 110 methods for generic function <b><</b> from \u001b[90mBase\u001b[39m:<ul><li> <(x::<b>T</b>, y::<b>T</b>)<i> where T<:Union{Int128, Int16, Int32, Int64, Int8}</i> in Base at <a href=\"https://github.com/JuliaLang/julia/tree/147bdf428cd14c979202678127d1618e425912d6/base/int.jl#L83\" target=\"_blank\">int.jl:83</a></li> <li> <(x::<b>T</b>, y::<b>T</b>)<i> where T<:Union{UInt128, UInt16, UInt32, UInt64, UInt8}</i> in Base at <a href=\"https://github.com/JuliaLang/julia/tree/147bdf428cd14c979202678127d1618e425912d6/base/int.jl#L487\" target=\"_blank\">int.jl:487</a></li> <li> <(x::<b>Union{Int128, Int16, Int32, Int64, Int8}</b>, y::<b>Union{UInt128, UInt16, UInt32, UInt64, UInt8}</b>) in Base at <a href=\"https://github.com/JuliaLang/julia/tree/147bdf428cd14c979202678127d1618e425912d6/base/int.jl#L493\" target=\"_blank\">int.jl:493</a></li> <li> <(x::<b>Union{UInt128, UInt16, UInt32, UInt64, UInt8}</b>, y::<b>Union{Int128, Int16, Int32, Int64, Int8}</b>) in Base at <a href=\"https://github.com/JuliaLang/julia/tree/147bdf428cd14c979202678127d1618e425912d6/base/int.jl#L494\" target=\"_blank\">int.jl:494</a></li> <li> <(x::<b>T</b>, y::<b>T</b>)<i> where T<:Union{Float16, Float32, Float64}</i> in Base at <a href=\"https://github.com/JuliaLang/julia/tree/147bdf428cd14c979202678127d1618e425912d6/base/float.jl#L535\" target=\"_blank\">float.jl:535</a></li> <li> <(x::<b>Union{Int128, Int64, UInt128, UInt64}</b>, y::<b>Float16</b>) in Base at <a href=\"https://github.com/JuliaLang/julia/tree/147bdf428cd14c979202678127d1618e425912d6/base/float.jl#L598\" target=\"_blank\">float.jl:598</a></li> <li> <(x::<b>Union{Float16, Float32}</b>, y::<b>Union{Int32, UInt32}</b>) in Base at <a href=\"https://github.com/JuliaLang/julia/tree/147bdf428cd14c979202678127d1618e425912d6/base/float.jl#L600\" target=\"_blank\">float.jl:600</a></li> <li> <(x::<b>Union{Int32, UInt32}</b>, y::<b>Union{Float16, Float32}</b>) in Base at <a href=\"https://github.com/JuliaLang/julia/tree/147bdf428cd14c979202678127d1618e425912d6/base/float.jl#L601\" target=\"_blank\">float.jl:601</a></li> <li> <(x::<b>Union{Int16, UInt16}</b>, y::<b>Float16</b>) in Base at <a href=\"https://github.com/JuliaLang/julia/tree/147bdf428cd14c979202678127d1618e425912d6/base/float.jl#L604\" target=\"_blank\">float.jl:604</a></li> <li> <(f::<b>Union{Float16, Float32, Float64}</b>, x::<b>BigInt</b>) in Base.GMP at <a href=\"https://github.com/JuliaLang/julia/tree/147bdf428cd14c979202678127d1618e425912d6/base/gmp.jl#L714\" target=\"_blank\">gmp.jl:714</a></li> <li> <(x::<b>Union{Float16, Float32, Float64}</b>, y::<b>BigFloat</b>) in Base.MPFR at <a href=\"https://github.com/JuliaLang/julia/tree/147bdf428cd14c979202678127d1618e425912d6/base/mpfr.jl#L813\" target=\"_blank\">mpfr.jl:813</a></li> <li> <(x1::<b>Union{StatsBase.PValue, StatsBase.TestStat}</b>, x2::<b>Union{StatsBase.PValue, StatsBase.TestStat}</b>) in StatsBase at <a href=\"file:///home/eric/.julia/packages/StatsBase/iMkPf/src/statmodels.jl\" target=\"_blank\">/home/eric/.julia/packages/StatsBase/iMkPf/src/statmodels.jl:92</a></li> <li> <(x::<b>Union{StatsBase.PValue, StatsBase.TestStat}</b>, y::<b>Real</b>) in StatsBase at <a href=\"file:///home/eric/.julia/packages/StatsBase/iMkPf/src/statmodels.jl\" target=\"_blank\">/home/eric/.julia/packages/StatsBase/iMkPf/src/statmodels.jl:90</a></li> <li> <(x::<b>AbstractIrrational</b>, y::<b>Float64</b>) in Base at <a href=\"https://github.com/JuliaLang/julia/tree/147bdf428cd14c979202678127d1618e425912d6/base/irrationals.jl#L93\" target=\"_blank\">irrationals.jl:93</a></li> <li> <(x::<b>AbstractIrrational</b>, y::<b>Float32</b>) in Base at <a href=\"https://github.com/JuliaLang/julia/tree/147bdf428cd14c979202678127d1618e425912d6/base/irrationals.jl#L95\" target=\"_blank\">irrationals.jl:95</a></li> <li> <(x::<b>AbstractIrrational</b>, y::<b>Float16</b>) in Base at <a href=\"https://github.com/JuliaLang/julia/tree/147bdf428cd14c979202678127d1618e425912d6/base/irrationals.jl#L97\" target=\"_blank\">irrationals.jl:97</a></li> <li> <(x::<b>AbstractIrrational</b>, y::<b>BigFloat</b>) in Base at <a href=\"https://github.com/JuliaLang/julia/tree/147bdf428cd14c979202678127d1618e425912d6/base/irrationals.jl#L99\" target=\"_blank\">irrationals.jl:99</a></li> <li> <(x::<b>AbstractIrrational</b>, y::<b>Rational{BigInt}</b>) in Base at <a href=\"https://github.com/JuliaLang/julia/tree/147bdf428cd14c979202678127d1618e425912d6/base/irrationals.jl#L136\" target=\"_blank\">irrationals.jl:136</a></li> <li> <(x::<b>AbstractIrrational</b>, y::<b>Rational{T}</b>)<i> where T</i> in Base at <a href=\"https://github.com/JuliaLang/julia/tree/147bdf428cd14c979202678127d1618e425912d6/base/irrationals.jl#L118\" target=\"_blank\">irrationals.jl:118</a></li> <li> <(x::<b>Integer</b>, y::<b>Rational</b>) in Base at <a href=\"https://github.com/JuliaLang/julia/tree/147bdf428cd14c979202678127d1618e425912d6/base/rational.jl#L376\" target=\"_blank\">rational.jl:376</a></li> <li> <(x::<b>Integer</b>, y::<b>BigFloat</b>) in Base.MPFR at <a href=\"https://github.com/JuliaLang/julia/tree/147bdf428cd14c979202678127d1618e425912d6/base/mpfr.jl#L811\" target=\"_blank\">mpfr.jl:811</a></li> <li> <(x::<b>Integer</b>, y::<b>ForwardDiff.Dual{Ty}</b>)<i> where Ty</i> in ForwardDiff at <a href=\"file:///home/eric/.julia/packages/ForwardDiff/vXysl/src/dual.jl\" target=\"_blank\">/home/eric/.julia/packages/ForwardDiff/vXysl/src/dual.jl:145</a></li> <li> <(::<b>T</b>, ::<b>T</b>)<i> where T<:IrrationalConstants.IrrationalConstant</i> in IrrationalConstants at <a href=\"file:///home/eric/.julia/packages/IrrationalConstants/vp5v4/src/macro.jl\" target=\"_blank\">/home/eric/.julia/packages/IrrationalConstants/vp5v4/src/macro.jl:18</a></li> <li> <(l::<b>OrderedCollections.OrderedSet</b>, r::<b>OrderedCollections.OrderedSet</b>) in OrderedCollections at <a href=\"file:///home/eric/.julia/packages/OrderedCollections/vTcqn/src/ordered_set.jl\" target=\"_blank\">/home/eric/.julia/packages/OrderedCollections/vTcqn/src/ordered_set.jl:63</a></li> <li> <(x::<b>RoundingMode</b>, y::<b>ForwardDiff.Dual{Ty}</b>)<i> where Ty</i> in ForwardDiff at <a href=\"file:///home/eric/.julia/packages/ForwardDiff/vXysl/src/dual.jl\" target=\"_blank\">/home/eric/.julia/packages/ForwardDiff/vXysl/src/dual.jl:145</a></li> <li> <(x::<b>Rational</b>, y::<b>Rational</b>) in Base at <a href=\"https://github.com/JuliaLang/julia/tree/147bdf428cd14c979202678127d1618e425912d6/base/rational.jl#L367\" target=\"_blank\">rational.jl:367</a></li> <li> <(x::<b>Rational</b>, y::<b>Integer</b>) in Base at <a href=\"https://github.com/JuliaLang/julia/tree/147bdf428cd14c979202678127d1618e425912d6/base/rational.jl#L375\" target=\"_blank\">rational.jl:375</a></li> <li> <(x::<b>Rational</b>, y::<b>AbstractFloat</b>) in Base at <a href=\"https://github.com/JuliaLang/julia/tree/147bdf428cd14c979202678127d1618e425912d6/base/rational.jl#L392\" target=\"_blank\">rational.jl:392</a></li> <li> <(x::<b>Rational</b>, y::<b>ForwardDiff.Dual{Ty}</b>)<i> where Ty</i> in ForwardDiff at <a href=\"file:///home/eric/.julia/packages/ForwardDiff/vXysl/src/dual.jl\" target=\"_blank\">/home/eric/.julia/packages/ForwardDiff/vXysl/src/dual.jl:145</a></li> <li> <(a::<b>AbstractSet</b>, b::<b>AbstractSet</b>) in Base at <a href=\"https://github.com/JuliaLang/julia/tree/147bdf428cd14c979202678127d1618e425912d6/base/abstractset.jl#L484\" target=\"_blank\">abstractset.jl:484</a></li> <li> <(a::<b>NamedTuple{n}</b>, b::<b>NamedTuple{n}</b>)<i> where n</i> in Base at <a href=\"https://github.com/JuliaLang/julia/tree/147bdf428cd14c979202678127d1618e425912d6/base/namedtuple.jl#L208\" target=\"_blank\">namedtuple.jl:208</a></li> <li> <(a::<b>SymbolicUtils.Symbolic{<:Real}</b>, b::<b>SymbolicUtils.Symbolic{<:Real}</b>) in SymbolicUtils at <a href=\"file:///home/eric/.julia/packages/SymbolicUtils/H684H/src/methods.jl\" target=\"_blank\">/home/eric/.julia/packages/SymbolicUtils/H684H/src/methods.jl:174</a></li> <li> <(a::<b>SymbolicUtils.Symbolic{<:Real}</b>, b::<b>Real</b>) in SymbolicUtils at <a href=\"file:///home/eric/.julia/packages/SymbolicUtils/H684H/src/methods.jl\" target=\"_blank\">/home/eric/.julia/packages/SymbolicUtils/H684H/src/methods.jl:173</a></li> <li> <(x::<b>ForwardDiff.Dual{Tx}</b>, y::<b>RoundingMode</b>)<i> where Tx</i> in ForwardDiff at <a href=\"file:///home/eric/.julia/packages/ForwardDiff/vXysl/src/dual.jl\" target=\"_blank\">/home/eric/.julia/packages/ForwardDiff/vXysl/src/dual.jl:144</a></li> <li> <(x::<b>ForwardDiff.Dual{Tx}</b>, y::<b>Rational</b>)<i> where Tx</i> in ForwardDiff at <a href=\"file:///home/eric/.julia/packages/ForwardDiff/vXysl/src/dual.jl\" target=\"_blank\">/home/eric/.julia/packages/ForwardDiff/vXysl/src/dual.jl:144</a></li> <li> <(x::<b>ForwardDiff.Dual{Tx}</b>, y::<b>Integer</b>)<i> where Tx</i> in ForwardDiff at <a href=\"file:///home/eric/.julia/packages/ForwardDiff/vXysl/src/dual.jl\" target=\"_blank\">/home/eric/.julia/packages/ForwardDiff/vXysl/src/dual.jl:144</a></li> <li> <(x::<b>ForwardDiff.Dual{Tx}</b>, y::<b>Irrational</b>)<i> where Tx</i> in ForwardDiff at <a href=\"file:///home/eric/.julia/packages/ForwardDiff/vXysl/src/dual.jl\" target=\"_blank\">/home/eric/.julia/packages/ForwardDiff/vXysl/src/dual.jl:144</a></li> <li> <(x::<b>ForwardDiff.Dual{Tx}</b>, y::<b>AbstractFloat</b>)<i> where Tx</i> in ForwardDiff at <a href=\"file:///home/eric/.julia/packages/ForwardDiff/vXysl/src/dual.jl\" target=\"_blank\">/home/eric/.julia/packages/ForwardDiff/vXysl/src/dual.jl:144</a></li> <li> <(x::<b>ForwardDiff.Dual{Txy}</b>, y::<b>ForwardDiff.Dual{Txy}</b>)<i> where Txy</i> in ForwardDiff at <a href=\"file:///home/eric/.julia/packages/ForwardDiff/vXysl/src/dual.jl\" target=\"_blank\">/home/eric/.julia/packages/ForwardDiff/vXysl/src/dual.jl:139</a></li> <li> <(x::<b>ForwardDiff.Dual{Tx}</b>, y::<b>ForwardDiff.Dual{Ty}</b>)<i> where {Tx, Ty}</i> in ForwardDiff at <a href=\"file:///home/eric/.julia/packages/ForwardDiff/vXysl/src/dual.jl\" target=\"_blank\">/home/eric/.julia/packages/ForwardDiff/vXysl/src/dual.jl:140</a></li> <li> <(x::<b>ForwardDiff.Dual{Tx}</b>, y::<b>Real</b>)<i> where Tx</i> in ForwardDiff at <a href=\"file:///home/eric/.julia/packages/ForwardDiff/vXysl/src/dual.jl\" target=\"_blank\">/home/eric/.julia/packages/ForwardDiff/vXysl/src/dual.jl:144</a></li> <li> <(x::<b>Base.TwicePrecision{T}</b>, y::<b>Base.TwicePrecision{T}</b>)<i> where T</i> in Base at <a href=\"https://github.com/JuliaLang/julia/tree/147bdf428cd14c979202678127d1618e425912d6/base/twiceprecision.jl#L788\" target=\"_blank\">twiceprecision.jl:788</a></li> <li> <(x::<b>AbstractFloat</b>, y::<b>Rational</b>) in Base at <a href=\"https://github.com/JuliaLang/julia/tree/147bdf428cd14c979202678127d1618e425912d6/base/rational.jl#L392\" target=\"_blank\">rational.jl:392</a></li> <li> <(x::<b>AbstractFloat</b>, y::<b>ForwardDiff.Dual{Ty}</b>)<i> where Ty</i> in ForwardDiff at <a href=\"file:///home/eric/.julia/packages/ForwardDiff/vXysl/src/dual.jl\" target=\"_blank\">/home/eric/.julia/packages/ForwardDiff/vXysl/src/dual.jl:145</a></li> <li> <(x::<b>Ptr</b>, y::<b>Ptr</b>) in Base at <a href=\"https://github.com/JuliaLang/julia/tree/147bdf428cd14c979202678127d1618e425912d6/base/pointer.jl#L164\" target=\"_blank\">pointer.jl:164</a></li> <li> <(a::<b>Real</b>, b::<b>SymbolicUtils.Symbolic{<:Real}</b>) in SymbolicUtils at <a href=\"file:///home/eric/.julia/packages/SymbolicUtils/H684H/src/methods.jl\" target=\"_blank\">/home/eric/.julia/packages/SymbolicUtils/H684H/src/methods.jl:175</a></li> <li> <(y::<b>Real</b>, x::<b>Union{StatsBase.PValue, StatsBase.TestStat}</b>) in StatsBase at <a href=\"file:///home/eric/.julia/packages/StatsBase/iMkPf/src/statmodels.jl\" target=\"_blank\">/home/eric/.julia/packages/StatsBase/iMkPf/src/statmodels.jl:91</a></li> <li> <(::<b>Irrational{s}</b>, ::<b>Irrational{s}</b>)<i> where s</i> in Base at <a href=\"https://github.com/JuliaLang/julia/tree/147bdf428cd14c979202678127d1618e425912d6/base/irrationals.jl#L79\" target=\"_blank\">irrationals.jl:79</a></li> <li> <(x::<b>AbstractIrrational</b>, y::<b>AbstractIrrational</b>) in Base at <a href=\"https://github.com/JuliaLang/julia/tree/147bdf428cd14c979202678127d1618e425912d6/base/irrationals.jl#L80\" target=\"_blank\">irrationals.jl:80</a></li> <li> <(x::<b>Irrational</b>, y::<b>ForwardDiff.Dual{Ty}</b>)<i> where Ty</i> in ForwardDiff at <a href=\"file:///home/eric/.julia/packages/ForwardDiff/vXysl/src/dual.jl\" target=\"_blank\">/home/eric/.julia/packages/ForwardDiff/vXysl/src/dual.jl:145</a></li> <li> <(x::<b>Real</b>, y::<b>ForwardDiff.Dual{Ty}</b>)<i> where Ty</i> in ForwardDiff at <a href=\"file:///home/eric/.julia/packages/ForwardDiff/vXysl/src/dual.jl\" target=\"_blank\">/home/eric/.julia/packages/ForwardDiff/vXysl/src/dual.jl:145</a></li> <li> <(x::<b>Float16</b>, y::<b>Union{Int128, Int64, UInt128, UInt64}</b>) in Base at <a href=\"https://github.com/JuliaLang/julia/tree/147bdf428cd14c979202678127d1618e425912d6/base/float.jl#L597\" target=\"_blank\">float.jl:597</a></li> <li> <(x::<b>Float16</b>, y::<b>Union{Int16, UInt16}</b>) in Base at <a href=\"https://github.com/JuliaLang/julia/tree/147bdf428cd14c979202678127d1618e425912d6/base/float.jl#L603\" target=\"_blank\">float.jl:603</a></li> <li> <(x::<b>Float16</b>, y::<b>AbstractIrrational</b>) in Base at <a href=\"https://github.com/JuliaLang/julia/tree/147bdf428cd14c979202678127d1618e425912d6/base/irrationals.jl#L98\" target=\"_blank\">irrationals.jl:98</a></li> <li> <(a::<b>DataStructures.SparseIntSet</b>, b::<b>DataStructures.SparseIntSet</b>) in DataStructures at <a href=\"file:///home/eric/.julia/packages/DataStructures/59MD0/src/sparse_int_set.jl\" target=\"_blank\">/home/eric/.julia/packages/DataStructures/59MD0/src/sparse_int_set.jl:189</a></li> <li> <(x::<b>UInt64</b>, y::<b>Float32</b>) in Base at <a href=\"https://github.com/JuliaLang/julia/tree/147bdf428cd14c979202678127d1618e425912d6/base/float.jl#L575\" target=\"_blank\">float.jl:575</a></li> <li> <(x::<b>UInt64</b>, y::<b>Float64</b>) in Base at <a href=\"https://github.com/JuliaLang/julia/tree/147bdf428cd14c979202678127d1618e425912d6/base/float.jl#L575\" target=\"_blank\">float.jl:575</a></li> <li> <(x::<b>Bool</b>, y::<b>Bool</b>) in Base at <a href=\"https://github.com/JuliaLang/julia/tree/147bdf428cd14c979202678127d1618e425912d6/base/bool.jl#L158\" target=\"_blank\">bool.jl:158</a></li> <li> <(x::<b>Float32</b>, y::<b>AbstractIrrational</b>) in Base at <a href=\"https://github.com/JuliaLang/julia/tree/147bdf428cd14c979202678127d1618e425912d6/base/irrationals.jl#L96\" target=\"_blank\">irrationals.jl:96</a></li> <li> <(x::<b>Float32</b>, y::<b>Int64</b>) in Base at <a href=\"https://github.com/JuliaLang/julia/tree/147bdf428cd14c979202678127d1618e425912d6/base/float.jl#L584\" target=\"_blank\">float.jl:584</a></li> <li> <(x::<b>Float32</b>, y::<b>UInt64</b>) in Base at <a href=\"https://github.com/JuliaLang/julia/tree/147bdf428cd14c979202678127d1618e425912d6/base/float.jl#L584\" target=\"_blank\">float.jl:584</a></li> <li> <(x::<b>Float32</b>, y::<b>Int128</b>) in Base at <a href=\"https://github.com/JuliaLang/julia/tree/147bdf428cd14c979202678127d1618e425912d6/base/float.jl#L584\" target=\"_blank\">float.jl:584</a></li> <li> <(x::<b>Float32</b>, y::<b>UInt128</b>) in Base at <a href=\"https://github.com/JuliaLang/julia/tree/147bdf428cd14c979202678127d1618e425912d6/base/float.jl#L584\" target=\"_blank\">float.jl:584</a></li> <li> <(::<b>Tuple{}</b>, ::<b>Tuple{}</b>) in Base at <a href=\"https://github.com/JuliaLang/julia/tree/147bdf428cd14c979202678127d1618e425912d6/base/tuple.jl#L503\" target=\"_blank\">tuple.jl:503</a></li> <li> <(::<b>Tuple</b>, ::<b>Tuple{}</b>) in Base at <a href=\"https://github.com/JuliaLang/julia/tree/147bdf428cd14c979202678127d1618e425912d6/base/tuple.jl#L505\" target=\"_blank\">tuple.jl:505</a></li> <li> <(t1::<b>Tuple{Any, Any, Any, Any, Any, Any, Any, Any, Any, Any, Any, Any, Any, Any, Any, Any, Any, Any, Any, Any, Any, Any, Any, Any, Any, Any, Any, Any, Any, Any, Any, Any, Vararg{Any, N}} where N</b>, t2::<b>Tuple{Any, Any, Any, Any, Any, Any, Any, Any, Any, Any, Any, Any, Any, Any, Any, Any, Any, Any, Any, Any, Any, Any, Any, Any, Any, Any, Any, Any, Any, Any, Any, Any, Vararg{Any, N}} where N</b>) in Base at <a href=\"https://github.com/JuliaLang/julia/tree/147bdf428cd14c979202678127d1618e425912d6/base/tuple.jl#L516\" target=\"_blank\">tuple.jl:516</a></li> <li> <(::<b>Tuple{}</b>, ::<b>Tuple</b>) in Base at <a href=\"https://github.com/JuliaLang/julia/tree/147bdf428cd14c979202678127d1618e425912d6/base/tuple.jl#L504\" target=\"_blank\">tuple.jl:504</a></li> <li> <(t1::<b>Tuple</b>, t2::<b>Tuple</b>) in Base at <a href=\"https://github.com/JuliaLang/julia/tree/147bdf428cd14c979202678127d1618e425912d6/base/tuple.jl#L506\" target=\"_blank\">tuple.jl:506</a></li> <li> <(a::<b>Base.BinaryPlatforms.CPUID.ISA</b>, b::<b>Base.BinaryPlatforms.CPUID.ISA</b>) in Base.BinaryPlatforms.CPUID at <a href=\"https://github.com/JuliaLang/julia/tree/147bdf428cd14c979202678127d1618e425912d6/base/cpuid.jl#L21\" target=\"_blank\">cpuid.jl:21</a></li> <li> <(x::<b>BigInt</b>, f::<b>Union{Float16, Float32, Float64}</b>) in Base.GMP at <a href=\"https://github.com/JuliaLang/julia/tree/147bdf428cd14c979202678127d1618e425912d6/base/gmp.jl#L713\" target=\"_blank\">gmp.jl:713</a></li> <li> <(x::<b>BigInt</b>, y::<b>BigInt</b>) in Base.GMP at <a href=\"https://github.com/JuliaLang/julia/tree/147bdf428cd14c979202678127d1618e425912d6/base/gmp.jl#L710\" target=\"_blank\">gmp.jl:710</a></li> <li> <(i::<b>Integer</b>, x::<b>BigInt</b>) in Base.GMP at <a href=\"https://github.com/JuliaLang/julia/tree/147bdf428cd14c979202678127d1618e425912d6/base/gmp.jl#L712\" target=\"_blank\">gmp.jl:712</a></li> <li> <(x::<b>BigInt</b>, i::<b>Integer</b>) in Base.GMP at <a href=\"https://github.com/JuliaLang/julia/tree/147bdf428cd14c979202678127d1618e425912d6/base/gmp.jl#L711\" target=\"_blank\">gmp.jl:711</a></li> <li> <(a::<b>Num</b>, b::<b>Num</b>) in Symbolics at <a href=\"file:///home/eric/.julia/packages/Symbolics/CNA2l/src/num.jl\" target=\"_blank\">/home/eric/.julia/packages/Symbolics/CNA2l/src/num.jl:137</a></li> <li> <(a::<b>Real</b>, b::<b>Num</b>) in Symbolics at <a href=\"file:///home/eric/.julia/packages/Symbolics/CNA2l/src/num.jl\" target=\"_blank\">/home/eric/.julia/packages/Symbolics/CNA2l/src/num.jl:133</a></li> <li> <(a::<b>Num</b>, b::<b>Real</b>) in Symbolics at <a href=\"file:///home/eric/.julia/packages/Symbolics/CNA2l/src/num.jl\" target=\"_blank\">/home/eric/.julia/packages/Symbolics/CNA2l/src/num.jl:134</a></li> <li> <(x::<b>Side</b>, y::<b>Side</b>) in Main at <a href=\"https://github.com/Agapanthus/Surreal.jl/tree/32677e554822e26962dfb38f3a538982cb377899//src/compare.jl#L99\" target=\"_blank\">/home/eric/code/Surreal.jl/src/compare.jl:99</a></li> <li> <(x::<b>Side</b>, y::<b>Surreal</b>) in Main at <a href=\"https://github.com/Agapanthus/Surreal.jl/tree/32677e554822e26962dfb38f3a538982cb377899//src/compare.jl#L20\" target=\"_blank\">/home/eric/code/Surreal.jl/src/compare.jl:20</a></li> <li> <(x::<b>BigFloat</b>, y::<b>Integer</b>) in Base.MPFR at <a href=\"https://github.com/JuliaLang/julia/tree/147bdf428cd14c979202678127d1618e425912d6/base/mpfr.jl#L810\" target=\"_blank\">mpfr.jl:810</a></li> <li> <(x::<b>BigFloat</b>, y::<b>Union{Float16, Float32, Float64}</b>) in Base.MPFR at <a href=\"https://github.com/JuliaLang/julia/tree/147bdf428cd14c979202678127d1618e425912d6/base/mpfr.jl#L812\" target=\"_blank\">mpfr.jl:812</a></li> <li> <(x::<b>BigFloat</b>, y::<b>AbstractIrrational</b>) in Base at <a href=\"https://github.com/JuliaLang/julia/tree/147bdf428cd14c979202678127d1618e425912d6/base/irrationals.jl#L102\" target=\"_blank\">irrationals.jl:102</a></li> <li> <(x::<b>BigFloat</b>, y::<b>BigFloat</b>) in Base.MPFR at <a href=\"https://github.com/JuliaLang/julia/tree/147bdf428cd14c979202678127d1618e425912d6/base/mpfr.jl#L780\" target=\"_blank\">mpfr.jl:780</a></li> <li> <(::<b>Missing</b>, ::<b>Missing</b>) in Base at <a href=\"https://github.com/JuliaLang/julia/tree/147bdf428cd14c979202678127d1618e425912d6/base/missing.jl#L83\" target=\"_blank\">missing.jl:83</a></li> <li> <(::<b>Any</b>, ::<b>Missing</b>) in Base at <a href=\"https://github.com/JuliaLang/julia/tree/147bdf428cd14c979202678127d1618e425912d6/base/missing.jl#L85\" target=\"_blank\">missing.jl:85</a></li> <li> <(::<b>Missing</b>, ::<b>Any</b>) in Base at <a href=\"https://github.com/JuliaLang/julia/tree/147bdf428cd14c979202678127d1618e425912d6/base/missing.jl#L84\" target=\"_blank\">missing.jl:84</a></li> <li> <(x::<b>Int128</b>, y::<b>Float32</b>) in Base at <a href=\"https://github.com/JuliaLang/julia/tree/147bdf428cd14c979202678127d1618e425912d6/base/float.jl#L575\" target=\"_blank\">float.jl:575</a></li> <li> <(x::<b>Int128</b>, y::<b>Float64</b>) in Base at <a href=\"https://github.com/JuliaLang/julia/tree/147bdf428cd14c979202678127d1618e425912d6/base/float.jl#L575\" target=\"_blank\">float.jl:575</a></li> <li> <(a::<b>DataStructures.IntSet</b>, b::<b>DataStructures.IntSet</b>) in DataStructures at <a href=\"file:///home/eric/.julia/packages/DataStructures/59MD0/src/int_set.jl\" target=\"_blank\">/home/eric/.julia/packages/DataStructures/59MD0/src/int_set.jl:244</a></li> <li> <(o1::<b>PyCall.PyObject</b>, o2::<b>PyCall.PyObject</b>) in PyCall at <a href=\"file:///home/eric/.julia/packages/PyCall/twYvK/src/pyoperators.jl\" target=\"_blank\">/home/eric/.julia/packages/PyCall/twYvK/src/pyoperators.jl:58</a></li> <li> <(o1, o2::<b>PyCall.PyObject</b>) in PyCall at <a href=\"file:///home/eric/.julia/packages/PyCall/twYvK/src/pyoperators.jl\" target=\"_blank\">/home/eric/.julia/packages/PyCall/twYvK/src/pyoperators.jl:76</a></li> <li> <(o1::<b>PyCall.PyObject</b>, o2) in PyCall at <a href=\"file:///home/eric/.julia/packages/PyCall/twYvK/src/pyoperators.jl\" target=\"_blank\">/home/eric/.julia/packages/PyCall/twYvK/src/pyoperators.jl:75</a></li> <li> <(x::<b>Int64</b>, y::<b>Float32</b>) in Base at <a href=\"https://github.com/JuliaLang/julia/tree/147bdf428cd14c979202678127d1618e425912d6/base/float.jl#L575\" target=\"_blank\">float.jl:575</a></li> <li> <(x::<b>Int64</b>, y::<b>Float64</b>) in Base at <a href=\"https://github.com/JuliaLang/julia/tree/147bdf428cd14c979202678127d1618e425912d6/base/float.jl#L575\" target=\"_blank\">float.jl:575</a></li> <li> <(x::<b>Float64</b>, y::<b>AbstractIrrational</b>) in Base at <a href=\"https://github.com/JuliaLang/julia/tree/147bdf428cd14c979202678127d1618e425912d6/base/irrationals.jl#L94\" target=\"_blank\">irrationals.jl:94</a></li> <li> <(x::<b>Float64</b>, y::<b>Int64</b>) in Base at <a href=\"https://github.com/JuliaLang/julia/tree/147bdf428cd14c979202678127d1618e425912d6/base/float.jl#L584\" target=\"_blank\">float.jl:584</a></li> <li> <(x::<b>Float64</b>, y::<b>UInt64</b>) in Base at <a href=\"https://github.com/JuliaLang/julia/tree/147bdf428cd14c979202678127d1618e425912d6/base/float.jl#L584\" target=\"_blank\">float.jl:584</a></li> <li> <(x::<b>Float64</b>, y::<b>Int128</b>) in Base at <a href=\"https://github.com/JuliaLang/julia/tree/147bdf428cd14c979202678127d1618e425912d6/base/float.jl#L584\" target=\"_blank\">float.jl:584</a></li> <li> <(x::<b>Float64</b>, y::<b>UInt128</b>) in Base at <a href=\"https://github.com/JuliaLang/julia/tree/147bdf428cd14c979202678127d1618e425912d6/base/float.jl#L584\" target=\"_blank\">float.jl:584</a></li> <li> <(x::<b>UInt128</b>, y::<b>Float32</b>) in Base at <a href=\"https://github.com/JuliaLang/julia/tree/147bdf428cd14c979202678127d1618e425912d6/base/float.jl#L575\" target=\"_blank\">float.jl:575</a></li> <li> <(x::<b>UInt128</b>, y::<b>Float64</b>) in Base at <a href=\"https://github.com/JuliaLang/julia/tree/147bdf428cd14c979202678127d1618e425912d6/base/float.jl#L575\" target=\"_blank\">float.jl:575</a></li> <li> <(x::<b>Rational{BigInt}</b>, y::<b>AbstractIrrational</b>) in Base at <a href=\"https://github.com/JuliaLang/julia/tree/147bdf428cd14c979202678127d1618e425912d6/base/irrationals.jl#L137\" target=\"_blank\">irrationals.jl:137</a></li> <li> <(x::<b>Rational{T}</b>, y::<b>AbstractIrrational</b>)<i> where T</i> in Base at <a href=\"https://github.com/JuliaLang/julia/tree/147bdf428cd14c979202678127d1618e425912d6/base/irrationals.jl#L127\" target=\"_blank\">irrationals.jl:127</a></li> <li> <(x::<b>T</b>, y::<b>T</b>)<i> where T<:Real</i> in Base at <a href=\"https://github.com/JuliaLang/julia/tree/147bdf428cd14c979202678127d1618e425912d6/base/promotion.jl#L500\" target=\"_blank\">promotion.jl:500</a></li> <li> <(x::<b>Real</b>, y::<b>Real</b>) in Base at <a href=\"https://github.com/JuliaLang/julia/tree/147bdf428cd14c979202678127d1618e425912d6/base/promotion.jl#L450\" target=\"_blank\">promotion.jl:450</a></li> <li> <(x::<b>Surreal</b>, y::<b>Surreal</b>) in Main at <a href=\"https://github.com/Agapanthus/Surreal.jl/tree/32677e554822e26962dfb38f3a538982cb377899//src/compare.jl#L47\" target=\"_blank\">/home/eric/code/Surreal.jl/src/compare.jl:47</a></li> <li> <(x, y::<b>Surreal</b>) in Main at <a href=\"https://github.com/Agapanthus/Surreal.jl/tree/32677e554822e26962dfb38f3a538982cb377899//src/compare.jl#L52\" target=\"_blank\">/home/eric/code/Surreal.jl/src/compare.jl:52</a></li> <li> <(x::<b>Surreal</b>, y::<b>Side</b>) in Main at <a href=\"https://github.com/Agapanthus/Surreal.jl/tree/32677e554822e26962dfb38f3a538982cb377899//src/compare.jl#L31\" target=\"_blank\">/home/eric/code/Surreal.jl/src/compare.jl:31</a></li> <li> <(x::<b>Surreal</b>, y) in Main at <a href=\"https://github.com/Agapanthus/Surreal.jl/tree/32677e554822e26962dfb38f3a538982cb377899//src/compare.jl#L51\" target=\"_blank\">/home/eric/code/Surreal.jl/src/compare.jl:51</a></li> <li> <(x) in Base at <a href=\"https://github.com/JuliaLang/julia/tree/147bdf428cd14c979202678127d1618e425912d6/base/operators.jl#L1212\" target=\"_blank\">operators.jl:1212</a></li> <li> <(x, y) in Base at <a href=\"https://github.com/JuliaLang/julia/tree/147bdf428cd14c979202678127d1618e425912d6/base/operators.jl#L343\" target=\"_blank\">operators.jl:343</a></li> </ul>"
      ],
      "text/plain": [
       "# 110 methods for generic function \"<\" from \u001b[90mBase\u001b[39m:\n",
       "   [1] <(\u001b[90mx\u001b[39m::\u001b[1mT\u001b[22m, \u001b[90my\u001b[39m::\u001b[1mT\u001b[22m) where T<:Union{Int128, Int16, Int32, Int64, Int8}\n",
       "\u001b[90m     @\u001b[39m \u001b[90m\u001b[4mint.jl:83\u001b[24m\u001b[39m\n",
       "   [2] <(\u001b[90mx\u001b[39m::\u001b[1mT\u001b[22m, \u001b[90my\u001b[39m::\u001b[1mT\u001b[22m) where T<:Union{UInt128, UInt16, UInt32, UInt64, UInt8}\n",
       "\u001b[90m     @\u001b[39m \u001b[90m\u001b[4mint.jl:487\u001b[24m\u001b[39m\n",
       "   [3] <(\u001b[90mx\u001b[39m::\u001b[1mUnion\u001b[22m\u001b[0m{Int128, Int16, Int32, Int64, Int8}, \u001b[90my\u001b[39m::\u001b[1mUnion\u001b[22m\u001b[0m{UInt128, UInt16, UInt32, UInt64, UInt8})\n",
       "\u001b[90m     @\u001b[39m \u001b[90m\u001b[4mint.jl:493\u001b[24m\u001b[39m\n",
       "   [4] <(\u001b[90mx\u001b[39m::\u001b[1mUnion\u001b[22m\u001b[0m{UInt128, UInt16, UInt32, UInt64, UInt8}, \u001b[90my\u001b[39m::\u001b[1mUnion\u001b[22m\u001b[0m{Int128, Int16, Int32, Int64, Int8})\n",
       "\u001b[90m     @\u001b[39m \u001b[90m\u001b[4mint.jl:494\u001b[24m\u001b[39m\n",
       "   [5] <(\u001b[90mx\u001b[39m::\u001b[1mT\u001b[22m, \u001b[90my\u001b[39m::\u001b[1mT\u001b[22m) where T<:Union{Float16, Float32, Float64}\n",
       "\u001b[90m     @\u001b[39m \u001b[90m\u001b[4mfloat.jl:535\u001b[24m\u001b[39m\n",
       "   [6] <(\u001b[90mx\u001b[39m::\u001b[1mUnion\u001b[22m\u001b[0m{Int128, Int64, UInt128, UInt64}, \u001b[90my\u001b[39m::\u001b[1mFloat16\u001b[22m)\n",
       "\u001b[90m     @\u001b[39m \u001b[90m\u001b[4mfloat.jl:598\u001b[24m\u001b[39m\n",
       "   [7] <(\u001b[90mx\u001b[39m::\u001b[1mUnion\u001b[22m\u001b[0m{Float16, Float32}, \u001b[90my\u001b[39m::\u001b[1mUnion\u001b[22m\u001b[0m{Int32, UInt32})\n",
       "\u001b[90m     @\u001b[39m \u001b[90m\u001b[4mfloat.jl:600\u001b[24m\u001b[39m\n",
       "   [8] <(\u001b[90mx\u001b[39m::\u001b[1mUnion\u001b[22m\u001b[0m{Int32, UInt32}, \u001b[90my\u001b[39m::\u001b[1mUnion\u001b[22m\u001b[0m{Float16, Float32})\n",
       "\u001b[90m     @\u001b[39m \u001b[90m\u001b[4mfloat.jl:601\u001b[24m\u001b[39m\n",
       "   [9] <(\u001b[90mx\u001b[39m::\u001b[1mUnion\u001b[22m\u001b[0m{Int16, UInt16}, \u001b[90my\u001b[39m::\u001b[1mFloat16\u001b[22m)\n",
       "\u001b[90m     @\u001b[39m \u001b[90m\u001b[4mfloat.jl:604\u001b[24m\u001b[39m\n",
       "  [10] <(\u001b[90mf\u001b[39m::\u001b[1mUnion\u001b[22m\u001b[0m{Float16, Float32, Float64}, \u001b[90mx\u001b[39m::\u001b[1mBigInt\u001b[22m)\n",
       "\u001b[90m     @\u001b[39m \u001b[90mBase.GMP\u001b[39m \u001b[90m\u001b[4mgmp.jl:714\u001b[24m\u001b[39m\n",
       "  [11] <(\u001b[90mx\u001b[39m::\u001b[1mUnion\u001b[22m\u001b[0m{Float16, Float32, Float64}, \u001b[90my\u001b[39m::\u001b[1mBigFloat\u001b[22m)\n",
       "\u001b[90m     @\u001b[39m \u001b[90mBase.MPFR\u001b[39m \u001b[90m\u001b[4mmpfr.jl:813\u001b[24m\u001b[39m\n",
       "  [12] <(\u001b[90mx1\u001b[39m::\u001b[1mUnion\u001b[22m\u001b[0m{StatsBase.PValue, StatsBase.TestStat}, \u001b[90mx2\u001b[39m::\u001b[1mUnion\u001b[22m\u001b[0m{StatsBase.PValue, StatsBase.TestStat})\n",
       "\u001b[90m     @\u001b[39m \u001b[33mStatsBase\u001b[39m \u001b[90m~/.julia/packages/StatsBase/iMkPf/src/\u001b[39m\u001b[90m\u001b[4mstatmodels.jl:92\u001b[24m\u001b[39m\n",
       "  [13] <(\u001b[90mx\u001b[39m::\u001b[1mUnion\u001b[22m\u001b[0m{StatsBase.PValue, StatsBase.TestStat}, \u001b[90my\u001b[39m::\u001b[1mReal\u001b[22m)\n",
       "\u001b[90m     @\u001b[39m \u001b[33mStatsBase\u001b[39m \u001b[90m~/.julia/packages/StatsBase/iMkPf/src/\u001b[39m\u001b[90m\u001b[4mstatmodels.jl:90\u001b[24m\u001b[39m\n",
       "  [14] <(\u001b[90mx\u001b[39m::\u001b[1mAbstractIrrational\u001b[22m, \u001b[90my\u001b[39m::\u001b[1mFloat64\u001b[22m)\n",
       "\u001b[90m     @\u001b[39m \u001b[90m\u001b[4mirrationals.jl:93\u001b[24m\u001b[39m\n",
       "  [15] <(\u001b[90mx\u001b[39m::\u001b[1mAbstractIrrational\u001b[22m, \u001b[90my\u001b[39m::\u001b[1mFloat32\u001b[22m)\n",
       "\u001b[90m     @\u001b[39m \u001b[90m\u001b[4mirrationals.jl:95\u001b[24m\u001b[39m\n",
       "  [16] <(\u001b[90mx\u001b[39m::\u001b[1mAbstractIrrational\u001b[22m, \u001b[90my\u001b[39m::\u001b[1mFloat16\u001b[22m)\n",
       "\u001b[90m     @\u001b[39m \u001b[90m\u001b[4mirrationals.jl:97\u001b[24m\u001b[39m\n",
       "  [17] <(\u001b[90mx\u001b[39m::\u001b[1mAbstractIrrational\u001b[22m, \u001b[90my\u001b[39m::\u001b[1mBigFloat\u001b[22m)\n",
       "\u001b[90m     @\u001b[39m \u001b[90m\u001b[4mirrationals.jl:99\u001b[24m\u001b[39m\n",
       "  [18] <(\u001b[90mx\u001b[39m::\u001b[1mAbstractIrrational\u001b[22m, \u001b[90my\u001b[39m::\u001b[1mRational\u001b[22m\u001b[0m{BigInt})\n",
       "\u001b[90m     @\u001b[39m \u001b[90m\u001b[4mirrationals.jl:136\u001b[24m\u001b[39m\n",
       "  [19] <(\u001b[90mx\u001b[39m::\u001b[1mAbstractIrrational\u001b[22m, \u001b[90my\u001b[39m::\u001b[1mRational\u001b[22m\u001b[0m{T}) where T\n",
       "\u001b[90m     @\u001b[39m \u001b[90m\u001b[4mirrationals.jl:118\u001b[24m\u001b[39m\n",
       "  [20] <(\u001b[90mx\u001b[39m::\u001b[1mInteger\u001b[22m, \u001b[90my\u001b[39m::\u001b[1mRational\u001b[22m)\n",
       "\u001b[90m     @\u001b[39m \u001b[90m\u001b[4mrational.jl:376\u001b[24m\u001b[39m\n",
       "  [21] <(\u001b[90mx\u001b[39m::\u001b[1mInteger\u001b[22m, \u001b[90my\u001b[39m::\u001b[1mBigFloat\u001b[22m)\n",
       "\u001b[90m     @\u001b[39m \u001b[90mBase.MPFR\u001b[39m \u001b[90m\u001b[4mmpfr.jl:811\u001b[24m\u001b[39m\n",
       "  [22] <(\u001b[90mx\u001b[39m::\u001b[1mInteger\u001b[22m, \u001b[90my\u001b[39m::\u001b[1mForwardDiff.Dual\u001b[22m\u001b[0m{Ty}) where Ty\n",
       "\u001b[90m     @\u001b[39m \u001b[32mForwardDiff\u001b[39m \u001b[90m~/.julia/packages/ForwardDiff/vXysl/src/\u001b[39m\u001b[90m\u001b[4mdual.jl:145\u001b[24m\u001b[39m\n",
       "  [23] <(::\u001b[1mT\u001b[22m, ::\u001b[1mT\u001b[22m) where T<:IrrationalConstants.IrrationalConstant\n",
       "\u001b[90m     @\u001b[39m \u001b[36mIrrationalConstants\u001b[39m \u001b[90m~/.julia/packages/IrrationalConstants/vp5v4/src/\u001b[39m\u001b[90m\u001b[4mmacro.jl:18\u001b[24m\u001b[39m\n",
       "  [24] <(\u001b[90ml\u001b[39m::\u001b[1mOrderedCollections.OrderedSet\u001b[22m, \u001b[90mr\u001b[39m::\u001b[1mOrderedCollections.OrderedSet\u001b[22m)\n",
       "\u001b[90m     @\u001b[39m \u001b[33mOrderedCollections\u001b[39m \u001b[90m~/.julia/packages/OrderedCollections/vTcqn/src/\u001b[39m\u001b[90m\u001b[4mordered_set.jl:63\u001b[24m\u001b[39m\n",
       "  [25] <(\u001b[90mx\u001b[39m::\u001b[1mRoundingMode\u001b[22m, \u001b[90my\u001b[39m::\u001b[1mForwardDiff.Dual\u001b[22m\u001b[0m{Ty}) where Ty\n",
       "\u001b[90m     @\u001b[39m \u001b[32mForwardDiff\u001b[39m \u001b[90m~/.julia/packages/ForwardDiff/vXysl/src/\u001b[39m\u001b[90m\u001b[4mdual.jl:145\u001b[24m\u001b[39m\n",
       "  [26] <(\u001b[90mx\u001b[39m::\u001b[1mRational\u001b[22m, \u001b[90my\u001b[39m::\u001b[1mRational\u001b[22m)\n",
       "\u001b[90m     @\u001b[39m \u001b[90m\u001b[4mrational.jl:367\u001b[24m\u001b[39m\n",
       "  [27] <(\u001b[90mx\u001b[39m::\u001b[1mRational\u001b[22m, \u001b[90my\u001b[39m::\u001b[1mInteger\u001b[22m)\n",
       "\u001b[90m     @\u001b[39m \u001b[90m\u001b[4mrational.jl:375\u001b[24m\u001b[39m\n",
       "  [28] <(\u001b[90mx\u001b[39m::\u001b[1mRational\u001b[22m, \u001b[90my\u001b[39m::\u001b[1mAbstractFloat\u001b[22m)\n",
       "\u001b[90m     @\u001b[39m \u001b[90m\u001b[4mrational.jl:392\u001b[24m\u001b[39m\n",
       "  [29] <(\u001b[90mx\u001b[39m::\u001b[1mRational\u001b[22m, \u001b[90my\u001b[39m::\u001b[1mForwardDiff.Dual\u001b[22m\u001b[0m{Ty}) where Ty\n",
       "\u001b[90m     @\u001b[39m \u001b[32mForwardDiff\u001b[39m \u001b[90m~/.julia/packages/ForwardDiff/vXysl/src/\u001b[39m\u001b[90m\u001b[4mdual.jl:145\u001b[24m\u001b[39m\n",
       "  [30] <(\u001b[90ma\u001b[39m::\u001b[1mAbstractSet\u001b[22m, \u001b[90mb\u001b[39m::\u001b[1mAbstractSet\u001b[22m)\n",
       "\u001b[90m     @\u001b[39m \u001b[90m\u001b[4mabstractset.jl:484\u001b[24m\u001b[39m\n",
       "  [31] <(\u001b[90ma\u001b[39m::\u001b[1mNamedTuple\u001b[22m\u001b[0m{n}, \u001b[90mb\u001b[39m::\u001b[1mNamedTuple\u001b[22m\u001b[0m{n}) where n\n",
       "\u001b[90m     @\u001b[39m \u001b[90m\u001b[4mnamedtuple.jl:208\u001b[24m\u001b[39m\n",
       "  [32] <(\u001b[90ma\u001b[39m::\u001b[1mSymbolicUtils.Symbolic\u001b[22m\u001b[0m{<:Real}, \u001b[90mb\u001b[39m::\u001b[1mSymbolicUtils.Symbolic\u001b[22m\u001b[0m{<:Real})\n",
       "\u001b[90m     @\u001b[39m \u001b[36mSymbolicUtils\u001b[39m \u001b[90m~/.julia/packages/SymbolicUtils/H684H/src/\u001b[39m\u001b[90m\u001b[4mmethods.jl:174\u001b[24m\u001b[39m\n",
       "  [33] <(\u001b[90ma\u001b[39m::\u001b[1mSymbolicUtils.Symbolic\u001b[22m\u001b[0m{<:Real}, \u001b[90mb\u001b[39m::\u001b[1mReal\u001b[22m)\n",
       "\u001b[90m     @\u001b[39m \u001b[36mSymbolicUtils\u001b[39m \u001b[90m~/.julia/packages/SymbolicUtils/H684H/src/\u001b[39m\u001b[90m\u001b[4mmethods.jl:173\u001b[24m\u001b[39m\n",
       "  [34] <(\u001b[90mx\u001b[39m::\u001b[1mForwardDiff.Dual\u001b[22m\u001b[0m{Tx}, \u001b[90my\u001b[39m::\u001b[1mRoundingMode\u001b[22m) where Tx\n",
       "\u001b[90m     @\u001b[39m \u001b[32mForwardDiff\u001b[39m \u001b[90m~/.julia/packages/ForwardDiff/vXysl/src/\u001b[39m\u001b[90m\u001b[4mdual.jl:144\u001b[24m\u001b[39m\n",
       "  [35] <(\u001b[90mx\u001b[39m::\u001b[1mForwardDiff.Dual\u001b[22m\u001b[0m{Tx}, \u001b[90my\u001b[39m::\u001b[1mRational\u001b[22m) where Tx\n",
       "\u001b[90m     @\u001b[39m \u001b[32mForwardDiff\u001b[39m \u001b[90m~/.julia/packages/ForwardDiff/vXysl/src/\u001b[39m\u001b[90m\u001b[4mdual.jl:144\u001b[24m\u001b[39m\n",
       "  [36] <(\u001b[90mx\u001b[39m::\u001b[1mForwardDiff.Dual\u001b[22m\u001b[0m{Tx}, \u001b[90my\u001b[39m::\u001b[1mInteger\u001b[22m) where Tx\n",
       "\u001b[90m     @\u001b[39m \u001b[32mForwardDiff\u001b[39m \u001b[90m~/.julia/packages/ForwardDiff/vXysl/src/\u001b[39m\u001b[90m\u001b[4mdual.jl:144\u001b[24m\u001b[39m\n",
       "  [37] <(\u001b[90mx\u001b[39m::\u001b[1mForwardDiff.Dual\u001b[22m\u001b[0m{Tx}, \u001b[90my\u001b[39m::\u001b[1mIrrational\u001b[22m) where Tx\n",
       "\u001b[90m     @\u001b[39m \u001b[32mForwardDiff\u001b[39m \u001b[90m~/.julia/packages/ForwardDiff/vXysl/src/\u001b[39m\u001b[90m\u001b[4mdual.jl:144\u001b[24m\u001b[39m\n",
       "  [38] <(\u001b[90mx\u001b[39m::\u001b[1mForwardDiff.Dual\u001b[22m\u001b[0m{Tx}, \u001b[90my\u001b[39m::\u001b[1mAbstractFloat\u001b[22m) where Tx\n",
       "\u001b[90m     @\u001b[39m \u001b[32mForwardDiff\u001b[39m \u001b[90m~/.julia/packages/ForwardDiff/vXysl/src/\u001b[39m\u001b[90m\u001b[4mdual.jl:144\u001b[24m\u001b[39m\n",
       "  [39] <(\u001b[90mx\u001b[39m::\u001b[1mForwardDiff.Dual\u001b[22m\u001b[0m{Txy}, \u001b[90my\u001b[39m::\u001b[1mForwardDiff.Dual\u001b[22m\u001b[0m{Txy}) where Txy\n",
       "\u001b[90m     @\u001b[39m \u001b[32mForwardDiff\u001b[39m \u001b[90m~/.julia/packages/ForwardDiff/vXysl/src/\u001b[39m\u001b[90m\u001b[4mdual.jl:139\u001b[24m\u001b[39m\n",
       "  [40] <(\u001b[90mx\u001b[39m::\u001b[1mForwardDiff.Dual\u001b[22m\u001b[0m{Tx}, \u001b[90my\u001b[39m::\u001b[1mForwardDiff.Dual\u001b[22m\u001b[0m{Ty}) where {Tx, Ty}\n",
       "\u001b[90m     @\u001b[39m \u001b[32mForwardDiff\u001b[39m \u001b[90m~/.julia/packages/ForwardDiff/vXysl/src/\u001b[39m\u001b[90m\u001b[4mdual.jl:140\u001b[24m\u001b[39m\n",
       "  [41] <(\u001b[90mx\u001b[39m::\u001b[1mForwardDiff.Dual\u001b[22m\u001b[0m{Tx}, \u001b[90my\u001b[39m::\u001b[1mReal\u001b[22m) where Tx\n",
       "\u001b[90m     @\u001b[39m \u001b[32mForwardDiff\u001b[39m \u001b[90m~/.julia/packages/ForwardDiff/vXysl/src/\u001b[39m\u001b[90m\u001b[4mdual.jl:144\u001b[24m\u001b[39m\n",
       "  [42] <(\u001b[90mx\u001b[39m::\u001b[1mBase.TwicePrecision\u001b[22m\u001b[0m{T}, \u001b[90my\u001b[39m::\u001b[1mBase.TwicePrecision\u001b[22m\u001b[0m{T}) where T\n",
       "\u001b[90m     @\u001b[39m \u001b[90m\u001b[4mtwiceprecision.jl:788\u001b[24m\u001b[39m\n",
       "  [43] <(\u001b[90mx\u001b[39m::\u001b[1mAbstractFloat\u001b[22m, \u001b[90my\u001b[39m::\u001b[1mRational\u001b[22m)\n",
       "\u001b[90m     @\u001b[39m \u001b[90m\u001b[4mrational.jl:392\u001b[24m\u001b[39m\n",
       "  [44] <(\u001b[90mx\u001b[39m::\u001b[1mAbstractFloat\u001b[22m, \u001b[90my\u001b[39m::\u001b[1mForwardDiff.Dual\u001b[22m\u001b[0m{Ty}) where Ty\n",
       "\u001b[90m     @\u001b[39m \u001b[32mForwardDiff\u001b[39m \u001b[90m~/.julia/packages/ForwardDiff/vXysl/src/\u001b[39m\u001b[90m\u001b[4mdual.jl:145\u001b[24m\u001b[39m\n",
       "  [45] <(\u001b[90mx\u001b[39m::\u001b[1mPtr\u001b[22m, \u001b[90my\u001b[39m::\u001b[1mPtr\u001b[22m)\n",
       "\u001b[90m     @\u001b[39m \u001b[90m\u001b[4mpointer.jl:164\u001b[24m\u001b[39m\n",
       "  [46] <(\u001b[90ma\u001b[39m::\u001b[1mReal\u001b[22m, \u001b[90mb\u001b[39m::\u001b[1mSymbolicUtils.Symbolic\u001b[22m\u001b[0m{<:Real})\n",
       "\u001b[90m     @\u001b[39m \u001b[36mSymbolicUtils\u001b[39m \u001b[90m~/.julia/packages/SymbolicUtils/H684H/src/\u001b[39m\u001b[90m\u001b[4mmethods.jl:175\u001b[24m\u001b[39m\n",
       "  [47] <(\u001b[90my\u001b[39m::\u001b[1mReal\u001b[22m, \u001b[90mx\u001b[39m::\u001b[1mUnion\u001b[22m\u001b[0m{StatsBase.PValue, StatsBase.TestStat})\n",
       "\u001b[90m     @\u001b[39m \u001b[33mStatsBase\u001b[39m \u001b[90m~/.julia/packages/StatsBase/iMkPf/src/\u001b[39m\u001b[90m\u001b[4mstatmodels.jl:91\u001b[24m\u001b[39m\n",
       "  [48] <(::\u001b[1mIrrational\u001b[22m\u001b[0m{s}, ::\u001b[1mIrrational\u001b[22m\u001b[0m{s}) where s\n",
       "\u001b[90m     @\u001b[39m \u001b[90m\u001b[4mirrationals.jl:79\u001b[24m\u001b[39m\n",
       "  [49] <(\u001b[90mx\u001b[39m::\u001b[1mAbstractIrrational\u001b[22m, \u001b[90my\u001b[39m::\u001b[1mAbstractIrrational\u001b[22m)\n",
       "\u001b[90m     @\u001b[39m \u001b[90m\u001b[4mirrationals.jl:80\u001b[24m\u001b[39m\n",
       "  [50] <(\u001b[90mx\u001b[39m::\u001b[1mIrrational\u001b[22m, \u001b[90my\u001b[39m::\u001b[1mForwardDiff.Dual\u001b[22m\u001b[0m{Ty}) where Ty\n",
       "\u001b[90m     @\u001b[39m \u001b[32mForwardDiff\u001b[39m \u001b[90m~/.julia/packages/ForwardDiff/vXysl/src/\u001b[39m\u001b[90m\u001b[4mdual.jl:145\u001b[24m\u001b[39m\n",
       "  [51] <(\u001b[90mx\u001b[39m::\u001b[1mReal\u001b[22m, \u001b[90my\u001b[39m::\u001b[1mForwardDiff.Dual\u001b[22m\u001b[0m{Ty}) where Ty\n",
       "\u001b[90m     @\u001b[39m \u001b[32mForwardDiff\u001b[39m \u001b[90m~/.julia/packages/ForwardDiff/vXysl/src/\u001b[39m\u001b[90m\u001b[4mdual.jl:145\u001b[24m\u001b[39m\n",
       "  [52] <(\u001b[90mx\u001b[39m::\u001b[1mFloat16\u001b[22m, \u001b[90my\u001b[39m::\u001b[1mUnion\u001b[22m\u001b[0m{Int128, Int64, UInt128, UInt64})\n",
       "\u001b[90m     @\u001b[39m \u001b[90m\u001b[4mfloat.jl:597\u001b[24m\u001b[39m\n",
       "  [53] <(\u001b[90mx\u001b[39m::\u001b[1mFloat16\u001b[22m, \u001b[90my\u001b[39m::\u001b[1mUnion\u001b[22m\u001b[0m{Int16, UInt16})\n",
       "\u001b[90m     @\u001b[39m \u001b[90m\u001b[4mfloat.jl:603\u001b[24m\u001b[39m\n",
       "  [54] <(\u001b[90mx\u001b[39m::\u001b[1mFloat16\u001b[22m, \u001b[90my\u001b[39m::\u001b[1mAbstractIrrational\u001b[22m)\n",
       "\u001b[90m     @\u001b[39m \u001b[90m\u001b[4mirrationals.jl:98\u001b[24m\u001b[39m\n",
       "  [55] <(\u001b[90ma\u001b[39m::\u001b[1mDataStructures.SparseIntSet\u001b[22m, \u001b[90mb\u001b[39m::\u001b[1mDataStructures.SparseIntSet\u001b[22m)\n",
       "\u001b[90m     @\u001b[39m \u001b[36mDataStructures\u001b[39m \u001b[90m~/.julia/packages/DataStructures/59MD0/src/\u001b[39m\u001b[90m\u001b[4msparse_int_set.jl:189\u001b[24m\u001b[39m\n",
       "  [56] <(\u001b[90mx\u001b[39m::\u001b[1mUInt64\u001b[22m, \u001b[90my\u001b[39m::\u001b[1mFloat32\u001b[22m)\n",
       "\u001b[90m     @\u001b[39m \u001b[90m\u001b[4mfloat.jl:575\u001b[24m\u001b[39m\n",
       "  [57] <(\u001b[90mx\u001b[39m::\u001b[1mUInt64\u001b[22m, \u001b[90my\u001b[39m::\u001b[1mFloat64\u001b[22m)\n",
       "\u001b[90m     @\u001b[39m \u001b[90m\u001b[4mfloat.jl:575\u001b[24m\u001b[39m\n",
       "  [58] <(\u001b[90mx\u001b[39m::\u001b[1mBool\u001b[22m, \u001b[90my\u001b[39m::\u001b[1mBool\u001b[22m)\n",
       "\u001b[90m     @\u001b[39m \u001b[90m\u001b[4mbool.jl:158\u001b[24m\u001b[39m\n",
       "  [59] <(\u001b[90mx\u001b[39m::\u001b[1mFloat32\u001b[22m, \u001b[90my\u001b[39m::\u001b[1mAbstractIrrational\u001b[22m)\n",
       "\u001b[90m     @\u001b[39m \u001b[90m\u001b[4mirrationals.jl:96\u001b[24m\u001b[39m\n",
       "  [60] <(\u001b[90mx\u001b[39m::\u001b[1mFloat32\u001b[22m, \u001b[90my\u001b[39m::\u001b[1mInt64\u001b[22m)\n",
       "\u001b[90m     @\u001b[39m \u001b[90m\u001b[4mfloat.jl:584\u001b[24m\u001b[39m\n",
       "  [61] <(\u001b[90mx\u001b[39m::\u001b[1mFloat32\u001b[22m, \u001b[90my\u001b[39m::\u001b[1mUInt64\u001b[22m)\n",
       "\u001b[90m     @\u001b[39m \u001b[90m\u001b[4mfloat.jl:584\u001b[24m\u001b[39m\n",
       "  [62] <(\u001b[90mx\u001b[39m::\u001b[1mFloat32\u001b[22m, \u001b[90my\u001b[39m::\u001b[1mInt128\u001b[22m)\n",
       "\u001b[90m     @\u001b[39m \u001b[90m\u001b[4mfloat.jl:584\u001b[24m\u001b[39m\n",
       "  [63] <(\u001b[90mx\u001b[39m::\u001b[1mFloat32\u001b[22m, \u001b[90my\u001b[39m::\u001b[1mUInt128\u001b[22m)\n",
       "\u001b[90m     @\u001b[39m \u001b[90m\u001b[4mfloat.jl:584\u001b[24m\u001b[39m\n",
       "  [64] <(::\u001b[1mTuple\u001b[22m\u001b[0m{}, ::\u001b[1mTuple\u001b[22m\u001b[0m{})\n",
       "\u001b[90m     @\u001b[39m \u001b[90m\u001b[4mtuple.jl:503\u001b[24m\u001b[39m\n",
       "  [65] <(::\u001b[1mTuple\u001b[22m, ::\u001b[1mTuple\u001b[22m\u001b[0m{})\n",
       "\u001b[90m     @\u001b[39m \u001b[90m\u001b[4mtuple.jl:505\u001b[24m\u001b[39m\n",
       "  [66] <(\u001b[90mt1\u001b[39m::\u001b[1mTuple\u001b[22m\u001b[0m{Any, Any, Any, Any, Any, Any, Any, Any, Any, Any, Any, Any, Any, Any, Any, Any, Any, Any, Any, Any, Any, Any, Any, Any, Any, Any, Any, Any, Any, Any, Any, Any, Vararg{Any, N}} where N, \u001b[90mt2\u001b[39m::\u001b[1mTuple\u001b[22m\u001b[0m{Any, Any, Any, Any, Any, Any, Any, Any, Any, Any, Any, Any, Any, Any, Any, Any, Any, Any, Any, Any, Any, Any, Any, Any, Any, Any, Any, Any, Any, Any, Any, Any, Vararg{Any, N}} where N)\n",
       "\u001b[90m     @\u001b[39m \u001b[90m\u001b[4mtuple.jl:516\u001b[24m\u001b[39m\n",
       "  [67] <(::\u001b[1mTuple\u001b[22m\u001b[0m{}, ::\u001b[1mTuple\u001b[22m)\n",
       "\u001b[90m     @\u001b[39m \u001b[90m\u001b[4mtuple.jl:504\u001b[24m\u001b[39m\n",
       "  [68] <(\u001b[90mt1\u001b[39m::\u001b[1mTuple\u001b[22m, \u001b[90mt2\u001b[39m::\u001b[1mTuple\u001b[22m)\n",
       "\u001b[90m     @\u001b[39m \u001b[90m\u001b[4mtuple.jl:506\u001b[24m\u001b[39m\n",
       "  [69] <(\u001b[90ma\u001b[39m::\u001b[1mBase.BinaryPlatforms.CPUID.ISA\u001b[22m, \u001b[90mb\u001b[39m::\u001b[1mBase.BinaryPlatforms.CPUID.ISA\u001b[22m)\n",
       "\u001b[90m     @\u001b[39m \u001b[90mBase.BinaryPlatforms.CPUID\u001b[39m \u001b[90m\u001b[4mcpuid.jl:21\u001b[24m\u001b[39m\n",
       "  [70] <(\u001b[90mx\u001b[39m::\u001b[1mBigInt\u001b[22m, \u001b[90mf\u001b[39m::\u001b[1mUnion\u001b[22m\u001b[0m{Float16, Float32, Float64})\n",
       "\u001b[90m     @\u001b[39m \u001b[90mBase.GMP\u001b[39m \u001b[90m\u001b[4mgmp.jl:713\u001b[24m\u001b[39m\n",
       "  [71] <(\u001b[90mx\u001b[39m::\u001b[1mBigInt\u001b[22m, \u001b[90my\u001b[39m::\u001b[1mBigInt\u001b[22m)\n",
       "\u001b[90m     @\u001b[39m \u001b[90mBase.GMP\u001b[39m \u001b[90m\u001b[4mgmp.jl:710\u001b[24m\u001b[39m\n",
       "  [72] <(\u001b[90mi\u001b[39m::\u001b[1mInteger\u001b[22m, \u001b[90mx\u001b[39m::\u001b[1mBigInt\u001b[22m)\n",
       "\u001b[90m     @\u001b[39m \u001b[90mBase.GMP\u001b[39m \u001b[90m\u001b[4mgmp.jl:712\u001b[24m\u001b[39m\n",
       "  [73] <(\u001b[90mx\u001b[39m::\u001b[1mBigInt\u001b[22m, \u001b[90mi\u001b[39m::\u001b[1mInteger\u001b[22m)\n",
       "\u001b[90m     @\u001b[39m \u001b[90mBase.GMP\u001b[39m \u001b[90m\u001b[4mgmp.jl:711\u001b[24m\u001b[39m\n",
       "  [74] <(\u001b[90ma\u001b[39m::\u001b[1mNum\u001b[22m, \u001b[90mb\u001b[39m::\u001b[1mNum\u001b[22m)\n",
       "\u001b[90m     @\u001b[39m \u001b[33mSymbolics\u001b[39m \u001b[90m~/.julia/packages/Symbolics/CNA2l/src/\u001b[39m\u001b[90m\u001b[4mnum.jl:137\u001b[24m\u001b[39m\n",
       "  [75] <(\u001b[90ma\u001b[39m::\u001b[1mReal\u001b[22m, \u001b[90mb\u001b[39m::\u001b[1mNum\u001b[22m)\n",
       "\u001b[90m     @\u001b[39m \u001b[33mSymbolics\u001b[39m \u001b[90m~/.julia/packages/Symbolics/CNA2l/src/\u001b[39m\u001b[90m\u001b[4mnum.jl:133\u001b[24m\u001b[39m\n",
       "  [76] <(\u001b[90ma\u001b[39m::\u001b[1mNum\u001b[22m, \u001b[90mb\u001b[39m::\u001b[1mReal\u001b[22m)\n",
       "\u001b[90m     @\u001b[39m \u001b[33mSymbolics\u001b[39m \u001b[90m~/.julia/packages/Symbolics/CNA2l/src/\u001b[39m\u001b[90m\u001b[4mnum.jl:134\u001b[24m\u001b[39m\n",
       "  [77] <(\u001b[90mx\u001b[39m::\u001b[1mSide\u001b[22m, \u001b[90my\u001b[39m::\u001b[1mSide\u001b[22m)\n",
       "\u001b[90m     @\u001b[39m \u001b[35mMain\u001b[39m \u001b[90m~/code/Surreal.jl/src/\u001b[39m\u001b[90m\u001b[4mcompare.jl:99\u001b[24m\u001b[39m\n",
       "  [78] <(\u001b[90mx\u001b[39m::\u001b[1mSide\u001b[22m, \u001b[90my\u001b[39m::\u001b[1mSurreal\u001b[22m)\n",
       "\u001b[90m     @\u001b[39m \u001b[35mMain\u001b[39m \u001b[90m~/code/Surreal.jl/src/\u001b[39m\u001b[90m\u001b[4mcompare.jl:20\u001b[24m\u001b[39m\n",
       "  [79] <(\u001b[90mx\u001b[39m::\u001b[1mBigFloat\u001b[22m, \u001b[90my\u001b[39m::\u001b[1mInteger\u001b[22m)\n",
       "\u001b[90m     @\u001b[39m \u001b[90mBase.MPFR\u001b[39m \u001b[90m\u001b[4mmpfr.jl:810\u001b[24m\u001b[39m\n",
       "  [80] <(\u001b[90mx\u001b[39m::\u001b[1mBigFloat\u001b[22m, \u001b[90my\u001b[39m::\u001b[1mUnion\u001b[22m\u001b[0m{Float16, Float32, Float64})\n",
       "\u001b[90m     @\u001b[39m \u001b[90mBase.MPFR\u001b[39m \u001b[90m\u001b[4mmpfr.jl:812\u001b[24m\u001b[39m\n",
       "  [81] <(\u001b[90mx\u001b[39m::\u001b[1mBigFloat\u001b[22m, \u001b[90my\u001b[39m::\u001b[1mAbstractIrrational\u001b[22m)\n",
       "\u001b[90m     @\u001b[39m \u001b[90m\u001b[4mirrationals.jl:102\u001b[24m\u001b[39m\n",
       "  [82] <(\u001b[90mx\u001b[39m::\u001b[1mBigFloat\u001b[22m, \u001b[90my\u001b[39m::\u001b[1mBigFloat\u001b[22m)\n",
       "\u001b[90m     @\u001b[39m \u001b[90mBase.MPFR\u001b[39m \u001b[90m\u001b[4mmpfr.jl:780\u001b[24m\u001b[39m\n",
       "  [83] <(::\u001b[1mMissing\u001b[22m, ::\u001b[1mMissing\u001b[22m)\n",
       "\u001b[90m     @\u001b[39m \u001b[90m\u001b[4mmissing.jl:83\u001b[24m\u001b[39m\n",
       "  [84] <(::\u001b[1mAny\u001b[22m, ::\u001b[1mMissing\u001b[22m)\n",
       "\u001b[90m     @\u001b[39m \u001b[90m\u001b[4mmissing.jl:85\u001b[24m\u001b[39m\n",
       "  [85] <(::\u001b[1mMissing\u001b[22m, ::\u001b[1mAny\u001b[22m)\n",
       "\u001b[90m     @\u001b[39m \u001b[90m\u001b[4mmissing.jl:84\u001b[24m\u001b[39m\n",
       "  [86] <(\u001b[90mx\u001b[39m::\u001b[1mInt128\u001b[22m, \u001b[90my\u001b[39m::\u001b[1mFloat32\u001b[22m)\n",
       "\u001b[90m     @\u001b[39m \u001b[90m\u001b[4mfloat.jl:575\u001b[24m\u001b[39m\n",
       "  [87] <(\u001b[90mx\u001b[39m::\u001b[1mInt128\u001b[22m, \u001b[90my\u001b[39m::\u001b[1mFloat64\u001b[22m)\n",
       "\u001b[90m     @\u001b[39m \u001b[90m\u001b[4mfloat.jl:575\u001b[24m\u001b[39m\n",
       "  [88] <(\u001b[90ma\u001b[39m::\u001b[1mDataStructures.IntSet\u001b[22m, \u001b[90mb\u001b[39m::\u001b[1mDataStructures.IntSet\u001b[22m)\n",
       "\u001b[90m     @\u001b[39m \u001b[36mDataStructures\u001b[39m \u001b[90m~/.julia/packages/DataStructures/59MD0/src/\u001b[39m\u001b[90m\u001b[4mint_set.jl:244\u001b[24m\u001b[39m\n",
       "  [89] <(\u001b[90mo1\u001b[39m::\u001b[1mPyCall.PyObject\u001b[22m, \u001b[90mo2\u001b[39m::\u001b[1mPyCall.PyObject\u001b[22m)\n",
       "\u001b[90m     @\u001b[39m \u001b[32mPyCall\u001b[39m \u001b[90m~/.julia/packages/PyCall/twYvK/src/\u001b[39m\u001b[90m\u001b[4mpyoperators.jl:58\u001b[24m\u001b[39m\n",
       "  [90] <(\u001b[90mo1\u001b[39m, \u001b[90mo2\u001b[39m::\u001b[1mPyCall.PyObject\u001b[22m)\n",
       "\u001b[90m     @\u001b[39m \u001b[32mPyCall\u001b[39m \u001b[90m~/.julia/packages/PyCall/twYvK/src/\u001b[39m\u001b[90m\u001b[4mpyoperators.jl:76\u001b[24m\u001b[39m\n",
       "  [91] <(\u001b[90mo1\u001b[39m::\u001b[1mPyCall.PyObject\u001b[22m, \u001b[90mo2\u001b[39m)\n",
       "\u001b[90m     @\u001b[39m \u001b[32mPyCall\u001b[39m \u001b[90m~/.julia/packages/PyCall/twYvK/src/\u001b[39m\u001b[90m\u001b[4mpyoperators.jl:75\u001b[24m\u001b[39m\n",
       "  [92] <(\u001b[90mx\u001b[39m::\u001b[1mInt64\u001b[22m, \u001b[90my\u001b[39m::\u001b[1mFloat32\u001b[22m)\n",
       "\u001b[90m     @\u001b[39m \u001b[90m\u001b[4mfloat.jl:575\u001b[24m\u001b[39m\n",
       "  [93] <(\u001b[90mx\u001b[39m::\u001b[1mInt64\u001b[22m, \u001b[90my\u001b[39m::\u001b[1mFloat64\u001b[22m)\n",
       "\u001b[90m     @\u001b[39m \u001b[90m\u001b[4mfloat.jl:575\u001b[24m\u001b[39m\n",
       "  [94] <(\u001b[90mx\u001b[39m::\u001b[1mFloat64\u001b[22m, \u001b[90my\u001b[39m::\u001b[1mAbstractIrrational\u001b[22m)\n",
       "\u001b[90m     @\u001b[39m \u001b[90m\u001b[4mirrationals.jl:94\u001b[24m\u001b[39m\n",
       "  [95] <(\u001b[90mx\u001b[39m::\u001b[1mFloat64\u001b[22m, \u001b[90my\u001b[39m::\u001b[1mInt64\u001b[22m)\n",
       "\u001b[90m     @\u001b[39m \u001b[90m\u001b[4mfloat.jl:584\u001b[24m\u001b[39m\n",
       "  [96] <(\u001b[90mx\u001b[39m::\u001b[1mFloat64\u001b[22m, \u001b[90my\u001b[39m::\u001b[1mUInt64\u001b[22m)\n",
       "\u001b[90m     @\u001b[39m \u001b[90m\u001b[4mfloat.jl:584\u001b[24m\u001b[39m\n",
       "  [97] <(\u001b[90mx\u001b[39m::\u001b[1mFloat64\u001b[22m, \u001b[90my\u001b[39m::\u001b[1mInt128\u001b[22m)\n",
       "\u001b[90m     @\u001b[39m \u001b[90m\u001b[4mfloat.jl:584\u001b[24m\u001b[39m\n",
       "  [98] <(\u001b[90mx\u001b[39m::\u001b[1mFloat64\u001b[22m, \u001b[90my\u001b[39m::\u001b[1mUInt128\u001b[22m)\n",
       "\u001b[90m     @\u001b[39m \u001b[90m\u001b[4mfloat.jl:584\u001b[24m\u001b[39m\n",
       "  [99] <(\u001b[90mx\u001b[39m::\u001b[1mUInt128\u001b[22m, \u001b[90my\u001b[39m::\u001b[1mFloat32\u001b[22m)\n",
       "\u001b[90m     @\u001b[39m \u001b[90m\u001b[4mfloat.jl:575\u001b[24m\u001b[39m\n",
       " [100] <(\u001b[90mx\u001b[39m::\u001b[1mUInt128\u001b[22m, \u001b[90my\u001b[39m::\u001b[1mFloat64\u001b[22m)\n",
       "\u001b[90m     @\u001b[39m \u001b[90m\u001b[4mfloat.jl:575\u001b[24m\u001b[39m\n",
       " [101] <(\u001b[90mx\u001b[39m::\u001b[1mRational\u001b[22m\u001b[0m{BigInt}, \u001b[90my\u001b[39m::\u001b[1mAbstractIrrational\u001b[22m)\n",
       "\u001b[90m     @\u001b[39m \u001b[90m\u001b[4mirrationals.jl:137\u001b[24m\u001b[39m\n",
       " [102] <(\u001b[90mx\u001b[39m::\u001b[1mRational\u001b[22m\u001b[0m{T}, \u001b[90my\u001b[39m::\u001b[1mAbstractIrrational\u001b[22m) where T\n",
       "\u001b[90m     @\u001b[39m \u001b[90m\u001b[4mirrationals.jl:127\u001b[24m\u001b[39m\n",
       " [103] <(\u001b[90mx\u001b[39m::\u001b[1mT\u001b[22m, \u001b[90my\u001b[39m::\u001b[1mT\u001b[22m) where T<:Real\n",
       "\u001b[90m     @\u001b[39m \u001b[90m\u001b[4mpromotion.jl:500\u001b[24m\u001b[39m\n",
       " [104] <(\u001b[90mx\u001b[39m::\u001b[1mReal\u001b[22m, \u001b[90my\u001b[39m::\u001b[1mReal\u001b[22m)\n",
       "\u001b[90m     @\u001b[39m \u001b[90m\u001b[4mpromotion.jl:450\u001b[24m\u001b[39m\n",
       " [105] <(\u001b[90mx\u001b[39m::\u001b[1mSurreal\u001b[22m, \u001b[90my\u001b[39m::\u001b[1mSurreal\u001b[22m)\n",
       "\u001b[90m     @\u001b[39m \u001b[35mMain\u001b[39m \u001b[90m~/code/Surreal.jl/src/\u001b[39m\u001b[90m\u001b[4mcompare.jl:47\u001b[24m\u001b[39m\n",
       " [106] <(\u001b[90mx\u001b[39m, \u001b[90my\u001b[39m::\u001b[1mSurreal\u001b[22m)\n",
       "\u001b[90m     @\u001b[39m \u001b[35mMain\u001b[39m \u001b[90m~/code/Surreal.jl/src/\u001b[39m\u001b[90m\u001b[4mcompare.jl:52\u001b[24m\u001b[39m\n",
       " [107] <(\u001b[90mx\u001b[39m::\u001b[1mSurreal\u001b[22m, \u001b[90my\u001b[39m::\u001b[1mSide\u001b[22m)\n",
       "\u001b[90m     @\u001b[39m \u001b[35mMain\u001b[39m \u001b[90m~/code/Surreal.jl/src/\u001b[39m\u001b[90m\u001b[4mcompare.jl:31\u001b[24m\u001b[39m\n",
       " [108] <(\u001b[90mx\u001b[39m::\u001b[1mSurreal\u001b[22m, \u001b[90my\u001b[39m)\n",
       "\u001b[90m     @\u001b[39m \u001b[35mMain\u001b[39m \u001b[90m~/code/Surreal.jl/src/\u001b[39m\u001b[90m\u001b[4mcompare.jl:51\u001b[24m\u001b[39m\n",
       " [109] <(\u001b[90mx\u001b[39m)\n",
       "\u001b[90m     @\u001b[39m \u001b[90m\u001b[4moperators.jl:1212\u001b[24m\u001b[39m\n",
       " [110] <(\u001b[90mx\u001b[39m, \u001b[90my\u001b[39m)\n",
       "\u001b[90m     @\u001b[39m \u001b[90m\u001b[4moperators.jl:343\u001b[24m\u001b[39m"
      ]
     },
     "execution_count": 139,
     "metadata": {},
     "output_type": "execute_result"
    }
   ],
   "source": [
    "methods(<)"
   ]
  },
  {
   "cell_type": "code",
   "execution_count": 37,
   "id": "859c9920",
   "metadata": {},
   "outputs": [
    {
     "data": {
      "text/latex": [
       "$$ \\begin{equation}\n",
       "\\left( S\\left( n, \\emptyset \\right) \\leq 1 + n \\right)\n",
       "\\end{equation}\n",
       " $$"
      ],
      "text/plain": [
       "S(n, ∅) <= (1 + n)"
      ]
     },
     "metadata": {},
     "output_type": "display_data"
    },
    {
     "ename": "LoadError",
     "evalue": "AssertionError: op == :le",
     "output_type": "error",
     "traceback": [
      "AssertionError: op == :le",
      "",
      "Stacktrace:",
      " [1] compareAll",
      "   @ ~/code/Surreal.jl/src/symbolic.jl:405 [inlined]",
      " [2] <=(x::Side, y::Side)",
      "   @ Main ~/code/Surreal.jl/src/compare.jl:73",
      " [3] max(x::Side, y::Side)",
      "   @ Main ~/code/Surreal.jl/src/minmax.jl:37",
      " [4] +(x::Surreal, y::Surreal)",
      "   @ Main ~/code/Surreal.jl/src/add.jl:10",
      " [5] +(x::Side, y::Surreal)",
      "   @ Main ~/code/Surreal.jl/src/add.jl:5",
      " [6] +(x::Surreal, y::Side)",
      "   @ Main ~/code/Surreal.jl/src/add.jl:8",
      " [7] +(x::Surreal, y::Surreal)",
      "   @ Main ~/code/Surreal.jl/src/add.jl:10",
      " [8] +(x::Surreal, y::Int64)",
      "   @ Main ~/code/Surreal.jl/src/add.jl:13",
      " [9] top-level scope",
      "   @ In[37]:1"
     ]
    }
   ],
   "source": [
    "ω + 2"
   ]
  },
  {
   "cell_type": "code",
   "execution_count": 11,
   "id": "b976ecc0",
   "metadata": {},
   "outputs": [
    {
     "data": {
      "text/latex": [
       "$$ \\begin{equation}\n",
       "\\left( S\\left( n, \\emptyset \\right) < 1 + n \\right)\n",
       "\\end{equation}\n",
       " $$"
      ],
      "text/plain": [
       "S(n, ∅) < (1 + n)"
      ]
     },
     "metadata": {},
     "output_type": "display_data"
    },
    {
     "name": "stdout",
     "output_type": "stream",
     "text": [
      "op = :le\n",
      "x = Surreal\n",
      "   n\n",
      "   ∅\n",
      "\n",
      "s = n + 1\n",
      "\n"
     ]
    },
    {
     "ename": "LoadError",
     "evalue": "UndefVarError: `todo` not defined",
     "output_type": "error",
     "traceback": [
      "UndefVarError: `todo` not defined",
      "",
      "Stacktrace:",
      " [1] compareAll(x::Surreal, s::Side, op::Symbol)",
      "   @ Main ~/code/Surreal.jl/src/symbolic.jl:290",
      " [2] proofLess(x::Surreal, s::Side)",
      "   @ Main ~/code/Surreal.jl/src/symbolic.jl:327",
      " [3] <(x::Surreal, y::Side)",
      "   @ Main ~/code/Surreal.jl/src/compare.jl:34",
      " [4] top-level scope",
      "   @ In[11]:9"
     ]
    }
   ],
   "source": [
    "include(\"./src/symbolic.jl\")\n",
    "include(\"./src/negate.jl\")\n",
    "\n",
    "x = ω # Surreal(Side(SSetId), ω)  # ω\n",
    "y = Side(SSetAdd, Side(SSetId), Side(S1))\n",
    "\n",
    "#-x < -y\n",
    "\n",
    "x < y"
   ]
  },
  {
   "cell_type": "code",
   "execution_count": 12,
   "id": "e695f875",
   "metadata": {},
   "outputs": [
    {
     "data": {
      "text/plain": [
       "true"
      ]
     },
     "execution_count": 12,
     "metadata": {},
     "output_type": "execute_result"
    }
   ],
   "source": [
    "x > Surreal(3)"
   ]
  },
  {
   "cell_type": "code",
   "execution_count": 13,
   "id": "a737c738",
   "metadata": {},
   "outputs": [
    {
     "data": {
      "text/plain": [
       "n + 1\n"
      ]
     },
     "execution_count": 13,
     "metadata": {},
     "output_type": "execute_result"
    }
   ],
   "source": [
    "y"
   ]
  },
  {
   "cell_type": "code",
   "execution_count": 196,
   "id": "b15aa6cd",
   "metadata": {},
   "outputs": [
    {
     "data": {
      "text/latex": [
       "$$ \\begin{equation}\n",
       "1 + \\omega + \\sin^{2}\\left( n \\right)\n",
       "\\end{equation}\n",
       " $$"
      ],
      "text/plain": [
       "1 + omega + sin(n)^2"
      ]
     },
     "execution_count": 196,
     "metadata": {},
     "output_type": "execute_result"
    }
   ],
   "source": [
    "begin\n",
    "    SymbolicUtils.@syms n S(l, r) ES omega epsilon\n",
    "\n",
    "    sqexpand = SymbolicUtils.@rule S(n, ES) => omega\n",
    "\n",
    "    SymbolicUtils.Prewalk(SymbolicUtils.Chain([sqexpand]))( S(n, ES) + 1 + sin(n)^2)\n",
    "end"
   ]
  },
  {
   "cell_type": "code",
   "execution_count": 9,
   "id": "1ba936de",
   "metadata": {},
   "outputs": [
    {
     "data": {
      "text/plain": [
       "4.0"
      ]
     },
     "execution_count": 9,
     "metadata": {},
     "output_type": "execute_result"
    }
   ],
   "source": [
    "begin\n",
    "    SymbolicUtils.@syms n omega lim(f)\n",
    "    \n",
    "    # TODO: Existenz der einzelnen Folgen zeigen bevor der Gesamtgrenzwert berechnet wird\n",
    "    # https://de.wikibooks.org/wiki/Mathe_f%C3%BCr_Nicht-Freaks:_Grenzwerts%C3%A4tze:_Grenzwert_von_Folgen_berechnen\n",
    "    \n",
    "    SymbolicUtils.Fixpoint(SymbolicUtils.Prewalk(SymbolicUtils.Chain([\n",
    "        @rule lim(~c::(x -> x isa Number) * ~f) => ~c * lim(~f) # factor rule\n",
    "        @rule lim(+(~~ys)) => sum(map(y-> lim(y), ~~ys)) # lim(~a) + lim(~b)\n",
    "        @rule lim(~a - ~b) => lim(~a) - lim(~b)\n",
    "        @rule lim(~a * ~b) => lim(~a) * lim(~b)\n",
    "        @rule lim(~a / ~b) => lim(~a) / lim(~b)\n",
    "        @rule lim(ln(~a)) => ln(lim(~a))\n",
    "        @rule lim((~a) ^ (~b)) => lim(~a) ^ lim(~b)\n",
    "        @rule lim(sqrt(~a)) => sqrt(lim(~a))\n",
    "        @rule lim(~c::(x -> x isa Number)) => ~c\n",
    "        @rule lim(n) => omega\n",
    "        @rule omega + omega => omega\n",
    "        @rule -omega - omega => -omega\n",
    "        @rule omega * omega => omega\n",
    "        @rule -omega * -omega => omega\n",
    "        @rule -omega * omega => -omega\n",
    "        @rule ~c::(x -> x isa Number) * omega => omega\n",
    "        @rule ~c::(x -> x isa Number) + omega => omega\n",
    "        @rule omega ^ (~c::(x -> x isa Number)) => omega\n",
    "        @rule 1 / omega => 0\n",
    "\n",
    "    ])))( lim( (5 - 23^(1/n) / (n^(1/n) + 1 / n^2) )) )\n",
    "\n",
    "\n",
    "    \n",
    "end"
   ]
  },
  {
   "cell_type": "code",
   "execution_count": null,
   "id": "24fddded",
   "metadata": {},
   "outputs": [],
   "source": []
  }
 ],
 "metadata": {
  "kernelspec": {
   "display_name": "Julia 1.9.1 (20 threads) 1.9.1",
   "language": "julia",
   "name": "julia-1.9.1-_20-threads_-1.9"
  },
  "language_info": {
   "file_extension": ".jl",
   "mimetype": "application/julia",
   "name": "julia",
   "version": "1.9.1"
  }
 },
 "nbformat": 4,
 "nbformat_minor": 5
}
